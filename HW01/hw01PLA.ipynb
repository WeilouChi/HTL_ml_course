{
 "cells": [
  {
   "cell_type": "code",
   "execution_count": 99,
   "metadata": {
    "ExecuteTime": {
     "end_time": "2020-10-12T06:44:55.921650Z",
     "start_time": "2020-10-12T06:44:55.494828Z"
    }
   },
   "outputs": [],
   "source": [
    "import numpy as np\n",
    "import random\n",
    "import matplotlib.pyplot as plt"
   ]
  },
  {
   "cell_type": "code",
   "execution_count": 9,
   "metadata": {
    "ExecuteTime": {
     "end_time": "2020-10-12T10:29:16.357155Z",
     "start_time": "2020-10-12T10:29:16.349062Z"
    }
   },
   "outputs": [],
   "source": [
    "def loadfile(x0):\n",
    "    with open('hw1_train.txt','r') as dat:\n",
    "        lines = dat.readlines()\n",
    "    \n",
    "    xn = []\n",
    "    yn = np.zeros((len(lines),1))\n",
    "    i = 0\n",
    "    for line in lines:\n",
    "        tem = line.split()\n",
    "        x = [x0] + [float(i) for i in tem[:-1]]\n",
    "        xn.append(x)\n",
    "        yn[i,0] = float(tem[-1])\n",
    "        i += 1\n",
    "\n",
    "    return np.array(xn), yn\n",
    "\n"
   ]
  },
  {
   "cell_type": "code",
   "execution_count": 138,
   "metadata": {
    "ExecuteTime": {
     "end_time": "2020-10-12T08:07:27.248717Z",
     "start_time": "2020-10-12T08:07:27.244361Z"
    }
   },
   "outputs": [],
   "source": [
    "def sign(x):\n",
    "    if x <= 0:\n",
    "        return -1\n",
    "    else:\n",
    "        return 1"
   ]
  },
  {
   "cell_type": "code",
   "execution_count": 43,
   "metadata": {
    "ExecuteTime": {
     "end_time": "2020-10-13T09:08:22.976967Z",
     "start_time": "2020-10-13T09:08:22.969869Z"
    }
   },
   "outputs": [],
   "source": [
    "def PLA_Norm(xn, yn, w, lr, t):\n",
    "    iterations = 0\n",
    "    n = len(xn)\n",
    "    \n",
    "    while True:\n",
    "        flag = True\n",
    "        for j in range(n):\n",
    "            if sign(np.dot(xn[j], w)[0]) != yn[j, 0]:\n",
    "                flag = False\n",
    "                w += lr * yn[j,0] * np.matrix(xn[j]).T\n",
    "                break\n",
    "        iterations += 1   \n",
    "        if flag == True:\n",
    "            break\n",
    "    return flag, iterations, w"
   ]
  },
  {
   "cell_type": "code",
   "execution_count": 51,
   "metadata": {
    "ExecuteTime": {
     "end_time": "2020-10-13T09:10:20.645521Z",
     "start_time": "2020-10-13T09:10:16.819974Z"
    }
   },
   "outputs": [
    {
     "ename": "KeyboardInterrupt",
     "evalue": "",
     "output_type": "error",
     "traceback": [
      "\u001b[0;31m---------------------------------------------------------------------------\u001b[0m",
      "\u001b[0;31mKeyboardInterrupt\u001b[0m                         Traceback (most recent call last)",
      "\u001b[0;32m<ipython-input-51-7d8956e4de91>\u001b[0m in \u001b[0;36m<module>\u001b[0;34m\u001b[0m\n\u001b[1;32m      8\u001b[0m     \u001b[0mprint\u001b[0m\u001b[0;34m(\u001b[0m\u001b[0miterations\u001b[0m\u001b[0;34m)\u001b[0m\u001b[0;34m\u001b[0m\u001b[0;34m\u001b[0m\u001b[0m\n\u001b[1;32m      9\u001b[0m     \u001b[0mprint\u001b[0m\u001b[0;34m(\u001b[0m\u001b[0mw\u001b[0m\u001b[0;34m)\u001b[0m\u001b[0;34m\u001b[0m\u001b[0;34m\u001b[0m\u001b[0m\n\u001b[0;32m---> 10\u001b[0;31m \u001b[0mquestion15\u001b[0m\u001b[0;34m(\u001b[0m\u001b[0;36m1\u001b[0m\u001b[0;34m)\u001b[0m\u001b[0;34m\u001b[0m\u001b[0;34m\u001b[0m\u001b[0m\n\u001b[0m",
      "\u001b[0;32m<ipython-input-51-7d8956e4de91>\u001b[0m in \u001b[0;36mquestion15\u001b[0;34m(x0)\u001b[0m\n\u001b[1;32m      4\u001b[0m     \u001b[0meta\u001b[0m \u001b[0;34m=\u001b[0m \u001b[0;34m-\u001b[0m\u001b[0;36m1\u001b[0m\u001b[0;34m\u001b[0m\u001b[0;34m\u001b[0m\u001b[0m\n\u001b[1;32m      5\u001b[0m     \u001b[0mupdates\u001b[0m \u001b[0;34m=\u001b[0m \u001b[0;36m80\u001b[0m\u001b[0;34m\u001b[0m\u001b[0;34m\u001b[0m\u001b[0m\n\u001b[0;32m----> 6\u001b[0;31m     \u001b[0mflag\u001b[0m\u001b[0;34m,\u001b[0m \u001b[0miterations\u001b[0m\u001b[0;34m,\u001b[0m \u001b[0mw\u001b[0m \u001b[0;34m=\u001b[0m \u001b[0mPLA_Norm\u001b[0m\u001b[0;34m(\u001b[0m\u001b[0mxn\u001b[0m\u001b[0;34m,\u001b[0m \u001b[0myn\u001b[0m\u001b[0;34m,\u001b[0m \u001b[0mw0\u001b[0m\u001b[0;34m,\u001b[0m \u001b[0meta\u001b[0m\u001b[0;34m,\u001b[0m \u001b[0mupdates\u001b[0m\u001b[0;34m)\u001b[0m\u001b[0;34m\u001b[0m\u001b[0;34m\u001b[0m\u001b[0m\n\u001b[0m\u001b[1;32m      7\u001b[0m     \u001b[0mprint\u001b[0m\u001b[0;34m(\u001b[0m\u001b[0mflag\u001b[0m\u001b[0;34m)\u001b[0m\u001b[0;34m\u001b[0m\u001b[0;34m\u001b[0m\u001b[0m\n\u001b[1;32m      8\u001b[0m     \u001b[0mprint\u001b[0m\u001b[0;34m(\u001b[0m\u001b[0miterations\u001b[0m\u001b[0;34m)\u001b[0m\u001b[0;34m\u001b[0m\u001b[0;34m\u001b[0m\u001b[0m\n",
      "\u001b[0;32m<ipython-input-43-a3b3e0c14580>\u001b[0m in \u001b[0;36mPLA_Norm\u001b[0;34m(xn, yn, w, lr, t)\u001b[0m\n\u001b[1;32m      8\u001b[0m             \u001b[0;32mif\u001b[0m \u001b[0msign\u001b[0m\u001b[0;34m(\u001b[0m\u001b[0mnp\u001b[0m\u001b[0;34m.\u001b[0m\u001b[0mdot\u001b[0m\u001b[0;34m(\u001b[0m\u001b[0mxn\u001b[0m\u001b[0;34m[\u001b[0m\u001b[0mj\u001b[0m\u001b[0;34m]\u001b[0m\u001b[0;34m,\u001b[0m \u001b[0mw\u001b[0m\u001b[0;34m)\u001b[0m\u001b[0;34m[\u001b[0m\u001b[0;36m0\u001b[0m\u001b[0;34m]\u001b[0m\u001b[0;34m)\u001b[0m \u001b[0;34m!=\u001b[0m \u001b[0myn\u001b[0m\u001b[0;34m[\u001b[0m\u001b[0mj\u001b[0m\u001b[0;34m,\u001b[0m \u001b[0;36m0\u001b[0m\u001b[0;34m]\u001b[0m\u001b[0;34m:\u001b[0m\u001b[0;34m\u001b[0m\u001b[0;34m\u001b[0m\u001b[0m\n\u001b[1;32m      9\u001b[0m                 \u001b[0mflag\u001b[0m \u001b[0;34m=\u001b[0m \u001b[0;32mFalse\u001b[0m\u001b[0;34m\u001b[0m\u001b[0;34m\u001b[0m\u001b[0m\n\u001b[0;32m---> 10\u001b[0;31m                 \u001b[0mw\u001b[0m \u001b[0;34m+=\u001b[0m \u001b[0mlr\u001b[0m \u001b[0;34m*\u001b[0m \u001b[0myn\u001b[0m\u001b[0;34m[\u001b[0m\u001b[0mj\u001b[0m\u001b[0;34m,\u001b[0m\u001b[0;36m0\u001b[0m\u001b[0;34m]\u001b[0m \u001b[0;34m*\u001b[0m \u001b[0mnp\u001b[0m\u001b[0;34m.\u001b[0m\u001b[0mmatrix\u001b[0m\u001b[0;34m(\u001b[0m\u001b[0mxn\u001b[0m\u001b[0;34m[\u001b[0m\u001b[0mj\u001b[0m\u001b[0;34m]\u001b[0m\u001b[0;34m)\u001b[0m\u001b[0;34m.\u001b[0m\u001b[0mT\u001b[0m\u001b[0;34m\u001b[0m\u001b[0;34m\u001b[0m\u001b[0m\n\u001b[0m\u001b[1;32m     11\u001b[0m                 \u001b[0;32mbreak\u001b[0m\u001b[0;34m\u001b[0m\u001b[0;34m\u001b[0m\u001b[0m\n\u001b[1;32m     12\u001b[0m         \u001b[0miterations\u001b[0m \u001b[0;34m+=\u001b[0m \u001b[0;36m1\u001b[0m\u001b[0;34m\u001b[0m\u001b[0;34m\u001b[0m\u001b[0m\n",
      "\u001b[0;32m/usr/local/lib/python3.7/site-packages/numpy/matrixlib/defmatrix.py\u001b[0m in \u001b[0;36m__new__\u001b[0;34m(subtype, data, dtype, copy)\u001b[0m\n\u001b[1;32m    133\u001b[0m             \u001b[0;32melse\u001b[0m\u001b[0;34m:\u001b[0m\u001b[0;34m\u001b[0m\u001b[0;34m\u001b[0m\u001b[0m\n\u001b[1;32m    134\u001b[0m                 \u001b[0mintype\u001b[0m \u001b[0;34m=\u001b[0m \u001b[0mN\u001b[0m\u001b[0;34m.\u001b[0m\u001b[0mdtype\u001b[0m\u001b[0;34m(\u001b[0m\u001b[0mdtype\u001b[0m\u001b[0;34m)\u001b[0m\u001b[0;34m\u001b[0m\u001b[0;34m\u001b[0m\u001b[0m\n\u001b[0;32m--> 135\u001b[0;31m             \u001b[0mnew\u001b[0m \u001b[0;34m=\u001b[0m \u001b[0mdata\u001b[0m\u001b[0;34m.\u001b[0m\u001b[0mview\u001b[0m\u001b[0;34m(\u001b[0m\u001b[0msubtype\u001b[0m\u001b[0;34m)\u001b[0m\u001b[0;34m\u001b[0m\u001b[0;34m\u001b[0m\u001b[0m\n\u001b[0m\u001b[1;32m    136\u001b[0m             \u001b[0;32mif\u001b[0m \u001b[0mintype\u001b[0m \u001b[0;34m!=\u001b[0m \u001b[0mdata\u001b[0m\u001b[0;34m.\u001b[0m\u001b[0mdtype\u001b[0m\u001b[0;34m:\u001b[0m\u001b[0;34m\u001b[0m\u001b[0;34m\u001b[0m\u001b[0m\n\u001b[1;32m    137\u001b[0m                 \u001b[0;32mreturn\u001b[0m \u001b[0mnew\u001b[0m\u001b[0;34m.\u001b[0m\u001b[0mastype\u001b[0m\u001b[0;34m(\u001b[0m\u001b[0mintype\u001b[0m\u001b[0;34m)\u001b[0m\u001b[0;34m\u001b[0m\u001b[0;34m\u001b[0m\u001b[0m\n",
      "\u001b[0;32m/usr/local/lib/python3.7/site-packages/numpy/matrixlib/defmatrix.py\u001b[0m in \u001b[0;36m__array_finalize__\u001b[0;34m(self, obj)\u001b[0m\n\u001b[1;32m    184\u001b[0m             \u001b[0mself\u001b[0m\u001b[0;34m.\u001b[0m\u001b[0mshape\u001b[0m \u001b[0;34m=\u001b[0m \u001b[0;34m(\u001b[0m\u001b[0;36m1\u001b[0m\u001b[0;34m,\u001b[0m \u001b[0;36m1\u001b[0m\u001b[0;34m)\u001b[0m\u001b[0;34m\u001b[0m\u001b[0;34m\u001b[0m\u001b[0m\n\u001b[1;32m    185\u001b[0m         \u001b[0;32melif\u001b[0m \u001b[0mndim\u001b[0m \u001b[0;34m==\u001b[0m \u001b[0;36m1\u001b[0m\u001b[0;34m:\u001b[0m\u001b[0;34m\u001b[0m\u001b[0;34m\u001b[0m\u001b[0m\n\u001b[0;32m--> 186\u001b[0;31m             \u001b[0mself\u001b[0m\u001b[0;34m.\u001b[0m\u001b[0mshape\u001b[0m \u001b[0;34m=\u001b[0m \u001b[0;34m(\u001b[0m\u001b[0;36m1\u001b[0m\u001b[0;34m,\u001b[0m \u001b[0mnewshape\u001b[0m\u001b[0;34m[\u001b[0m\u001b[0;36m0\u001b[0m\u001b[0;34m]\u001b[0m\u001b[0;34m)\u001b[0m\u001b[0;34m\u001b[0m\u001b[0;34m\u001b[0m\u001b[0m\n\u001b[0m\u001b[1;32m    187\u001b[0m         \u001b[0;32mreturn\u001b[0m\u001b[0;34m\u001b[0m\u001b[0;34m\u001b[0m\u001b[0m\n\u001b[1;32m    188\u001b[0m \u001b[0;34m\u001b[0m\u001b[0m\n",
      "\u001b[0;31mKeyboardInterrupt\u001b[0m: "
     ]
    }
   ],
   "source": [
    "def question15(x0):\n",
    "    xn, yn = loadfile(x0)\n",
    "    w0 = np.zeros((11, 1))\n",
    "    eta = \n",
    "    updates = 80\n",
    "    flag, iterations, w = PLA_Norm(xn, yn, w0, eta, updates)\n",
    "    print(flag)\n",
    "    print(iterations)\n",
    "    print(w)\n",
    "question15(1)"
   ]
  },
  {
   "cell_type": "code",
   "execution_count": 159,
   "metadata": {
    "ExecuteTime": {
     "end_time": "2020-10-12T09:11:27.979697Z",
     "start_time": "2020-10-12T09:11:27.969800Z"
    }
   },
   "outputs": [],
   "source": [
    "def PLA_Fix(xn, yn, w, lr):\n",
    "    count = 0\n",
    "    n = len(xn)\n",
    "    correct = 0\n",
    "    flag = True\n",
    "    while True:\n",
    "        flag = True\n",
    "        num = range(n)\n",
    "        randpick = random.choices(num, k=5*n)\n",
    "        for j in range(5*n):\n",
    "            if sign(np.dot(xn[randpick[j]], w)[0]) != yn[randpick[j],0]:\n",
    "                correct = 0\n",
    "                w += lr * yn[randpick[j],0] * np.matrix(xn[randpick[j]]).transpose()\n",
    "                flag = False\n",
    "                break\n",
    "            else:\n",
    "                correct += 1\n",
    "            if correct == 500:\n",
    "                break\n",
    "                \n",
    "        count += 1    \n",
    "        if correct == 500:\n",
    "            break\n",
    "    return flag, count, w"
   ]
  },
  {
   "cell_type": "code",
   "execution_count": 153,
   "metadata": {
    "ExecuteTime": {
     "end_time": "2020-10-12T08:38:15.566522Z",
     "start_time": "2020-10-12T08:38:15.557479Z"
    }
   },
   "outputs": [],
   "source": [
    "def PLA_random(xn, yn, w, lr):\n",
    "    count = 0\n",
    "    n = len(xn)\n",
    "    correct = 0\n",
    "    flag = True\n",
    "    while True:\n",
    "        flag = True\n",
    "        num = range(n)\n",
    "        randpick = random.sample(num, k=5*n)\n",
    "        #for j in range(n):\n",
    "        if sign(xn[randpick[j]], w) != yn[randpick[j],0]:\n",
    "            #correct = 0\n",
    "            flag = False\n",
    "            #np.transpose(xn[randpick[j]])\n",
    "            w += lr * yn[randpick[j],0] * np.matrix(xn[randpick[j]]).T\n",
    "                #break\n",
    "        else:\n",
    "            correct += 1\n",
    "            if correct == 500:\n",
    "                break\n",
    "                \n",
    "        count += 1    \n",
    "        if correct == 500:\n",
    "            break\n",
    "    return flag, count, w"
   ]
  },
  {
   "cell_type": "code",
   "execution_count": 164,
   "metadata": {
    "ExecuteTime": {
     "end_time": "2020-10-12T09:45:38.424418Z",
     "start_time": "2020-10-12T09:45:34.519362Z"
    }
   },
   "outputs": [
    {
     "data": {
      "image/png": "[encoded data removed]",
      "text/plain": [
       "<Figure size 432x288 with 1 Axes>"
      ]
     },
     "metadata": {
      "needs_background": "light"
     },
     "output_type": "display_data"
    },
    {
     "data": {
      "text/plain": [
       "(12, -7)"
      ]
     },
     "execution_count": 164,
     "metadata": {},
     "output_type": "execute_result"
    },
    {
     "data": {
      "image/png": "[encoded data removed]",
      "text/plain": [
       "<Figure size 432x288 with 1 Axes>"
      ]
     },
     "metadata": {
      "needs_background": "light"
     },
     "output_type": "display_data"
    }
   ],
   "source": [
    "def question16(x0, n):\n",
    "    xn, yn = loadfile(x0)\n",
    "    \n",
    "    lr = 1\n",
    "    updatas = []\n",
    "    wzero = []\n",
    "    for _ in range(n):\n",
    "        w0 = np.zeros((11,1))\n",
    "        flag, count, w = PLA_Fix(xn, yn, w0, lr)\n",
    "        if flag:\n",
    "            updatas.append(count)\n",
    "            wzero.append(w[0][0])\n",
    "    #print(con)\n",
    "    #print(wzero)\n",
    "    plt.hist(updatas)\n",
    "    plt.show()\n",
    "    plt.close()\n",
    "    plt.hist(wzero)\n",
    "    plt.show\n",
    "    \n",
    "    \n",
    "    return int(np.median(updatas)), int(np.median(wzero))\n",
    "\n",
    "question16(1, 1000)"
   ]
  },
  {
   "cell_type": "code",
   "execution_count": 38,
   "metadata": {
    "ExecuteTime": {
     "end_time": "2020-10-13T09:06:02.840407Z",
     "start_time": "2020-10-13T09:06:02.824154Z"
    }
   },
   "outputs": [
    {
     "ename": "NameError",
     "evalue": "name 'PLA_random' is not defined",
     "output_type": "error",
     "traceback": [
      "\u001b[0;31m---------------------------------------------------------------------------\u001b[0m",
      "\u001b[0;31mNameError\u001b[0m                                 Traceback (most recent call last)",
      "\u001b[0;32m<ipython-input-38-0b00687656bc>\u001b[0m in \u001b[0;36m<module>\u001b[0;34m\u001b[0m\n\u001b[1;32m     16\u001b[0m     \u001b[0;31m#return int((con[499]+con[500])/2), int((wzero[499]+wzero[500])/2)\u001b[0m\u001b[0;34m\u001b[0m\u001b[0;34m\u001b[0m\u001b[0;34m\u001b[0m\u001b[0m\n\u001b[1;32m     17\u001b[0m \u001b[0;34m\u001b[0m\u001b[0m\n\u001b[0;32m---> 18\u001b[0;31m \u001b[0mquestion17\u001b[0m\u001b[0;34m(\u001b[0m\u001b[0;36m1\u001b[0m\u001b[0;34m)\u001b[0m\u001b[0;34m\u001b[0m\u001b[0;34m\u001b[0m\u001b[0m\n\u001b[0m",
      "\u001b[0;32m<ipython-input-38-0b00687656bc>\u001b[0m in \u001b[0;36mquestion17\u001b[0;34m(x0)\u001b[0m\n\u001b[1;32m      7\u001b[0m     \u001b[0;32mfor\u001b[0m \u001b[0m_\u001b[0m \u001b[0;32min\u001b[0m \u001b[0mrange\u001b[0m\u001b[0;34m(\u001b[0m\u001b[0;36m1000\u001b[0m\u001b[0;34m)\u001b[0m\u001b[0;34m:\u001b[0m\u001b[0;34m\u001b[0m\u001b[0;34m\u001b[0m\u001b[0m\n\u001b[1;32m      8\u001b[0m         \u001b[0mw0\u001b[0m \u001b[0;34m=\u001b[0m \u001b[0mnp\u001b[0m\u001b[0;34m.\u001b[0m\u001b[0mzeros\u001b[0m\u001b[0;34m(\u001b[0m\u001b[0;34m(\u001b[0m\u001b[0;36m11\u001b[0m\u001b[0;34m,\u001b[0m\u001b[0;36m1\u001b[0m\u001b[0;34m)\u001b[0m\u001b[0;34m)\u001b[0m\u001b[0;34m\u001b[0m\u001b[0;34m\u001b[0m\u001b[0m\n\u001b[0;32m----> 9\u001b[0;31m         \u001b[0mflag\u001b[0m\u001b[0;34m,\u001b[0m \u001b[0miterations\u001b[0m\u001b[0;34m,\u001b[0m \u001b[0mw\u001b[0m \u001b[0;34m=\u001b[0m \u001b[0mPLA_random\u001b[0m\u001b[0;34m(\u001b[0m\u001b[0mxn\u001b[0m\u001b[0;34m,\u001b[0m \u001b[0myn\u001b[0m\u001b[0;34m,\u001b[0m \u001b[0mw0\u001b[0m\u001b[0;34m,\u001b[0m \u001b[0mlr\u001b[0m\u001b[0;34m)\u001b[0m\u001b[0;34m\u001b[0m\u001b[0;34m\u001b[0m\u001b[0m\n\u001b[0m\u001b[1;32m     10\u001b[0m         \u001b[0;32mif\u001b[0m \u001b[0mflag\u001b[0m \u001b[0;34m==\u001b[0m \u001b[0;32mTrue\u001b[0m\u001b[0;34m:\u001b[0m\u001b[0;34m\u001b[0m\u001b[0;34m\u001b[0m\u001b[0m\n\u001b[1;32m     11\u001b[0m             \u001b[0mcon\u001b[0m\u001b[0;34m.\u001b[0m\u001b[0mappend\u001b[0m\u001b[0;34m(\u001b[0m\u001b[0miterations\u001b[0m\u001b[0;34m)\u001b[0m\u001b[0;34m\u001b[0m\u001b[0;34m\u001b[0m\u001b[0m\n",
      "\u001b[0;31mNameError\u001b[0m: name 'PLA_random' is not defined"
     ]
    }
   ],
   "source": [
    "def question17(x0):\n",
    "    xn, yn = loadfile(x0)\n",
    "    \n",
    "    lr = 1\n",
    "    con = []\n",
    "    wzero = []\n",
    "    for _ in range(1000):\n",
    "        w0 = np.zeros((11,1))\n",
    "        flag, iterations, w = PLA_random(xn, yn, w0, lr)\n",
    "        if flag == True:\n",
    "            con.append(iterations)\n",
    "            wzero.append(w[0])\n",
    "    \n",
    "    #print(wzero)\n",
    "    \n",
    "    #return int((con[499]+con[500])/2), int((wzero[499]+wzero[500])/2)\n",
    "\n",
    "question17(1)"
   ]
  },
  {
   "cell_type": "code",
   "execution_count": 15,
   "metadata": {
    "ExecuteTime": {
     "end_time": "2020-10-12T10:32:17.961769Z",
     "start_time": "2020-10-12T10:32:17.949182Z"
    }
   },
   "outputs": [
    {
     "name": "stdout",
     "output_type": "stream",
     "text": [
      "[[ 1.       1.56186 -2.54905 ... -0.30951  1.32496 -2.26376]\n",
      " [ 1.       3.89045 -0.02852 ... -1.30547 -2.31854 -1.40395]\n",
      " [ 1.      -1.85626 -1.38071 ... -1.11643 -2.35446 -1.43411]\n",
      " ...\n",
      " [ 1.      -3.8145   0.89167 ...  0.45259 -1.57172  0.15997]\n",
      " [ 1.      -2.11276 -1.91391 ...  2.756   -3.45234 -1.29036]\n",
      " [ 1.      -2.50787 -1.02966 ... -0.31516  1.14198  0.64107]]\n",
      "[[ 0.25       0.390465  -0.6372625 ... -0.0773775  0.33124   -0.56594  ]\n",
      " [ 0.25       0.9726125 -0.00713   ... -0.3263675 -0.579635  -0.3509875]\n",
      " [ 0.25      -0.464065  -0.3451775 ... -0.2791075 -0.588615  -0.3585275]\n",
      " ...\n",
      " [ 0.25      -0.953625   0.2229175 ...  0.1131475 -0.39293    0.0399925]\n",
      " [ 0.25      -0.52819   -0.4784775 ...  0.689     -0.863085  -0.32259  ]\n",
      " [ 0.25      -0.6269675 -0.257415  ... -0.07879    0.285495   0.1602675]]\n"
     ]
    }
   ],
   "source": [
    "with open('hw1_train.txt','r') as dat:\n",
    "    lines = dat.readlines()\n",
    "w = np.zeros((11,1))\n",
    "xn = []\n",
    "yn = np.zeros((len(lines),1))\n",
    "i = 0\n",
    "for line in lines:\n",
    "    tem = line.split()\n",
    "    x = [1] + [float(i) for i in tem[:-1]]\n",
    "    xn.append(x)\n",
    "    yn[i,0] = float(tem[-1])\n",
    "    i += 1\n",
    "print(np.array(xn))\n",
    "print(np.dot(xn,1/4))\n",
    "# print(np.matrix(xn[0]).shape)\n",
    "# np.shape(np.transpose(np.array(xn[0])))\n",
    "# print(type(yn[1,0]))\n",
    "# print(xn[0])\n",
    "# print(np.dot(xn[0], yn[:11]))\n",
    "# print(np.array(yn))\n",
    "#np.matrix(xn[0]).T"
   ]
  },
  {
   "cell_type": "code",
   "execution_count": 37,
   "metadata": {
    "ExecuteTime": {
     "end_time": "2020-10-13T08:48:35.733417Z",
     "start_time": "2020-10-13T08:48:32.062331Z"
    }
   },
   "outputs": [
    {
     "name": "stdout",
     "output_type": "stream",
     "text": [
      "(12, -14)\n"
     ]
    },
    {
     "data": {
      "image/png": "[encoded data removed]",
      "text/plain": [
       "<Figure size 432x288 with 1 Axes>"
      ]
     },
     "metadata": {
      "needs_background": "light"
     },
     "output_type": "display_data"
    }
   ],
   "source": [
    "import numpy as np\n",
    "import random\n",
    "import matplotlib.pyplot as plt\n",
    "\n",
    "def loadfile(x0):\n",
    "    with open('hw1_train.txt','r') as dat:\n",
    "        lines = dat.readlines()\n",
    "    \n",
    "    xn = []\n",
    "    yn = np.zeros((len(lines),1))\n",
    "    i = 0\n",
    "    for line in lines:\n",
    "        tem = line.split()\n",
    "        x = [x0] + [np.float(i) for i in tem[:-1]]\n",
    "        xn.append(x)\n",
    "        yn[i] = np.float(tem[-1])\n",
    "        i += 1\n",
    "\n",
    "    return np.array(xn), yn\n",
    "\n",
    "def sign(x):\n",
    "    if x <= 0:\n",
    "        return -1\n",
    "    else:\n",
    "        return 1\n",
    "    \n",
    "def PLA(xn, yn, w, lr):\n",
    "    count = 0\n",
    "    n = len(xn)\n",
    "    correct = 0\n",
    "    flag = True\n",
    "    while True:\n",
    "        flag = True\n",
    "        num = range(n)\n",
    "        randpick = random.choices(num, k=5*n)\n",
    "        for j in range(5*n):\n",
    "            if sign(np.dot(xn[randpick[j]], w)[0]) != yn[randpick[j],0]:\n",
    "                correct = 0\n",
    "                w += lr * yn[randpick[j],0] * np.matrix(xn[randpick[j]]).transpose()\n",
    "                flag = False\n",
    "                break\n",
    "            else:\n",
    "                correct += 1\n",
    "            if correct == 500:\n",
    "                break\n",
    "                \n",
    "        count += 1    \n",
    "        if correct == 500:\n",
    "            break\n",
    "    return flag, count, w\n",
    "\n",
    "def question(x0, n):\n",
    "    xn, yn = loadfile(x0)\n",
    "    \n",
    "    lr = 2\n",
    "    updatas = []\n",
    "    wzero = []\n",
    "    for _ in range(n):\n",
    "        w0 = np.zeros((11,1))\n",
    "        flag, count, w = PLA(xn, yn, w0, lr)\n",
    "        if flag:\n",
    "            updatas.append(count)\n",
    "            wzero.append(w[0][0])\n",
    "#     print(con)\n",
    "#     print(wzero)\n",
    "#     plt.hist(updatas)\n",
    "#     plt.show()\n",
    "#     plt.close()\n",
    "    plt.hist(wzero)\n",
    "    plt.show\n",
    "    \n",
    "    \n",
    "    return int(np.median(updatas)), int(np.median(wzero))\n",
    "\n",
    "print(question(1, 1000))"
   ]
  },
  {
   "cell_type": "code",
   "execution_count": 27,
   "metadata": {
    "ExecuteTime": {
     "end_time": "2020-10-13T08:11:21.452705Z",
     "start_time": "2020-10-13T08:11:21.446393Z"
    }
   },
   "outputs": [
    {
     "data": {
      "text/plain": [
       "-13"
      ]
     },
     "execution_count": 27,
     "metadata": {},
     "output_type": "execute_result"
    }
   ],
   "source": [
    "a = [-1,-5,-7]\n",
    "b = [1,1,1]\n",
    "np.dot(a,b)"
   ]
  },
  {
   "cell_type": "code",
   "execution_count": null,
   "metadata": {},
   "outputs": [],
   "source": []
  }
 ],
 "metadata": {
  "kernelspec": {
   "display_name": "Python 3",
   "language": "python",
   "name": "python3"
  },
  "language_info": {
   "codemirror_mode": {
    "name": "ipython",
    "version": 3
   },
   "file_extension": ".py",
   "mimetype": "text/x-python",
   "name": "python",
   "nbconvert_exporter": "python",
   "pygments_lexer": "ipython3",
   "version": "3.7.7"
  },
  "varInspector": {
   "cols": {
    "lenName": 16,
    "lenType": 16,
    "lenVar": 40
   },
   "kernels_config": {
    "python": {
     "delete_cmd_postfix": "",
     "delete_cmd_prefix": "del ",
     "library": "var_list.py",
     "varRefreshCmd": "print(var_dic_list())"
    },
    "r": {
     "delete_cmd_postfix": ") ",
     "delete_cmd_prefix": "rm(",
     "library": "var_list.r",
     "varRefreshCmd": "cat(var_dic_list()) "
    }
   },
   "types_to_exclude": [
    "module",
    "function",
    "builtin_function_or_method",
    "instance",
    "_Feature"
   ],
   "window_display": false
  }
 },
 "nbformat": 4,
 "nbformat_minor": 4
}
