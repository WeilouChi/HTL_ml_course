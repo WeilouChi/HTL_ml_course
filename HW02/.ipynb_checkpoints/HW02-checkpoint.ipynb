{
 "cells": [
  {
   "cell_type": "code",
   "execution_count": 2,
   "metadata": {
    "ExecuteTime": {
     "end_time": "2020-10-27T03:58:53.030088Z",
     "start_time": "2020-10-27T03:58:53.026396Z"
    }
   },
   "outputs": [],
   "source": [
    "import random\n",
    "import numpy as np"
   ]
  },
  {
   "cell_type": "code",
   "execution_count": 9,
   "metadata": {
    "ExecuteTime": {
     "end_time": "2020-10-27T04:24:50.079599Z",
     "start_time": "2020-10-27T04:24:50.066647Z"
    }
   },
   "outputs": [
    {
     "name": "stdout",
     "output_type": "stream",
     "text": [
      "[[-0.4666322007584385], [-0.5283616731202805], [-0.592459579659006], [-0.36790553006829807], [0.22327800027514955], [0.5662521704994812], [0.10826851765252488], [0.3765444706493364], [-0.027666139206173668], [0.4517932342594069], [-0.6736529022185767], [0.5778847014986592], [0.677255140202192], [-0.8430330891650575], [-0.6103063340572494], [0.3753086841438189], [-0.027635860623760333], [-0.7633155617370124], [-0.6679941241966842], [-0.8066435642708127]]\n"
     ]
    },
    {
     "data": {
      "text/plain": [
       "[[-0.4666322007584385, -1],\n",
       " [-0.5283616731202805, -1],\n",
       " [-0.592459579659006, -1],\n",
       " [-0.36790553006829807, -1],\n",
       " [0.22327800027514955, 1],\n",
       " [0.5662521704994812, 1],\n",
       " [0.10826851765252488, 1],\n",
       " [0.3765444706493364, -1],\n",
       " [-0.027666139206173668, -1],\n",
       " [0.4517932342594069, -1],\n",
       " [-0.6736529022185767, -1],\n",
       " [0.5778847014986592, 1],\n",
       " [0.677255140202192, 1],\n",
       " [-0.8430330891650575, -1],\n",
       " [-0.6103063340572494, -1],\n",
       " [0.3753086841438189, 1],\n",
       " [-0.027635860623760333, -1],\n",
       " [-0.7633155617370124, -1],\n",
       " [-0.6679941241966842, -1],\n",
       " [-0.8066435642708127, -1]]"
      ]
     },
     "execution_count": 9,
     "metadata": {},
     "output_type": "execute_result"
    }
   ],
   "source": [
    "\n",
    "x = []\n",
    "for i in  range(0,20):\n",
    "    x.append([random.random()*2-1])\n",
    "noise = 0\n",
    "print(x)\n",
    "for i in range(0,20):\n",
    "    ran = random.random()\n",
    "    #print(ran)\n",
    "    if ran <= 0.2:\n",
    "        noise+=1\n",
    "        x[i].append(-sign(x[i][0]))\n",
    "    else :x[i].append(sign(x[i][0]))\n",
    "#print(\"noise:\",noise)\n",
    "x"
   ]
  },
  {
   "cell_type": "code",
   "execution_count": null,
   "metadata": {},
   "outputs": [],
   "source": [
    "def generate_data(size, noise):\n",
    "    x = np.zeros((size, 1))"
   ]
  }
 ],
 "metadata": {
  "kernelspec": {
   "display_name": "Python 3",
   "language": "python",
   "name": "python3"
  },
  "language_info": {
   "codemirror_mode": {
    "name": "ipython",
    "version": 3
   },
   "file_extension": ".py",
   "mimetype": "text/x-python",
   "name": "python",
   "nbconvert_exporter": "python",
   "pygments_lexer": "ipython3",
   "version": "3.7.7"
  },
  "varInspector": {
   "cols": {
    "lenName": 16,
    "lenType": 16,
    "lenVar": 40
   },
   "kernels_config": {
    "python": {
     "delete_cmd_postfix": "",
     "delete_cmd_prefix": "del ",
     "library": "var_list.py",
     "varRefreshCmd": "print(var_dic_list())"
    },
    "r": {
     "delete_cmd_postfix": ") ",
     "delete_cmd_prefix": "rm(",
     "library": "var_list.r",
     "varRefreshCmd": "cat(var_dic_list()) "
    }
   },
   "types_to_exclude": [
    "module",
    "function",
    "builtin_function_or_method",
    "instance",
    "_Feature"
   ],
   "window_display": false
  }
 },
 "nbformat": 4,
 "nbformat_minor": 4
}
