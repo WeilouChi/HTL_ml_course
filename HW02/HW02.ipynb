{
 "cells": [
  {
   "cell_type": "code",
   "execution_count": 1,
   "metadata": {
    "ExecuteTime": {
     "end_time": "2020-11-05T08:00:08.932846Z",
     "start_time": "2020-11-05T08:00:08.844947Z"
    }
   },
   "outputs": [],
   "source": [
    "import random\n",
    "import numpy as np"
   ]
  },
  {
   "cell_type": "code",
   "execution_count": 2,
   "metadata": {
    "ExecuteTime": {
     "end_time": "2020-11-05T08:00:08.939959Z",
     "start_time": "2020-11-05T08:00:08.935598Z"
    }
   },
   "outputs": [],
   "source": [
    "def sign(x, theta_value):\n",
    "    t = []\n",
    "    for i in range(len(x)):\n",
    "        tem = x[i] - theta_value\n",
    "        if tem > 0:\n",
    "            t.append(1)\n",
    "        else :\n",
    "            t.append(-1)\n",
    "    return np.array(t)"
   ]
  },
  {
   "cell_type": "code",
   "execution_count": 3,
   "metadata": {
    "ExecuteTime": {
     "end_time": "2020-11-05T08:00:08.957526Z",
     "start_time": "2020-11-05T08:00:08.943092Z"
    }
   },
   "outputs": [
    {
     "data": {
      "text/plain": [
       "(array([[ 0.5332097 ],\n",
       "        [-0.02979184]]),\n",
       " array([[ 1.],\n",
       "        [-1.]]))"
      ]
     },
     "execution_count": 3,
     "metadata": {},
     "output_type": "execute_result"
    }
   ],
   "source": [
    "def generate_data(size, noise):\n",
    "    x = np.zeros((size, 1))\n",
    "    y = np.zeros((size, 1))\n",
    "    for i in range(size):\n",
    "        x[i][0] = random.uniform(-1,1)\n",
    "        ran = random.uniform(0,1)\n",
    "        if ran < noise:\n",
    "            y[i][0] = -sign(x[i],0.0)\n",
    "        else:\n",
    "            y[i][0] = sign(x[i],0.0)\n",
    "    return x, y\n",
    "generate_data(2,0)\n",
    "\n"
   ]
  },
  {
   "cell_type": "code",
   "execution_count": 4,
   "metadata": {
    "ExecuteTime": {
     "end_time": "2020-11-05T08:00:08.966437Z",
     "start_time": "2020-11-05T08:00:08.959489Z"
    }
   },
   "outputs": [
    {
     "data": {
      "text/plain": [
       "array([[-0.14899683],\n",
       "       [-1.        ]])"
      ]
     },
     "execution_count": 4,
     "metadata": {},
     "output_type": "execute_result"
    }
   ],
   "source": [
    "def get_theta(x,size):\n",
    "    \n",
    "    tem = np.sort(x[:,0])\n",
    "    theta = np.zeros((size,1))\n",
    "    for i in range(size-1):\n",
    "        theta[i] = (tem[i]+tem[i+1])/2\n",
    "    theta[-1] = -1\n",
    "    #theta[0] = -1\n",
    "    return theta\n",
    "x, y = generate_data(2,0)\n",
    "get_theta(x,2)\n"
   ]
  },
  {
   "cell_type": "code",
   "execution_count": 5,
   "metadata": {
    "ExecuteTime": {
     "end_time": "2020-11-05T08:00:08.977170Z",
     "start_time": "2020-11-05T08:00:08.968661Z"
    }
   },
   "outputs": [],
   "source": [
    "def decision_stump(size, noise):\n",
    "    e_in = np.zeros((2,size-1))\n",
    "    x, y = generate_data(size, noise)\n",
    "    theta = get_theta(x, size)\n",
    "    for i in range(len(theta)):\n",
    "        dif = y[:,0]*sign(x[:,0],theta[i])\n",
    "        e_in[0][i] = (size - np.sum(dif))/ 2 / size\n",
    "        e_in[1][i] = (size - np.sum(-dif))/ 2 / size\n",
    "    err_pos, err_neg = np.min(e_in[0]), np.min(e_in[1])\n",
    "    #print(err_pos, err_neg)\n",
    "    best_theta = 0\n",
    "    if err_pos < err_neg:\n",
    "        s = 1\n",
    "        best_theta =  theta[np.argmin(e_in[0]),0]\n",
    "        return err_pos, best_theta, s\n",
    "    else:\n",
    "        s = -1\n",
    "        best_theta =  theta[np.argmin(e_in[1]),0]\n",
    "        return err_neg, best_theta, s\n",
    "        \n",
    "                \n",
    "            \n",
    "        "
   ]
  },
  {
   "cell_type": "code",
   "execution_count": null,
   "metadata": {
    "ExecuteTime": {
     "end_time": "2020-11-05T10:27:11.303253Z",
     "start_time": "2020-11-05T08:00:39.566Z"
    }
   },
   "outputs": [],
   "source": [
    "def decision_stump1(size, noise):\n",
    "    e_in = 1\n",
    "    x, y = generate_data(size, noise)\n",
    "    theta = get_theta(x, size)\n",
    "    for i in theta[:,0]:\n",
    "        dif_pos = np.where(x[:,0]>i,1,-1)\n",
    "        dif_neg = np.where(x[:,0]<i,1,-1)\n",
    "        err_pos = sum(dif_pos != y[:,0])\n",
    "        err_neg = sum(dif_neg != y[:,0])\n",
    "        #print(err_pos, err_neg)\n",
    "        err_pos /= size\n",
    "        err_neg /= size\n",
    "        if err_pos > err_neg:\n",
    "            if e_in > err_neg:\n",
    "                e_in = err_neg\n",
    "                s = -1\n",
    "                best_theta = i\n",
    "        else:\n",
    "            if e_in > err_pos:\n",
    "                e_in = err_pos\n",
    "                s = 1\n",
    "                best_theta = i\n",
    "        #print(e_in)\n",
    "    return e_in, best_theta, s\n",
    "    \n",
    "decision_stump1(2,0)        "
   ]
  },
  {
   "cell_type": "code",
   "execution_count": null,
   "metadata": {
    "ExecuteTime": {
     "end_time": "2020-11-05T10:27:11.314987Z",
     "start_time": "2020-11-05T08:00:41.366Z"
    }
   },
   "outputs": [],
   "source": [
    "def problem(size,noise):\n",
    "    sum_ein = 0\n",
    "    sum_eout = 0\n",
    "    for i in range(10000):\n",
    "        e_in, best_theta, s = decision_stump1(size, noise)\n",
    "        sum_ein += e_in\n",
    "        if s == 1:\n",
    "            sum_eout += abs(best_theta)/2 * (1 - noise) + noise * (1 - abs(best_theta)/2)\n",
    "        else:\n",
    "            sum_eout += abs(best_theta)/2 * (noise) + (1 - noise) * (1 - abs(best_theta)/2)\n",
    "        #sum_eout += 0.5+0.3*s*(abs(best_theta)-1)\n",
    "    return sum_ein/10000, sum_eout/10000,  sum_eout/10000 -sum_ein/10000"
   ]
  },
  {
   "cell_type": "code",
   "execution_count": null,
   "metadata": {
    "ExecuteTime": {
     "end_time": "2020-11-05T10:27:11.326554Z",
     "start_time": "2020-11-05T08:00:49.232Z"
    }
   },
   "outputs": [],
   "source": [
    "problem(200,0.1)"
   ]
  },
  {
   "cell_type": "code",
   "execution_count": null,
   "metadata": {
    "ExecuteTime": {
     "end_time": "2020-11-05T08:00:32.601767Z",
     "start_time": "2020-11-05T08:00:08.836Z"
    }
   },
   "outputs": [],
   "source": [
    "x = np.array([1,-12,1])\n",
    "y = np.array([-1])\n",
    "z = np.array([-1,-1,-1])\n",
    "np.sign(x-y)*z"
   ]
  },
  {
   "cell_type": "code",
   "execution_count": null,
   "metadata": {
    "ExecuteTime": {
     "end_time": "2020-11-05T08:00:32.603071Z",
     "start_time": "2020-11-05T08:00:08.838Z"
    }
   },
   "outputs": [],
   "source": [
    "x= []\n",
    "x.append(1)\n",
    "x.append(1)\n",
    "x"
   ]
  },
  {
   "cell_type": "code",
   "execution_count": null,
   "metadata": {
    "ExecuteTime": {
     "end_time": "2020-11-05T08:00:32.604045Z",
     "start_time": "2020-11-05T08:00:08.839Z"
    }
   },
   "outputs": [],
   "source": [
    "dif = np.array([1,-1,1])\n",
    "size = 3\n",
    "(size - np.sum(-dif))/ 2 / size"
   ]
  },
  {
   "cell_type": "code",
   "execution_count": null,
   "metadata": {
    "ExecuteTime": {
     "end_time": "2020-11-05T08:00:32.605347Z",
     "start_time": "2020-11-05T08:00:08.842Z"
    }
   },
   "outputs": [],
   "source": [
    "size = 2\n",
    "noise = 0\n",
    "x, y = generate_data(size, noise)\n",
    "theta = get_theta(x, size)\n",
    "dif_pos = sign(x[:,0],theta[1])\n",
    "dif_neg = -sign(x[:,0],theta[1])\n",
    "err_pos = sum(dif_pos != y[0])\n",
    "err_neg = sum(dif_neg != y)[0]\n",
    "print(dif_neg,dif_pos)\n",
    "print(y)\n",
    "print(err_neg,err_pos)"
   ]
  },
  {
   "cell_type": "code",
   "execution_count": null,
   "metadata": {},
   "outputs": [],
   "source": []
  },
  {
   "cell_type": "code",
   "execution_count": null,
   "metadata": {},
   "outputs": [],
   "source": []
  }
 ],
 "metadata": {
  "kernelspec": {
   "display_name": "Python 3",
   "language": "python",
   "name": "python3"
  },
  "language_info": {
   "codemirror_mode": {
    "name": "ipython",
    "version": 3
   },
   "file_extension": ".py",
   "mimetype": "text/x-python",
   "name": "python",
   "nbconvert_exporter": "python",
   "pygments_lexer": "ipython3",
   "version": "3.7.7"
  },
  "varInspector": {
   "cols": {
    "lenName": 16,
    "lenType": 16,
    "lenVar": 40
   },
   "kernels_config": {
    "python": {
     "delete_cmd_postfix": "",
     "delete_cmd_prefix": "del ",
     "library": "var_list.py",
     "varRefreshCmd": "print(var_dic_list())"
    },
    "r": {
     "delete_cmd_postfix": ") ",
     "delete_cmd_prefix": "rm(",
     "library": "var_list.r",
     "varRefreshCmd": "cat(var_dic_list()) "
    }
   },
   "types_to_exclude": [
    "module",
    "function",
    "builtin_function_or_method",
    "instance",
    "_Feature"
   ],
   "window_display": false
  }
 },
 "nbformat": 4,
 "nbformat_minor": 4
}
