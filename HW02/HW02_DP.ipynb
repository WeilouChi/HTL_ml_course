{
 "cells": [
  {
   "cell_type": "code",
   "execution_count": 1,
   "metadata": {
    "ExecuteTime": {
     "end_time": "2020-10-30T06:27:40.443445Z",
     "start_time": "2020-10-30T06:27:40.347237Z"
    }
   },
   "outputs": [],
   "source": [
    "import random\n",
    "import numpy as np"
   ]
  },
  {
   "cell_type": "code",
   "execution_count": 7,
   "metadata": {
    "ExecuteTime": {
     "end_time": "2020-10-30T06:57:38.010186Z",
     "start_time": "2020-10-30T06:57:38.005343Z"
    }
   },
   "outputs": [],
   "source": [
    "def get_data(size, noise):\n",
    "    x = np.zeros((size,1))\n",
    "    y = np.zeros((size,1))\n",
    "    for i in range(size):\n",
    "        x[i] = random.uniform(-1,1)\n",
    "        ran = random.uniform(0,1)\n",
    "        if ran < noise:\n",
    "            y[i] = -np.sign(x[i])\n",
    "        else:\n",
    "            y[i] = np.sign(x[i])\n",
    "    return x, y   "
   ]
  },
  {
   "cell_type": "code",
   "execution_count": 8,
   "metadata": {
    "ExecuteTime": {
     "end_time": "2020-10-30T06:57:38.087766Z",
     "start_time": "2020-10-30T06:57:38.080632Z"
    }
   },
   "outputs": [],
   "source": [
    "def decison_stump_DP(size, noise, x, y, N=0, e_in=1, best_theta=0, s=0):  \n",
    "    tem = np.sort(x[:,0])  \n",
    "    \n",
    "    if N == size - 1:\n",
    "        theta = -1\n",
    "    else:\n",
    "        theta = (tem[N] + tem[N+1]) / 2\n",
    "    pos = np.where(x[:,0] > theta,1,-1)\n",
    "    neg = np.where(x[:,0] > theta,-1,1)\n",
    "    err_pos = sum(pos !=y [:,0])\n",
    "    err_neg = sum(neg !=y [:,0])\n",
    "    err_pos /= size\n",
    "    err_neg /= size\n",
    "    \n",
    "    if err_pos > err_neg:\n",
    "        if e_in > err_neg:\n",
    "            e_in = err_neg\n",
    "            s = -1\n",
    "            best_theta = theta\n",
    "    else:\n",
    "        if e_in > err_pos:\n",
    "            e_in = err_pos\n",
    "            s = 1\n",
    "            best_theta = theta\n",
    "    \n",
    "    \n",
    "    if N == size - 1:\n",
    "        return e_in, best_theta, s\n",
    "\n",
    "    return decison_stump_DP(size, noise, x, y, N+1, e_in, best_theta, s)"
   ]
  },
  {
   "cell_type": "code",
   "execution_count": 4,
   "metadata": {
    "ExecuteTime": {
     "end_time": "2020-10-30T06:27:40.481103Z",
     "start_time": "2020-10-30T06:27:40.474565Z"
    }
   },
   "outputs": [],
   "source": [
    "def problem(size, noise):\n",
    "    sum_Ein = 0\n",
    "    sum_Eout = 0\n",
    "\n",
    "    for i in range(10000):\n",
    "        x, y = get_data(size, noise)\n",
    "        e_in, best_theta, s = decison_stump_DP(size, noise, x, y)\n",
    "        sum_Ein += e_in\n",
    "        if s == 1:\n",
    "            sum_Eout += abs(best_theta)/2 * (1 - noise) + noise * (1 - abs(best_theta)/2)\n",
    "        else:\n",
    "            sum_Eout += abs(best_theta)/2 * (noise) + (1 - noise) * (1 - abs(best_theta)/2)\n",
    "        \n",
    "    return sum_Ein/10000, sum_Eout/10000,  sum_Eout/10000 - sum_Ein/10000\n",
    "        \n",
    "        "
   ]
  },
  {
   "cell_type": "code",
   "execution_count": 9,
   "metadata": {
    "ExecuteTime": {
     "end_time": "2020-10-31T17:59:25.731055Z",
     "start_time": "2020-10-31T17:59:25.004583Z"
    }
   },
   "outputs": [
    {
     "data": {
      "text/plain": [
       "(0.0, 0.28707138713333097, 0.28707138713333097)"
      ]
     },
     "execution_count": 9,
     "metadata": {},
     "output_type": "execute_result"
    }
   ],
   "source": [
    "problem(2,0)"
   ]
  },
  {
   "cell_type": "code",
   "execution_count": 10,
   "metadata": {
    "ExecuteTime": {
     "end_time": "2020-10-31T17:59:49.800177Z",
     "start_time": "2020-10-31T17:59:27.367839Z"
    }
   },
   "outputs": [
    {
     "data": {
      "text/plain": [
       "(0.0, 0.02378093374931839, 0.02378093374931839)"
      ]
     },
     "execution_count": 10,
     "metadata": {},
     "output_type": "execute_result"
    }
   ],
   "source": [
    "problem(20,0)"
   ]
  },
  {
   "cell_type": "code",
   "execution_count": 11,
   "metadata": {
    "ExecuteTime": {
     "end_time": "2020-10-31T17:59:50.634438Z",
     "start_time": "2020-10-31T17:59:49.948589Z"
    }
   },
   "outputs": [
    {
     "data": {
      "text/plain": [
       "(0.0, 0.3676984049259274, 0.3676984049259274)"
      ]
     },
     "execution_count": 11,
     "metadata": {},
     "output_type": "execute_result"
    }
   ],
   "source": [
    "problem(2,0.1)"
   ]
  },
  {
   "cell_type": "code",
   "execution_count": 12,
   "metadata": {
    "ExecuteTime": {
     "end_time": "2020-10-31T18:00:12.746663Z",
     "start_time": "2020-10-31T17:59:50.774098Z"
    }
   },
   "outputs": [
    {
     "data": {
      "text/plain": [
       "(0.08730499999999784, 0.13854493989747374, 0.0512399398974759)"
      ]
     },
     "execution_count": 12,
     "metadata": {},
     "output_type": "execute_result"
    }
   ],
   "source": [
    "problem(20,0.1)"
   ]
  },
  {
   "cell_type": "code",
   "execution_count": 6,
   "metadata": {
    "ExecuteTime": {
     "end_time": "2020-10-30T06:57:37.917647Z",
     "start_time": "2020-10-30T06:27:56.155164Z"
    }
   },
   "outputs": [
    {
     "data": {
      "text/plain": [
       "(0.09859450000001017, 0.1041157527411211, 0.005521252741110927)"
      ]
     },
     "execution_count": 6,
     "metadata": {},
     "output_type": "execute_result"
    }
   ],
   "source": [
    "problem(200,0.1)"
   ]
  },
  {
   "cell_type": "code",
   "execution_count": null,
   "metadata": {},
   "outputs": [],
   "source": []
  }
 ],
 "metadata": {
  "kernelspec": {
   "display_name": "Python 3",
   "language": "python",
   "name": "python3"
  },
  "language_info": {
   "codemirror_mode": {
    "name": "ipython",
    "version": 3
   },
   "file_extension": ".py",
   "mimetype": "text/x-python",
   "name": "python",
   "nbconvert_exporter": "python",
   "pygments_lexer": "ipython3",
   "version": "3.7.7"
  },
  "varInspector": {
   "cols": {
    "lenName": 16,
    "lenType": 16,
    "lenVar": 40
   },
   "kernels_config": {
    "python": {
     "delete_cmd_postfix": "",
     "delete_cmd_prefix": "del ",
     "library": "var_list.py",
     "varRefreshCmd": "print(var_dic_list())"
    },
    "r": {
     "delete_cmd_postfix": ") ",
     "delete_cmd_prefix": "rm(",
     "library": "var_list.r",
     "varRefreshCmd": "cat(var_dic_list()) "
    }
   },
   "types_to_exclude": [
    "module",
    "function",
    "builtin_function_or_method",
    "instance",
    "_Feature"
   ],
   "window_display": false
  }
 },
 "nbformat": 4,
 "nbformat_minor": 4
}
