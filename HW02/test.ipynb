{
 "cells": [
  {
   "cell_type": "code",
   "execution_count": 21,
   "metadata": {
    "ExecuteTime": {
     "end_time": "2020-10-27T06:08:25.735596Z",
     "start_time": "2020-10-27T06:08:25.728008Z"
    }
   },
   "outputs": [],
   "source": [
    "import random \n",
    "import numpy as np\n",
    "import math\n",
    "import sys\n",
    "def sign(x):\n",
    "    if x <= 0:\n",
    "        return -1\n",
    "    \n",
    "    else : \n",
    "        return 1\n",
    "x = []\n",
    "for i in  range(0,20):\n",
    "    x.append([random.random()*2-1])\n",
    "noise = 0\n",
    "\n",
    "for i in range(0,20):\n",
    "    ran = random.random()\n",
    "    #print(ran)\n",
    "    if ran <= 0.2:\n",
    "        noise+=1\n",
    "        x[i].append(-sign(x[i][0]))\n",
    "    else :x[i].append(sign(x[i][0]))\n",
    "#print(\"noise:\",noise)\n",
    "x = np.array(x)"
   ]
  },
  {
   "cell_type": "code",
   "execution_count": 10,
   "metadata": {
    "ExecuteTime": {
     "end_time": "2020-10-27T05:07:00.875255Z",
     "start_time": "2020-10-27T05:07:00.864834Z"
    }
   },
   "outputs": [],
   "source": [
    "def decision_stump(dataset):\n",
    "\n",
    "    sort_d = sorted(dataset)\n",
    "    min_pos = []\n",
    "\n",
    "    err = 0\n",
    "\n",
    "    min_err = len(dataset)\n",
    "\n",
    "    for i in range(0,len(dataset)+1):\n",
    "        for k in range(0,i):\n",
    "            if sort_d[k][1]>0:\n",
    "                err+=1\n",
    "        for k in range(i,len(dataset)):\n",
    "            if sort_d[k][1]<0:\n",
    "                err+=1\n",
    "        if err < min_err:\n",
    "            min_pos = []\n",
    "            min_pos.append(i)\n",
    "            min_err = err\n",
    "        elif err == min_err:\n",
    "            min_pos.append(i)\n",
    "        err = 0\n",
    "# choose the lowest Ein randomly\n",
    "    choosen = int(len(min_pos)*random.random())\n",
    "    if min_pos[choosen] < len(sort_d):\n",
    "        return [sort_d[min_pos[choosen]][0],min_err]\n",
    "    else: return [(sort_d[min_pos[choosen]-1][0]+1)/2,min_err]\n",
    "    "
   ]
  },
  {
   "cell_type": "code",
   "execution_count": 11,
   "metadata": {
    "ExecuteTime": {
     "end_time": "2020-10-27T05:07:20.429357Z",
     "start_time": "2020-10-27T05:07:20.423724Z"
    }
   },
   "outputs": [
    {
     "data": {
      "text/plain": [
       "[-0.7165971541528073, 6]"
      ]
     },
     "execution_count": 11,
     "metadata": {},
     "output_type": "execute_result"
    }
   ],
   "source": [
    "decision_stump(x)"
   ]
  },
  {
   "cell_type": "code",
   "execution_count": 22,
   "metadata": {
    "ExecuteTime": {
     "end_time": "2020-10-27T06:08:28.497986Z",
     "start_time": "2020-10-27T06:08:28.486612Z"
    }
   },
   "outputs": [
    {
     "data": {
      "text/plain": [
       "[array([-0.50378339, -1.        ]),\n",
       " array([0.1237912, 0.       ]),\n",
       " array([0.59389223, 1.        ]),\n",
       " array([0.0508444, 0.       ]),\n",
       " array([-0.29842315,  0.        ]),\n",
       " array([0.02177121, 0.        ]),\n",
       " array([-0.07370201,  0.        ]),\n",
       " array([-0.24306188,  0.        ]),\n",
       " array([0.0796598, 0.       ]),\n",
       " array([0.00022394, 0.        ]),\n",
       " array([-0.26198719, -1.        ]),\n",
       " array([-0.00601972,  0.        ]),\n",
       " array([0.16632011, 0.        ]),\n",
       " array([ 0.42540687, -1.        ]),\n",
       " array([ 0.19245411, -1.        ]),\n",
       " array([0.11906189, 0.        ]),\n",
       " array([0.28270387, 1.        ]),\n",
       " array([-0.00296948,  1.        ]),\n",
       " array([0.51751152, 1.        ])]"
      ]
     },
     "execution_count": 22,
     "metadata": {},
     "output_type": "execute_result"
    }
   ],
   "source": [
    "y = [(x[i]+x[i+1])/2 for i in range(0, x.shape[0]-1)]\n",
    "y"
   ]
  },
  {
   "cell_type": "code",
   "execution_count": 25,
   "metadata": {
    "ExecuteTime": {
     "end_time": "2020-10-27T06:09:53.658504Z",
     "start_time": "2020-10-27T06:09:53.653849Z"
    }
   },
   "outputs": [
    {
     "data": {
      "text/plain": [
       "20"
      ]
     },
     "execution_count": 25,
     "metadata": {},
     "output_type": "execute_result"
    }
   ],
   "source": [
    "x.shape[0]"
   ]
  },
  {
   "cell_type": "code",
   "execution_count": 111,
   "metadata": {
    "ExecuteTime": {
     "end_time": "2020-10-28T14:10:42.798764Z",
     "start_time": "2020-10-28T14:10:40.452212Z"
    }
   },
   "outputs": [
    {
     "name": "stdout",
     "output_type": "stream",
     "text": [
      "0.0 0.9518393109565011\n"
     ]
    }
   ],
   "source": [
    "import numpy as np\n",
    "import random\n",
    "class decisonStump(object):\n",
    "    def __init__(self,dimension,data_count,noise):\n",
    "        self.dimension=dimension\n",
    "        self.data_count=data_count\n",
    "        self.noise=noise\n",
    "    def generate_dataset(self):\n",
    "        dataset=np.zeros((self.data_count,self.dimension+1))\n",
    "        for i in range(self.data_count):\n",
    "            x=random.uniform(-1,1)\n",
    "            line=[]\n",
    "            line.append(x)\n",
    "            y=np.sign(x)*np.sign(random.uniform(0,1)-self.noise)\n",
    "            line.append(y)\n",
    "            dataset[i:]=line\n",
    "        #print(dataset)\n",
    "        return dataset\n",
    "    def get_theta(self,dataset):\n",
    "        l=np.sort(dataset[:,0])\n",
    "        theta=np.zeros((self.data_count,1))\n",
    "        for i in range(self.data_count-1):\n",
    "            theta[i]=(l[i]+l[i+1])/2\n",
    "        theta[-1]=1\n",
    "        #print(len(theta))\n",
    "        return theta\n",
    "    def question1718(self):\n",
    "        sum_e_in = 0\n",
    "        sum_e_out=0\n",
    "        for i in range(5000):\n",
    "            dataset = self.generate_dataset()\n",
    "            #print(len(dataset))\n",
    "            theta=self.get_theta(dataset)\n",
    "            #print(theta)\n",
    "            e_in = np.zeros((2, self.data_count))\n",
    "            for j in range(self.data_count):\n",
    "                a=dataset[:,1]*np.sign(dataset[:,0]-theta[j])\n",
    "                #print(dataset[:,0])\n",
    "                e_in[0][j] = (self.data_count - np.sum(a)) / (2 * self.data_count)  # 陣列只有-1和+1，可直接計算出-1所佔比例\n",
    "                e_in[1][j] = (self.data_count - np.sum(-a)) / (2 * self.data_count)\n",
    "            min0, min1 = np.min(e_in[0]), np.min(e_in[1])\n",
    "            s=0\n",
    "            theta_best=0\n",
    "            if min0 < min1:\n",
    "                s = 1\n",
    "                theta_best = theta[np.argmin(e_in[0]),0]\n",
    "                #print(theta_best,'----')\n",
    "                sum_e_in+=min0\n",
    "            else:\n",
    "                s = -1\n",
    "               # print(np.argmin(e_in[1]),'+++++++')\n",
    "                theta_best = theta[np.argmin(e_in[1]),0]\n",
    "               # print(theta_best)\n",
    "                sum_e_in+=min1\n",
    "            e_out=1 - abs(theta_best)\n",
    "            sum_e_out+=e_out\n",
    "        print(sum_e_in/5000,sum_e_out/5000)\n",
    "\n",
    "\n",
    "if __name__=='__main__':\n",
    "    decision=decisonStump(1,20,0)\n",
    "    decision.question1718()"
   ]
  },
  {
   "cell_type": "code",
   "execution_count": 110,
   "metadata": {
    "ExecuteTime": {
     "end_time": "2020-10-28T13:50:59.645779Z",
     "start_time": "2020-10-28T13:50:59.506513Z"
    }
   },
   "outputs": [
    {
     "name": "stdout",
     "output_type": "stream",
     "text": [
      "0.0\n",
      "0.375127441680704\n"
     ]
    }
   ],
   "source": [
    "import sys\n",
    "import numpy as np\n",
    "import math\n",
    "from random import *\n",
    "\n",
    "# generate input data with 20% flipping noise\n",
    "def generate_input_data(time_seed):\n",
    "    np.random.seed(time_seed)\n",
    "    raw_X = np.sort(np.random.uniform(-1,1,2))\n",
    "    noised_y = np.sign(raw_X)*np.where(np.random.random(raw_X.shape[0])<0,-1,1)\n",
    "    return raw_X, noised_y\n",
    "\n",
    "def calculate_Ein(x,y):\n",
    "    # calculate median of interval & negative infinite & positive infinite\n",
    "    thetas = np.array( [float(\"-inf\")]+[ (x[i]+x[i+1])/2 for i in range(0, x.shape[0]-1) ]+[float(\"inf\")] )\n",
    "    Ein = x.shape[0]\n",
    "    sign = 1\n",
    "    target_theta = 0.0\n",
    "    # positive and negative rays\n",
    "    for theta in thetas:\n",
    "        y_positive = np.where(x>theta,1,-1)\n",
    "        y_negative = np.where(x<theta,1,-1)\n",
    "#         print(y_negative)\n",
    "#         print(y)\n",
    "        error_positive = sum(y_positive!=y)\n",
    "        error_negative = sum(y_negative!=y)\n",
    "        #print(error_negative)\n",
    "        if error_positive>error_negative:\n",
    "            if Ein>error_negative:\n",
    "                Ein = error_negative\n",
    "                sign = -1\n",
    "                target_theta = theta\n",
    "        else:\n",
    "            if Ein>error_positive:\n",
    "                Ein = error_positive\n",
    "                sign = 1\n",
    "                target_theta = theta\n",
    "    # two corner cases\n",
    "    if target_theta==float(\"inf\"):\n",
    "        target_theta = 1.0\n",
    "    if target_theta==float(\"-inf\"):\n",
    "        target_theta = -1.0\n",
    "    return Ein, target_theta, sign\n",
    "\n",
    "\n",
    "if __name__ == '__main__':\n",
    "    T = 1000\n",
    "    total_Ein = 0\n",
    "    sum_Eout = 0\n",
    "    for i in range(0,T):\n",
    "        x,y = generate_input_data(i)\n",
    "        curr_Ein, theta, sign = calculate_Ein(x,y)\n",
    "        total_Ein = total_Ein + curr_Ein\n",
    "        sum_Eout = sum_Eout + 0.5+0.3*sign*(abs(theta)-1)\n",
    "    print ((total_Ein*1.0) / (T*2))\n",
    "    print ((sum_Eout*1.0) / T)"
   ]
  },
  {
   "cell_type": "code",
   "execution_count": 4,
   "metadata": {
    "ExecuteTime": {
     "end_time": "2020-11-05T08:38:11.150528Z",
     "start_time": "2020-11-05T08:38:11.147225Z"
    }
   },
   "outputs": [
    {
     "name": "stdout",
     "output_type": "stream",
     "text": [
      "16\n"
     ]
    }
   ],
   "source": [
    "e = 1\n",
    "while True:\n",
    "    tem = 10 ** e - 1\n",
    "    if tem % 17 == 0:\n",
    "        print(e)\n",
    "        break\n",
    "    else:\n",
    "        e += 1"
   ]
  },
  {
   "cell_type": "code",
   "execution_count": null,
   "metadata": {},
   "outputs": [],
   "source": []
  }
 ],
 "metadata": {
  "kernelspec": {
   "display_name": "Python 3",
   "language": "python",
   "name": "python3"
  },
  "language_info": {
   "codemirror_mode": {
    "name": "ipython",
    "version": 3
   },
   "file_extension": ".py",
   "mimetype": "text/x-python",
   "name": "python",
   "nbconvert_exporter": "python",
   "pygments_lexer": "ipython3",
   "version": "3.7.7"
  },
  "varInspector": {
   "cols": {
    "lenName": 16,
    "lenType": 16,
    "lenVar": 40
   },
   "kernels_config": {
    "python": {
     "delete_cmd_postfix": "",
     "delete_cmd_prefix": "del ",
     "library": "var_list.py",
     "varRefreshCmd": "print(var_dic_list())"
    },
    "r": {
     "delete_cmd_postfix": ") ",
     "delete_cmd_prefix": "rm(",
     "library": "var_list.r",
     "varRefreshCmd": "cat(var_dic_list()) "
    }
   },
   "types_to_exclude": [
    "module",
    "function",
    "builtin_function_or_method",
    "instance",
    "_Feature"
   ],
   "window_display": false
  }
 },
 "nbformat": 4,
 "nbformat_minor": 4
}
