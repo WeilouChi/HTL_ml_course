{
 "cells": [
  {
   "cell_type": "code",
   "execution_count": 1,
   "metadata": {
    "ExecuteTime": {
     "end_time": "2020-11-18T13:33:07.354736Z",
     "start_time": "2020-11-18T13:33:07.265429Z"
    }
   },
   "outputs": [],
   "source": [
    "import numpy as np\n",
    "import random"
   ]
  },
  {
   "cell_type": "code",
   "execution_count": 2,
   "metadata": {
    "ExecuteTime": {
     "end_time": "2020-11-18T13:33:07.363256Z",
     "start_time": "2020-11-18T13:33:07.357313Z"
    }
   },
   "outputs": [],
   "source": [
    "def loadfile(x0):\n",
    "    with open('hw3_train.dat.txt','r') as dat:\n",
    "        lines = dat.readlines()\n",
    "    \n",
    "    xn = []\n",
    "    yn = np.zeros((len(lines),1))\n",
    "    i = 0\n",
    "    for line in lines:\n",
    "        tem = line.split()\n",
    "        x = [x0] + [float(i) for i in tem[:-1]]\n",
    "        xn.append(x)\n",
    "        yn[i,0] = float(tem[-1])\n",
    "        i += 1\n",
    "\n",
    "    return np.array(xn), yn\n",
    "\n"
   ]
  },
  {
   "cell_type": "code",
   "execution_count": 9,
   "metadata": {
    "ExecuteTime": {
     "end_time": "2020-11-19T08:43:57.867714Z",
     "start_time": "2020-11-19T08:43:57.864241Z"
    }
   },
   "outputs": [],
   "source": [
    "def WLIN(x, y):\n",
    "    pseudo_inverse = np.linalg.pinv(x)\n",
    "    w_Lin = np.dot(pseudo_inverse, y)\n",
    "    \n",
    "    return np.array(w_Lin)"
   ]
  },
  {
   "cell_type": "code",
   "execution_count": 10,
   "metadata": {
    "ExecuteTime": {
     "end_time": "2020-11-19T08:43:59.251923Z",
     "start_time": "2020-11-19T08:43:59.248096Z"
    }
   },
   "outputs": [],
   "source": [
    "def Ein(x, y ,w_Lin):\n",
    "    yn_h = np.dot(x , w_Lin)\n",
    "    ein_sum = np.sum((y - yn_h)**2)\n",
    "    \n",
    "    return ein_sum/1000\n"
   ]
  },
  {
   "cell_type": "code",
   "execution_count": 11,
   "metadata": {
    "ExecuteTime": {
     "end_time": "2020-11-19T08:43:59.743926Z",
     "start_time": "2020-11-19T08:43:59.731908Z"
    }
   },
   "outputs": [
    {
     "name": "stdout",
     "output_type": "stream",
     "text": [
      "14:  0.6053223804672917\n"
     ]
    }
   ],
   "source": [
    "if __name__ == '__main__':\n",
    "    x, y = loadfile(1)\n",
    "    w_Lin = WLIN(x, y)\n",
    "    print(\"14: \", Ein(x,y,w_Lin))"
   ]
  },
  {
   "cell_type": "code",
   "execution_count": null,
   "metadata": {},
   "outputs": [],
   "source": []
  }
 ],
 "metadata": {
  "kernelspec": {
   "display_name": "Python 3",
   "language": "python",
   "name": "python3"
  },
  "language_info": {
   "codemirror_mode": {
    "name": "ipython",
    "version": 3
   },
   "file_extension": ".py",
   "mimetype": "text/x-python",
   "name": "python",
   "nbconvert_exporter": "python",
   "pygments_lexer": "ipython3",
   "version": "3.7.7"
  },
  "varInspector": {
   "cols": {
    "lenName": 16,
    "lenType": 16,
    "lenVar": 40
   },
   "kernels_config": {
    "python": {
     "delete_cmd_postfix": "",
     "delete_cmd_prefix": "del ",
     "library": "var_list.py",
     "varRefreshCmd": "print(var_dic_list())"
    },
    "r": {
     "delete_cmd_postfix": ") ",
     "delete_cmd_prefix": "rm(",
     "library": "var_list.r",
     "varRefreshCmd": "cat(var_dic_list()) "
    }
   },
   "types_to_exclude": [
    "module",
    "function",
    "builtin_function_or_method",
    "instance",
    "_Feature"
   ],
   "window_display": false
  }
 },
 "nbformat": 4,
 "nbformat_minor": 4
}
