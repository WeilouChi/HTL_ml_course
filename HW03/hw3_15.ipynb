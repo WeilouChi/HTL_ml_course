{
 "cells": [
  {
   "cell_type": "code",
   "execution_count": 1,
   "metadata": {
    "ExecuteTime": {
     "end_time": "2020-11-19T08:45:18.401989Z",
     "start_time": "2020-11-19T08:45:18.316930Z"
    }
   },
   "outputs": [],
   "source": [
    "import numpy as np\n",
    "import random"
   ]
  },
  {
   "cell_type": "code",
   "execution_count": 2,
   "metadata": {
    "ExecuteTime": {
     "end_time": "2020-11-19T08:45:18.411340Z",
     "start_time": "2020-11-19T08:45:18.404585Z"
    }
   },
   "outputs": [],
   "source": [
    "def loadfile(filename, x0 = 1):\n",
    "    with open(filename ,'r') as dat:\n",
    "        lines = dat.readlines()\n",
    "    \n",
    "    xn = []\n",
    "    yn = np.zeros((len(lines),1))\n",
    "    i = 0\n",
    "    for line in lines:\n",
    "        tem = line.split()\n",
    "        x = [x0] + [float(i) for i in tem[:-1]]\n",
    "        xn.append(x)\n",
    "        yn[i,0] = float(tem[-1])\n",
    "        i += 1\n",
    "\n",
    "    return np.array(xn,dtype=float), np.array(yn, dtype=float)"
   ]
  },
  {
   "cell_type": "code",
   "execution_count": 3,
   "metadata": {
    "ExecuteTime": {
     "end_time": "2020-11-19T08:45:18.417757Z",
     "start_time": "2020-11-19T08:45:18.414108Z"
    }
   },
   "outputs": [],
   "source": [
    "def Ein_WLin(x, y):\n",
    "    pseudo_inverse = np.linalg.pinv(x)\n",
    "    w_Lin = np.dot(pseudo_inverse, y)\n",
    "    yn_h = np.dot(x , w_Lin)\n",
    "    ein_sum = np.sum((y - yn_h)**2)\n",
    "    return ein_sum/len(x)"
   ]
  },
  {
   "cell_type": "code",
   "execution_count": 4,
   "metadata": {
    "ExecuteTime": {
     "end_time": "2020-11-19T08:45:18.427476Z",
     "start_time": "2020-11-19T08:45:18.419809Z"
    }
   },
   "outputs": [],
   "source": [
    "def SGD_Lin(x, y):\n",
    "    lr = 0.001\n",
    "    w = np.zeros((1, len(x[0])))\n",
    "    i = 0\n",
    "    flag = True\n",
    "    Ein_wlin = 1.01 * Ein_WLin(x,y)\n",
    "    while flag:\n",
    "        i += 1\n",
    "        rand = np.random.randint(999)\n",
    "        grad_err = 2 * (y[rand,0] - np.dot(w, x[rand,:])) * x[rand,:]\n",
    "        w += lr * grad_err\n",
    "        yh = np.dot(x, w.transpose())\n",
    "        Ein_w = np.sum((y - yh)**2)\n",
    "        Ein_w /= 1000\n",
    "\n",
    "        if Ein_w <= Ein_wlin:\n",
    "            flag = False\n",
    "    return i"
   ]
  },
  {
   "cell_type": "code",
   "execution_count": 5,
   "metadata": {
    "ExecuteTime": {
     "end_time": "2020-11-19T08:46:57.071293Z",
     "start_time": "2020-11-19T08:45:18.430119Z"
    }
   },
   "outputs": [
    {
     "name": "stdout",
     "output_type": "stream",
     "text": [
      "15:  1862.47\n"
     ]
    }
   ],
   "source": [
    "if __name__ == '__main__':\n",
    "    iterations = 0\n",
    "    for _ in range(1000):\n",
    "        x ,y = loadfile('hw3_train.dat.txt')\n",
    "        i = SGD_Lin(x, y)\n",
    "        iterations += i\n",
    "    print(\"15: \",iterations/1000)"
   ]
  },
  {
   "cell_type": "code",
   "execution_count": null,
   "metadata": {},
   "outputs": [],
   "source": []
  }
 ],
 "metadata": {
  "kernelspec": {
   "display_name": "Python 3",
   "language": "python",
   "name": "python3"
  },
  "language_info": {
   "codemirror_mode": {
    "name": "ipython",
    "version": 3
   },
   "file_extension": ".py",
   "mimetype": "text/x-python",
   "name": "python",
   "nbconvert_exporter": "python",
   "pygments_lexer": "ipython3",
   "version": "3.7.7"
  },
  "varInspector": {
   "cols": {
    "lenName": 16,
    "lenType": 16,
    "lenVar": 40
   },
   "kernels_config": {
    "python": {
     "delete_cmd_postfix": "",
     "delete_cmd_prefix": "del ",
     "library": "var_list.py",
     "varRefreshCmd": "print(var_dic_list())"
    },
    "r": {
     "delete_cmd_postfix": ") ",
     "delete_cmd_prefix": "rm(",
     "library": "var_list.r",
     "varRefreshCmd": "cat(var_dic_list()) "
    }
   },
   "types_to_exclude": [
    "module",
    "function",
    "builtin_function_or_method",
    "instance",
    "_Feature"
   ],
   "window_display": false
  }
 },
 "nbformat": 4,
 "nbformat_minor": 4
}
