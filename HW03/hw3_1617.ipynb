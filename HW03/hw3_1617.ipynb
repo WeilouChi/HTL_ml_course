{
 "cells": [
  {
   "cell_type": "code",
   "execution_count": 1,
   "metadata": {
    "ExecuteTime": {
     "end_time": "2020-11-20T03:14:04.015295Z",
     "start_time": "2020-11-20T03:14:03.918557Z"
    }
   },
   "outputs": [],
   "source": [
    "import numpy as np\n",
    "import random"
   ]
  },
  {
   "cell_type": "code",
   "execution_count": 2,
   "metadata": {
    "ExecuteTime": {
     "end_time": "2020-11-20T03:14:04.025037Z",
     "start_time": "2020-11-20T03:14:04.018045Z"
    }
   },
   "outputs": [],
   "source": [
    "def loadfile(filename, x0 = 1):\n",
    "    with open(filename ,'r') as dat:\n",
    "        lines = dat.readlines()\n",
    "    \n",
    "    xn = []\n",
    "    yn = np.zeros((len(lines),1))\n",
    "    i = 0\n",
    "    for line in lines:\n",
    "        tem = line.split()\n",
    "        x = [x0] + [float(i) for i in tem[:-1]]\n",
    "        xn.append(x)\n",
    "        yn[i,0] = float(tem[-1])\n",
    "        i += 1\n",
    "\n",
    "    return np.array(xn,dtype=float), np.array(yn, dtype=float)"
   ]
  },
  {
   "cell_type": "code",
   "execution_count": 3,
   "metadata": {
    "ExecuteTime": {
     "end_time": "2020-11-20T03:14:04.030292Z",
     "start_time": "2020-11-20T03:14:04.027374Z"
    }
   },
   "outputs": [],
   "source": [
    "def sigmoid(x):\n",
    "    return 1/(1+np.exp(-x))"
   ]
  },
  {
   "cell_type": "code",
   "execution_count": 4,
   "metadata": {
    "ExecuteTime": {
     "end_time": "2020-11-20T03:14:04.037677Z",
     "start_time": "2020-11-20T03:14:04.032076Z"
    }
   },
   "outputs": [],
   "source": [
    "def SGD_Log(x, y, w):\n",
    "    lr = 0.001\n",
    "    n = 500\n",
    "\n",
    "    for i in range(500):\n",
    "        rand = np.random.randint(999)\n",
    "        grad = sigmoid(-y[rand,0] * (np.dot(w, x[rand,:]))) * y[rand,0] * x[rand,:]\n",
    "        w += lr * grad\n",
    "        Ein_CE = np.sum(np.log(1 + np.exp(-y[rand,0]*np.dot(w,x[rand,:])))) / 1000\n",
    "        \n",
    "    return Ein_CE"
   ]
  },
  {
   "cell_type": "code",
   "execution_count": 5,
   "metadata": {
    "ExecuteTime": {
     "end_time": "2020-11-20T03:14:04.045072Z",
     "start_time": "2020-11-20T03:14:04.040515Z"
    }
   },
   "outputs": [],
   "source": [
    "def weight(x, y, w0=False):\n",
    "    if w0:\n",
    "        pseudo_inverse = np.linalg.pinv(x)\n",
    "        w = np.matrix(np.dot(pseudo_inverse, y)).T\n",
    "    else:\n",
    "        w = np.zeros((1,len(x[0])))\n",
    "\n",
    "    return w"
   ]
  },
  {
   "cell_type": "code",
   "execution_count": 6,
   "metadata": {
    "ExecuteTime": {
     "end_time": "2020-11-20T03:15:11.026442Z",
     "start_time": "2020-11-20T03:14:04.047042Z"
    }
   },
   "outputs": [
    {
     "name": "stdout",
     "output_type": "stream",
     "text": [
      "16:  0.5608835343675093\n",
      "17:   0.5009846773648002\n"
     ]
    }
   ],
   "source": [
    "if __name__ == '__main__':\n",
    "    sum_Ein_CE = 0\n",
    "    for i in range(1000):\n",
    "        x, y = loadfile('hw3_train.dat.txt')\n",
    "        w = weight(x, y)\n",
    "        errCE = SGD_Log(x, y, w)\n",
    "        sum_Ein_CE += errCE\n",
    "    print(\"16: \",sum_Ein_CE)\n",
    "    sum_Ein_CE = 0\n",
    "    for i in range(1000):\n",
    "        x, y = loadfile('hw3_train.dat.txt')\n",
    "        w = weight(x, y, True)\n",
    "        errCE = SGD_Log(x, y, w)\n",
    "        sum_Ein_CE += errCE\n",
    "    print(\"17:  \", sum_Ein_CE)"
   ]
  },
  {
   "cell_type": "code",
   "execution_count": null,
   "metadata": {},
   "outputs": [],
   "source": []
  }
 ],
 "metadata": {
  "kernelspec": {
   "display_name": "Python 3",
   "language": "python",
   "name": "python3"
  },
  "language_info": {
   "codemirror_mode": {
    "name": "ipython",
    "version": 3
   },
   "file_extension": ".py",
   "mimetype": "text/x-python",
   "name": "python",
   "nbconvert_exporter": "python",
   "pygments_lexer": "ipython3",
   "version": "3.7.7"
  },
  "varInspector": {
   "cols": {
    "lenName": 16,
    "lenType": 16,
    "lenVar": 40
   },
   "kernels_config": {
    "python": {
     "delete_cmd_postfix": "",
     "delete_cmd_prefix": "del ",
     "library": "var_list.py",
     "varRefreshCmd": "print(var_dic_list())"
    },
    "r": {
     "delete_cmd_postfix": ") ",
     "delete_cmd_prefix": "rm(",
     "library": "var_list.r",
     "varRefreshCmd": "cat(var_dic_list()) "
    }
   },
   "types_to_exclude": [
    "module",
    "function",
    "builtin_function_or_method",
    "instance",
    "_Feature"
   ],
   "window_display": false
  }
 },
 "nbformat": 4,
 "nbformat_minor": 4
}
