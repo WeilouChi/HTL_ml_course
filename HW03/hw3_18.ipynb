{
 "cells": [
  {
   "cell_type": "code",
   "execution_count": 1,
   "metadata": {
    "ExecuteTime": {
     "end_time": "2020-11-18T12:57:07.678911Z",
     "start_time": "2020-11-18T12:57:07.676435Z"
    }
   },
   "outputs": [],
   "source": [
    "import numpy as np\n",
    "import random"
   ]
  },
  {
   "cell_type": "code",
   "execution_count": 23,
   "metadata": {
    "ExecuteTime": {
     "end_time": "2020-11-19T08:41:33.224400Z",
     "start_time": "2020-11-19T08:41:33.214646Z"
    }
   },
   "outputs": [],
   "source": [
    "def loadfile(filename, x0 = 1):\n",
    "    with open(filename ,'r') as dat:\n",
    "        lines = dat.readlines()\n",
    "    \n",
    "    xn = []\n",
    "    yn = np.zeros((len(lines),1))\n",
    "    i = 0\n",
    "    for line in lines:\n",
    "        tem = line.split()\n",
    "        x = [x0] + [float(i) for i in tem[:-1]]\n",
    "        xn.append(x)\n",
    "        yn[i,0] = float(tem[-1])\n",
    "        i += 1\n",
    "\n",
    "    return np.array(xn,dtype=float), np.array(yn, dtype=float)"
   ]
  },
  {
   "cell_type": "code",
   "execution_count": 24,
   "metadata": {
    "ExecuteTime": {
     "end_time": "2020-11-19T08:41:33.551997Z",
     "start_time": "2020-11-19T08:41:33.546040Z"
    }
   },
   "outputs": [],
   "source": [
    "def trainLC(train_x, train_y):\n",
    "    pse_inv = np.linalg.pinv(train_x)\n",
    "    w_Lin = np.dot(pse_inv, train_y)\n",
    "    yHat = np.sign(np.dot(train_x, w_Lin))\n",
    "    ein = np.sum(train_y!=yHat)\n",
    "    return ein/1000, w_Lin"
   ]
  },
  {
   "cell_type": "code",
   "execution_count": 27,
   "metadata": {
    "ExecuteTime": {
     "end_time": "2020-11-19T08:41:38.923624Z",
     "start_time": "2020-11-19T08:41:38.919535Z"
    }
   },
   "outputs": [],
   "source": [
    "def Eout(test_x, test_y):\n",
    "    train_x, train_y = loadfile('hw3_train.dat.txt')\n",
    "    ein , w_Lin = trainLC(train_x, train_y)\n",
    "    yhat = np.sign(np.dot(test_x, w_Lin))\n",
    "    eout = np.sum(yhat != test_y)\n",
    "    eout /= 3000\n",
    "    return abs(eout-ein)"
   ]
  },
  {
   "cell_type": "code",
   "execution_count": 29,
   "metadata": {
    "ExecuteTime": {
     "end_time": "2020-11-19T08:47:16.468204Z",
     "start_time": "2020-11-19T08:47:16.435919Z"
    }
   },
   "outputs": [
    {
     "name": "stdout",
     "output_type": "stream",
     "text": [
      "18:  0.3226666666666666\n"
     ]
    }
   ],
   "source": [
    "if __name__ == '__main__':\n",
    "    test_x, test_y = loadfile('hw3_test.dat.txt')\n",
    "    print(\"18: \",Eout(test_x, test_y))"
   ]
  },
  {
   "cell_type": "code",
   "execution_count": null,
   "metadata": {},
   "outputs": [],
   "source": []
  }
 ],
 "metadata": {
  "kernelspec": {
   "display_name": "Python 3",
   "language": "python",
   "name": "python3"
  },
  "language_info": {
   "codemirror_mode": {
    "name": "ipython",
    "version": 3
   },
   "file_extension": ".py",
   "mimetype": "text/x-python",
   "name": "python",
   "nbconvert_exporter": "python",
   "pygments_lexer": "ipython3",
   "version": "3.7.7"
  },
  "varInspector": {
   "cols": {
    "lenName": 16,
    "lenType": 16,
    "lenVar": 40
   },
   "kernels_config": {
    "python": {
     "delete_cmd_postfix": "",
     "delete_cmd_prefix": "del ",
     "library": "var_list.py",
     "varRefreshCmd": "print(var_dic_list())"
    },
    "r": {
     "delete_cmd_postfix": ") ",
     "delete_cmd_prefix": "rm(",
     "library": "var_list.r",
     "varRefreshCmd": "cat(var_dic_list()) "
    }
   },
   "types_to_exclude": [
    "module",
    "function",
    "builtin_function_or_method",
    "instance",
    "_Feature"
   ],
   "window_display": false
  }
 },
 "nbformat": 4,
 "nbformat_minor": 4
}
