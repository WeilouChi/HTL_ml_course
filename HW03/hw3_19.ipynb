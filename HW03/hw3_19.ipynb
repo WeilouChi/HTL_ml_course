{
 "cells": [
  {
   "cell_type": "code",
   "execution_count": 1,
   "metadata": {
    "ExecuteTime": {
     "end_time": "2020-11-19T04:24:52.223910Z",
     "start_time": "2020-11-19T04:24:52.060954Z"
    }
   },
   "outputs": [],
   "source": [
    "import numpy as np\n",
    "import random"
   ]
  },
  {
   "cell_type": "code",
   "execution_count": 2,
   "metadata": {
    "ExecuteTime": {
     "end_time": "2020-11-19T04:24:52.232819Z",
     "start_time": "2020-11-19T04:24:52.226198Z"
    }
   },
   "outputs": [],
   "source": [
    "def loadfile(filename, x0 = 1):\n",
    "    with open(filename ,'r') as dat:\n",
    "        lines = dat.readlines()\n",
    "    \n",
    "    xn = []\n",
    "    yn = np.zeros((len(lines),1))\n",
    "    i = 0\n",
    "    for line in lines:\n",
    "        tem = line.split()\n",
    "        x = [x0] + [float(i) for i in tem[:-1]]\n",
    "        xn.append(x)\n",
    "        yn[i,0] = float(tem[-1])\n",
    "        i += 1\n",
    "\n",
    "    return np.array(xn,dtype=float), np.array(yn, dtype=float)"
   ]
  },
  {
   "cell_type": "code",
   "execution_count": 3,
   "metadata": {
    "ExecuteTime": {
     "end_time": "2020-11-19T04:24:52.239081Z",
     "start_time": "2020-11-19T04:24:52.235305Z"
    }
   },
   "outputs": [],
   "source": [
    "def transform3(x):\n",
    "    x0 = np.ones((len(x),1))\n",
    "    x = x.transpose()\n",
    "    z = np.concatenate((x0, x[1:].transpose(), x[1:].transpose()**2, x[1:].transpose()**3),axis=1)\n",
    "    return z\n",
    "        "
   ]
  },
  {
   "cell_type": "code",
   "execution_count": 4,
   "metadata": {
    "ExecuteTime": {
     "end_time": "2020-11-19T04:24:52.247973Z",
     "start_time": "2020-11-19T04:24:52.241545Z"
    }
   },
   "outputs": [],
   "source": [
    "def transform10(x):\n",
    "    x0 = np.ones((len(x),1))\n",
    "    x = x.transpose()\n",
    "    z = np.concatenate((x0, x[1:].transpose(), x[1:].transpose()**2, x[1:].transpose()**3,x[1:].transpose()**4,x[1:].transpose()**5,x[1:].transpose()**6,x[1:].transpose()**7,x[1:].transpose()**8,x[1:].transpose()**9,x[1:].transpose()**10),axis=1)\n",
    "    return z"
   ]
  },
  {
   "cell_type": "code",
   "execution_count": 5,
   "metadata": {
    "ExecuteTime": {
     "end_time": "2020-11-19T04:24:52.254270Z",
     "start_time": "2020-11-19T04:24:52.250085Z"
    }
   },
   "outputs": [],
   "source": [
    "def trainLR(train_z,train_y):\n",
    "    w_Lin = np.dot(np.linalg.pinv(train_z),train_y)\n",
    "    yhat = np.sign(np.dot(train_z, w_Lin))\n",
    "    Ein = np.sum(train_y != yhat)\n",
    "    Ein /= len(train_z)\n",
    "    return Ein, w_Lin"
   ]
  },
  {
   "cell_type": "code",
   "execution_count": 9,
   "metadata": {
    "ExecuteTime": {
     "end_time": "2020-11-19T04:25:09.259678Z",
     "start_time": "2020-11-19T04:25:09.254894Z"
    }
   },
   "outputs": [],
   "source": [
    "def Eout3(test_x, test_y):\n",
    "    train_x, train_y = loadfile('hw3_train.dat.txt')\n",
    "    train_z = transform3(train_x)\n",
    "    ein, w_Lin = trainLR(train_z, train_y)\n",
    "    test_z = transform3(test_x)\n",
    "    yhat = np.sign(np.dot(test_z, w_Lin))\n",
    "    eout = np.sum((test_y != yhat))\n",
    "    eout /= len(test_z)\n",
    "    #print(eout)\n",
    "    return abs(ein - eout)"
   ]
  },
  {
   "cell_type": "code",
   "execution_count": 10,
   "metadata": {
    "ExecuteTime": {
     "end_time": "2020-11-19T04:25:09.593688Z",
     "start_time": "2020-11-19T04:25:09.588776Z"
    }
   },
   "outputs": [],
   "source": [
    "def Eout10(test_x, test_y):\n",
    "    train_x, train_y = loadfile('hw3_train.dat.txt')\n",
    "    train_z = transform10(train_x)\n",
    "    ein, w_Lin = trainLR(train_z, train_y)\n",
    "    #print(ein)\n",
    "    test_z = transform10(test_x)\n",
    "    yhat = np.sign(np.dot(test_z, w_Lin))\n",
    "    eout = np.sum((test_y != yhat))\n",
    "    eout /= len(test_z)\n",
    "    #print(eout)\n",
    "    return abs(ein - eout)"
   ]
  },
  {
   "cell_type": "code",
   "execution_count": 11,
   "metadata": {
    "ExecuteTime": {
     "end_time": "2020-11-19T04:25:10.184856Z",
     "start_time": "2020-11-19T04:25:10.123630Z"
    }
   },
   "outputs": [
    {
     "name": "stdout",
     "output_type": "stream",
     "text": [
      "19:  0.37366666666666665\n",
      "20:  0.44666666666666666\n"
     ]
    }
   ],
   "source": [
    "if __name__ == '__main__':\n",
    "    test_x, test_y = loadfile('hw3_test.dat.txt')\n",
    "    print(\"19: \",Eout3(test_x,test_y))\n",
    "    print(\"20: \",Eout10(test_x,test_y))"
   ]
  },
  {
   "cell_type": "code",
   "execution_count": null,
   "metadata": {},
   "outputs": [],
   "source": []
  }
 ],
 "metadata": {
  "kernelspec": {
   "display_name": "Python 3",
   "language": "python",
   "name": "python3"
  },
  "language_info": {
   "codemirror_mode": {
    "name": "ipython",
    "version": 3
   },
   "file_extension": ".py",
   "mimetype": "text/x-python",
   "name": "python",
   "nbconvert_exporter": "python",
   "pygments_lexer": "ipython3",
   "version": "3.7.7"
  },
  "varInspector": {
   "cols": {
    "lenName": 16,
    "lenType": 16,
    "lenVar": 40
   },
   "kernels_config": {
    "python": {
     "delete_cmd_postfix": "",
     "delete_cmd_prefix": "del ",
     "library": "var_list.py",
     "varRefreshCmd": "print(var_dic_list())"
    },
    "r": {
     "delete_cmd_postfix": ") ",
     "delete_cmd_prefix": "rm(",
     "library": "var_list.r",
     "varRefreshCmd": "cat(var_dic_list()) "
    }
   },
   "types_to_exclude": [
    "module",
    "function",
    "builtin_function_or_method",
    "instance",
    "_Feature"
   ],
   "window_display": false
  }
 },
 "nbformat": 4,
 "nbformat_minor": 4
}
