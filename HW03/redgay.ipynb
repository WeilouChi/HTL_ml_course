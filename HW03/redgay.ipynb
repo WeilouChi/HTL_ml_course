{
 "cells": [
  {
   "cell_type": "markdown",
   "metadata": {},
   "source": [
    "## 14"
   ]
  },
  {
   "cell_type": "code",
   "execution_count": 8,
   "metadata": {
    "ExecuteTime": {
     "end_time": "2020-11-20T02:08:07.313419Z",
     "start_time": "2020-11-20T02:08:07.310868Z"
    }
   },
   "outputs": [],
   "source": [
    "import numpy as np\n",
    "import random"
   ]
  },
  {
   "cell_type": "code",
   "execution_count": 121,
   "metadata": {
    "ExecuteTime": {
     "end_time": "2020-11-20T03:23:32.527498Z",
     "start_time": "2020-11-20T03:23:32.463811Z"
    }
   },
   "outputs": [],
   "source": [
    "train_set = np.loadtxt(r'hw3_train.dat.txt')\n",
    "train_x = train_set[:,0:10]\n",
    "train_y = train_set[:,10].reshape(-1,1)\n",
    "x0 = np.ones((len(train_x),1))\n",
    "train_x = np.concatenate((x0, train_x),axis=1)\n",
    "test_set = np.loadtxt(r'hw3_test.dat.txt')\n",
    "test_x = test_set[:,0:10]\n",
    "test_y = test_set[:,10].reshape(-1,1)\n",
    "x0 = np.ones((len(test_x),1))\n",
    "test_x = np.concatenate((x0, test_x),axis=1)"
   ]
  },
  {
   "cell_type": "code",
   "execution_count": 140,
   "metadata": {
    "ExecuteTime": {
     "end_time": "2020-11-20T03:47:34.074344Z",
     "start_time": "2020-11-20T03:47:34.068460Z"
    }
   },
   "outputs": [
    {
     "name": "stdout",
     "output_type": "stream",
     "text": [
      "Q14:  0.6053785817326256\n"
     ]
    }
   ],
   "source": [
    "def problem14(train_x,train_y):\n",
    "    pse_inv = np.linalg.pinv(train_x)\n",
    "    wlin = np.dot(pse_inv, train_y)\n",
    "    yhat = np.dot(train_x, wlin)\n",
    "    err = np.sum((train_y-yhat)**2)\n",
    "    err /= 1000\n",
    "    print(\"Q14: \",err)\n",
    "    return err\n",
    "elin = problem14(train_x, train_y)"
   ]
  },
  {
   "cell_type": "markdown",
   "metadata": {},
   "source": [
    "## 15"
   ]
  },
  {
   "cell_type": "code",
   "execution_count": 141,
   "metadata": {
    "ExecuteTime": {
     "end_time": "2020-11-20T03:47:54.415374Z",
     "start_time": "2020-11-20T03:47:54.408909Z"
    }
   },
   "outputs": [],
   "source": [
    "def SGD_Q15(train_x, train_y, elin):\n",
    "    eta = 0.001\n",
    "    elin *= 1.01\n",
    "    w = np.zeros((1, len(train_x[0])))\n",
    "    updates = 0\n",
    "    while True:\n",
    "        seed = np.random.randint(1000)\n",
    "        err = 2 * (train_y[seed,0] - np.dot(w, train_x[seed,:])) * train_x[seed,:]\n",
    "        w += eta * err\n",
    "        yhat = np.dot(train_x, w.transpose())\n",
    "        ein_w = np.sum((train_y - yhat)**2)\n",
    "        ein_w /= 1000\n",
    "        updates += 1\n",
    "        if ein_w <= elin:\n",
    "            return updates\n",
    "    "
   ]
  },
  {
   "cell_type": "code",
   "execution_count": 124,
   "metadata": {
    "ExecuteTime": {
     "end_time": "2020-11-20T03:24:44.847461Z",
     "start_time": "2020-11-20T03:23:34.859929Z"
    }
   },
   "outputs": [
    {
     "name": "stdout",
     "output_type": "stream",
     "text": [
      "Q15 :  1788.022\n"
     ]
    }
   ],
   "source": [
    "def problem15(train_x, train_y, elin):\n",
    "    total = 0\n",
    "    for i in range(1000):\n",
    "        updates = SGD_Q15(train_x, train_y, elin)\n",
    "        total += updates\n",
    "    print(\"Q15 : \", total/1000) \n",
    "problem15(train_x, train_y, elin)"
   ]
  },
  {
   "cell_type": "markdown",
   "metadata": {},
   "source": [
    "## 16"
   ]
  },
  {
   "cell_type": "code",
   "execution_count": 142,
   "metadata": {
    "ExecuteTime": {
     "end_time": "2020-11-20T03:48:06.987754Z",
     "start_time": "2020-11-20T03:48:06.981113Z"
    }
   },
   "outputs": [],
   "source": [
    "def sigmoid(val):\n",
    "    return 1/(1+np.exp(-val))\n",
    "\n",
    "def SGD_Q16(train_x, train_y):\n",
    "    eta = 0.001\n",
    "    w = np.zeros((1,len(train_x[0])))\n",
    "    for i in range(500):\n",
    "        seed = np.random.randint(1000)\n",
    "        err = sigmoid(-train_y[seed,0] * (np.dot(w, train_x[seed,:]))) * train_y[seed,0] * train_x[seed,:]\n",
    "        w += eta * err\n",
    "        cross_err = np.sum(np.log(1 + np.exp(-train_y[seed,0]*np.dot(w,train_x[seed,:]))))\n",
    "        return cross_err"
   ]
  },
  {
   "cell_type": "code",
   "execution_count": 143,
   "metadata": {
    "ExecuteTime": {
     "end_time": "2020-11-20T03:48:07.531393Z",
     "start_time": "2020-11-20T03:48:07.477684Z"
    }
   },
   "outputs": [
    {
     "name": "stdout",
     "output_type": "stream",
     "text": [
      "Q16:  0.6833944286881639\n"
     ]
    }
   ],
   "source": [
    "def problem16(train_x, train_y):\n",
    "    total_ce = 0\n",
    "    for i in range(1000):\n",
    "        cross_err = SGD_Q16(train_x, train_y)\n",
    "        total_ce += cross_err\n",
    "    print(\"Q16: \", total_ce/1000)\n",
    "problem16(train_x, train_y)"
   ]
  },
  {
   "cell_type": "markdown",
   "metadata": {},
   "source": [
    "## 17"
   ]
  },
  {
   "cell_type": "code",
   "execution_count": 127,
   "metadata": {
    "ExecuteTime": {
     "end_time": "2020-11-20T03:26:13.956997Z",
     "start_time": "2020-11-20T03:26:13.950847Z"
    }
   },
   "outputs": [],
   "source": [
    "def SGD_Q17(train_x, train_y):\n",
    "    eta = 0.001\n",
    "    pse_inv = np.linalg.pinv(train_x)\n",
    "    w = np.matrix(np.dot(pse_inv, train_y)).T\n",
    "    for i in range(500):\n",
    "        seed = np.random.randint(1000)\n",
    "        err = sigmoid(-train_y[seed,0] * (np.dot(w, train_x[seed,:]))) * train_y[seed,0] * train_x[seed,:]\n",
    "        w += eta * err\n",
    "        cross_err = np.sum(np.log(1 + np.exp(-train_y[seed,0]*np.dot(w,train_x[seed,:]))))\n",
    "        return cross_err"
   ]
  },
  {
   "cell_type": "code",
   "execution_count": 128,
   "metadata": {
    "ExecuteTime": {
     "end_time": "2020-11-20T03:26:14.779042Z",
     "start_time": "2020-11-20T03:26:14.368150Z"
    }
   },
   "outputs": [
    {
     "name": "stdout",
     "output_type": "stream",
     "text": [
      "Q17:  0.5400485466340048\n"
     ]
    }
   ],
   "source": [
    "def problem17(train_x, train_y):\n",
    "    total_ce = 0\n",
    "    for i in range(1000):\n",
    "        cross_err = SGD_Q17(train_x, train_y)\n",
    "        total_ce += cross_err\n",
    "    print(\"Q17: \", total_ce/1000)\n",
    "problem17(train_x, train_y)"
   ]
  },
  {
   "cell_type": "markdown",
   "metadata": {},
   "source": [
    "## 18"
   ]
  },
  {
   "cell_type": "code",
   "execution_count": 131,
   "metadata": {
    "ExecuteTime": {
     "end_time": "2020-11-20T03:27:28.641721Z",
     "start_time": "2020-11-20T03:27:28.634299Z"
    }
   },
   "outputs": [
    {
     "name": "stdout",
     "output_type": "stream",
     "text": [
      "Q18:  0.3226666666666666\n"
     ]
    }
   ],
   "source": [
    "def problem18(train_x, train_y, test_x, test_y):\n",
    "    pse_inv = np.linalg.pinv(train_x)\n",
    "    wlin = np.dot(pse_inv, train_y)\n",
    "    yhat_in = np.sign(np.dot(train_x, wlin))\n",
    "    ein = np.sum(train_y!=yhat_in)\n",
    "    ein /= 1000\n",
    "    yhat_out = np.sign(np.dot(test_x, wlin))\n",
    "    eout = np.sum(yhat_out != test_y)\n",
    "    eout /= 3000\n",
    "    print(\"Q18: \",abs(ein-eout))\n",
    "problem18(train_x, train_y, test_x, test_y)"
   ]
  },
  {
   "cell_type": "markdown",
   "metadata": {},
   "source": [
    "## 19"
   ]
  },
  {
   "cell_type": "code",
   "execution_count": 136,
   "metadata": {
    "ExecuteTime": {
     "end_time": "2020-11-20T03:34:29.226948Z",
     "start_time": "2020-11-20T03:34:29.157863Z"
    }
   },
   "outputs": [],
   "source": [
    "train_set = np.loadtxt(r'hw3_train.dat.txt')\n",
    "train_x = train_set[:,0:10]\n",
    "train_y = train_set[:,10].reshape(-1,1)\n",
    "x0 = np.ones((len(train_x),1))\n",
    "transform_trainX = np.concatenate((x0, train_x, train_x**2, train_x**3), axis = 1)\n",
    "test_set = np.loadtxt(r'hw3_test.dat.txt')\n",
    "test_x = test_set[:,0:10]\n",
    "test_y = test_set[:,10].reshape(-1,1)\n",
    "x0 = np.ones((len(test_x),1))\n",
    "transform_testX = np.concatenate((x0, test_x, test_x**2, test_x**3),axis=1)"
   ]
  },
  {
   "cell_type": "code",
   "execution_count": 137,
   "metadata": {
    "ExecuteTime": {
     "end_time": "2020-11-20T03:37:39.185752Z",
     "start_time": "2020-11-20T03:37:39.177448Z"
    }
   },
   "outputs": [
    {
     "name": "stdout",
     "output_type": "stream",
     "text": [
      "Q19:  0.37366666666666665\n"
     ]
    }
   ],
   "source": [
    "def problem19(transform_trainX, train_y, transform_testX, test_y):\n",
    "    wlin = np.dot(np.linalg.pinv(transform_trainX),train_y)\n",
    "    yhat = np.sign(np.dot(transform_trainX, wlin))\n",
    "    ein = np.sum(train_y != yhat)\n",
    "    ein /= len(transform_trainX)\n",
    "    yhat = np.sign(np.dot(transform_testX, wlin))\n",
    "    eout = np.sum((test_y != yhat))\n",
    "    eout /= len(transform_testX)\n",
    "    print(\"Q19: \", abs(ein-eout))\n",
    "problem19(transform_trainX, train_y, transform_testX, test_y)"
   ]
  },
  {
   "cell_type": "markdown",
   "metadata": {},
   "source": [
    "## 20"
   ]
  },
  {
   "cell_type": "code",
   "execution_count": 138,
   "metadata": {
    "ExecuteTime": {
     "end_time": "2020-11-20T03:39:17.217809Z",
     "start_time": "2020-11-20T03:39:17.144396Z"
    }
   },
   "outputs": [],
   "source": [
    "train_set = np.loadtxt(r'hw3_train.dat.txt')\n",
    "train_x = train_set[:,0:10]\n",
    "train_y = train_set[:,10].reshape(-1,1)\n",
    "x0 = np.ones((len(train_x),1))\n",
    "transform_trainX = np.concatenate((x0, train_x, train_x**2, train_x**3,train_x**4,train_x**5,train_x**6,train_x**7,train_x**8,train_x**9,train_x**10), axis = 1)\n",
    "test_set = np.loadtxt(r'hw3_test.dat.txt')\n",
    "test_x = test_set[:,0:10]\n",
    "test_y = test_set[:,10].reshape(-1,1)\n",
    "x0 = np.ones((len(test_x),1))\n",
    "transform_testX = np.concatenate((x0, test_x, test_x**2, test_x**3,test_x**4,test_x**5,test_x**6,test_x**7,test_x**8,test_x**9,test_x**10),axis=1)"
   ]
  },
  {
   "cell_type": "code",
   "execution_count": 139,
   "metadata": {
    "ExecuteTime": {
     "end_time": "2020-11-20T03:39:37.229183Z",
     "start_time": "2020-11-20T03:39:37.214552Z"
    }
   },
   "outputs": [
    {
     "name": "stdout",
     "output_type": "stream",
     "text": [
      "Q20:  0.44666666666666666\n"
     ]
    }
   ],
   "source": [
    "def problem20(transform_trainX, train_y, transform_testX, test_y):\n",
    "    wlin = np.dot(np.linalg.pinv(transform_trainX),train_y)\n",
    "    yhat = np.sign(np.dot(transform_trainX, wlin))\n",
    "    ein = np.sum(train_y != yhat)\n",
    "    ein /= len(transform_trainX)\n",
    "    yhat = np.sign(np.dot(transform_testX, wlin))\n",
    "    eout = np.sum((test_y != yhat))\n",
    "    eout /= len(transform_testX)\n",
    "    print(\"Q20: \", abs(ein-eout))\n",
    "problem20(transform_trainX, train_y, transform_testX, test_y)"
   ]
  },
  {
   "cell_type": "code",
   "execution_count": null,
   "metadata": {},
   "outputs": [],
   "source": []
  }
 ],
 "metadata": {
  "kernelspec": {
   "display_name": "Python 3",
   "language": "python",
   "name": "python3"
  },
  "language_info": {
   "codemirror_mode": {
    "name": "ipython",
    "version": 3
   },
   "file_extension": ".py",
   "mimetype": "text/x-python",
   "name": "python",
   "nbconvert_exporter": "python",
   "pygments_lexer": "ipython3",
   "version": "3.7.7"
  },
  "varInspector": {
   "cols": {
    "lenName": 16,
    "lenType": 16,
    "lenVar": 40
   },
   "kernels_config": {
    "python": {
     "delete_cmd_postfix": "",
     "delete_cmd_prefix": "del ",
     "library": "var_list.py",
     "varRefreshCmd": "print(var_dic_list())"
    },
    "r": {
     "delete_cmd_postfix": ") ",
     "delete_cmd_prefix": "rm(",
     "library": "var_list.r",
     "varRefreshCmd": "cat(var_dic_list()) "
    }
   },
   "types_to_exclude": [
    "module",
    "function",
    "builtin_function_or_method",
    "instance",
    "_Feature"
   ],
   "window_display": false
  }
 },
 "nbformat": 4,
 "nbformat_minor": 4
}
