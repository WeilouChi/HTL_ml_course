{
 "cells": [
  {
   "cell_type": "code",
   "execution_count": 63,
   "metadata": {
    "ExecuteTime": {
     "end_time": "2020-12-04T06:53:00.477935Z",
     "start_time": "2020-12-04T06:53:00.475181Z"
    }
   },
   "outputs": [],
   "source": [
    "import scipy\n",
    "import numpy as np\n",
    "from liblinearutil import *"
   ]
  },
  {
   "cell_type": "code",
   "execution_count": 2,
   "metadata": {
    "ExecuteTime": {
     "end_time": "2020-12-03T13:42:02.921685Z",
     "start_time": "2020-12-03T13:42:02.915680Z"
    }
   },
   "outputs": [],
   "source": [
    "def get_data(filename):\n",
    "    data_set = np.loadtxt(filename)\n",
    "    x = data_set[:,0:6]\n",
    "    y = data_set[:,6]\n",
    "    for i in range(6):\n",
    "        temp = x[:,i].reshape(-1,1)\n",
    "        data_dat= x[:,i:6] * temp\n",
    "        x = np.concatenate((x, data_dat),axis=1)\n",
    "    one = np.ones((len(x),1))\n",
    "    x = np.concatenate((one, x),axis=1)\n",
    "\n",
    "    return x, y"
   ]
  },
  {
   "cell_type": "code",
   "execution_count": 62,
   "metadata": {
    "ExecuteTime": {
     "end_time": "2020-12-04T06:52:25.724162Z",
     "start_time": "2020-12-04T06:52:25.570410Z"
    }
   },
   "outputs": [
    {
     "name": "stdout",
     "output_type": "stream",
     "text": [
      "Accuracy = 86.6667% (260/300) (classification)\n",
      "Accuracy = 87% (261/300) (classification)\n",
      "Accuracy = 80.6667% (242/300) (classification)\n",
      "Accuracy = 74.3333% (223/300) (classification)\n",
      "Accuracy = 51.6667% (155/300) (classification)\n"
     ]
    }
   ],
   "source": [
    "def problem16():\n",
    "    lda = [1/(2*(10**-4)), 1/(2*(10**-2)), 1/2, 1/(2*(10**2)), 1/(2*(10**4))]\n",
    "    train_x , train_y = get_data('hw4_train.dat.txt')\n",
    "    test_x, test_y = get_data('hw4_test.dat.txt')\n",
    "    for i in lda:\n",
    "        m = train(train_y, train_x, ('-s 0 -c %s -e 0.000001')%i)\n",
    "        labels, acc, vals = predict(test_y, test_x, m)\n",
    "\n",
    "\n",
    "problem16()"
   ]
  },
  {
   "cell_type": "code",
   "execution_count": 10,
   "metadata": {
    "ExecuteTime": {
     "end_time": "2020-12-03T13:48:58.606972Z",
     "start_time": "2020-12-03T13:48:58.504402Z"
    }
   },
   "outputs": [
    {
     "name": "stdout",
     "output_type": "stream",
     "text": [
      "Accuracy = 91% (182/200) (classification)\n",
      "Accuracy = 90% (180/200) (classification)\n",
      "Accuracy = 87% (174/200) (classification)\n",
      "Accuracy = 80.5% (161/200) (classification)\n",
      "Accuracy = 46.5% (93/200) (classification)\n"
     ]
    }
   ],
   "source": [
    "def problem17():\n",
    "    lda = [1/(2*(10**-4)), 1/(2*(10**-2)), 1/2, 1/(2*(10**2)), 1/(2*(10**4))]\n",
    "    train_x , train_y = get_data('hw4_train.dat.txt')\n",
    "    for i in lda:\n",
    "        m = train(train_y, train_x, ('-s 0 -c %s -e 0.000001')%i)\n",
    "        labels, acc, vals = predict(train_y, train_x, m)\n",
    "\n",
    "problem17()"
   ]
  },
  {
   "cell_type": "code",
   "execution_count": 15,
   "metadata": {
    "ExecuteTime": {
     "end_time": "2020-12-03T14:31:21.205593Z",
     "start_time": "2020-12-03T14:31:21.125691Z"
    }
   },
   "outputs": [
    {
     "name": "stdout",
     "output_type": "stream",
     "text": [
      "Accuracy = 80% (64/80) (classification)\n",
      "Accuracy = 86.25% (69/80) (classification)\n",
      "Accuracy = 76.25% (61/80) (classification)\n",
      "Accuracy = 73.75% (59/80) (classification)\n",
      "Accuracy = 42.5% (34/80) (classification)\n",
      "18:  0.13749999999999996\n",
      "Accuracy = 85.6667% (257/300) (classification)\n",
      "19:  0.1433333333333333\n"
     ]
    }
   ],
   "source": [
    "def problem1819():\n",
    "    lda = [1/(2*(10**-4)), 1/(2*(10**-2)), 1/2, 1/(2*(10**2)), 1/(2*(10**4))]\n",
    "    x, y = get_data('hw4_train.dat.txt')\n",
    "    test_x, test_y = get_data('hw4_test.dat.txt')\n",
    "    train_x = x[:120]\n",
    "    train_y = y[:120]\n",
    "    validation_x = x[120:]\n",
    "    validation_y = y[120:]\n",
    "    models = []\n",
    "    labels_arr = []\n",
    "    acc_arr = []\n",
    "    vals_arr = []\n",
    "    for i in lda:\n",
    "        m = train(train_y, train_x, ('-s 0 -c %s -e 0.000001')%i)\n",
    "        models.append(m)\n",
    "        labels, acc, vals = predict(validation_y, validation_x, m)\n",
    "        labels_arr.append(labels)\n",
    "        acc_arr.append(acc)\n",
    "        vals_arr.append(vals)\n",
    "    Eval = []\n",
    "    for i in range(5):\n",
    "        err = 0\n",
    "        for j in range(80):\n",
    "            if labels_arr[i][j] != validation_y[j]:\n",
    "                err += 1\n",
    "        Eval.append(err/80)\n",
    "    lda_index = Eval.index(min(Eval))\n",
    "    Eout = acc_arr[lda_index][0]\n",
    "    print(\"18: \",1 - Eout/100)\n",
    "    labels19, acc19, vals19 = predict(test_y, test_x, models[lda_index])\n",
    "    print(\"19: \", 1 - acc19[0]/100)\n",
    "    \n",
    "\n",
    "\n",
    "\n",
    "problem1819()"
   ]
  },
  {
   "cell_type": "code",
   "execution_count": 65,
   "metadata": {
    "ExecuteTime": {
     "end_time": "2020-12-10T09:22:33.996524Z",
     "start_time": "2020-12-10T09:22:33.755214Z"
    }
   },
   "outputs": [
    {
     "name": "stdout",
     "output_type": "stream",
     "text": [
      "Accuracy = 87.5% (35/40) (classification)\n",
      "Accuracy = 77.5% (31/40) (classification)\n",
      "Accuracy = 95% (38/40) (classification)\n",
      "Accuracy = 77.5% (31/40) (classification)\n",
      "Accuracy = 90% (36/40) (classification)\n",
      "Accuracy = 85% (34/40) (classification)\n",
      "Accuracy = 80% (32/40) (classification)\n",
      "Accuracy = 95% (38/40) (classification)\n",
      "Accuracy = 85% (34/40) (classification)\n",
      "Accuracy = 95% (38/40) (classification)\n",
      "Accuracy = 80% (32/40) (classification)\n",
      "Accuracy = 90% (36/40) (classification)\n",
      "Accuracy = 90% (36/40) (classification)\n",
      "Accuracy = 80% (32/40) (classification)\n",
      "Accuracy = 82.5% (33/40) (classification)\n",
      "Accuracy = 77.5% (31/40) (classification)\n",
      "Accuracy = 92.5% (37/40) (classification)\n",
      "Accuracy = 85% (34/40) (classification)\n",
      "Accuracy = 75% (30/40) (classification)\n",
      "Accuracy = 80% (32/40) (classification)\n",
      "Accuracy = 42.5% (17/40) (classification)\n",
      "Accuracy = 65% (26/40) (classification)\n",
      "Accuracy = 47.5% (19/40) (classification)\n",
      "Accuracy = 40% (16/40) (classification)\n",
      "Accuracy = 45% (18/40) (classification)\n"
     ]
    },
    {
     "data": {
      "text/plain": [
       "0.12"
      ]
     },
     "execution_count": 65,
     "metadata": {},
     "output_type": "execute_result"
    }
   ],
   "source": [
    "def problem20():\n",
    "    lda = [1/(2*(10**-4)), 1/(2*(10**-2)), 1/2, 1/(2*(10**2)), 1/(2*(10**4))]\n",
    "    x, y = get_data('hw4_train.dat.txt')\n",
    "    res = []\n",
    "    for i in lda:\n",
    "        err_arr = []\n",
    "        for tem in range(5):\n",
    "            labels_arr = []\n",
    "            test_x = x[tem*40:(tem+1)*40]\n",
    "            train_l = x[:tem*40]\n",
    "            train_r = x[(tem+1)*40:]\n",
    "            train_x = np.concatenate((train_l, train_r), axis=0)\n",
    "            test_y = y[tem*40:(tem+1)*40]\n",
    "            test_l = y[:tem*40]\n",
    "            test_r = y[(tem+1)*40:]\n",
    "            train_y = np.concatenate((test_l, test_r), axis=0)\n",
    "            m = train(train_y, train_x, ('-s 0 -c %s -e 0.000001')%i)\n",
    "            labels, acc, vals = predict(test_y, test_x, m)\n",
    "            err = np.sum(labels != test_y)\n",
    "            err /= len(test_y)\n",
    "            err_arr.append(err)\n",
    "        sum_arr=(np.array(err_arr).sum())/len(err_arr)\n",
    "        res.append(sum_arr)\n",
    "    return min(res)\n",
    "problem20()"
   ]
  },
  {
   "cell_type": "code",
   "execution_count": 79,
   "metadata": {
    "ExecuteTime": {
     "end_time": "2020-12-10T09:42:32.953283Z",
     "start_time": "2020-12-10T09:42:32.939522Z"
    }
   },
   "outputs": [
    {
     "ename": "TypeError",
     "evalue": "'dict' object is not callable",
     "output_type": "error",
     "traceback": [
      "\u001b[0;31m---------------------------------------------------------------------------\u001b[0m",
      "\u001b[0;31mTypeError\u001b[0m                                 Traceback (most recent call last)",
      "\u001b[0;32m<ipython-input-79-8eaf938557e8>\u001b[0m in \u001b[0;36m<module>\u001b[0;34m\u001b[0m\n\u001b[1;32m      1\u001b[0m \u001b[0mnames\u001b[0m \u001b[0;34m=\u001b[0m \u001b[0mlocals\u001b[0m\u001b[0;34m(\u001b[0m\u001b[0;34m)\u001b[0m\u001b[0;34m\u001b[0m\u001b[0;34m\u001b[0m\u001b[0m\n\u001b[0;32m----> 2\u001b[0;31m \u001b[0mprint\u001b[0m \u001b[0;34m(\u001b[0m\u001b[0mnames\u001b[0m\u001b[0;34m(\u001b[0m\u001b[0;36m1\u001b[0m\u001b[0;34m)\u001b[0m\u001b[0;34m)\u001b[0m\u001b[0;34m\u001b[0m\u001b[0;34m\u001b[0m\u001b[0m\n\u001b[0m\u001b[1;32m      3\u001b[0m \u001b[0;32mfor\u001b[0m \u001b[0mi\u001b[0m \u001b[0;32min\u001b[0m \u001b[0mrange\u001b[0m\u001b[0;34m(\u001b[0m\u001b[0;36m1\u001b[0m\u001b[0;34m,\u001b[0m\u001b[0;36m4\u001b[0m\u001b[0;34m)\u001b[0m\u001b[0;34m:\u001b[0m\u001b[0;34m\u001b[0m\u001b[0;34m\u001b[0m\u001b[0m\n\u001b[1;32m      4\u001b[0m     \u001b[0mnames\u001b[0m\u001b[0;34m[\u001b[0m\u001b[0;34m'y%s'\u001b[0m \u001b[0;34m%\u001b[0m\u001b[0mi\u001b[0m\u001b[0;34m]\u001b[0m \u001b[0;34m=\u001b[0m \u001b[0mi\u001b[0m\u001b[0;34m\u001b[0m\u001b[0;34m\u001b[0m\u001b[0m\n\u001b[1;32m      5\u001b[0m \u001b[0;34m\u001b[0m\u001b[0m\n",
      "\u001b[0;31mTypeError\u001b[0m: 'dict' object is not callable"
     ]
    }
   ],
   "source": [
    "names = locals()\n",
    "for i in range(1,4):\n",
    "    names['y%s' %i] = i\n",
    "\n",
    "y1= 1\n",
    "y2 =2\n",
    "y3= 3\n",
    "print(y1)\n",
    "print(y2)\n",
    "print(y3)\n"
   ]
  },
  {
   "cell_type": "code",
   "execution_count": null,
   "metadata": {},
   "outputs": [],
   "source": []
  }
 ],
 "metadata": {
  "kernelspec": {
   "display_name": "Python 3",
   "language": "python",
   "name": "python3"
  },
  "language_info": {
   "codemirror_mode": {
    "name": "ipython",
    "version": 3
   },
   "file_extension": ".py",
   "mimetype": "text/x-python",
   "name": "python",
   "nbconvert_exporter": "python",
   "pygments_lexer": "ipython3",
   "version": "3.7.7"
  },
  "varInspector": {
   "cols": {
    "lenName": 16,
    "lenType": 16,
    "lenVar": 40
   },
   "kernels_config": {
    "python": {
     "delete_cmd_postfix": "",
     "delete_cmd_prefix": "del ",
     "library": "var_list.py",
     "varRefreshCmd": "print(var_dic_list())"
    },
    "r": {
     "delete_cmd_postfix": ") ",
     "delete_cmd_prefix": "rm(",
     "library": "var_list.r",
     "varRefreshCmd": "cat(var_dic_list()) "
    }
   },
   "types_to_exclude": [
    "module",
    "function",
    "builtin_function_or_method",
    "instance",
    "_Feature"
   ],
   "window_display": false
  }
 },
 "nbformat": 4,
 "nbformat_minor": 4
}
