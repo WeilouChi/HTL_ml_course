{
 "cells": [
  {
   "cell_type": "code",
   "execution_count": 67,
   "metadata": {
    "ExecuteTime": {
     "end_time": "2020-12-23T09:22:52.616676Z",
     "start_time": "2020-12-23T09:22:52.612487Z"
    }
   },
   "outputs": [],
   "source": [
    "import numpy as np\n",
    "import pandas as pd\n",
    "import scipy\n",
    "from svmutil import *"
   ]
  },
  {
   "cell_type": "code",
   "execution_count": 91,
   "metadata": {
    "ExecuteTime": {
     "end_time": "2020-12-24T05:51:50.245907Z",
     "start_time": "2020-12-24T05:51:49.555982Z"
    }
   },
   "outputs": [
    {
     "name": "stdout",
     "output_type": "stream",
     "text": [
      "Accuracy = 95.8061% (4249/4435) (classification)\n",
      "8.459972213043251\n"
     ]
    }
   ],
   "source": [
    "def Q15():\n",
    "    y, x = svm_read_problem('train.txt',return_scipy=True)\n",
    "    y = np.where(y!=3,0,y)\n",
    "    m = svm_train(y,x,'-t 0 -c 10')\n",
    "    p_label, p_acc, p_val = svm_predict(y, x, m)\n",
    "    SVC =pd.DataFrame(m.get_sv_coef())\n",
    "    SV = pd.DataFrame(m.get_SV()).fillna(0)\n",
    "    tem = SVC.values*SV.values\n",
    "    w = sum(tem)\n",
    "    w =np.sqrt(np.sum(np.square(w)))\n",
    "    return w\n",
    "print(Q15())"
   ]
  },
  {
   "cell_type": "code",
   "execution_count": null,
   "metadata": {},
   "outputs": [],
   "source": [
    "y, x = svm_read_problem('train.txt',return_scipy=True)\n",
    "y = np.where(y!=1,0,y)\n",
    "m = svm_train(y,x,'-t 1 -c 10')\n",
    "p_label, p_acc, p_val = svm_predict(y, x, m)"
   ]
  }
 ],
 "metadata": {
  "kernelspec": {
   "display_name": "Python 3",
   "language": "python",
   "name": "python3"
  },
  "language_info": {
   "codemirror_mode": {
    "name": "ipython",
    "version": 3
   },
   "file_extension": ".py",
   "mimetype": "text/x-python",
   "name": "python",
   "nbconvert_exporter": "python",
   "pygments_lexer": "ipython3",
   "version": "3.7.7"
  },
  "varInspector": {
   "cols": {
    "lenName": 16,
    "lenType": 16,
    "lenVar": 40
   },
   "kernels_config": {
    "python": {
     "delete_cmd_postfix": "",
     "delete_cmd_prefix": "del ",
     "library": "var_list.py",
     "varRefreshCmd": "print(var_dic_list())"
    },
    "r": {
     "delete_cmd_postfix": ") ",
     "delete_cmd_prefix": "rm(",
     "library": "var_list.r",
     "varRefreshCmd": "cat(var_dic_list()) "
    }
   },
   "types_to_exclude": [
    "module",
    "function",
    "builtin_function_or_method",
    "instance",
    "_Feature"
   ],
   "window_display": false
  }
 },
 "nbformat": 4,
 "nbformat_minor": 4
}
