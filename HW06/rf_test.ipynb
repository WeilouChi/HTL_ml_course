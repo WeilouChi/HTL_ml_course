{
 "cells": [
  {
   "cell_type": "code",
   "execution_count": 2,
   "metadata": {
    "ExecuteTime": {
     "end_time": "2021-01-16T12:10:11.385702Z",
     "start_time": "2021-01-16T12:10:11.383426Z"
    }
   },
   "outputs": [],
   "source": [
    "from RandomForest import RandomForest\n",
    "import numpy as np"
   ]
  },
  {
   "cell_type": "code",
   "execution_count": 3,
   "metadata": {
    "ExecuteTime": {
     "end_time": "2021-01-16T12:10:48.732642Z",
     "start_time": "2021-01-16T12:10:48.700084Z"
    }
   },
   "outputs": [],
   "source": [
    "train_df = np.loadtxt('train.txt')\n",
    "test_df = np.loadtxt('test.txt')"
   ]
  },
  {
   "cell_type": "code",
   "execution_count": 4,
   "metadata": {
    "ExecuteTime": {
     "end_time": "2021-01-16T12:12:14.714101Z",
     "start_time": "2021-01-16T12:12:14.710879Z"
    }
   },
   "outputs": [],
   "source": [
    "train_x , train_y = train_df[:,0:-1] , train_df[:,-1]\n",
    "test_x , test_y = test_df[:,0:-1], test_df[:,-1]"
   ]
  },
  {
   "cell_type": "code",
   "execution_count": 5,
   "metadata": {
    "ExecuteTime": {
     "end_time": "2021-01-16T12:12:17.610738Z",
     "start_time": "2021-01-16T12:12:17.600890Z"
    }
   },
   "outputs": [
    {
     "data": {
      "text/plain": [
       "array([[ 3.95632268,  1.80130232, -0.560404  , ..., -0.38815328,\n",
       "         1.15647158, -0.02457943],\n",
       "       [ 1.32397219, -2.40197608,  2.00437315, ...,  0.01477078,\n",
       "        -0.66552085, -0.2635734 ],\n",
       "       [ 1.41287312,  2.51772309,  1.81555809, ..., -0.85820906,\n",
       "        -0.13231329, -0.41357255],\n",
       "       ...,\n",
       "       [-3.54241785,  1.90927013,  0.03063317, ..., -0.57206303,\n",
       "        -0.69957505,  0.19560916],\n",
       "       [ 1.46852162, -2.35922982, -0.2427209 , ...,  1.04874491,\n",
       "        -0.57478285,  0.23606362],\n",
       "       [ 3.45467048, -1.04328297,  1.87407764, ...,  0.02854306,\n",
       "        -0.51747156,  1.1260002 ]])"
      ]
     },
     "execution_count": 5,
     "metadata": {},
     "output_type": "execute_result"
    }
   ],
   "source": [
    "train_x"
   ]
  },
  {
   "cell_type": "code",
   "execution_count": 8,
   "metadata": {
    "ExecuteTime": {
     "end_time": "2021-01-16T12:12:50.210628Z",
     "start_time": "2021-01-16T12:12:50.208222Z"
    }
   },
   "outputs": [],
   "source": [
    "rf = RandomForest()"
   ]
  },
  {
   "cell_type": "code",
   "execution_count": 10,
   "metadata": {
    "ExecuteTime": {
     "end_time": "2021-01-16T12:19:28.495709Z",
     "start_time": "2021-01-16T12:18:18.717959Z"
    }
   },
   "outputs": [],
   "source": [
    "rf.fit(train_x, train_y)\n",
    "pred = rf.predict(test_x)"
   ]
  },
  {
   "cell_type": "code",
   "execution_count": null,
   "metadata": {},
   "outputs": [],
   "source": []
  }
 ],
 "metadata": {
  "kernelspec": {
   "display_name": "Python 3",
   "language": "python",
   "name": "python3"
  },
  "language_info": {
   "codemirror_mode": {
    "name": "ipython",
    "version": 3
   },
   "file_extension": ".py",
   "mimetype": "text/x-python",
   "name": "python",
   "nbconvert_exporter": "python",
   "pygments_lexer": "ipython3",
   "version": "3.7.7"
  },
  "varInspector": {
   "cols": {
    "lenName": 16,
    "lenType": 16,
    "lenVar": 40
   },
   "kernels_config": {
    "python": {
     "delete_cmd_postfix": "",
     "delete_cmd_prefix": "del ",
     "library": "var_list.py",
     "varRefreshCmd": "print(var_dic_list())"
    },
    "r": {
     "delete_cmd_postfix": ") ",
     "delete_cmd_prefix": "rm(",
     "library": "var_list.r",
     "varRefreshCmd": "cat(var_dic_list()) "
    }
   },
   "types_to_exclude": [
    "module",
    "function",
    "builtin_function_or_method",
    "instance",
    "_Feature"
   ],
   "window_display": false
  }
 },
 "nbformat": 4,
 "nbformat_minor": 4
}
