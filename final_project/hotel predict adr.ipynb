{
 "cells": [
  {
   "cell_type": "code",
   "execution_count": 14,
   "metadata": {
    "ExecuteTime": {
     "end_time": "2021-01-08T08:11:48.188015Z",
     "start_time": "2021-01-08T08:11:48.180748Z"
    }
   },
   "outputs": [],
   "source": [
    "import pandas as pd\n",
    "import numpy as np \n",
    "import matplotlib.pyplot as plt\n",
    "from kmodes.kprototypes import KPrototypes\n",
    "from sklearn.model_selection import train_test_split, GridSearchCV, cross_val_score, StratifiedKFold\n",
    "from sklearn.linear_model import LogisticRegression\n",
    "from sklearn.preprocessing import MinMaxScaler\n",
    "import tensorflow as tf\n",
    "from sklearn.svm import SVR\n",
    "from sklearn.linear_model import LinearRegression\n",
    "from sklearn.preprocessing import StandardScaler\n",
    "from sklearn.preprocessing import MinMaxScaler\n",
    "RANDOM_STATE = 42"
   ]
  },
  {
   "cell_type": "code",
   "execution_count": 2,
   "metadata": {
    "ExecuteTime": {
     "end_time": "2021-01-08T08:05:40.635571Z",
     "start_time": "2021-01-08T08:05:40.633472Z"
    }
   },
   "outputs": [],
   "source": [
    "pd.set_option('display.max_columns', None)\n"
   ]
  },
  {
   "cell_type": "code",
   "execution_count": 84,
   "metadata": {
    "ExecuteTime": {
     "end_time": "2021-01-08T08:55:06.122468Z",
     "start_time": "2021-01-08T08:55:05.701822Z"
    }
   },
   "outputs": [],
   "source": [
    "df = pd.read_csv('train.csv')\n",
    "df = df.drop(columns=['ID','arrival_date_year','arrival_date_month','reservation_status', 'agent', 'company', 'reservation_status_date'])\n",
    "df.dropna(subset=['children'], inplace=True)\n",
    "df['country']=df['country'].fillna(df['country'].value_counts().index[0])\n",
    "df['children'] = df['children'].astype(int)   \n",
    "df['hotel'] = np.where(df['hotel']=='City Hotel',1,0)\n",
    "df['status_minus_arrival_date'] = df['stays_in_week_nights'] + df['stays_in_weekend_nights']\n",
    "#df = pd.get_dummies(df, columns=[ 'meal', 'market_segment', 'distribution_channel', 'reserved_room_type', 'assigned_room_type', 'deposit_type', 'customer_type','country'])\n",
    "df.sample()\n",
    "df.country = df.country.astype(\"category\").cat.codes\n",
    "df.meal = df.meal.astype(\"category\").cat.codes\n",
    "df.market_segment = df.market_segment.astype(\"category\").cat.codes\n",
    "df.distribution_channel = df.distribution_channel.astype(\"category\").cat.codes\n",
    "df.reserved_room_type = df.reserved_room_type.astype(\"category\").cat.codes\n",
    "df.assigned_room_type = df.assigned_room_type.astype(\"category\").cat.codes\n",
    "df.deposit_type = df.deposit_type.astype(\"category\").cat.codes\n",
    "df.customer_type = df.customer_type.astype(\"category\").cat.codes\n",
    "x = df.drop(columns=['adr'])\n",
    "y = df['adr']\n",
    "x_train, x_val, y_train, y_val = train_test_split(x, y, random_state=42)"
   ]
  },
  {
   "cell_type": "code",
   "execution_count": null,
   "metadata": {},
   "outputs": [],
   "source": []
  },
  {
   "cell_type": "code",
   "execution_count": 149,
   "metadata": {
    "ExecuteTime": {
     "end_time": "2021-01-08T07:17:25.637652Z",
     "start_time": "2021-01-08T07:17:25.632251Z"
    }
   },
   "outputs": [
    {
     "data": {
      "text/plain": [
       "26"
      ]
     },
     "execution_count": 149,
     "metadata": {},
     "output_type": "execute_result"
    }
   ],
   "source": [
    "len(x_train.columns)"
   ]
  },
  {
   "cell_type": "code",
   "execution_count": 103,
   "metadata": {
    "ExecuteTime": {
     "end_time": "2021-01-08T06:35:38.803274Z",
     "start_time": "2021-01-08T06:35:38.799109Z"
    }
   },
   "outputs": [
    {
     "data": {
      "text/plain": [
       "array([150.71280566, 154.01320003, 106.18976719, ...,  33.14526144,\n",
       "       117.8646134 ,  67.83535718])"
      ]
     },
     "execution_count": 103,
     "metadata": {},
     "output_type": "execute_result"
    }
   ],
   "source": [
    "y_train.values"
   ]
  },
  {
   "cell_type": "code",
   "execution_count": 104,
   "metadata": {
    "ExecuteTime": {
     "end_time": "2021-01-08T06:35:44.613201Z",
     "start_time": "2021-01-08T06:35:44.539615Z"
    }
   },
   "outputs": [
    {
     "name": "stdout",
     "output_type": "stream",
     "text": [
      "StandardScaler()\n",
      "StandardScaler()\n",
      "StandardScaler()\n",
      "StandardScaler()\n"
     ]
    }
   ],
   "source": [
    "scaler_x = StandardScaler()\n",
    "scaler_y = StandardScaler()\n",
    "y_train = np.reshape(y_train.values,(-1,1))\n",
    "y_val = np.reshape(y_val.values,(-1,1))\n",
    "print(scaler_x.fit(x_train))\n",
    "xtrain_scaler = scaler_x.transform(x_train)\n",
    "print(scaler_x.fit(x_val))\n",
    "xval_scaler = scaler_x.transform(x_val)\n",
    "print(scaler_y.fit(y_train))\n",
    "ytrain_scaler = scaler_y.transform(y_train)\n",
    "print(scaler_y.fit(y_val))\n",
    "yval_scaler = scaler_y.transform(y_val)"
   ]
  },
  {
   "cell_type": "code",
   "execution_count": 105,
   "metadata": {
    "ExecuteTime": {
     "end_time": "2021-01-08T06:35:47.033549Z",
     "start_time": "2021-01-08T06:35:47.030023Z"
    }
   },
   "outputs": [
    {
     "data": {
      "text/plain": [
       "array([[ 1.26421433],\n",
       "       [ 1.32734665],\n",
       "       [ 0.41254559],\n",
       "       ...,\n",
       "       [-0.98470233],\n",
       "       [ 0.63587045],\n",
       "       [-0.32112519]])"
      ]
     },
     "execution_count": 105,
     "metadata": {},
     "output_type": "execute_result"
    }
   ],
   "source": [
    "ytrain_scaler"
   ]
  },
  {
   "cell_type": "code",
   "execution_count": 106,
   "metadata": {
    "ExecuteTime": {
     "end_time": "2021-01-08T06:35:52.981457Z",
     "start_time": "2021-01-08T06:35:52.977945Z"
    }
   },
   "outputs": [
    {
     "data": {
      "text/plain": [
       "array([[ 0.32596121],\n",
       "       [-1.02380669],\n",
       "       [-0.63852652],\n",
       "       ...,\n",
       "       [-1.62179615],\n",
       "       [ 1.20632801],\n",
       "       [-0.21012744]])"
      ]
     },
     "execution_count": 106,
     "metadata": {},
     "output_type": "execute_result"
    }
   ],
   "source": [
    "yval_scaler"
   ]
  },
  {
   "cell_type": "code",
   "execution_count": 107,
   "metadata": {
    "ExecuteTime": {
     "end_time": "2021-01-08T06:35:58.010939Z",
     "start_time": "2021-01-08T06:35:58.006693Z"
    }
   },
   "outputs": [
    {
     "data": {
      "text/plain": [
       "array([[ 0.7202746 , -0.2602869 ,  0.65294929, ..., -0.2629512 ,\n",
       "        -0.68772096, -0.52149141],\n",
       "       [-1.38835939, -0.8201925 ,  0.12071035, ...,  3.76523119,\n",
       "        -0.68772096,  0.64266397],\n",
       "       [ 0.7202746 , -0.45008541, -1.74212595, ..., -0.2629512 ,\n",
       "        -0.68772096, -0.13343962],\n",
       "       ...,\n",
       "       [-1.38835939, -0.88662198,  1.51783758, ..., -0.2629512 ,\n",
       "         0.61678056, -0.90954321],\n",
       "       [-1.38835939, -0.62090407,  0.05418048, ..., -0.2629512 ,\n",
       "        -0.68772096,  1.41876756],\n",
       "       [-1.38835939, -0.82968243,  0.98559863, ..., -0.2629512 ,\n",
       "        -0.68772096, -0.13343962]])"
      ]
     },
     "execution_count": 107,
     "metadata": {},
     "output_type": "execute_result"
    }
   ],
   "source": [
    "xtrain_scaler"
   ]
  },
  {
   "cell_type": "code",
   "execution_count": 108,
   "metadata": {
    "ExecuteTime": {
     "end_time": "2021-01-08T06:36:00.470147Z",
     "start_time": "2021-01-08T06:36:00.466261Z"
    }
   },
   "outputs": [
    {
     "data": {
      "text/plain": [
       "array([[ 0.72496094, -0.14079114, -1.14843643, ..., -0.25575182,\n",
       "         0.61180264, -0.13454166],\n",
       "       [ 0.72496094,  1.96910407,  0.38932802, ..., -0.25575182,\n",
       "         0.61180264,  0.61423185],\n",
       "       [ 0.72496094, -0.60440041,  1.65965518, ..., -0.25575182,\n",
       "         0.61180264,  0.98861861],\n",
       "       ...,\n",
       "       [ 0.72496094, -0.89770422, -0.74728049, ..., -0.25575182,\n",
       "         1.91819195, -0.88331518],\n",
       "       [ 0.72496094, -0.6706303 , -0.41298387, ..., -0.25575182,\n",
       "         1.91819195, -0.13454166],\n",
       "       [ 0.72496094, -0.73686019, -1.41587373, ..., -0.25575182,\n",
       "        -0.69458668,  0.2398451 ]])"
      ]
     },
     "execution_count": 108,
     "metadata": {},
     "output_type": "execute_result"
    }
   ],
   "source": [
    "xval_scaler"
   ]
  },
  {
   "cell_type": "code",
   "execution_count": 109,
   "metadata": {
    "ExecuteTime": {
     "end_time": "2021-01-08T06:36:04.085678Z",
     "start_time": "2021-01-08T06:36:04.082456Z"
    }
   },
   "outputs": [
    {
     "data": {
      "text/plain": [
       "(68645, 25)"
      ]
     },
     "execution_count": 109,
     "metadata": {},
     "output_type": "execute_result"
    }
   ],
   "source": [
    "xtrain_scaler.shape"
   ]
  },
  {
   "cell_type": "code",
   "execution_count": 137,
   "metadata": {
    "ExecuteTime": {
     "end_time": "2021-01-08T07:01:38.144545Z",
     "start_time": "2021-01-08T07:01:38.106109Z"
    }
   },
   "outputs": [
    {
     "name": "stdout",
     "output_type": "stream",
     "text": [
      "Model: \"sequential_8\"\n",
      "_________________________________________________________________\n",
      "Layer (type)                 Output Shape              Param #   \n",
      "=================================================================\n",
      "dense_19 (Dense)             (None, 689)               17914     \n",
      "_________________________________________________________________\n",
      "dense_20 (Dense)             (None, 689)               475410    \n",
      "_________________________________________________________________\n",
      "dense_21 (Dense)             (None, 1)                 690       \n",
      "=================================================================\n",
      "Total params: 494,014\n",
      "Trainable params: 494,014\n",
      "Non-trainable params: 0\n",
      "_________________________________________________________________\n"
     ]
    }
   ],
   "source": [
    "model = tf.keras.models.Sequential() \n",
    "model.add(tf.keras.layers.Dense(689,input_shape=(25,),activation='relu'))\n",
    "#model.add(tf.keras.layers.Dropout(0.8))\n",
    "model.add(tf.keras.layers.Dense(689,activation='relu'))\n",
    "#model.add(tf.keras.layers.Dropout(0.8))\n",
    "model.add(tf.keras.layers.Dense(1,activation='linear'))\n",
    "model.summary()"
   ]
  },
  {
   "cell_type": "code",
   "execution_count": 138,
   "metadata": {
    "ExecuteTime": {
     "end_time": "2021-01-08T07:02:11.245452Z",
     "start_time": "2021-01-08T07:02:11.231264Z"
    }
   },
   "outputs": [],
   "source": [
    "model.compile(loss='categorical_crossentropy',optimizer='adam',metrics=['accuracy'])\n"
   ]
  },
  {
   "cell_type": "code",
   "execution_count": 139,
   "metadata": {
    "ExecuteTime": {
     "end_time": "2021-01-08T07:03:11.018415Z",
     "start_time": "2021-01-08T07:02:20.719981Z"
    }
   },
   "outputs": [
    {
     "name": "stdout",
     "output_type": "stream",
     "text": [
      "Epoch 1/30\n",
      "367/367 [==============================] - 2s 4ms/step - loss: 0.0000e+00 - accuracy: 0.0000e+00 - val_loss: 0.0000e+00 - val_accuracy: 0.0000e+00\n",
      "Epoch 2/30\n",
      "367/367 [==============================] - 1s 4ms/step - loss: 0.0000e+00 - accuracy: 0.0000e+00 - val_loss: 0.0000e+00 - val_accuracy: 0.0000e+00\n",
      "Epoch 3/30\n",
      "367/367 [==============================] - 1s 4ms/step - loss: 0.0000e+00 - accuracy: 0.0000e+00 - val_loss: 0.0000e+00 - val_accuracy: 0.0000e+00\n",
      "Epoch 4/30\n",
      "367/367 [==============================] - 2s 4ms/step - loss: 0.0000e+00 - accuracy: 0.0000e+00 - val_loss: 0.0000e+00 - val_accuracy: 0.0000e+00\n",
      "Epoch 5/30\n",
      "367/367 [==============================] - 2s 4ms/step - loss: 0.0000e+00 - accuracy: 0.0000e+00 - val_loss: 0.0000e+00 - val_accuracy: 0.0000e+00\n",
      "Epoch 6/30\n",
      "367/367 [==============================] - 2s 4ms/step - loss: 0.0000e+00 - accuracy: 0.0000e+00 - val_loss: 0.0000e+00 - val_accuracy: 0.0000e+00\n",
      "Epoch 7/30\n",
      "367/367 [==============================] - 2s 4ms/step - loss: 0.0000e+00 - accuracy: 0.0000e+00 - val_loss: 0.0000e+00 - val_accuracy: 0.0000e+00\n",
      "Epoch 8/30\n",
      "367/367 [==============================] - 2s 5ms/step - loss: 0.0000e+00 - accuracy: 0.0000e+00 - val_loss: 0.0000e+00 - val_accuracy: 0.0000e+00\n",
      "Epoch 9/30\n",
      "367/367 [==============================] - 2s 4ms/step - loss: 0.0000e+00 - accuracy: 0.0000e+00 - val_loss: 0.0000e+00 - val_accuracy: 0.0000e+00\n",
      "Epoch 10/30\n",
      "367/367 [==============================] - 2s 5ms/step - loss: 0.0000e+00 - accuracy: 0.0000e+00 - val_loss: 0.0000e+00 - val_accuracy: 0.0000e+00\n",
      "Epoch 11/30\n",
      "367/367 [==============================] - 2s 4ms/step - loss: 0.0000e+00 - accuracy: 0.0000e+00 - val_loss: 0.0000e+00 - val_accuracy: 0.0000e+00\n",
      "Epoch 12/30\n",
      "367/367 [==============================] - 2s 5ms/step - loss: 0.0000e+00 - accuracy: 0.0000e+00 - val_loss: 0.0000e+00 - val_accuracy: 0.0000e+00\n",
      "Epoch 13/30\n",
      "367/367 [==============================] - 2s 5ms/step - loss: 0.0000e+00 - accuracy: 0.0000e+00 - val_loss: 0.0000e+00 - val_accuracy: 0.0000e+00\n",
      "Epoch 14/30\n",
      "367/367 [==============================] - 2s 4ms/step - loss: 0.0000e+00 - accuracy: 0.0000e+00 - val_loss: 0.0000e+00 - val_accuracy: 0.0000e+00\n",
      "Epoch 15/30\n",
      "367/367 [==============================] - 2s 4ms/step - loss: 0.0000e+00 - accuracy: 0.0000e+00 - val_loss: 0.0000e+00 - val_accuracy: 0.0000e+00\n",
      "Epoch 16/30\n",
      "367/367 [==============================] - 2s 4ms/step - loss: 0.0000e+00 - accuracy: 0.0000e+00 - val_loss: 0.0000e+00 - val_accuracy: 0.0000e+00\n",
      "Epoch 17/30\n",
      "367/367 [==============================] - 2s 5ms/step - loss: 0.0000e+00 - accuracy: 0.0000e+00 - val_loss: 0.0000e+00 - val_accuracy: 0.0000e+00\n",
      "Epoch 18/30\n",
      "367/367 [==============================] - 2s 5ms/step - loss: 0.0000e+00 - accuracy: 0.0000e+00 - val_loss: 0.0000e+00 - val_accuracy: 0.0000e+00\n",
      "Epoch 19/30\n",
      "367/367 [==============================] - 2s 4ms/step - loss: 0.0000e+00 - accuracy: 0.0000e+00 - val_loss: 0.0000e+00 - val_accuracy: 0.0000e+00\n",
      "Epoch 20/30\n",
      "367/367 [==============================] - 2s 4ms/step - loss: 0.0000e+00 - accuracy: 0.0000e+00 - val_loss: 0.0000e+00 - val_accuracy: 0.0000e+00\n",
      "Epoch 21/30\n",
      "367/367 [==============================] - 2s 4ms/step - loss: 0.0000e+00 - accuracy: 0.0000e+00 - val_loss: 0.0000e+00 - val_accuracy: 0.0000e+00\n",
      "Epoch 22/30\n",
      "367/367 [==============================] - 2s 4ms/step - loss: 0.0000e+00 - accuracy: 0.0000e+00 - val_loss: 0.0000e+00 - val_accuracy: 0.0000e+00\n",
      "Epoch 23/30\n",
      "367/367 [==============================] - 2s 5ms/step - loss: 0.0000e+00 - accuracy: 0.0000e+00 - val_loss: 0.0000e+00 - val_accuracy: 0.0000e+00\n",
      "Epoch 24/30\n",
      "367/367 [==============================] - 2s 5ms/step - loss: 0.0000e+00 - accuracy: 0.0000e+00 - val_loss: 0.0000e+00 - val_accuracy: 0.0000e+00\n",
      "Epoch 25/30\n",
      "367/367 [==============================] - 2s 5ms/step - loss: 0.0000e+00 - accuracy: 0.0000e+00 - val_loss: 0.0000e+00 - val_accuracy: 0.0000e+00\n",
      "Epoch 26/30\n",
      "367/367 [==============================] - 2s 4ms/step - loss: 0.0000e+00 - accuracy: 0.0000e+00 - val_loss: 0.0000e+00 - val_accuracy: 0.0000e+00\n",
      "Epoch 27/30\n",
      "367/367 [==============================] - 2s 4ms/step - loss: 0.0000e+00 - accuracy: 0.0000e+00 - val_loss: 0.0000e+00 - val_accuracy: 0.0000e+00\n",
      "Epoch 28/30\n",
      "367/367 [==============================] - 2s 4ms/step - loss: 0.0000e+00 - accuracy: 0.0000e+00 - val_loss: 0.0000e+00 - val_accuracy: 0.0000e+00\n",
      "Epoch 29/30\n",
      "367/367 [==============================] - 2s 4ms/step - loss: 0.0000e+00 - accuracy: 0.0000e+00 - val_loss: 0.0000e+00 - val_accuracy: 0.0000e+00\n",
      "Epoch 30/30\n",
      "367/367 [==============================] - 2s 5ms/step - loss: 0.0000e+00 - accuracy: 0.0000e+00 - val_loss: 0.0000e+00 - val_accuracy: 0.0000e+00\n"
     ]
    }
   ],
   "source": [
    "history = model.fit(xtrain_scaler,ytrain_scaler,epochs=30,batch_size=150,verbose=1,\n",
    "                    validation_split=0.2)\n",
    "predictions = model.predict(xval_scaler)\n"
   ]
  },
  {
   "cell_type": "code",
   "execution_count": 140,
   "metadata": {
    "ExecuteTime": {
     "end_time": "2021-01-08T07:03:13.570971Z",
     "start_time": "2021-01-08T07:03:13.410736Z"
    }
   },
   "outputs": [
    {
     "name": "stdout",
     "output_type": "stream",
     "text": [
      "dict_keys(['loss', 'accuracy', 'val_loss', 'val_accuracy'])\n"
     ]
    },
    {
     "data": {
      "image/png": "[encoded data removed]",
      "text/plain": [
       "<Figure size 432x288 with 1 Axes>"
      ]
     },
     "metadata": {
      "needs_background": "light"
     },
     "output_type": "display_data"
    }
   ],
   "source": [
    "print(history.history.keys())\n",
    "plt.plot(history.history['loss'])\n",
    "plt.plot(history.history['val_loss'])\n",
    "plt.title('model loss')\n",
    "plt.ylabel('loss')\n",
    "plt.xlabel('epoch')\n",
    "plt.legend(['train','validation'],loc = 'upper left')\n",
    "plt.show()"
   ]
  },
  {
   "cell_type": "code",
   "execution_count": 141,
   "metadata": {
    "ExecuteTime": {
     "end_time": "2021-01-08T07:03:20.687432Z",
     "start_time": "2021-01-08T07:03:20.682885Z"
    }
   },
   "outputs": [
    {
     "data": {
      "text/plain": [
       "9380.826841214883"
      ]
     },
     "execution_count": 141,
     "metadata": {},
     "output_type": "execute_result"
    }
   ],
   "source": [
    "from sklearn.metrics import mean_squared_error\n",
    "mean_squared_error(y_val, predictions)"
   ]
  },
  {
   "cell_type": "code",
   "execution_count": 143,
   "metadata": {
    "ExecuteTime": {
     "end_time": "2021-01-08T07:03:46.608763Z",
     "start_time": "2021-01-08T07:03:43.620296Z"
    }
   },
   "outputs": [
    {
     "name": "stdout",
     "output_type": "stream",
     "text": [
      "2146/2146 [==============================] - 2s 1ms/step - loss: 0.0000e+00 - accuracy: 0.0000e+00\n",
      "[0.0, 0.0]\n",
      "716/716 [==============================] - 1s 1ms/step - loss: 0.0000e+00 - accuracy: 0.0000e+00\n",
      "[0.0, 0.0]\n"
     ]
    }
   ],
   "source": [
    "print(model.evaluate(xtrain_scaler,ytrain_scaler,verbose=1))\n",
    "print(model.evaluate(xval_scaler,yval_scaler,verbose=1))"
   ]
  },
  {
   "cell_type": "markdown",
   "metadata": {},
   "source": [
    "# ---------------"
   ]
  },
  {
   "cell_type": "code",
   "execution_count": 186,
   "metadata": {
    "ExecuteTime": {
     "end_time": "2021-01-08T13:51:37.476051Z",
     "start_time": "2021-01-08T13:51:37.469320Z"
    }
   },
   "outputs": [],
   "source": [
    "from tensorflow.python.keras.layers import Dense\n",
    "from tensorflow.keras.layers import Dropout\n",
    "from tensorflow.python.keras.models import Sequential\n",
    "from tensorflow.python.keras.wrappers.scikit_learn import KerasRegressor\n",
    "\n",
    "\n",
    "from sklearn.metrics import mean_squared_error\n",
    "from sklearn.metrics import mean_absolute_error\n",
    "\n",
    "\n",
    "import statsmodels.api as sm\n",
    "import statsmodels.formula.api as smf"
   ]
  },
  {
   "cell_type": "code",
   "execution_count": 187,
   "metadata": {
    "ExecuteTime": {
     "end_time": "2021-01-08T13:51:39.327071Z",
     "start_time": "2021-01-08T13:51:38.781324Z"
    }
   },
   "outputs": [
    {
     "data": {
      "text/html": [
       "<div>\n",
       "<style scoped>\n",
       "    .dataframe tbody tr th:only-of-type {\n",
       "        vertical-align: middle;\n",
       "    }\n",
       "\n",
       "    .dataframe tbody tr th {\n",
       "        vertical-align: top;\n",
       "    }\n",
       "\n",
       "    .dataframe thead th {\n",
       "        text-align: right;\n",
       "    }\n",
       "</style>\n",
       "<table border=\"1\" class=\"dataframe\">\n",
       "  <thead>\n",
       "    <tr style=\"text-align: right;\">\n",
       "      <th></th>\n",
       "      <th>ID</th>\n",
       "      <th>hotel</th>\n",
       "      <th>is_canceled</th>\n",
       "      <th>lead_time</th>\n",
       "      <th>arrival_date_year</th>\n",
       "      <th>arrival_date_month</th>\n",
       "      <th>arrival_date_week_number</th>\n",
       "      <th>arrival_date_day_of_month</th>\n",
       "      <th>stays_in_weekend_nights</th>\n",
       "      <th>stays_in_week_nights</th>\n",
       "      <th>adults</th>\n",
       "      <th>children</th>\n",
       "      <th>babies</th>\n",
       "      <th>meal</th>\n",
       "      <th>country</th>\n",
       "      <th>market_segment</th>\n",
       "      <th>distribution_channel</th>\n",
       "      <th>is_repeated_guest</th>\n",
       "      <th>previous_cancellations</th>\n",
       "      <th>previous_bookings_not_canceled</th>\n",
       "      <th>reserved_room_type</th>\n",
       "      <th>assigned_room_type</th>\n",
       "      <th>booking_changes</th>\n",
       "      <th>deposit_type</th>\n",
       "      <th>agent</th>\n",
       "      <th>company</th>\n",
       "      <th>days_in_waiting_list</th>\n",
       "      <th>customer_type</th>\n",
       "      <th>adr</th>\n",
       "      <th>required_car_parking_spaces</th>\n",
       "      <th>total_of_special_requests</th>\n",
       "      <th>reservation_status</th>\n",
       "      <th>reservation_status_date</th>\n",
       "    </tr>\n",
       "  </thead>\n",
       "  <tbody>\n",
       "    <tr>\n",
       "      <th>0</th>\n",
       "      <td>0</td>\n",
       "      <td>Resort Hotel</td>\n",
       "      <td>0</td>\n",
       "      <td>342</td>\n",
       "      <td>2015</td>\n",
       "      <td>July</td>\n",
       "      <td>27</td>\n",
       "      <td>1</td>\n",
       "      <td>0</td>\n",
       "      <td>0</td>\n",
       "      <td>2</td>\n",
       "      <td>0.0</td>\n",
       "      <td>0</td>\n",
       "      <td>BB</td>\n",
       "      <td>PRT</td>\n",
       "      <td>Direct</td>\n",
       "      <td>Direct</td>\n",
       "      <td>0</td>\n",
       "      <td>0</td>\n",
       "      <td>0</td>\n",
       "      <td>C</td>\n",
       "      <td>C</td>\n",
       "      <td>3</td>\n",
       "      <td>No Deposit</td>\n",
       "      <td>NaN</td>\n",
       "      <td>NaN</td>\n",
       "      <td>0</td>\n",
       "      <td>Transient</td>\n",
       "      <td>-6.305161</td>\n",
       "      <td>0</td>\n",
       "      <td>0</td>\n",
       "      <td>Check-Out</td>\n",
       "      <td>2015-07-01</td>\n",
       "    </tr>\n",
       "    <tr>\n",
       "      <th>1</th>\n",
       "      <td>1</td>\n",
       "      <td>City Hotel</td>\n",
       "      <td>0</td>\n",
       "      <td>257</td>\n",
       "      <td>2015</td>\n",
       "      <td>July</td>\n",
       "      <td>27</td>\n",
       "      <td>1</td>\n",
       "      <td>0</td>\n",
       "      <td>2</td>\n",
       "      <td>1</td>\n",
       "      <td>0.0</td>\n",
       "      <td>0</td>\n",
       "      <td>HB</td>\n",
       "      <td>PRT</td>\n",
       "      <td>Offline TA/TO</td>\n",
       "      <td>TA/TO</td>\n",
       "      <td>0</td>\n",
       "      <td>0</td>\n",
       "      <td>0</td>\n",
       "      <td>A</td>\n",
       "      <td>A</td>\n",
       "      <td>1</td>\n",
       "      <td>No Deposit</td>\n",
       "      <td>6.0</td>\n",
       "      <td>NaN</td>\n",
       "      <td>0</td>\n",
       "      <td>Transient</td>\n",
       "      <td>75.052227</td>\n",
       "      <td>0</td>\n",
       "      <td>0</td>\n",
       "      <td>Check-Out</td>\n",
       "      <td>2015-07-03</td>\n",
       "    </tr>\n",
       "    <tr>\n",
       "      <th>2</th>\n",
       "      <td>2</td>\n",
       "      <td>City Hotel</td>\n",
       "      <td>0</td>\n",
       "      <td>257</td>\n",
       "      <td>2015</td>\n",
       "      <td>July</td>\n",
       "      <td>27</td>\n",
       "      <td>1</td>\n",
       "      <td>0</td>\n",
       "      <td>2</td>\n",
       "      <td>2</td>\n",
       "      <td>0.0</td>\n",
       "      <td>0</td>\n",
       "      <td>HB</td>\n",
       "      <td>PRT</td>\n",
       "      <td>Offline TA/TO</td>\n",
       "      <td>TA/TO</td>\n",
       "      <td>0</td>\n",
       "      <td>0</td>\n",
       "      <td>0</td>\n",
       "      <td>A</td>\n",
       "      <td>A</td>\n",
       "      <td>0</td>\n",
       "      <td>No Deposit</td>\n",
       "      <td>6.0</td>\n",
       "      <td>NaN</td>\n",
       "      <td>0</td>\n",
       "      <td>Transient</td>\n",
       "      <td>74.546401</td>\n",
       "      <td>0</td>\n",
       "      <td>0</td>\n",
       "      <td>Check-Out</td>\n",
       "      <td>2015-07-03</td>\n",
       "    </tr>\n",
       "    <tr>\n",
       "      <th>3</th>\n",
       "      <td>3</td>\n",
       "      <td>City Hotel</td>\n",
       "      <td>0</td>\n",
       "      <td>257</td>\n",
       "      <td>2015</td>\n",
       "      <td>July</td>\n",
       "      <td>27</td>\n",
       "      <td>1</td>\n",
       "      <td>0</td>\n",
       "      <td>2</td>\n",
       "      <td>2</td>\n",
       "      <td>0.0</td>\n",
       "      <td>0</td>\n",
       "      <td>HB</td>\n",
       "      <td>PRT</td>\n",
       "      <td>Offline TA/TO</td>\n",
       "      <td>TA/TO</td>\n",
       "      <td>0</td>\n",
       "      <td>0</td>\n",
       "      <td>0</td>\n",
       "      <td>A</td>\n",
       "      <td>A</td>\n",
       "      <td>0</td>\n",
       "      <td>No Deposit</td>\n",
       "      <td>6.0</td>\n",
       "      <td>NaN</td>\n",
       "      <td>0</td>\n",
       "      <td>Transient</td>\n",
       "      <td>76.376288</td>\n",
       "      <td>0</td>\n",
       "      <td>0</td>\n",
       "      <td>Check-Out</td>\n",
       "      <td>2015-07-03</td>\n",
       "    </tr>\n",
       "    <tr>\n",
       "      <th>4</th>\n",
       "      <td>4</td>\n",
       "      <td>City Hotel</td>\n",
       "      <td>0</td>\n",
       "      <td>257</td>\n",
       "      <td>2015</td>\n",
       "      <td>July</td>\n",
       "      <td>27</td>\n",
       "      <td>1</td>\n",
       "      <td>0</td>\n",
       "      <td>2</td>\n",
       "      <td>2</td>\n",
       "      <td>0.0</td>\n",
       "      <td>0</td>\n",
       "      <td>HB</td>\n",
       "      <td>PRT</td>\n",
       "      <td>Offline TA/TO</td>\n",
       "      <td>TA/TO</td>\n",
       "      <td>0</td>\n",
       "      <td>0</td>\n",
       "      <td>0</td>\n",
       "      <td>A</td>\n",
       "      <td>A</td>\n",
       "      <td>0</td>\n",
       "      <td>No Deposit</td>\n",
       "      <td>6.0</td>\n",
       "      <td>NaN</td>\n",
       "      <td>0</td>\n",
       "      <td>Transient</td>\n",
       "      <td>49.411647</td>\n",
       "      <td>0</td>\n",
       "      <td>0</td>\n",
       "      <td>Check-Out</td>\n",
       "      <td>2015-07-03</td>\n",
       "    </tr>\n",
       "  </tbody>\n",
       "</table>\n",
       "</div>"
      ],
      "text/plain": [
       "   ID         hotel  is_canceled  lead_time  arrival_date_year  \\\n",
       "0   0  Resort Hotel            0        342               2015   \n",
       "1   1    City Hotel            0        257               2015   \n",
       "2   2    City Hotel            0        257               2015   \n",
       "3   3    City Hotel            0        257               2015   \n",
       "4   4    City Hotel            0        257               2015   \n",
       "\n",
       "  arrival_date_month  arrival_date_week_number  arrival_date_day_of_month  \\\n",
       "0               July                        27                          1   \n",
       "1               July                        27                          1   \n",
       "2               July                        27                          1   \n",
       "3               July                        27                          1   \n",
       "4               July                        27                          1   \n",
       "\n",
       "   stays_in_weekend_nights  stays_in_week_nights  adults  children  babies  \\\n",
       "0                        0                     0       2       0.0       0   \n",
       "1                        0                     2       1       0.0       0   \n",
       "2                        0                     2       2       0.0       0   \n",
       "3                        0                     2       2       0.0       0   \n",
       "4                        0                     2       2       0.0       0   \n",
       "\n",
       "  meal country market_segment distribution_channel  is_repeated_guest  \\\n",
       "0   BB     PRT         Direct               Direct                  0   \n",
       "1   HB     PRT  Offline TA/TO                TA/TO                  0   \n",
       "2   HB     PRT  Offline TA/TO                TA/TO                  0   \n",
       "3   HB     PRT  Offline TA/TO                TA/TO                  0   \n",
       "4   HB     PRT  Offline TA/TO                TA/TO                  0   \n",
       "\n",
       "   previous_cancellations  previous_bookings_not_canceled reserved_room_type  \\\n",
       "0                       0                               0                  C   \n",
       "1                       0                               0                  A   \n",
       "2                       0                               0                  A   \n",
       "3                       0                               0                  A   \n",
       "4                       0                               0                  A   \n",
       "\n",
       "  assigned_room_type  booking_changes deposit_type  agent  company  \\\n",
       "0                  C                3   No Deposit    NaN      NaN   \n",
       "1                  A                1   No Deposit    6.0      NaN   \n",
       "2                  A                0   No Deposit    6.0      NaN   \n",
       "3                  A                0   No Deposit    6.0      NaN   \n",
       "4                  A                0   No Deposit    6.0      NaN   \n",
       "\n",
       "   days_in_waiting_list customer_type        adr  required_car_parking_spaces  \\\n",
       "0                     0     Transient  -6.305161                            0   \n",
       "1                     0     Transient  75.052227                            0   \n",
       "2                     0     Transient  74.546401                            0   \n",
       "3                     0     Transient  76.376288                            0   \n",
       "4                     0     Transient  49.411647                            0   \n",
       "\n",
       "   total_of_special_requests reservation_status reservation_status_date  \n",
       "0                          0          Check-Out              2015-07-01  \n",
       "1                          0          Check-Out              2015-07-03  \n",
       "2                          0          Check-Out              2015-07-03  \n",
       "3                          0          Check-Out              2015-07-03  \n",
       "4                          0          Check-Out              2015-07-03  "
      ]
     },
     "execution_count": 187,
     "metadata": {},
     "output_type": "execute_result"
    }
   ],
   "source": [
    "train_df = pd.read_csv('train.csv')\n",
    "train_df.head()\n"
   ]
  },
  {
   "cell_type": "code",
   "execution_count": 188,
   "metadata": {
    "ExecuteTime": {
     "end_time": "2021-01-08T13:51:40.750752Z",
     "start_time": "2021-01-08T13:51:40.647421Z"
    }
   },
   "outputs": [],
   "source": [
    "train_df.sample()\n",
    "train_df.country = train_df.country.astype(\"category\").cat.codes\n",
    "train_df.market_segment = train_df.market_segment.astype(\"category\").cat.codes\n",
    "train_df.deposit_type = train_df.deposit_type.astype(\"category\").cat.codes\n",
    "train_df.customer_type = train_df.customer_type.astype(\"category\").cat.codes"
   ]
  },
  {
   "cell_type": "code",
   "execution_count": 189,
   "metadata": {
    "ExecuteTime": {
     "end_time": "2021-01-08T13:51:42.144148Z",
     "start_time": "2021-01-08T13:51:42.133702Z"
    }
   },
   "outputs": [
    {
     "data": {
      "text/plain": [
       "(91531, 7)"
      ]
     },
     "execution_count": 189,
     "metadata": {},
     "output_type": "execute_result"
    }
   ],
   "source": [
    "x1 = np.column_stack((train_df.is_canceled,train_df.country,train_df.market_segment\n",
    "                      ,train_df.deposit_type,train_df.customer_type,train_df.required_car_parking_spaces,\n",
    "                      train_df.arrival_date_week_number))\n",
    "x1.shape\n"
   ]
  },
  {
   "cell_type": "code",
   "execution_count": 190,
   "metadata": {
    "ExecuteTime": {
     "end_time": "2021-01-08T13:51:43.687657Z",
     "start_time": "2021-01-08T13:51:43.665031Z"
    }
   },
   "outputs": [
    {
     "data": {
      "text/plain": [
       "(91531, 8)"
      ]
     },
     "execution_count": 190,
     "metadata": {},
     "output_type": "execute_result"
    }
   ],
   "source": [
    "x1 = sm.add_constant(x1, prepend=True)\n",
    "x1.shape"
   ]
  },
  {
   "cell_type": "code",
   "execution_count": 191,
   "metadata": {
    "ExecuteTime": {
     "end_time": "2021-01-08T13:51:45.209735Z",
     "start_time": "2021-01-08T13:51:45.202506Z"
    }
   },
   "outputs": [
    {
     "data": {
      "text/plain": [
       "array([-6.30516084, 75.05222697, 74.54640111, ..., 90.81455355,\n",
       "       38.1355651 , 58.19647044])"
      ]
     },
     "execution_count": 191,
     "metadata": {},
     "output_type": "execute_result"
    }
   ],
   "source": [
    "y1 = np.array(train_df.adr)\n",
    "y1"
   ]
  },
  {
   "cell_type": "code",
   "execution_count": 192,
   "metadata": {
    "ExecuteTime": {
     "end_time": "2021-01-08T13:51:46.608571Z",
     "start_time": "2021-01-08T13:51:46.587318Z"
    }
   },
   "outputs": [],
   "source": [
    "x_train, x_val, y_train, y_val = train_test_split(x1,y1,random_state = 45)"
   ]
  },
  {
   "cell_type": "code",
   "execution_count": 219,
   "metadata": {
    "ExecuteTime": {
     "end_time": "2021-01-08T14:22:40.978912Z",
     "start_time": "2021-01-08T14:22:40.948520Z"
    }
   },
   "outputs": [],
   "source": [
    "y_train = np.reshape(y_train,(-1,1))\n",
    "y_val = np.reshape(y_val,(-1,1))\n",
    "scaler_x = StandardScaler()\n",
    "scaler_y = StandardScaler()\n",
    "\n",
    "xtrain_scaler = scaler_x.fit_transform(x_train)\n",
    "\n",
    "xval_scaler = scaler_x.transform(x_val)\n",
    "\n",
    "ytrain_scaler = scaler_y.fit_transform(y_train)\n",
    "\n",
    "yval_scaler = scaler_y.transform(y_val)\n"
   ]
  },
  {
   "cell_type": "code",
   "execution_count": 220,
   "metadata": {
    "ExecuteTime": {
     "end_time": "2021-01-08T14:22:41.555796Z",
     "start_time": "2021-01-08T14:22:41.550266Z"
    }
   },
   "outputs": [
    {
     "data": {
      "text/plain": [
       "array([[-0.27981206],\n",
       "       [ 0.72653116],\n",
       "       [-0.11400764],\n",
       "       ...,\n",
       "       [-0.48682887],\n",
       "       [ 0.31340348],\n",
       "       [-0.56668708]])"
      ]
     },
     "execution_count": 220,
     "metadata": {},
     "output_type": "execute_result"
    }
   ],
   "source": [
    "ytrain_scaler"
   ]
  },
  {
   "cell_type": "code",
   "execution_count": 221,
   "metadata": {
    "ExecuteTime": {
     "end_time": "2021-01-08T14:22:42.369571Z",
     "start_time": "2021-01-08T14:22:42.364699Z"
    }
   },
   "outputs": [
    {
     "data": {
      "text/plain": [
       "array([[ 0.52908007],\n",
       "       [-0.16130889],\n",
       "       [-1.39596649],\n",
       "       ...,\n",
       "       [-0.5740653 ],\n",
       "       [ 2.68983064],\n",
       "       [ 0.14592341]])"
      ]
     },
     "execution_count": 221,
     "metadata": {},
     "output_type": "execute_result"
    }
   ],
   "source": [
    "yval_scaler"
   ]
  },
  {
   "cell_type": "code",
   "execution_count": 222,
   "metadata": {
    "ExecuteTime": {
     "end_time": "2021-01-08T14:22:44.134809Z",
     "start_time": "2021-01-08T14:22:44.128538Z"
    }
   },
   "outputs": [
    {
     "data": {
      "text/plain": [
       "array([[ 0.        , -0.74601481, -0.28063624, ..., -0.2501058 ,\n",
       "         3.75648465, -1.1466253 ],\n",
       "       [ 0.        , -0.74601481, -0.8698113 , ..., -0.2501058 ,\n",
       "        -0.26032493, -1.47941887],\n",
       "       [ 0.        , -0.74601481,  1.65873169, ..., -0.2501058 ,\n",
       "         3.75648465, -1.41286016],\n",
       "       ...,\n",
       "       [ 0.        , -0.74601481, -0.96800715, ...,  1.39809073,\n",
       "        -0.26032493,  0.45078384],\n",
       "       [ 0.        , -0.74601481, -0.8698113 , ..., -0.2501058 ,\n",
       "        -0.26032493,  0.78357742],\n",
       "       [ 0.        ,  1.34045595,  0.8977139 , ..., -3.54649886,\n",
       "        -0.26032493,  0.51734256]])"
      ]
     },
     "execution_count": 222,
     "metadata": {},
     "output_type": "execute_result"
    }
   ],
   "source": [
    "xtrain_scaler"
   ]
  },
  {
   "cell_type": "code",
   "execution_count": 223,
   "metadata": {
    "ExecuteTime": {
     "end_time": "2021-01-08T14:22:45.916093Z",
     "start_time": "2021-01-08T14:22:45.909481Z"
    }
   },
   "outputs": [
    {
     "data": {
      "text/plain": [
       "array([[ 0.        , -0.74601481,  0.8977139 , ..., -0.2501058 ,\n",
       "        -0.26032493,  0.31766642],\n",
       "       [ 0.        ,  1.34045595,  0.8977139 , ..., -0.2501058 ,\n",
       "        -0.26032493, -1.01350787],\n",
       "       [ 0.        , -0.74601481,  0.8977139 , ..., -0.2501058 ,\n",
       "        -0.26032493,  1.11637099],\n",
       "       ...,\n",
       "       [ 0.        ,  1.34045595,  0.8977139 , ...,  1.39809073,\n",
       "        -0.26032493, -0.6807143 ],\n",
       "       [ 0.        , -0.74601481,  0.8977139 , ..., -3.54649886,\n",
       "        -0.26032493,  0.78357742],\n",
       "       [ 0.        ,  1.34045595,  0.8977139 , ..., -0.2501058 ,\n",
       "        -0.26032493,  0.98325356]])"
      ]
     },
     "execution_count": 223,
     "metadata": {},
     "output_type": "execute_result"
    }
   ],
   "source": [
    "xval_scaler"
   ]
  },
  {
   "cell_type": "code",
   "execution_count": 224,
   "metadata": {
    "ExecuteTime": {
     "end_time": "2021-01-08T14:22:49.856527Z",
     "start_time": "2021-01-08T14:22:49.813126Z"
    }
   },
   "outputs": [
    {
     "name": "stdout",
     "output_type": "stream",
     "text": [
      "Model: \"sequential_11\"\n",
      "_________________________________________________________________\n",
      "Layer (type)                 Output Shape              Param #   \n",
      "=================================================================\n",
      "dense_26 (Dense)             (None, 8)                 72        \n",
      "_________________________________________________________________\n",
      "dropout_15 (Dropout)         (None, 8)                 0         \n",
      "_________________________________________________________________\n",
      "dense_27 (Dense)             (None, 2670)              24030     \n",
      "_________________________________________________________________\n",
      "dropout_16 (Dropout)         (None, 2670)              0         \n",
      "_________________________________________________________________\n",
      "dense_28 (Dense)             (None, 1)                 2671      \n",
      "_________________________________________________________________\n",
      "dropout_17 (Dropout)         (None, 1)                 0         \n",
      "=================================================================\n",
      "Total params: 26,773\n",
      "Trainable params: 26,773\n",
      "Non-trainable params: 0\n",
      "_________________________________________________________________\n"
     ]
    }
   ],
   "source": [
    "model = Sequential()\n",
    "model.add(Dense(8,input_dim=8,kernel_initializer='normal',activation='relu'))\n",
    "model.add(Dropout(0.8))\n",
    "model.add(Dense(2670,activation='relu'))\n",
    "model.add(Dropout(0.8))\n",
    "model.add(Dense(1,activation='linear'))\n",
    "model.add(Dropout(0.8))\n",
    "model.summary()"
   ]
  },
  {
   "cell_type": "code",
   "execution_count": 225,
   "metadata": {
    "ExecuteTime": {
     "end_time": "2021-01-08T14:23:20.890698Z",
     "start_time": "2021-01-08T14:22:51.062568Z"
    }
   },
   "outputs": [
    {
     "name": "stdout",
     "output_type": "stream",
     "text": [
      "Epoch 1/30\n",
      "367/367 [==============================] - 1s 3ms/step - loss: 0.8478 - mse: 0.8478 - mae: 0.7055 - val_loss: 1.5809 - val_mse: 1.5809 - val_mae: 0.7048\n",
      "Epoch 2/30\n",
      "367/367 [==============================] - 1s 3ms/step - loss: 0.8475 - mse: 0.8475 - mae: 0.7044 - val_loss: 1.5742 - val_mse: 1.5742 - val_mae: 0.7007\n",
      "Epoch 3/30\n",
      "367/367 [==============================] - 1s 3ms/step - loss: 0.8500 - mse: 0.8500 - mae: 0.7047 - val_loss: 1.5722 - val_mse: 1.5722 - val_mae: 0.6995\n",
      "Epoch 4/30\n",
      "367/367 [==============================] - 1s 3ms/step - loss: 0.8474 - mse: 0.8474 - mae: 0.7028 - val_loss: 1.5747 - val_mse: 1.5747 - val_mae: 0.7005\n",
      "Epoch 5/30\n",
      "367/367 [==============================] - 1s 2ms/step - loss: 0.8511 - mse: 0.8511 - mae: 0.7048 - val_loss: 1.5718 - val_mse: 1.5718 - val_mae: 0.6998\n",
      "Epoch 6/30\n",
      "367/367 [==============================] - 1s 3ms/step - loss: 0.8523 - mse: 0.8523 - mae: 0.7049 - val_loss: 1.5739 - val_mse: 1.5739 - val_mae: 0.7015\n",
      "Epoch 7/30\n",
      "367/367 [==============================] - 1s 3ms/step - loss: 0.8615 - mse: 0.8615 - mae: 0.7088 - val_loss: 1.5771 - val_mse: 1.5771 - val_mae: 0.7016\n",
      "Epoch 8/30\n",
      "367/367 [==============================] - 1s 3ms/step - loss: 0.8420 - mse: 0.8420 - mae: 0.7003 - val_loss: 1.5719 - val_mse: 1.5719 - val_mae: 0.6981\n",
      "Epoch 9/30\n",
      "367/367 [==============================] - 1s 2ms/step - loss: 0.8432 - mse: 0.8432 - mae: 0.7025 - val_loss: 1.5720 - val_mse: 1.5720 - val_mae: 0.6994\n",
      "Epoch 10/30\n",
      "367/367 [==============================] - 1s 3ms/step - loss: 0.8468 - mse: 0.8468 - mae: 0.7040 - val_loss: 1.5750 - val_mse: 1.5750 - val_mae: 0.7007\n",
      "Epoch 11/30\n",
      "367/367 [==============================] - 1s 2ms/step - loss: 0.8416 - mse: 0.8416 - mae: 0.7009 - val_loss: 1.5709 - val_mse: 1.5709 - val_mae: 0.6993\n",
      "Epoch 12/30\n",
      "367/367 [==============================] - 1s 3ms/step - loss: 0.8520 - mse: 0.8520 - mae: 0.7051 - val_loss: 1.5736 - val_mse: 1.5736 - val_mae: 0.7006\n",
      "Epoch 13/30\n",
      "367/367 [==============================] - 1s 3ms/step - loss: 0.8373 - mse: 0.8373 - mae: 0.6995 - val_loss: 1.5717 - val_mse: 1.5717 - val_mae: 0.6995\n",
      "Epoch 14/30\n",
      "367/367 [==============================] - 1s 3ms/step - loss: 0.8374 - mse: 0.8374 - mae: 0.6991 - val_loss: 1.5698 - val_mse: 1.5698 - val_mae: 0.6991\n",
      "Epoch 15/30\n",
      "367/367 [==============================] - 1s 3ms/step - loss: 0.8474 - mse: 0.8474 - mae: 0.7029 - val_loss: 1.5700 - val_mse: 1.5700 - val_mae: 0.7001\n",
      "Epoch 16/30\n",
      "367/367 [==============================] - 1s 3ms/step - loss: 0.8483 - mse: 0.8483 - mae: 0.7046 - val_loss: 1.5712 - val_mse: 1.5712 - val_mae: 0.6990\n",
      "Epoch 17/30\n",
      "367/367 [==============================] - 1s 3ms/step - loss: 0.8464 - mse: 0.8464 - mae: 0.7018 - val_loss: 1.5707 - val_mse: 1.5707 - val_mae: 0.6984\n",
      "Epoch 18/30\n",
      "367/367 [==============================] - 1s 3ms/step - loss: 0.8287 - mse: 0.8287 - mae: 0.6959 - val_loss: 1.5667 - val_mse: 1.5667 - val_mae: 0.6989\n",
      "Epoch 19/30\n",
      "367/367 [==============================] - 1s 3ms/step - loss: 0.8544 - mse: 0.8544 - mae: 0.7069 - val_loss: 1.5653 - val_mse: 1.5653 - val_mae: 0.6958\n",
      "Epoch 20/30\n",
      "367/367 [==============================] - 1s 3ms/step - loss: 0.8376 - mse: 0.8376 - mae: 0.6997 - val_loss: 1.5683 - val_mse: 1.5683 - val_mae: 0.6981\n",
      "Epoch 21/30\n",
      "367/367 [==============================] - 1s 3ms/step - loss: 0.8353 - mse: 0.8353 - mae: 0.6999 - val_loss: 1.5665 - val_mse: 1.5665 - val_mae: 0.6963\n",
      "Epoch 22/30\n",
      "367/367 [==============================] - 1s 3ms/step - loss: 0.8430 - mse: 0.8430 - mae: 0.7000 - val_loss: 1.5681 - val_mse: 1.5681 - val_mae: 0.6992\n",
      "Epoch 23/30\n",
      "367/367 [==============================] - 1s 3ms/step - loss: 0.8536 - mse: 0.8536 - mae: 0.7063 - val_loss: 1.5687 - val_mse: 1.5687 - val_mae: 0.6985\n",
      "Epoch 24/30\n",
      "367/367 [==============================] - 1s 3ms/step - loss: 0.8457 - mse: 0.8457 - mae: 0.7049 - val_loss: 1.5660 - val_mse: 1.5660 - val_mae: 0.6971\n",
      "Epoch 25/30\n",
      "367/367 [==============================] - 1s 3ms/step - loss: 0.8375 - mse: 0.8375 - mae: 0.6973 - val_loss: 1.5651 - val_mse: 1.5651 - val_mae: 0.6955\n",
      "Epoch 26/30\n",
      "367/367 [==============================] - 1s 3ms/step - loss: 0.8407 - mse: 0.8407 - mae: 0.7027 - val_loss: 1.5703 - val_mse: 1.5703 - val_mae: 0.6993\n",
      "Epoch 27/30\n",
      "367/367 [==============================] - 1s 3ms/step - loss: 0.8420 - mse: 0.8420 - mae: 0.7006 - val_loss: 1.5681 - val_mse: 1.5681 - val_mae: 0.6979\n",
      "Epoch 28/30\n",
      "367/367 [==============================] - 1s 3ms/step - loss: 0.8538 - mse: 0.8538 - mae: 0.7074 - val_loss: 1.5669 - val_mse: 1.5669 - val_mae: 0.6986\n",
      "Epoch 29/30\n",
      "367/367 [==============================] - 1s 3ms/step - loss: 0.8507 - mse: 0.8507 - mae: 0.7061 - val_loss: 1.5671 - val_mse: 1.5671 - val_mae: 0.6982\n",
      "Epoch 30/30\n",
      "367/367 [==============================] - 1s 3ms/step - loss: 0.8397 - mse: 0.8397 - mae: 0.6995 - val_loss: 1.5674 - val_mse: 1.5674 - val_mae: 0.6985\n"
     ]
    }
   ],
   "source": [
    "model.compile(loss='mse',optimizer='adam',metrics=['mse','mae'])\n",
    "history=model.fit(xtrain_scaler,ytrain_scaler,epochs=30,batch_size=150,verbose=1,validation_split=0.2)\n",
    "pred = model.predict(x_val)"
   ]
  },
  {
   "cell_type": "code",
   "execution_count": 217,
   "metadata": {
    "ExecuteTime": {
     "end_time": "2021-01-08T14:22:22.602452Z",
     "start_time": "2021-01-08T14:22:22.366166Z"
    }
   },
   "outputs": [
    {
     "name": "stdout",
     "output_type": "stream",
     "text": [
      "dict_keys(['loss', 'mse', 'mae', 'val_loss', 'val_mse', 'val_mae'])\n"
     ]
    },
    {
     "data": {
      "image/png": "[encoded data removed]",
      "text/plain": [
       "<Figure size 432x288 with 1 Axes>"
      ]
     },
     "metadata": {
      "needs_background": "light"
     },
     "output_type": "display_data"
    }
   ],
   "source": [
    "print(history.history.keys())\n",
    "plt.plot(history.history['loss'])\n",
    "plt.plot(history.history['val_loss'])\n",
    "plt.title('model loss')\n",
    "plt.ylabel('loss')\n",
    "plt.xlabel('epoch')\n",
    "plt.legend(['train','validation'],loc = 'upper left')\n",
    "plt.show()"
   ]
  },
  {
   "cell_type": "code",
   "execution_count": 218,
   "metadata": {
    "ExecuteTime": {
     "end_time": "2021-01-08T14:22:26.899698Z",
     "start_time": "2021-01-08T14:22:26.893426Z"
    }
   },
   "outputs": [
    {
     "data": {
      "text/plain": [
       "array([[-0.07882533],\n",
       "       [-0.00960088],\n",
       "       [-0.40478408],\n",
       "       ...,\n",
       "       [-0.00960088],\n",
       "       [-0.23100922],\n",
       "       [-0.29948276]], dtype=float32)"
      ]
     },
     "execution_count": 218,
     "metadata": {},
     "output_type": "execute_result"
    }
   ],
   "source": [
    "pred"
   ]
  },
  {
   "cell_type": "code",
   "execution_count": 53,
   "metadata": {
    "ExecuteTime": {
     "end_time": "2021-01-08T08:41:03.595358Z",
     "start_time": "2021-01-08T08:41:03.588401Z"
    }
   },
   "outputs": [
    {
     "data": {
      "text/plain": [
       "array([[-141.09352],\n",
       "       [-141.21873],\n",
       "       [-141.14128],\n",
       "       ...,\n",
       "       [-141.16666],\n",
       "       [-141.05609],\n",
       "       [-141.06238]], dtype=float32)"
      ]
     },
     "execution_count": 53,
     "metadata": {},
     "output_type": "execute_result"
    }
   ],
   "source": [
    "prediction = scaler_y.inverse_transform(pred)\n",
    "prediction"
   ]
  },
  {
   "cell_type": "code",
   "execution_count": 54,
   "metadata": {
    "ExecuteTime": {
     "end_time": "2021-01-08T08:42:05.365923Z",
     "start_time": "2021-01-08T08:42:05.359242Z"
    }
   },
   "outputs": [
    {
     "data": {
      "text/plain": [
       "225.5231867055895"
      ]
     },
     "execution_count": 54,
     "metadata": {},
     "output_type": "execute_result"
    }
   ],
   "source": [
    "mean_absolute_error(y_val,prediction)"
   ]
  },
  {
   "cell_type": "code",
   "execution_count": 55,
   "metadata": {
    "ExecuteTime": {
     "end_time": "2021-01-08T08:42:06.682134Z",
     "start_time": "2021-01-08T08:42:06.471822Z"
    }
   },
   "outputs": [
    {
     "data": {
      "image/png": "[encoded data removed]",
      "text/plain": [
       "<Figure size 432x288 with 1 Axes>"
      ]
     },
     "metadata": {
      "needs_background": "light"
     },
     "output_type": "display_data"
    }
   ],
   "source": [
    "plt.plot(y_val)\n",
    "plt.plot(prediction)\n",
    "plt.title('model loss')\n",
    "plt.legend(['train','validation'],loc = 'upper left')\n",
    "plt.show()"
   ]
  },
  {
   "cell_type": "code",
   "execution_count": 87,
   "metadata": {
    "ExecuteTime": {
     "end_time": "2021-01-08T08:57:54.627528Z",
     "start_time": "2021-01-08T08:57:54.366131Z"
    }
   },
   "outputs": [
    {
     "data": {
      "text/plain": [
       "Index(['ID', 'hotel', 'is_canceled', 'lead_time', 'arrival_date_year',\n",
       "       'arrival_date_month', 'arrival_date_week_number',\n",
       "       'arrival_date_day_of_month', 'stays_in_weekend_nights',\n",
       "       'stays_in_week_nights', 'adults', 'children', 'babies', 'meal',\n",
       "       'country', 'market_segment', 'distribution_channel',\n",
       "       'is_repeated_guest', 'previous_cancellations',\n",
       "       'previous_bookings_not_canceled', 'reserved_room_type',\n",
       "       'assigned_room_type', 'booking_changes', 'deposit_type', 'agent',\n",
       "       'company', 'days_in_waiting_list', 'customer_type', 'adr',\n",
       "       'required_car_parking_spaces', 'total_of_special_requests',\n",
       "       'reservation_status', 'reservation_status_date'],\n",
       "      dtype='object')"
      ]
     },
     "execution_count": 87,
     "metadata": {},
     "output_type": "execute_result"
    }
   ],
   "source": [
    "train_df = pd.read_csv('train.csv')\n",
    "train_df.columns\n"
   ]
  },
  {
   "cell_type": "code",
   "execution_count": 89,
   "metadata": {
    "ExecuteTime": {
     "end_time": "2021-01-08T08:59:10.157022Z",
     "start_time": "2021-01-08T08:59:10.147915Z"
    }
   },
   "outputs": [
    {
     "data": {
      "text/plain": [
       "0        1\n",
       "1        1\n",
       "2        1\n",
       "3        1\n",
       "4        1\n",
       "        ..\n",
       "91526    0\n",
       "91527    1\n",
       "91528    1\n",
       "91529    1\n",
       "91530    1\n",
       "Name: is_canceled, Length: 91531, dtype: int64"
      ]
     },
     "execution_count": 89,
     "metadata": {},
     "output_type": "execute_result"
    }
   ],
   "source": [
    "train_df.is_canceled = np.where(train_df.is_canceled == 0,1,0)\n",
    "train_df.is_canceled"
   ]
  },
  {
   "cell_type": "code",
   "execution_count": 91,
   "metadata": {
    "ExecuteTime": {
     "end_time": "2021-01-08T09:03:07.018574Z",
     "start_time": "2021-01-08T09:03:07.008725Z"
    }
   },
   "outputs": [
    {
     "data": {
      "text/plain": [
       "0         -0.000000\n",
       "1        150.104454\n",
       "2        149.092802\n",
       "3        152.752575\n",
       "4         98.823294\n",
       "            ...    \n",
       "91526      0.000000\n",
       "91527    -13.644203\n",
       "91528     90.814554\n",
       "91529    381.355651\n",
       "91530     58.196470\n",
       "Length: 91531, dtype: float64"
      ]
     },
     "execution_count": 91,
     "metadata": {},
     "output_type": "execute_result"
    }
   ],
   "source": [
    "final_score = train_df.adr * train_df.is_canceled * (train_df.stays_in_weekend_nights + train_df.stays_in_week_nights)\n",
    "final_score\n"
   ]
  },
  {
   "cell_type": "code",
   "execution_count": 94,
   "metadata": {
    "ExecuteTime": {
     "end_time": "2021-01-08T09:08:20.726016Z",
     "start_time": "2021-01-08T09:08:20.479953Z"
    }
   },
   "outputs": [],
   "source": [
    "def format_lenght(date):\n",
    "    return date[0]\n",
    "train_df['arrival_date_full'] = train_df['arrival_date_year'].astype(str) + \"-\" + train_df['arrival_date_month'].map({'January':1, 'February':2, 'March':3, 'April':4, 'May':5, 'June':6, 'July':7, 'August':8, 'September':9, 'October':10, 'November':11, 'December':12}).astype(str) + \"-\" + train_df['arrival_date_day_of_month'].astype(str)\n",
    "train_df['arrival_date_full'] = pd.to_datetime(train_df['arrival_date_full'], format=\"%Y-%m-%d\")\n",
    "\n",
    "train_df['arrival_date_full']\n",
    "final_ans = final_score.groupby(train_df.arrival_date_full).sum().astype(int)\n",
    "final_ans.to_csv('Ans.csv')"
   ]
  },
  {
   "cell_type": "code",
   "execution_count": 95,
   "metadata": {
    "ExecuteTime": {
     "end_time": "2021-01-08T10:13:47.633662Z",
     "start_time": "2021-01-08T10:13:47.628753Z"
    }
   },
   "outputs": [],
   "source": [
    "\n",
    "import csv\n",
    "import math\n",
    "import matplotlib.pyplot as plt\n",
    "import numpy as np\n",
    "import os\n",
    "import pandas as pd\n",
    "import random\n",
    "import statsmodels.api as sm\n",
    "import statsmodels.formula.api as smf\n",
    "\n",
    "from math import sqrt\n",
    "from numpy.random import seed\n",
    "seed(1)\n",
    "from pandas import DataFrame\n",
    "from sklearn.metrics import mean_squared_error\n",
    "from sklearn.model_selection import train_test_split\n",
    "from sklearn.preprocessing import MinMaxScaler\n",
    "from statsmodels.tsa.stattools import adfuller\n",
    "from tensorflow.keras.layers import Dense\n",
    "from tensorflow.keras import layers\n",
    "from tensorflow.keras.layers import LSTM"
   ]
  },
  {
   "cell_type": "code",
   "execution_count": 97,
   "metadata": {
    "ExecuteTime": {
     "end_time": "2021-01-08T10:17:10.050892Z",
     "start_time": "2021-01-08T10:17:09.809905Z"
    }
   },
   "outputs": [
    {
     "data": {
      "text/plain": [
       "Index(['ID', 'hotel', 'is_canceled', 'lead_time', 'arrival_date_year',\n",
       "       'arrival_date_month', 'arrival_date_week_number',\n",
       "       'arrival_date_day_of_month', 'stays_in_weekend_nights',\n",
       "       'stays_in_week_nights', 'adults', 'children', 'babies', 'meal',\n",
       "       'country', 'market_segment', 'distribution_channel',\n",
       "       'is_repeated_guest', 'previous_cancellations',\n",
       "       'previous_bookings_not_canceled', 'reserved_room_type',\n",
       "       'assigned_room_type', 'booking_changes', 'deposit_type', 'agent',\n",
       "       'company', 'days_in_waiting_list', 'customer_type', 'adr',\n",
       "       'required_car_parking_spaces', 'total_of_special_requests',\n",
       "       'reservation_status', 'reservation_status_date'],\n",
       "      dtype='object')"
      ]
     },
     "execution_count": 97,
     "metadata": {},
     "output_type": "execute_result"
    }
   ],
   "source": [
    "train_df = pd.read_csv('train.csv')\n",
    "train_df.columns"
   ]
  },
  {
   "cell_type": "code",
   "execution_count": 123,
   "metadata": {
    "ExecuteTime": {
     "end_time": "2021-01-08T10:29:06.804043Z",
     "start_time": "2021-01-08T10:29:06.772444Z"
    }
   },
   "outputs": [
    {
     "data": {
      "text/html": [
       "<div>\n",
       "<style scoped>\n",
       "    .dataframe tbody tr th:only-of-type {\n",
       "        vertical-align: middle;\n",
       "    }\n",
       "\n",
       "    .dataframe tbody tr th {\n",
       "        vertical-align: top;\n",
       "    }\n",
       "\n",
       "    .dataframe thead th {\n",
       "        text-align: right;\n",
       "    }\n",
       "</style>\n",
       "<table border=\"1\" class=\"dataframe\">\n",
       "  <thead>\n",
       "    <tr style=\"text-align: right;\">\n",
       "      <th></th>\n",
       "      <th>arrival_date_year</th>\n",
       "      <th>arrival_date_week_number</th>\n",
       "    </tr>\n",
       "  </thead>\n",
       "  <tbody>\n",
       "    <tr>\n",
       "      <th>0</th>\n",
       "      <td>2015</td>\n",
       "      <td>27</td>\n",
       "    </tr>\n",
       "    <tr>\n",
       "      <th>1</th>\n",
       "      <td>2015</td>\n",
       "      <td>27</td>\n",
       "    </tr>\n",
       "    <tr>\n",
       "      <th>2</th>\n",
       "      <td>2015</td>\n",
       "      <td>27</td>\n",
       "    </tr>\n",
       "    <tr>\n",
       "      <th>3</th>\n",
       "      <td>2015</td>\n",
       "      <td>27</td>\n",
       "    </tr>\n",
       "    <tr>\n",
       "      <th>4</th>\n",
       "      <td>2015</td>\n",
       "      <td>27</td>\n",
       "    </tr>\n",
       "    <tr>\n",
       "      <th>...</th>\n",
       "      <td>...</td>\n",
       "      <td>...</td>\n",
       "    </tr>\n",
       "    <tr>\n",
       "      <th>91526</th>\n",
       "      <td>2017</td>\n",
       "      <td>13</td>\n",
       "    </tr>\n",
       "    <tr>\n",
       "      <th>91527</th>\n",
       "      <td>2017</td>\n",
       "      <td>13</td>\n",
       "    </tr>\n",
       "    <tr>\n",
       "      <th>91528</th>\n",
       "      <td>2017</td>\n",
       "      <td>13</td>\n",
       "    </tr>\n",
       "    <tr>\n",
       "      <th>91529</th>\n",
       "      <td>2017</td>\n",
       "      <td>13</td>\n",
       "    </tr>\n",
       "    <tr>\n",
       "      <th>91530</th>\n",
       "      <td>2017</td>\n",
       "      <td>13</td>\n",
       "    </tr>\n",
       "  </tbody>\n",
       "</table>\n",
       "<p>91531 rows × 2 columns</p>\n",
       "</div>"
      ],
      "text/plain": [
       "       arrival_date_year  arrival_date_week_number\n",
       "0                   2015                        27\n",
       "1                   2015                        27\n",
       "2                   2015                        27\n",
       "3                   2015                        27\n",
       "4                   2015                        27\n",
       "...                  ...                       ...\n",
       "91526               2017                        13\n",
       "91527               2017                        13\n",
       "91528               2017                        13\n",
       "91529               2017                        13\n",
       "91530               2017                        13\n",
       "\n",
       "[91531 rows x 2 columns]"
      ]
     },
     "execution_count": 123,
     "metadata": {},
     "output_type": "execute_result"
    }
   ],
   "source": [
    "train_df = train_df.sort_values(['arrival_date_year','arrival_date_week_number'])\n",
    "time = DataFrame(train_df, columns=['arrival_date_year','arrival_date_week_number'])\n",
    "time"
   ]
  },
  {
   "cell_type": "code",
   "execution_count": 124,
   "metadata": {
    "ExecuteTime": {
     "end_time": "2021-01-08T10:29:07.553150Z",
     "start_time": "2021-01-08T10:29:07.499122Z"
    }
   },
   "outputs": [
    {
     "data": {
      "text/plain": [
       "0        201527\n",
       "1        201527\n",
       "2        201527\n",
       "3        201527\n",
       "4        201527\n",
       "          ...  \n",
       "91526    201713\n",
       "91527    201713\n",
       "91528    201713\n",
       "91529    201713\n",
       "91530    201713\n",
       "Length: 91531, dtype: object"
      ]
     },
     "execution_count": 124,
     "metadata": {},
     "output_type": "execute_result"
    }
   ],
   "source": [
    "time = time['arrival_date_year'].map(str) + time['arrival_date_week_number'].map(str)\n",
    "time"
   ]
  },
  {
   "cell_type": "code",
   "execution_count": 125,
   "metadata": {
    "ExecuteTime": {
     "end_time": "2021-01-08T10:29:09.048225Z",
     "start_time": "2021-01-08T10:29:09.043554Z"
    }
   },
   "outputs": [
    {
     "data": {
      "text/plain": [
       "0        -6.305161\n",
       "1        75.052227\n",
       "2        74.546401\n",
       "3        76.376288\n",
       "4        49.411647\n",
       "           ...    \n",
       "91526    79.223571\n",
       "91527    -6.822102\n",
       "91528    90.814554\n",
       "91529    38.135565\n",
       "91530    58.196470\n",
       "Name: adr, Length: 91531, dtype: float64"
      ]
     },
     "execution_count": 125,
     "metadata": {},
     "output_type": "execute_result"
    }
   ],
   "source": [
    "y = train_df.adr\n",
    "y"
   ]
  },
  {
   "cell_type": "code",
   "execution_count": 135,
   "metadata": {
    "ExecuteTime": {
     "end_time": "2021-01-08T10:42:31.670616Z",
     "start_time": "2021-01-08T10:42:31.653362Z"
    }
   },
   "outputs": [
    {
     "data": {
      "text/html": [
       "<div>\n",
       "<style scoped>\n",
       "    .dataframe tbody tr th:only-of-type {\n",
       "        vertical-align: middle;\n",
       "    }\n",
       "\n",
       "    .dataframe tbody tr th {\n",
       "        vertical-align: top;\n",
       "    }\n",
       "\n",
       "    .dataframe thead th {\n",
       "        text-align: right;\n",
       "    }\n",
       "</style>\n",
       "<table border=\"1\" class=\"dataframe\">\n",
       "  <thead>\n",
       "    <tr style=\"text-align: right;\">\n",
       "      <th></th>\n",
       "      <th>adr</th>\n",
       "    </tr>\n",
       "    <tr>\n",
       "      <th>FullDate</th>\n",
       "      <th></th>\n",
       "    </tr>\n",
       "  </thead>\n",
       "  <tbody>\n",
       "    <tr>\n",
       "      <th>201527</th>\n",
       "      <td>70.864034</td>\n",
       "    </tr>\n",
       "    <tr>\n",
       "      <th>201528</th>\n",
       "      <td>78.238336</td>\n",
       "    </tr>\n",
       "    <tr>\n",
       "      <th>201529</th>\n",
       "      <td>88.446551</td>\n",
       "    </tr>\n",
       "    <tr>\n",
       "      <th>201530</th>\n",
       "      <td>86.492289</td>\n",
       "    </tr>\n",
       "    <tr>\n",
       "      <th>201531</th>\n",
       "      <td>102.008878</td>\n",
       "    </tr>\n",
       "    <tr>\n",
       "      <th>...</th>\n",
       "      <td>...</td>\n",
       "    </tr>\n",
       "    <tr>\n",
       "      <th>20175</th>\n",
       "      <td>66.133509</td>\n",
       "    </tr>\n",
       "    <tr>\n",
       "      <th>20176</th>\n",
       "      <td>70.074227</td>\n",
       "    </tr>\n",
       "    <tr>\n",
       "      <th>20177</th>\n",
       "      <td>76.010833</td>\n",
       "    </tr>\n",
       "    <tr>\n",
       "      <th>20178</th>\n",
       "      <td>72.787684</td>\n",
       "    </tr>\n",
       "    <tr>\n",
       "      <th>20179</th>\n",
       "      <td>73.542674</td>\n",
       "    </tr>\n",
       "  </tbody>\n",
       "</table>\n",
       "<p>93 rows × 1 columns</p>\n",
       "</div>"
      ],
      "text/plain": [
       "                 adr\n",
       "FullDate            \n",
       "201527     70.864034\n",
       "201528     78.238336\n",
       "201529     88.446551\n",
       "201530     86.492289\n",
       "201531    102.008878\n",
       "...              ...\n",
       "20175      66.133509\n",
       "20176      70.074227\n",
       "20177      76.010833\n",
       "20178      72.787684\n",
       "20179      73.542674\n",
       "\n",
       "[93 rows x 1 columns]"
      ]
     },
     "execution_count": 135,
     "metadata": {},
     "output_type": "execute_result"
    }
   ],
   "source": [
    "df = DataFrame(time, columns=['FullDate'])\n",
    "df = pd.concat([df,y],axis=1)\n",
    "df2 = df.groupby('FullDate').agg(\"mean\")\n",
    "df2.sort_values(['FullDate'],ascending=True)"
   ]
  },
  {
   "cell_type": "code",
   "execution_count": 142,
   "metadata": {
    "ExecuteTime": {
     "end_time": "2021-01-08T10:46:02.522561Z",
     "start_time": "2021-01-08T10:46:02.519543Z"
    }
   },
   "outputs": [],
   "source": [
    "data = DataFrame(df2['adr'])\n",
    "data = np.array(data)"
   ]
  },
  {
   "cell_type": "code",
   "execution_count": 149,
   "metadata": {
    "ExecuteTime": {
     "end_time": "2021-01-08T10:50:22.517106Z",
     "start_time": "2021-01-08T10:50:22.512190Z"
    }
   },
   "outputs": [
    {
     "data": {
      "text/plain": [
       "array([[ 72.79404684],\n",
       "       [100.61980023],\n",
       "       [ 64.38748635],\n",
       "       [ 68.0491035 ],\n",
       "       [ 70.32209519],\n",
       "       [ 67.43628328],\n",
       "       [ 76.12889178],\n",
       "       [ 70.01701388],\n",
       "       [ 76.10760056],\n",
       "       [ 77.44344977],\n",
       "       [ 77.72360182],\n",
       "       [ 68.55953851],\n",
       "       [ 67.54411231],\n",
       "       [ 68.19398537],\n",
       "       [ 66.13350938],\n",
       "       [ 70.07422733],\n",
       "       [ 76.01083303],\n",
       "       [ 72.78768379],\n",
       "       [ 73.54267408]])"
      ]
     },
     "execution_count": 149,
     "metadata": {},
     "output_type": "execute_result"
    }
   ],
   "source": [
    "train_size = int(len(data) * 0.8)\n",
    "val_size = len(data) - train_size\n",
    "train, val = data[0:train_size,:], data[train_size:len(data),:]\n",
    "val"
   ]
  },
  {
   "cell_type": "code",
   "execution_count": 145,
   "metadata": {
    "ExecuteTime": {
     "end_time": "2021-01-08T10:46:52.841021Z",
     "start_time": "2021-01-08T10:46:52.837068Z"
    }
   },
   "outputs": [],
   "source": [
    "def create_dataset(df, previous=1):\n",
    "    dataX, dataY = [], []\n",
    "    for i in range(len(df)-previous-1):\n",
    "        a = df[i:(i+previous), 0]\n",
    "        dataX.append(a)\n",
    "        dataY.append(df[i + previous, 0])\n",
    "    return np.array(dataX), np.array(dataY)"
   ]
  },
  {
   "cell_type": "code",
   "execution_count": 152,
   "metadata": {
    "ExecuteTime": {
     "end_time": "2021-01-08T10:51:11.316001Z",
     "start_time": "2021-01-08T10:51:11.310348Z"
    }
   },
   "outputs": [
    {
     "data": {
      "text/plain": [
       "array([[0.24071067],\n",
       "       [0.32350017],\n",
       "       [0.43810532],\n",
       "       [0.41616529],\n",
       "       [0.59036626],\n",
       "       [0.42404448],\n",
       "       [0.55384733],\n",
       "       [0.66071405],\n",
       "       [0.46770768],\n",
       "       [0.31536425],\n",
       "       [0.35052668],\n",
       "       [0.24010636],\n",
       "       [0.63936174],\n",
       "       [0.34809463],\n",
       "       [0.27277845],\n",
       "       [0.22083133],\n",
       "       [0.26735224],\n",
       "       [0.22308892],\n",
       "       [0.09057161],\n",
       "       [0.07799931],\n",
       "       [0.        ],\n",
       "       [0.08857531],\n",
       "       [0.19088189],\n",
       "       [0.18603801],\n",
       "       [0.06333629],\n",
       "       [0.11170213],\n",
       "       [0.45374935],\n",
       "       [0.44397267],\n",
       "       [0.21949879],\n",
       "       [0.18539971],\n",
       "       [0.21076089],\n",
       "       [0.46491343],\n",
       "       [0.27817073],\n",
       "       [0.30690348],\n",
       "       [0.39506785],\n",
       "       [0.36298835],\n",
       "       [0.37889242],\n",
       "       [0.37655511],\n",
       "       [0.10335951],\n",
       "       [0.37196794],\n",
       "       [0.40060833],\n",
       "       [0.46514671],\n",
       "       [0.48710412],\n",
       "       [0.56079281],\n",
       "       [0.56420187],\n",
       "       [0.43412876],\n",
       "       [0.57865019],\n",
       "       [0.65753127],\n",
       "       [0.73962356],\n",
       "       [0.07730859],\n",
       "       [0.7526294 ],\n",
       "       [0.79107788],\n",
       "       [0.90982344],\n",
       "       [0.97175654],\n",
       "       [1.        ],\n",
       "       [0.89297516],\n",
       "       [0.70158858],\n",
       "       [0.61745938],\n",
       "       [0.632213  ],\n",
       "       [0.57027326],\n",
       "       [0.12876866],\n",
       "       [0.51877744],\n",
       "       [0.44338558],\n",
       "       [0.41110605],\n",
       "       [0.34379641],\n",
       "       [0.33441142],\n",
       "       [0.28284798],\n",
       "       [0.40347857],\n",
       "       [0.22372524],\n",
       "       [0.19930089],\n",
       "       [0.22661766],\n",
       "       [0.1461988 ],\n",
       "       [0.27070018],\n",
       "       [0.1525257 ]])"
      ]
     },
     "execution_count": 152,
     "metadata": {},
     "output_type": "execute_result"
    }
   ],
   "source": [
    "scaler = MinMaxScaler(feature_range=(0,1))\n",
    "data_train = scaler.fit_transform(train)\n",
    "data_train"
   ]
  },
  {
   "cell_type": "code",
   "execution_count": 153,
   "metadata": {
    "ExecuteTime": {
     "end_time": "2021-01-08T10:51:20.369798Z",
     "start_time": "2021-01-08T10:51:20.365541Z"
    }
   },
   "outputs": [
    {
     "data": {
      "text/plain": [
       "array([[0.23201832],\n",
       "       [1.        ],\n",
       "       [0.        ],\n",
       "       [0.10105943],\n",
       "       [0.16379326],\n",
       "       [0.0841458 ],\n",
       "       [0.32405895],\n",
       "       [0.15537312],\n",
       "       [0.32347131],\n",
       "       [0.36034032],\n",
       "       [0.36807242],\n",
       "       [0.11514727],\n",
       "       [0.08712184],\n",
       "       [0.10505813],\n",
       "       [0.04818966],\n",
       "       [0.15695219],\n",
       "       [0.32080056],\n",
       "       [0.2318427 ],\n",
       "       [0.25268018]])"
      ]
     },
     "execution_count": 153,
     "metadata": {},
     "output_type": "execute_result"
    }
   ],
   "source": [
    "data_val = scaler.fit_transform(val)\n",
    "data_val"
   ]
  },
  {
   "cell_type": "code",
   "execution_count": 180,
   "metadata": {
    "ExecuteTime": {
     "end_time": "2021-01-08T11:00:43.795842Z",
     "start_time": "2021-01-08T11:00:43.791166Z"
    }
   },
   "outputs": [],
   "source": [
    "lookback = 5\n",
    "X_train, Y_train = create_dataset(data_train, lookback)\n",
    "X_val, Y_val = create_dataset(data_val, lookback)"
   ]
  },
  {
   "cell_type": "code",
   "execution_count": 181,
   "metadata": {
    "ExecuteTime": {
     "end_time": "2021-01-08T11:00:44.508438Z",
     "start_time": "2021-01-08T11:00:44.503247Z"
    }
   },
   "outputs": [],
   "source": [
    "X_train = np.reshape(X_train, (X_train.shape[0], 1, X_train.shape[1]))\n",
    "X_val = np.reshape(X_val, (X_val.shape[0], 1, X_val.shape[1]))\n"
   ]
  },
  {
   "cell_type": "code",
   "execution_count": 182,
   "metadata": {
    "ExecuteTime": {
     "end_time": "2021-01-08T11:00:45.061265Z",
     "start_time": "2021-01-08T11:00:45.058214Z"
    }
   },
   "outputs": [
    {
     "data": {
      "text/plain": [
       "1"
      ]
     },
     "execution_count": 182,
     "metadata": {},
     "output_type": "execute_result"
    }
   ],
   "source": [
    "X_train.shape[1]"
   ]
  },
  {
   "cell_type": "code",
   "execution_count": 183,
   "metadata": {
    "ExecuteTime": {
     "end_time": "2021-01-08T11:00:55.404930Z",
     "start_time": "2021-01-08T11:00:45.743896Z"
    }
   },
   "outputs": [
    {
     "name": "stdout",
     "output_type": "stream",
     "text": [
      "Epoch 1/100\n",
      "54/54 - 1s - loss: 0.1871 - val_loss: 0.0410\n",
      "Epoch 2/100\n",
      "54/54 - 0s - loss: 0.1055 - val_loss: 0.0166\n",
      "Epoch 3/100\n",
      "54/54 - 0s - loss: 0.0686 - val_loss: 0.0139\n",
      "Epoch 4/100\n",
      "54/54 - 0s - loss: 0.0527 - val_loss: 0.0203\n",
      "Epoch 5/100\n",
      "54/54 - 0s - loss: 0.0464 - val_loss: 0.0229\n",
      "Epoch 6/100\n",
      "54/54 - 0s - loss: 0.0432 - val_loss: 0.0293\n",
      "Epoch 7/100\n",
      "54/54 - 0s - loss: 0.0418 - val_loss: 0.0321\n",
      "Epoch 8/100\n",
      "54/54 - 0s - loss: 0.0398 - val_loss: 0.0292\n",
      "Epoch 9/100\n",
      "54/54 - 0s - loss: 0.0390 - val_loss: 0.0286\n",
      "Epoch 10/100\n",
      "54/54 - 0s - loss: 0.0380 - val_loss: 0.0313\n",
      "Epoch 11/100\n",
      "54/54 - 0s - loss: 0.0376 - val_loss: 0.0273\n",
      "Epoch 12/100\n",
      "54/54 - 0s - loss: 0.0357 - val_loss: 0.0310\n",
      "Epoch 13/100\n",
      "54/54 - 0s - loss: 0.0352 - val_loss: 0.0288\n",
      "Epoch 14/100\n",
      "54/54 - 0s - loss: 0.0342 - val_loss: 0.0310\n",
      "Epoch 15/100\n",
      "54/54 - 0s - loss: 0.0334 - val_loss: 0.0302\n",
      "Epoch 16/100\n",
      "54/54 - 0s - loss: 0.0328 - val_loss: 0.0300\n",
      "Epoch 17/100\n",
      "54/54 - 0s - loss: 0.0327 - val_loss: 0.0324\n",
      "Epoch 18/100\n",
      "54/54 - 0s - loss: 0.0320 - val_loss: 0.0321\n",
      "Epoch 19/100\n",
      "54/54 - 0s - loss: 0.0318 - val_loss: 0.0287\n",
      "Epoch 20/100\n",
      "54/54 - 0s - loss: 0.0314 - val_loss: 0.0287\n",
      "Epoch 21/100\n",
      "54/54 - 0s - loss: 0.0314 - val_loss: 0.0283\n",
      "Epoch 22/100\n",
      "54/54 - 0s - loss: 0.0308 - val_loss: 0.0304\n",
      "Epoch 23/100\n",
      "54/54 - 0s - loss: 0.0310 - val_loss: 0.0286\n",
      "Epoch 24/100\n",
      "54/54 - 0s - loss: 0.0306 - val_loss: 0.0324\n",
      "Epoch 25/100\n",
      "54/54 - 0s - loss: 0.0303 - val_loss: 0.0301\n",
      "Epoch 26/100\n",
      "54/54 - 0s - loss: 0.0301 - val_loss: 0.0308\n",
      "Epoch 27/100\n",
      "54/54 - 0s - loss: 0.0299 - val_loss: 0.0297\n",
      "Epoch 28/100\n",
      "54/54 - 0s - loss: 0.0300 - val_loss: 0.0307\n",
      "Epoch 29/100\n",
      "54/54 - 0s - loss: 0.0301 - val_loss: 0.0336\n",
      "Epoch 30/100\n",
      "54/54 - 0s - loss: 0.0300 - val_loss: 0.0305\n",
      "Epoch 31/100\n",
      "54/54 - 0s - loss: 0.0296 - val_loss: 0.0304\n",
      "Epoch 32/100\n",
      "54/54 - 0s - loss: 0.0298 - val_loss: 0.0308\n",
      "Epoch 33/100\n",
      "54/54 - 0s - loss: 0.0298 - val_loss: 0.0304\n",
      "Epoch 34/100\n",
      "54/54 - 0s - loss: 0.0293 - val_loss: 0.0308\n",
      "Epoch 35/100\n",
      "54/54 - 0s - loss: 0.0293 - val_loss: 0.0296\n",
      "Epoch 36/100\n",
      "54/54 - 0s - loss: 0.0299 - val_loss: 0.0314\n",
      "Epoch 37/100\n",
      "54/54 - 0s - loss: 0.0303 - val_loss: 0.0304\n",
      "Epoch 38/100\n",
      "54/54 - 0s - loss: 0.0296 - val_loss: 0.0309\n",
      "Epoch 39/100\n",
      "54/54 - 0s - loss: 0.0293 - val_loss: 0.0282\n",
      "Epoch 40/100\n",
      "54/54 - 0s - loss: 0.0292 - val_loss: 0.0293\n",
      "Epoch 41/100\n",
      "54/54 - 0s - loss: 0.0290 - val_loss: 0.0263\n",
      "Epoch 42/100\n",
      "54/54 - 0s - loss: 0.0293 - val_loss: 0.0296\n",
      "Epoch 43/100\n",
      "54/54 - 0s - loss: 0.0290 - val_loss: 0.0295\n",
      "Epoch 44/100\n",
      "54/54 - 0s - loss: 0.0286 - val_loss: 0.0316\n",
      "Epoch 45/100\n",
      "54/54 - 0s - loss: 0.0289 - val_loss: 0.0317\n",
      "Epoch 46/100\n",
      "54/54 - 0s - loss: 0.0287 - val_loss: 0.0281\n",
      "Epoch 47/100\n",
      "54/54 - 0s - loss: 0.0285 - val_loss: 0.0285\n",
      "Epoch 48/100\n",
      "54/54 - 0s - loss: 0.0284 - val_loss: 0.0282\n",
      "Epoch 49/100\n",
      "54/54 - 0s - loss: 0.0284 - val_loss: 0.0286\n",
      "Epoch 50/100\n",
      "54/54 - 0s - loss: 0.0285 - val_loss: 0.0285\n",
      "Epoch 51/100\n",
      "54/54 - 0s - loss: 0.0283 - val_loss: 0.0285\n",
      "Epoch 52/100\n",
      "54/54 - 0s - loss: 0.0283 - val_loss: 0.0275\n",
      "Epoch 53/100\n",
      "54/54 - 0s - loss: 0.0281 - val_loss: 0.0289\n",
      "Epoch 54/100\n",
      "54/54 - 0s - loss: 0.0283 - val_loss: 0.0276\n",
      "Epoch 55/100\n",
      "54/54 - 0s - loss: 0.0284 - val_loss: 0.0287\n",
      "Epoch 56/100\n",
      "54/54 - 0s - loss: 0.0290 - val_loss: 0.0263\n",
      "Epoch 57/100\n",
      "54/54 - 0s - loss: 0.0281 - val_loss: 0.0278\n",
      "Epoch 58/100\n",
      "54/54 - 0s - loss: 0.0281 - val_loss: 0.0250\n",
      "Epoch 59/100\n",
      "54/54 - 0s - loss: 0.0281 - val_loss: 0.0292\n",
      "Epoch 60/100\n",
      "54/54 - 0s - loss: 0.0279 - val_loss: 0.0282\n",
      "Epoch 61/100\n",
      "54/54 - 0s - loss: 0.0280 - val_loss: 0.0271\n",
      "Epoch 62/100\n",
      "54/54 - 0s - loss: 0.0281 - val_loss: 0.0256\n",
      "Epoch 63/100\n",
      "54/54 - 0s - loss: 0.0278 - val_loss: 0.0269\n",
      "Epoch 64/100\n",
      "54/54 - 0s - loss: 0.0286 - val_loss: 0.0296\n",
      "Epoch 65/100\n",
      "54/54 - 0s - loss: 0.0278 - val_loss: 0.0259\n",
      "Epoch 66/100\n",
      "54/54 - 0s - loss: 0.0279 - val_loss: 0.0276\n",
      "Epoch 67/100\n",
      "54/54 - 0s - loss: 0.0276 - val_loss: 0.0291\n",
      "Epoch 68/100\n",
      "54/54 - 0s - loss: 0.0280 - val_loss: 0.0282\n",
      "Epoch 69/100\n",
      "54/54 - 0s - loss: 0.0283 - val_loss: 0.0263\n",
      "Epoch 70/100\n",
      "54/54 - 0s - loss: 0.0280 - val_loss: 0.0254\n",
      "Epoch 71/100\n",
      "54/54 - 0s - loss: 0.0276 - val_loss: 0.0273\n",
      "Epoch 72/100\n",
      "54/54 - 0s - loss: 0.0281 - val_loss: 0.0267\n",
      "Epoch 73/100\n",
      "54/54 - 0s - loss: 0.0281 - val_loss: 0.0258\n",
      "Epoch 74/100\n",
      "54/54 - 0s - loss: 0.0278 - val_loss: 0.0253\n",
      "Epoch 75/100\n",
      "54/54 - 0s - loss: 0.0276 - val_loss: 0.0258\n",
      "Epoch 76/100\n",
      "54/54 - 0s - loss: 0.0278 - val_loss: 0.0269\n",
      "Epoch 77/100\n",
      "54/54 - 0s - loss: 0.0274 - val_loss: 0.0252\n",
      "Epoch 78/100\n",
      "54/54 - 0s - loss: 0.0275 - val_loss: 0.0257\n",
      "Epoch 79/100\n",
      "54/54 - 0s - loss: 0.0276 - val_loss: 0.0259\n",
      "Epoch 80/100\n",
      "54/54 - 0s - loss: 0.0277 - val_loss: 0.0270\n",
      "Epoch 81/100\n",
      "54/54 - 0s - loss: 0.0276 - val_loss: 0.0272\n",
      "Epoch 82/100\n",
      "54/54 - 0s - loss: 0.0277 - val_loss: 0.0270\n",
      "Epoch 83/100\n",
      "54/54 - 0s - loss: 0.0276 - val_loss: 0.0260\n",
      "Epoch 84/100\n",
      "54/54 - 0s - loss: 0.0273 - val_loss: 0.0267\n",
      "Epoch 85/100\n",
      "54/54 - 0s - loss: 0.0273 - val_loss: 0.0258\n",
      "Epoch 86/100\n",
      "54/54 - 0s - loss: 0.0278 - val_loss: 0.0292\n",
      "Epoch 87/100\n",
      "54/54 - 0s - loss: 0.0280 - val_loss: 0.0270\n",
      "Epoch 88/100\n",
      "54/54 - 0s - loss: 0.0274 - val_loss: 0.0287\n",
      "Epoch 89/100\n",
      "54/54 - 0s - loss: 0.0274 - val_loss: 0.0252\n",
      "Epoch 90/100\n",
      "54/54 - 0s - loss: 0.0276 - val_loss: 0.0271\n",
      "Epoch 91/100\n",
      "54/54 - 0s - loss: 0.0275 - val_loss: 0.0285\n",
      "Epoch 92/100\n",
      "54/54 - 0s - loss: 0.0273 - val_loss: 0.0260\n",
      "Epoch 93/100\n",
      "54/54 - 0s - loss: 0.0278 - val_loss: 0.0275\n",
      "Epoch 94/100\n",
      "54/54 - 0s - loss: 0.0274 - val_loss: 0.0280\n",
      "Epoch 95/100\n",
      "54/54 - 0s - loss: 0.0272 - val_loss: 0.0270\n",
      "Epoch 96/100\n",
      "54/54 - 0s - loss: 0.0274 - val_loss: 0.0279\n",
      "Epoch 97/100\n",
      "54/54 - 0s - loss: 0.0271 - val_loss: 0.0242\n",
      "Epoch 98/100\n",
      "54/54 - 0s - loss: 0.0275 - val_loss: 0.0267\n",
      "Epoch 99/100\n",
      "54/54 - 0s - loss: 0.0273 - val_loss: 0.0285\n",
      "Epoch 100/100\n",
      "54/54 - 0s - loss: 0.0273 - val_loss: 0.0273\n",
      "dict_keys(['loss', 'val_loss'])\n"
     ]
    },
    {
     "data": {
      "image/png": "[encoded data removed]",
      "text/plain": [
       "<Figure size 432x288 with 1 Axes>"
      ]
     },
     "metadata": {
      "needs_background": "light"
     },
     "output_type": "display_data"
    }
   ],
   "source": [
    "model = tf.keras.Sequential()\n",
    "model.add(LSTM(4, input_shape=(1, lookback)))\n",
    "model.add(Dense(1))\n",
    "model.compile(loss='mean_squared_error', optimizer='adam')\n",
    "history=model.fit(X_train, Y_train, validation_split=0.2, epochs=100, batch_size=1, verbose=2)\n",
    "\n",
    "# list all data in history\n",
    "print(history.history.keys())\n",
    "# summarize history for accuracy\n",
    "plt.plot(history.history['loss'])\n",
    "plt.plot(history.history['val_loss'])\n",
    "plt.title('model loss')\n",
    "plt.ylabel('loss')\n",
    "plt.xlabel('epoch')\n",
    "plt.legend(['train', 'val'], loc='upper left')\n",
    "plt.show()"
   ]
  },
  {
   "cell_type": "code",
   "execution_count": 184,
   "metadata": {
    "ExecuteTime": {
     "end_time": "2021-01-08T11:01:00.416236Z",
     "start_time": "2021-01-08T11:01:00.037530Z"
    }
   },
   "outputs": [],
   "source": [
    "trainpred = model.predict(X_train)\n",
    "valpred = model.predict(X_val)"
   ]
  },
  {
   "cell_type": "code",
   "execution_count": 185,
   "metadata": {
    "ExecuteTime": {
     "end_time": "2021-01-08T11:01:09.966334Z",
     "start_time": "2021-01-08T11:01:09.958406Z"
    }
   },
   "outputs": [
    {
     "data": {
      "text/plain": [
       "array([[77.34904 ],\n",
       "       [70.99594 ],\n",
       "       [72.34072 ],\n",
       "       [72.14207 ],\n",
       "       [73.48344 ],\n",
       "       [76.71235 ],\n",
       "       [76.62707 ],\n",
       "       [74.135124],\n",
       "       [72.25053 ],\n",
       "       [71.628494],\n",
       "       [68.914055],\n",
       "       [69.488716],\n",
       "       [72.57512 ]], dtype=float32)"
      ]
     },
     "execution_count": 185,
     "metadata": {},
     "output_type": "execute_result"
    }
   ],
   "source": [
    "trainpred = scaler.inverse_transform(trainpred)\n",
    "Y_train = scaler.inverse_transform([Y_train])\n",
    "valpred = scaler.inverse_transform(valpred)\n",
    "Y_val = scaler.inverse_transform([Y_val])\n",
    "predictions = valpred\n",
    "predictions"
   ]
  },
  {
   "cell_type": "code",
   "execution_count": 173,
   "metadata": {
    "ExecuteTime": {
     "end_time": "2021-01-08T10:57:51.431719Z",
     "start_time": "2021-01-08T10:57:51.427400Z"
    }
   },
   "outputs": [
    {
     "name": "stdout",
     "output_type": "stream",
     "text": [
      "Train Score: 5.96 RMSE\n",
      "Validation Score: 4.97 RMSE\n"
     ]
    }
   ],
   "source": [
    "trainScore = math.sqrt(mean_squared_error(Y_train[0], trainpred[:,0]))\n",
    "print('Train Score: %.2f RMSE' % (trainScore))\n",
    "valScore = math.sqrt(mean_squared_error(Y_val[0], valpred[:,0]))\n",
    "print('Validation Score: %.2f RMSE' % (valScore))"
   ]
  },
  {
   "cell_type": "code",
   "execution_count": null,
   "metadata": {},
   "outputs": [],
   "source": []
  }
 ],
 "metadata": {
  "kernelspec": {
   "display_name": "Python 3",
   "language": "python",
   "name": "python3"
  },
  "language_info": {
   "codemirror_mode": {
    "name": "ipython",
    "version": 3
   },
   "file_extension": ".py",
   "mimetype": "text/x-python",
   "name": "python",
   "nbconvert_exporter": "python",
   "pygments_lexer": "ipython3",
   "version": "3.7.7"
  },
  "varInspector": {
   "cols": {
    "lenName": 16,
    "lenType": 16,
    "lenVar": 40
   },
   "kernels_config": {
    "python": {
     "delete_cmd_postfix": "",
     "delete_cmd_prefix": "del ",
     "library": "var_list.py",
     "varRefreshCmd": "print(var_dic_list())"
    },
    "r": {
     "delete_cmd_postfix": ") ",
     "delete_cmd_prefix": "rm(",
     "library": "var_list.r",
     "varRefreshCmd": "cat(var_dic_list()) "
    }
   },
   "types_to_exclude": [
    "module",
    "function",
    "builtin_function_or_method",
    "instance",
    "_Feature"
   ],
   "window_display": false
  }
 },
 "nbformat": 4,
 "nbformat_minor": 4
}
