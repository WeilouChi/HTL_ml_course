{
 "cells": [
  {
   "cell_type": "code",
   "execution_count": 1,
   "metadata": {
    "ExecuteTime": {
     "end_time": "2021-05-25T15:09:06.445237Z",
     "start_time": "2021-05-25T15:09:05.453959Z"
    }
   },
   "outputs": [
    {
     "ename": "ModuleNotFoundError",
     "evalue": "No module named 'kmodes'",
     "output_type": "error",
     "traceback": [
      "\u001b[0;31m---------------------------------------------------------------------------\u001b[0m",
      "\u001b[0;31mModuleNotFoundError\u001b[0m                       Traceback (most recent call last)",
      "\u001b[0;32m<ipython-input-1-a91b3af431b9>\u001b[0m in \u001b[0;36m<module>\u001b[0;34m\u001b[0m\n\u001b[1;32m      2\u001b[0m \u001b[0;32mimport\u001b[0m \u001b[0mnumpy\u001b[0m \u001b[0;32mas\u001b[0m \u001b[0mnp\u001b[0m\u001b[0;34m\u001b[0m\u001b[0;34m\u001b[0m\u001b[0m\n\u001b[1;32m      3\u001b[0m \u001b[0;32mimport\u001b[0m \u001b[0mmatplotlib\u001b[0m\u001b[0;34m.\u001b[0m\u001b[0mpyplot\u001b[0m \u001b[0;32mas\u001b[0m \u001b[0mplt\u001b[0m\u001b[0;34m\u001b[0m\u001b[0;34m\u001b[0m\u001b[0m\n\u001b[0;32m----> 4\u001b[0;31m \u001b[0;32mfrom\u001b[0m \u001b[0mkmodes\u001b[0m\u001b[0;34m.\u001b[0m\u001b[0mkprototypes\u001b[0m \u001b[0;32mimport\u001b[0m \u001b[0mKPrototypes\u001b[0m\u001b[0;34m\u001b[0m\u001b[0;34m\u001b[0m\u001b[0m\n\u001b[0m\u001b[1;32m      5\u001b[0m \u001b[0;32mfrom\u001b[0m \u001b[0msklearn\u001b[0m\u001b[0;34m.\u001b[0m\u001b[0mmodel_selection\u001b[0m \u001b[0;32mimport\u001b[0m \u001b[0mtrain_test_split\u001b[0m\u001b[0;34m,\u001b[0m \u001b[0mGridSearchCV\u001b[0m\u001b[0;34m,\u001b[0m \u001b[0mcross_val_score\u001b[0m\u001b[0;34m,\u001b[0m \u001b[0mStratifiedKFold\u001b[0m\u001b[0;34m\u001b[0m\u001b[0;34m\u001b[0m\u001b[0m\n\u001b[1;32m      6\u001b[0m \u001b[0;32mfrom\u001b[0m \u001b[0msklearn\u001b[0m\u001b[0;34m.\u001b[0m\u001b[0mtree\u001b[0m \u001b[0;32mimport\u001b[0m \u001b[0mDecisionTreeClassifier\u001b[0m\u001b[0;34m\u001b[0m\u001b[0;34m\u001b[0m\u001b[0m\n",
      "\u001b[0;31mModuleNotFoundError\u001b[0m: No module named 'kmodes'"
     ]
    }
   ],
   "source": [
    "import pandas as pd\n",
    "import numpy as np \n",
    "import matplotlib.pyplot as plt\n",
    "from kmodes.kprototypes import KPrototypes\n",
    "from sklearn.model_selection import train_test_split, GridSearchCV, cross_val_score, StratifiedKFold\n",
    "from sklearn.tree import DecisionTreeClassifier\n",
    "from sklearn.preprocessing import LabelEncoder\n",
    "from sklearn.ensemble import BaggingClassifier, RandomForestClassifier\n",
    "from sklearn.ensemble import RandomForestRegressor\n",
    "from sklearn.metrics import confusion_matrix\n",
    "\n",
    "from sklearn.preprocessing import StandardScaler\n",
    "from sklearn.preprocessing import MinMaxScaler\n",
    "from tensorflow.keras.models import Sequential\n",
    "from tensorflow.keras.layers import Dense, Dropout\n",
    "from tensorflow.keras.wrappers.scikit_learn import KerasRegressor\n",
    "from tensorflow.keras.callbacks import EarlyStopping\n",
    "\n",
    "import statsmodels.api as sm\n",
    "import statsmodels.formula.api as smf\n",
    "RANDOM_STATE = 42"
   ]
  },
  {
   "cell_type": "code",
   "execution_count": 46,
   "metadata": {
    "ExecuteTime": {
     "end_time": "2021-01-08T19:06:09.558730Z",
     "start_time": "2021-01-08T19:06:09.554860Z"
    }
   },
   "outputs": [],
   "source": [
    "pd.set_option('display.max_columns', None)"
   ]
  },
  {
   "cell_type": "code",
   "execution_count": 48,
   "metadata": {
    "ExecuteTime": {
     "end_time": "2021-01-08T19:18:05.887233Z",
     "start_time": "2021-01-08T19:06:29.307558Z"
    }
   },
   "outputs": [],
   "source": [
    "def format_lenght(date):\n",
    "    return date[0]\n",
    "def K_Prototypes(X):\n",
    "    kproto_4 = KPrototypes(n_clusters=4, init='Huang', verbose=0, random_state=42, n_jobs=-1)\n",
    "    clusters = kproto_4.fit_predict(X, categorical=[3, 11, 12, 13, 14, 17, 18, 20, 22])\n",
    "    return clusters\n",
    "\n",
    "df = pd.read_csv('train.csv')\n",
    "df = df.drop(columns=['ID','adr'])\n",
    "df.dropna(subset=['children'], inplace=True)\n",
    "df['country']=df['country'].fillna(df['country'].value_counts().index[0]) \n",
    "df['reservation_status_date'] = pd.to_datetime(df['reservation_status_date'])\n",
    "df['hotel'] = np.where(df['hotel']=='City Hotel',1,0)\n",
    "df['arrival_date_full'] = df['arrival_date_year'].astype(str) + \"-\" + df['arrival_date_month'].map({'January':1, 'February':2, 'March':3, 'April':4, 'May':5, 'June':6, 'July':7, 'August':8, 'September':9, 'October':10, 'November':11, 'December':12}).astype(str) + \"-\" + df['arrival_date_day_of_month'].astype(str)\n",
    "df['arrival_date_full'] = pd.to_datetime(df['arrival_date_full'], format=\"%Y-%m-%d\")\n",
    "df['status_minus_arrival_date'] = df['stays_in_week_nights'] + df['stays_in_weekend_nights']\n",
    "X = df.drop(columns=['is_canceled', 'reservation_status', 'agent', 'company', 'country', 'reservation_status_date', 'arrival_date_full'])\n",
    "clusters = K_Prototypes(X)\n",
    "df['clusters'] = clusters\n",
    "df = pd.get_dummies(df, columns=[ 'meal', 'market_segment', 'distribution_channel', 'reserved_room_type', 'assigned_room_type', 'deposit_type', 'customer_type','country'])\n",
    "x = df.drop(columns=['is_canceled','arrival_date_year','arrival_date_month','reservation_status', 'agent', 'company', \n",
    "                 'reservation_status_date', 'arrival_date_full'])\n",
    "y = df['is_canceled']\n",
    "x_train, x_test, y_train, y_test = train_test_split(x, y, random_state=RANDOM_STATE, \n",
    "                                                stratify=y, test_size=0.2)"
   ]
  },
  {
   "cell_type": "code",
   "execution_count": 49,
   "metadata": {
    "ExecuteTime": {
     "end_time": "2021-01-08T19:24:31.181691Z",
     "start_time": "2021-01-08T19:21:21.862325Z"
    }
   },
   "outputs": [],
   "source": [
    "df = pd.read_csv('test.csv')\n",
    "df = df.drop(columns=['ID'])\n",
    "#df['agent'] = df['agent'].fillna('No_Agent')\n",
    "#df['company'] = df['company'].fillna('No_Company')\n",
    "#df['country'].fillna(\"unknown\", inplace=True)  \n",
    "#df['reservation_status_date'] = pd.to_datetime(df['reservation_status_date'])\n",
    "df['country']=df['country'].fillna(df['country'].value_counts().index[0]) \n",
    "df['hotel'] = np.where(df['hotel']=='City Hotel',1,0)\n",
    "df['arrival_date_full'] = df['arrival_date_year'].astype(str) + \"-\" + df['arrival_date_month'].map({'January':1, 'February':2, 'March':3, 'April':4, 'May':5, 'June':6, 'July':7, 'August':8, 'September':9, 'October':10, 'November':11, 'December':12}).astype(str) + \"-\" + df['arrival_date_day_of_month'].astype(str)\n",
    "df['arrival_date_full'] = pd.to_datetime(df['arrival_date_full'], format=\"%Y-%m-%d\")\n",
    "df['status_minus_arrival_date'] = df['stays_in_week_nights'] + df['stays_in_weekend_nights']\n",
    "X = df.drop(columns=['agent', 'company', 'country', 'arrival_date_full'])\n",
    "clusters = K_Prototypes(X)\n",
    "df['clusters'] = clusters\n",
    "df = pd.get_dummies(df, columns=['meal', 'market_segment', 'distribution_channel', 'reserved_room_type', 'assigned_room_type', 'deposit_type', 'customer_type','country'])\n",
    "test = df.drop(columns=['arrival_date_year','arrival_date_month', 'agent', 'company',  'arrival_date_full'])\n"
   ]
  },
  {
   "cell_type": "code",
   "execution_count": 50,
   "metadata": {
    "ExecuteTime": {
     "end_time": "2021-01-08T19:26:04.761403Z",
     "start_time": "2021-01-08T19:26:04.756982Z"
    }
   },
   "outputs": [],
   "source": [
    "def missing_col(x_train,x_pred):\n",
    "    missing_cols = set( x_train.columns ) - set( x_pred.columns )\n",
    "\n",
    "    for c in missing_cols:\n",
    "        x_pred[c] = 0\n",
    "\n",
    "    x_pred = x_pred[x_train.columns]\n",
    "    return x_pred"
   ]
  },
  {
   "cell_type": "code",
   "execution_count": 51,
   "metadata": {
    "ExecuteTime": {
     "end_time": "2021-01-08T19:26:06.762657Z",
     "start_time": "2021-01-08T19:26:06.713604Z"
    }
   },
   "outputs": [],
   "source": [
    "x_pred = missing_col(x_train, test)"
   ]
  },
  {
   "cell_type": "code",
   "execution_count": 52,
   "metadata": {
    "ExecuteTime": {
     "end_time": "2021-01-08T19:28:13.382083Z",
     "start_time": "2021-01-08T19:26:09.074135Z"
    }
   },
   "outputs": [],
   "source": [
    "bc_params = {\n",
    "    'n_estimators': [45], \n",
    "    'max_features': [0.8]\n",
    "}\n",
    "\n",
    "# Perform Grid Search\n",
    "bc_gs = GridSearchCV(BaggingClassifier(random_state=RANDOM_STATE),\n",
    "                 bc_params,\n",
    "                 cv = 5,\n",
    "                 scoring = 'accuracy')\n",
    "bc = bc_gs.fit(x_train, y_train)"
   ]
  },
  {
   "cell_type": "code",
   "execution_count": null,
   "metadata": {
    "ExecuteTime": {
     "end_time": "2021-01-08T14:40:09.304352Z",
     "start_time": "2021-01-08T14:40:09.296655Z"
    }
   },
   "outputs": [],
   "source": []
  },
  {
   "cell_type": "code",
   "execution_count": 53,
   "metadata": {
    "ExecuteTime": {
     "end_time": "2021-01-08T19:34:55.295691Z",
     "start_time": "2021-01-08T19:34:51.456544Z"
    }
   },
   "outputs": [
    {
     "name": "stdout",
     "output_type": "stream",
     "text": [
      "Best Training Accuracy: 0.9944414853662201\n",
      "Best Testing Accuracy: 0.8980115809024364\n"
     ]
    }
   ],
   "source": [
    "print(f'Best Training Accuracy: {bc.score(x_train, y_train)}')\n",
    "print(f'Best Testing Accuracy: {bc.score(x_test, y_test)}')"
   ]
  },
  {
   "cell_type": "code",
   "execution_count": 57,
   "metadata": {
    "ExecuteTime": {
     "end_time": "2021-01-09T07:09:17.484774Z",
     "start_time": "2021-01-09T07:09:16.327897Z"
    }
   },
   "outputs": [
    {
     "data": {
      "text/plain": [
       "array([0, 1, 0, ..., 0, 0, 0])"
      ]
     },
     "execution_count": 57,
     "metadata": {},
     "output_type": "execute_result"
    }
   ],
   "source": [
    "y_pred = bc.predict(x_pred)\n",
    "y_pred"
   ]
  },
  {
   "cell_type": "code",
   "execution_count": 58,
   "metadata": {
    "ExecuteTime": {
     "end_time": "2021-01-09T07:09:20.634139Z",
     "start_time": "2021-01-09T07:09:20.587289Z"
    }
   },
   "outputs": [],
   "source": [
    "can = pd.read_csv('cancelled')\n",
    "can['bg'] = y_pred\n",
    "can.to_csv('cancelled',index=False)"
   ]
  },
  {
   "cell_type": "markdown",
   "metadata": {},
   "source": [
    "# NN"
   ]
  },
  {
   "cell_type": "code",
   "execution_count": 10,
   "metadata": {
    "ExecuteTime": {
     "end_time": "2021-01-08T14:32:10.522278Z",
     "start_time": "2021-01-08T14:32:10.513964Z"
    }
   },
   "outputs": [
    {
     "data": {
      "text/plain": [
       "(73221, 227)"
      ]
     },
     "execution_count": 10,
     "metadata": {},
     "output_type": "execute_result"
    }
   ],
   "source": [
    "x_train.shape"
   ]
  },
  {
   "cell_type": "code",
   "execution_count": 22,
   "metadata": {
    "ExecuteTime": {
     "end_time": "2021-01-08T14:40:48.381591Z",
     "start_time": "2021-01-08T14:40:48.374177Z"
    }
   },
   "outputs": [
    {
     "data": {
      "text/plain": [
       "13023    1\n",
       "5058     0\n",
       "1604     1\n",
       "36792    1\n",
       "19805    0\n",
       "        ..\n",
       "60086    1\n",
       "89884    0\n",
       "68538    0\n",
       "90122    0\n",
       "76982    0\n",
       "Name: is_canceled, Length: 73221, dtype: int64"
      ]
     },
     "execution_count": 22,
     "metadata": {},
     "output_type": "execute_result"
    }
   ],
   "source": []
  },
  {
   "cell_type": "code",
   "execution_count": 13,
   "metadata": {
    "ExecuteTime": {
     "end_time": "2021-01-08T14:34:05.481672Z",
     "start_time": "2021-01-08T14:33:54.042232Z"
    }
   },
   "outputs": [],
   "source": [
    "ss = StandardScaler()\n",
    "X_train_sc = ss.fit_transform(x_train)\n",
    "X_test_sc = ss.transform(x_test)\n",
    "\n",
    "# Creating our model's structure\n",
    "model = Sequential()\n",
    "model.add(Dense(64, activation='relu', input_shape=(227,)))\n",
    "model.add(Dropout(0.18))\n",
    "model.add(Dense(32, activation='relu'))\n",
    "model.add(Dropout(0.15))\n",
    "model.add(Dense(1, activation='sigmoid'))\n",
    "es = EarlyStopping(monitor='val_loss', patience=5) \n",
    "\n",
    "# Compiling the model\n",
    "model.compile(loss='bce',\n",
    "              optimizer='adam',\n",
    "              metrics=['binary_accuracy'])\n",
    "\n",
    "# Fitting the model\n",
    "history = model.fit(X_train_sc,\n",
    "                    y_train, \n",
    "                    batch_size = 256,\n",
    "                    validation_data =(X_test_sc, y_test),\n",
    "                    epochs = 500,\n",
    "                    verbose = 0,\n",
    "                    callbacks=[es])"
   ]
  },
  {
   "cell_type": "code",
   "execution_count": 14,
   "metadata": {
    "ExecuteTime": {
     "end_time": "2021-01-08T14:34:25.830850Z",
     "start_time": "2021-01-08T14:34:25.579441Z"
    }
   },
   "outputs": [
    {
     "data": {
      "image/png": "[encoded data removed]",
      "text/plain": [
       "<Figure size 720x360 with 1 Axes>"
      ]
     },
     "metadata": {
      "needs_background": "light"
     },
     "output_type": "display_data"
    }
   ],
   "source": [
    "train_loss = history.history['loss']\n",
    "test_loss = history.history['val_loss']\n",
    "\n",
    "# Visualizing our training and testing loss by epoch\n",
    "plt.figure(figsize=(10, 5))\n",
    "plt.plot(train_loss, label='Training Loss', color='#185fad')\n",
    "plt.plot(test_loss, label='Testing Loss', color='orange')\n",
    "plt.title('Training and Testing Loss by Epoch', fontsize = 20)\n",
    "plt.xlabel('Epoch', fontsize = 11)\n",
    "plt.ylabel('Binary Crossentropy', fontsize = 11)\n",
    "plt.legend(fontsize = 11);\n"
   ]
  },
  {
   "cell_type": "code",
   "execution_count": 15,
   "metadata": {
    "ExecuteTime": {
     "end_time": "2021-01-08T14:34:55.806562Z",
     "start_time": "2021-01-08T14:34:54.242288Z"
    }
   },
   "outputs": [
    {
     "name": "stdout",
     "output_type": "stream",
     "text": [
      "2289/2289 [==============================] - 1s 488us/step - loss: 0.2608 - binary_accuracy: 0.8815\n",
      "573/573 [==============================] - 0s 470us/step - loss: 0.2873 - binary_accuracy: 0.8706\n",
      "\n",
      "Training Accuracy: 0.8814547657966614\n",
      "Testing Accuracy: 0.8706434965133667\n"
     ]
    }
   ],
   "source": [
    "train_score = model.evaluate(X_train_sc,\n",
    "                       y_train,\n",
    "                       verbose=1)\n",
    "test_score = model.evaluate(X_test_sc,\n",
    "                       y_test,\n",
    "                       verbose=1)\n",
    "labels = model.metrics_names\n",
    "\n",
    "print('')\n",
    "print(f'Training Accuracy: {train_score[1]}')\n",
    "print(f'Testing Accuracy: {test_score[1]}')\n"
   ]
  },
  {
   "cell_type": "code",
   "execution_count": 19,
   "metadata": {
    "ExecuteTime": {
     "end_time": "2021-01-08T14:38:08.399421Z",
     "start_time": "2021-01-08T14:38:07.929138Z"
    }
   },
   "outputs": [
    {
     "data": {
      "text/plain": [
       "array([[0.99999934],\n",
       "       [1.        ],\n",
       "       [0.6682858 ],\n",
       "       ...,\n",
       "       [0.97712314],\n",
       "       [1.        ],\n",
       "       [0.6313936 ]], dtype=float32)"
      ]
     },
     "execution_count": 19,
     "metadata": {},
     "output_type": "execute_result"
    }
   ],
   "source": [
    "y_nn = model.predict(x_pred)\n",
    "y_nn"
   ]
  },
  {
   "cell_type": "markdown",
   "metadata": {},
   "source": [
    "# adr"
   ]
  },
  {
   "cell_type": "code",
   "execution_count": 23,
   "metadata": {
    "ExecuteTime": {
     "end_time": "2021-01-08T15:27:32.354041Z",
     "start_time": "2021-01-08T15:27:31.956849Z"
    }
   },
   "outputs": [],
   "source": [
    "adr_df = pd.read_csv('train.csv')\n",
    "adr_df = adr_df.drop(columns=['ID','is_canceled','arrival_date_year','arrival_date_month','reservation_status', 'reservation_status_date'])\n",
    "adr_df.dropna(subset=['children'], inplace=True)\n",
    "adr_df['country']=adr_df['country'].fillna(adr_df['country'].value_counts().index[0])\n",
    "adr_df['agent']=adr_df['agent'].fillna(adr_df['agent'].value_counts().index[0])\n",
    "adr_df['company']=adr_df['company'].fillna(0)\n",
    "adr_df['children']=adr_df['children'].fillna(adr_df['children'].median())\n",
    "adr_df['children'] = adr_df['children'].astype(int)   \n",
    "adr_df['hotel'] = np.where(adr_df['hotel']=='City Hotel',1,0)\n",
    "adr_df['status_minus_arrival_date'] = adr_df['stays_in_week_nights'] + adr_df['stays_in_weekend_nights']\n",
    "# X = df.drop(columns=['country','adr'])\n",
    "# clusters = K_Prototypes(X)\n",
    "# df['clusters'] = clusters\n",
    "adr_df.agent = adr_df.agent.astype(\"category\").cat.codes\n",
    "adr_df.company = adr_df.company.astype(\"category\").cat.codes\n",
    "adr_df.country = adr_df.country.astype(\"category\").cat.codes\n",
    "adr_df.meal = adr_df.meal.astype(\"category\").cat.codes\n",
    "adr_df.market_segment = adr_df.market_segment.astype(\"category\").cat.codes\n",
    "adr_df.distribution_channel = adr_df.distribution_channel.astype(\"category\").cat.codes\n",
    "adr_df.reserved_room_type = adr_df.reserved_room_type.astype(\"category\").cat.codes\n",
    "adr_df.assigned_room_type = adr_df.assigned_room_type.astype(\"category\").cat.codes\n",
    "adr_df.deposit_type = adr_df.deposit_type.astype(\"category\").cat.codes\n",
    "adr_df.customer_type = adr_df.customer_type.astype(\"category\").cat.codes\n",
    "x_adr = adr_df.drop(columns=['adr'])\n",
    "y_adr = adr_df['adr']\n",
    "x_train_adr, x_val_adr, y_train_adr, y_val_adr = train_test_split(x_adr, y_adr, random_state=42)"
   ]
  },
  {
   "cell_type": "code",
   "execution_count": 24,
   "metadata": {
    "ExecuteTime": {
     "end_time": "2021-01-08T15:27:41.417094Z",
     "start_time": "2021-01-08T15:27:41.330238Z"
    }
   },
   "outputs": [],
   "source": [
    "ytrain = np.reshape(y_train_adr.values,(-1,1))\n",
    "yval = np.reshape(y_val_adr.values,(-1,1))\n",
    "scaler_x = StandardScaler()\n",
    "scaler_y = StandardScaler()\n",
    "\n",
    "xtrain_scale= scaler_x.fit_transform(x_train_adr)\n",
    "xval_scale=scaler_x.transform(x_val_adr)\n",
    "\n",
    "ytrain_scale=scaler_y.fit_transform(ytrain)\n",
    "yval_scale=scaler_y.transform(yval)"
   ]
  },
  {
   "cell_type": "code",
   "execution_count": 56,
   "metadata": {
    "ExecuteTime": {
     "end_time": "2021-01-08T15:53:26.046314Z",
     "start_time": "2021-01-08T15:51:17.290083Z"
    }
   },
   "outputs": [
    {
     "name": "stderr",
     "output_type": "stream",
     "text": [
      "/usr/local/lib/python3.7/site-packages/sklearn/model_selection/_validation.py:531: DataConversionWarning: A column-vector y was passed when a 1d array was expected. Please change the shape of y to (n_samples,), for example using ravel().\n",
      "  estimator.fit(X_train, y_train, **fit_params)\n",
      "/usr/local/lib/python3.7/site-packages/sklearn/model_selection/_validation.py:531: DataConversionWarning: A column-vector y was passed when a 1d array was expected. Please change the shape of y to (n_samples,), for example using ravel().\n",
      "  estimator.fit(X_train, y_train, **fit_params)\n",
      "/usr/local/lib/python3.7/site-packages/sklearn/model_selection/_validation.py:531: DataConversionWarning: A column-vector y was passed when a 1d array was expected. Please change the shape of y to (n_samples,), for example using ravel().\n",
      "  estimator.fit(X_train, y_train, **fit_params)\n",
      "/usr/local/lib/python3.7/site-packages/sklearn/model_selection/_validation.py:531: DataConversionWarning: A column-vector y was passed when a 1d array was expected. Please change the shape of y to (n_samples,), for example using ravel().\n",
      "  estimator.fit(X_train, y_train, **fit_params)\n",
      "/usr/local/lib/python3.7/site-packages/sklearn/model_selection/_validation.py:531: DataConversionWarning: A column-vector y was passed when a 1d array was expected. Please change the shape of y to (n_samples,), for example using ravel().\n",
      "  estimator.fit(X_train, y_train, **fit_params)\n",
      "/usr/local/lib/python3.7/site-packages/sklearn/model_selection/_search.py:765: DataConversionWarning: A column-vector y was passed when a 1d array was expected. Please change the shape of y to (n_samples,), for example using ravel().\n",
      "  self.best_estimator_.fit(X, y, **fit_params)\n"
     ]
    }
   ],
   "source": [
    "rf_params = {\n",
    "    'n_estimators': [150],  \n",
    "    'max_depth': [13]\n",
    "}\n",
    "\n",
    "# Perform Grid Search\n",
    "rf_gs = GridSearchCV(RandomForestRegressor(random_state=RANDOM_STATE),\n",
    "                 rf_params,\n",
    "                 cv = 5)\n",
    "rf = rf_gs.fit(xtrain_scale, ytrain_scale)"
   ]
  },
  {
   "cell_type": "code",
   "execution_count": 57,
   "metadata": {
    "ExecuteTime": {
     "end_time": "2021-01-08T15:53:34.682217Z",
     "start_time": "2021-01-08T15:53:33.149892Z"
    }
   },
   "outputs": [
    {
     "name": "stdout",
     "output_type": "stream",
     "text": [
      "Best Training Accuracy: 0.8428305199115691\n",
      "Best Testing Accuracy: 0.8060240553601413\n"
     ]
    }
   ],
   "source": [
    "print(f'Best Training Accuracy: {rf.score(xtrain_scale, ytrain_scale)}')\n",
    "print(f'Best Testing Accuracy: {rf.score(xval_scale, yval_scale)}')"
   ]
  },
  {
   "cell_type": "code",
   "execution_count": 26,
   "metadata": {
    "ExecuteTime": {
     "end_time": "2021-01-08T15:33:35.201410Z",
     "start_time": "2021-01-08T15:32:50.091578Z"
    }
   },
   "outputs": [
    {
     "name": "stderr",
     "output_type": "stream",
     "text": [
      "/usr/local/lib/python3.7/site-packages/ipykernel_launcher.py:2: DataConversionWarning: A column-vector y was passed when a 1d array was expected. Please change the shape of y to (n_samples,), for example using ravel().\n",
      "  \n"
     ]
    },
    {
     "name": "stdout",
     "output_type": "stream",
     "text": [
      "Best Training Accuracy: 0.9470359412407718\n",
      "Best Testing Accuracy: 0.849300185604761\n"
     ]
    }
   ],
   "source": [
    "rtg = RandomForestRegressor(n_estimators=150)\n",
    "rtg_m = rtg.fit(xtrain_scale,ytrain_scale)\n",
    "print(f'Best Training Accuracy: {rtg_m.score(xtrain_scale, ytrain_scale)}')\n",
    "print(f'Best Testing Accuracy: {rtg_m.score(xval_scale, yval_scale)}')"
   ]
  },
  {
   "cell_type": "code",
   "execution_count": 27,
   "metadata": {
    "ExecuteTime": {
     "end_time": "2021-01-08T15:34:19.400467Z",
     "start_time": "2021-01-08T15:34:19.246691Z"
    }
   },
   "outputs": [],
   "source": [
    "adr_test = pd.read_csv('test.csv')\n",
    "adr_test = adr_test.drop(columns=['ID','arrival_date_year','arrival_date_month'])\n",
    "adr_test.dropna(subset=['children'], inplace=True)\n",
    "adr_test['country']=adr_test['country'].fillna(adr_test['country'].value_counts().index[0])\n",
    "adr_test['agent']=adr_test['agent'].fillna(adr_test['agent'].value_counts().index[0])\n",
    "adr_test['company']=adr_test['company'].fillna(0)\n",
    "adr_test['children']=adr_test['children'].fillna(adr_test['children'].median())\n",
    "adr_test['children'] = adr_test['children'].astype(int)   \n",
    "adr_test['hotel'] = np.where(adr_test['hotel']=='City Hotel',1,0)\n",
    "adr_test['status_minus_arrival_date'] = adr_test['stays_in_week_nights'] + adr_test['stays_in_weekend_nights']\n",
    "adr_test.agent = adr_test.agent.astype(\"category\").cat.codes\n",
    "adr_test.company = adr_test.company.astype(\"category\").cat.codes\n",
    "adr_test.country = adr_test.country.astype(\"category\").cat.codes\n",
    "adr_test.meal = adr_test.meal.astype(\"category\").cat.codes\n",
    "adr_test.market_segment = adr_test.market_segment.astype(\"category\").cat.codes\n",
    "adr_test.distribution_channel = adr_test.distribution_channel.astype(\"category\").cat.codes\n",
    "adr_test.reserved_room_type = adr_test.reserved_room_type.astype(\"category\").cat.codes\n",
    "adr_test.assigned_room_type = adr_test.assigned_room_type.astype(\"category\").cat.codes\n",
    "adr_test.deposit_type = adr_test.deposit_type.astype(\"category\").cat.codes\n",
    "adr_test.customer_type = adr_test.customer_type.astype(\"category\").cat.codes"
   ]
  },
  {
   "cell_type": "code",
   "execution_count": 28,
   "metadata": {
    "ExecuteTime": {
     "end_time": "2021-01-08T15:34:32.772911Z",
     "start_time": "2021-01-08T15:34:32.746484Z"
    }
   },
   "outputs": [
    {
     "data": {
      "text/plain": [
       "array([[ 0.7202746 , -0.20334735, -1.01029741, ..., -0.2629512 ,\n",
       "         0.61678056,  1.41876756],\n",
       "       [ 0.7202746 ,  1.05881274, -1.01029741, ..., -0.2629512 ,\n",
       "         0.61678056,  4.13513012],\n",
       "       [-1.38835939, -0.80121265, -1.01029741, ..., -0.2629512 ,\n",
       "         0.61678056,  1.41876756],\n",
       "       ...,\n",
       "       [-1.38835939, -0.75376303,  0.45335969, ..., -0.2629512 ,\n",
       "         1.92128208, -0.13343962],\n",
       "       [-1.38835939,  0.897484  ,  0.45335969, ..., -0.2629512 ,\n",
       "        -0.68772096,  1.41876756],\n",
       "       [ 0.7202746 , -0.88662198,  0.45335969, ..., -0.2629512 ,\n",
       "         4.53028511, -0.90954321]])"
      ]
     },
     "execution_count": 28,
     "metadata": {},
     "output_type": "execute_result"
    }
   ],
   "source": [
    "adr_test = scaler_x.transform(adr_test)\n",
    "adr_test"
   ]
  },
  {
   "cell_type": "code",
   "execution_count": 32,
   "metadata": {
    "ExecuteTime": {
     "end_time": "2021-01-08T15:35:38.701199Z",
     "start_time": "2021-01-08T15:35:38.009308Z"
    }
   },
   "outputs": [
    {
     "data": {
      "text/plain": [
       "array([ 89.07974018,  65.81875973,  58.88809428, ..., 142.6791027 ,\n",
       "        84.16416825, 101.58543046])"
      ]
     },
     "execution_count": 32,
     "metadata": {},
     "output_type": "execute_result"
    }
   ],
   "source": [
    "adr_pred = rtg_m.predict(adr_test)\n",
    "fin_adr = scaler_y.inverse_transform(adr_pred)\n",
    "fin_adr"
   ]
  },
  {
   "cell_type": "code",
   "execution_count": 44,
   "metadata": {
    "ExecuteTime": {
     "end_time": "2021-01-08T15:42:28.712730Z",
     "start_time": "2021-01-08T15:42:28.701401Z"
    }
   },
   "outputs": [
    {
     "data": {
      "text/plain": [
       "0        0\n",
       "1        1\n",
       "2        1\n",
       "3        0\n",
       "4        1\n",
       "        ..\n",
       "27854    0\n",
       "27855    0\n",
       "27856    1\n",
       "27857    0\n",
       "27858    1\n",
       "Name: 0, Length: 27859, dtype: int64"
      ]
     },
     "execution_count": 44,
     "metadata": {},
     "output_type": "execute_result"
    }
   ],
   "source": [
    "can_df = pd.read_csv('cancelled')\n",
    "can_df['0']"
   ]
  },
  {
   "cell_type": "code",
   "execution_count": 45,
   "metadata": {
    "ExecuteTime": {
     "end_time": "2021-01-08T15:45:46.486069Z",
     "start_time": "2021-01-08T15:45:46.480093Z"
    }
   },
   "outputs": [],
   "source": [
    "final = pd.DataFrame(fin_adr , columns=['adr'])\n",
    "final['cancel'] = can_df['0']\n",
    "final['cancel'] = np.where(final['cancel']==0,1,0)"
   ]
  },
  {
   "cell_type": "code",
   "execution_count": 46,
   "metadata": {
    "ExecuteTime": {
     "end_time": "2021-01-08T15:45:47.716243Z",
     "start_time": "2021-01-08T15:45:47.573254Z"
    }
   },
   "outputs": [],
   "source": [
    "df = pd.read_csv('test.csv')\n",
    "df['arrival_date_full'] = df['arrival_date_year'].astype(str) + \"-\" + df['arrival_date_month'].map({'January':1, 'February':2, 'March':3, 'April':4, 'May':5, 'June':6, 'July':7, 'August':8, 'September':9, 'October':10, 'November':11, 'December':12}).astype(str) + \"-\" + df['arrival_date_day_of_month'].astype(str)\n",
    "df['arrival_date_full'] = pd.to_datetime(df['arrival_date_full'], format=\"%Y-%m-%d\")\n",
    "df['status_minus_arrival_date'] = df['stays_in_week_nights'] + df['stays_in_weekend_nights']"
   ]
  },
  {
   "cell_type": "code",
   "execution_count": 47,
   "metadata": {
    "ExecuteTime": {
     "end_time": "2021-01-08T15:45:48.741499Z",
     "start_time": "2021-01-08T15:45:48.736915Z"
    }
   },
   "outputs": [],
   "source": [
    "final['arrival_date_full'] = df['arrival_date_full']\n",
    "final['status_minus_arrival_date'] = df['status_minus_arrival_date'].astype(int)"
   ]
  },
  {
   "cell_type": "code",
   "execution_count": 48,
   "metadata": {
    "ExecuteTime": {
     "end_time": "2021-01-08T15:45:49.782981Z",
     "start_time": "2021-01-08T15:45:49.771803Z"
    }
   },
   "outputs": [],
   "source": [
    "final['score'] = (final['status_minus_arrival_date'] * final['cancel'] * final['adr'])\n",
    "final = final.groupby(final.arrival_date_full).sum().astype(int)\n",
    "final['score'] = ((final['score'])/10000).astype(int)"
   ]
  },
  {
   "cell_type": "code",
   "execution_count": 49,
   "metadata": {
    "ExecuteTime": {
     "end_time": "2021-01-08T15:45:50.882733Z",
     "start_time": "2021-01-08T15:45:50.877825Z"
    }
   },
   "outputs": [
    {
     "data": {
      "text/plain": [
       "array([3, 2, 3, 1, 2, 2, 2, 4, 5, 4, 3, 2, 4, 4, 3, 3, 3, 1, 3, 2, 3, 4,\n",
       "       3, 3, 1, 1, 2, 5, 6, 3, 4, 3, 2, 3, 4, 4, 3, 4, 2, 2, 4, 2, 3, 4,\n",
       "       3, 2, 3, 4, 3, 3, 4, 3, 2, 4, 5, 2, 2, 4, 3, 2, 2, 3, 3, 3, 3, 5,\n",
       "       3, 2, 4, 3, 3, 5, 4, 3, 3, 4, 3, 4, 4, 4, 3, 3, 3, 3, 3, 3, 4, 3,\n",
       "       2, 3, 3, 5, 4, 6, 5, 3, 4, 3, 4, 5, 5, 5, 3, 4, 4, 7, 6, 7, 4, 3,\n",
       "       3, 4, 6, 6, 6, 4, 4, 4, 4, 6, 5, 6, 5, 4, 6, 4, 6, 6, 8, 4, 4, 4,\n",
       "       4, 7, 5, 6, 4, 5, 6, 5, 6, 6, 5, 3, 4, 4, 4, 6, 5, 7, 3, 2, 4])"
      ]
     },
     "execution_count": 49,
     "metadata": {},
     "output_type": "execute_result"
    }
   ],
   "source": [
    "final.score.values"
   ]
  },
  {
   "cell_type": "code",
   "execution_count": 50,
   "metadata": {
    "ExecuteTime": {
     "end_time": "2021-01-08T15:45:54.220601Z",
     "start_time": "2021-01-08T15:45:54.210513Z"
    }
   },
   "outputs": [],
   "source": [
    "ans = pd.read_csv('test_nolabel.csv')\n",
    "ans['label'] = final.score.values\n",
    "ans.to_csv('final_ans_rfg.csv',index=False)"
   ]
  },
  {
   "cell_type": "markdown",
   "metadata": {},
   "source": [
    "# NN"
   ]
  },
  {
   "cell_type": "code",
   "execution_count": 39,
   "metadata": {
    "ExecuteTime": {
     "end_time": "2021-01-08T18:29:33.788404Z",
     "start_time": "2021-01-08T18:29:33.480610Z"
    }
   },
   "outputs": [
    {
     "data": {
      "text/plain": [
       "Index(['ID', 'hotel', 'is_canceled', 'lead_time', 'arrival_date_year',\n",
       "       'arrival_date_month', 'arrival_date_week_number',\n",
       "       'arrival_date_day_of_month', 'stays_in_weekend_nights',\n",
       "       'stays_in_week_nights', 'adults', 'children', 'babies', 'meal',\n",
       "       'country', 'market_segment', 'distribution_channel',\n",
       "       'is_repeated_guest', 'previous_cancellations',\n",
       "       'previous_bookings_not_canceled', 'reserved_room_type',\n",
       "       'assigned_room_type', 'booking_changes', 'deposit_type', 'agent',\n",
       "       'company', 'days_in_waiting_list', 'customer_type', 'adr',\n",
       "       'required_car_parking_spaces', 'total_of_special_requests',\n",
       "       'reservation_status', 'reservation_status_date'],\n",
       "      dtype='object')"
      ]
     },
     "execution_count": 39,
     "metadata": {},
     "output_type": "execute_result"
    }
   ],
   "source": [
    "train_df = pd.read_csv('train.csv')\n",
    "train_df = train_df.drop(index=[31980,79721])\n",
    "a=train_df.head()\n",
    "b=train_df\n",
    "b.columns"
   ]
  },
  {
   "cell_type": "code",
   "execution_count": 40,
   "metadata": {
    "ExecuteTime": {
     "end_time": "2021-01-08T18:29:34.224703Z",
     "start_time": "2021-01-08T18:29:34.218278Z"
    }
   },
   "outputs": [
    {
     "data": {
      "text/plain": [
       "0         True\n",
       "1         True\n",
       "2         True\n",
       "3         True\n",
       "4         True\n",
       "         ...  \n",
       "91526    False\n",
       "91527     True\n",
       "91528     True\n",
       "91529     True\n",
       "91530     True\n",
       "Name: is_canceled, Length: 91529, dtype: bool"
      ]
     },
     "execution_count": 40,
     "metadata": {},
     "output_type": "execute_result"
    }
   ],
   "source": [
    "filtereddf = b['is_canceled']==0\n",
    "filtereddf"
   ]
  },
  {
   "cell_type": "code",
   "execution_count": 41,
   "metadata": {
    "ExecuteTime": {
     "end_time": "2021-01-08T18:29:35.003141Z",
     "start_time": "2021-01-08T18:29:34.950739Z"
    }
   },
   "outputs": [
    {
     "data": {
      "text/html": [
       "<div>\n",
       "<style scoped>\n",
       "    .dataframe tbody tr th:only-of-type {\n",
       "        vertical-align: middle;\n",
       "    }\n",
       "\n",
       "    .dataframe tbody tr th {\n",
       "        vertical-align: top;\n",
       "    }\n",
       "\n",
       "    .dataframe thead th {\n",
       "        text-align: right;\n",
       "    }\n",
       "</style>\n",
       "<table border=\"1\" class=\"dataframe\">\n",
       "  <thead>\n",
       "    <tr style=\"text-align: right;\">\n",
       "      <th></th>\n",
       "      <th>ID</th>\n",
       "      <th>hotel</th>\n",
       "      <th>is_canceled</th>\n",
       "      <th>lead_time</th>\n",
       "      <th>arrival_date_year</th>\n",
       "      <th>arrival_date_month</th>\n",
       "      <th>arrival_date_week_number</th>\n",
       "      <th>arrival_date_day_of_month</th>\n",
       "      <th>stays_in_weekend_nights</th>\n",
       "      <th>stays_in_week_nights</th>\n",
       "      <th>adults</th>\n",
       "      <th>children</th>\n",
       "      <th>babies</th>\n",
       "      <th>meal</th>\n",
       "      <th>country</th>\n",
       "      <th>market_segment</th>\n",
       "      <th>distribution_channel</th>\n",
       "      <th>is_repeated_guest</th>\n",
       "      <th>previous_cancellations</th>\n",
       "      <th>previous_bookings_not_canceled</th>\n",
       "      <th>reserved_room_type</th>\n",
       "      <th>assigned_room_type</th>\n",
       "      <th>booking_changes</th>\n",
       "      <th>deposit_type</th>\n",
       "      <th>agent</th>\n",
       "      <th>company</th>\n",
       "      <th>days_in_waiting_list</th>\n",
       "      <th>customer_type</th>\n",
       "      <th>adr</th>\n",
       "      <th>required_car_parking_spaces</th>\n",
       "      <th>total_of_special_requests</th>\n",
       "      <th>reservation_status</th>\n",
       "      <th>reservation_status_date</th>\n",
       "    </tr>\n",
       "  </thead>\n",
       "  <tbody>\n",
       "    <tr>\n",
       "      <th>0</th>\n",
       "      <td>0</td>\n",
       "      <td>Resort Hotel</td>\n",
       "      <td>0</td>\n",
       "      <td>342</td>\n",
       "      <td>2015</td>\n",
       "      <td>July</td>\n",
       "      <td>27</td>\n",
       "      <td>1</td>\n",
       "      <td>0</td>\n",
       "      <td>0</td>\n",
       "      <td>2</td>\n",
       "      <td>0.0</td>\n",
       "      <td>0</td>\n",
       "      <td>BB</td>\n",
       "      <td>PRT</td>\n",
       "      <td>Direct</td>\n",
       "      <td>Direct</td>\n",
       "      <td>0</td>\n",
       "      <td>0</td>\n",
       "      <td>0</td>\n",
       "      <td>C</td>\n",
       "      <td>C</td>\n",
       "      <td>3</td>\n",
       "      <td>No Deposit</td>\n",
       "      <td>NaN</td>\n",
       "      <td>NaN</td>\n",
       "      <td>0</td>\n",
       "      <td>Transient</td>\n",
       "      <td>-6.305161</td>\n",
       "      <td>0</td>\n",
       "      <td>0</td>\n",
       "      <td>Check-Out</td>\n",
       "      <td>2015-07-01</td>\n",
       "    </tr>\n",
       "    <tr>\n",
       "      <th>1</th>\n",
       "      <td>1</td>\n",
       "      <td>City Hotel</td>\n",
       "      <td>0</td>\n",
       "      <td>257</td>\n",
       "      <td>2015</td>\n",
       "      <td>July</td>\n",
       "      <td>27</td>\n",
       "      <td>1</td>\n",
       "      <td>0</td>\n",
       "      <td>2</td>\n",
       "      <td>1</td>\n",
       "      <td>0.0</td>\n",
       "      <td>0</td>\n",
       "      <td>HB</td>\n",
       "      <td>PRT</td>\n",
       "      <td>Offline TA/TO</td>\n",
       "      <td>TA/TO</td>\n",
       "      <td>0</td>\n",
       "      <td>0</td>\n",
       "      <td>0</td>\n",
       "      <td>A</td>\n",
       "      <td>A</td>\n",
       "      <td>1</td>\n",
       "      <td>No Deposit</td>\n",
       "      <td>6.0</td>\n",
       "      <td>NaN</td>\n",
       "      <td>0</td>\n",
       "      <td>Transient</td>\n",
       "      <td>75.052227</td>\n",
       "      <td>0</td>\n",
       "      <td>0</td>\n",
       "      <td>Check-Out</td>\n",
       "      <td>2015-07-03</td>\n",
       "    </tr>\n",
       "    <tr>\n",
       "      <th>2</th>\n",
       "      <td>2</td>\n",
       "      <td>City Hotel</td>\n",
       "      <td>0</td>\n",
       "      <td>257</td>\n",
       "      <td>2015</td>\n",
       "      <td>July</td>\n",
       "      <td>27</td>\n",
       "      <td>1</td>\n",
       "      <td>0</td>\n",
       "      <td>2</td>\n",
       "      <td>2</td>\n",
       "      <td>0.0</td>\n",
       "      <td>0</td>\n",
       "      <td>HB</td>\n",
       "      <td>PRT</td>\n",
       "      <td>Offline TA/TO</td>\n",
       "      <td>TA/TO</td>\n",
       "      <td>0</td>\n",
       "      <td>0</td>\n",
       "      <td>0</td>\n",
       "      <td>A</td>\n",
       "      <td>A</td>\n",
       "      <td>0</td>\n",
       "      <td>No Deposit</td>\n",
       "      <td>6.0</td>\n",
       "      <td>NaN</td>\n",
       "      <td>0</td>\n",
       "      <td>Transient</td>\n",
       "      <td>74.546401</td>\n",
       "      <td>0</td>\n",
       "      <td>0</td>\n",
       "      <td>Check-Out</td>\n",
       "      <td>2015-07-03</td>\n",
       "    </tr>\n",
       "    <tr>\n",
       "      <th>3</th>\n",
       "      <td>3</td>\n",
       "      <td>City Hotel</td>\n",
       "      <td>0</td>\n",
       "      <td>257</td>\n",
       "      <td>2015</td>\n",
       "      <td>July</td>\n",
       "      <td>27</td>\n",
       "      <td>1</td>\n",
       "      <td>0</td>\n",
       "      <td>2</td>\n",
       "      <td>2</td>\n",
       "      <td>0.0</td>\n",
       "      <td>0</td>\n",
       "      <td>HB</td>\n",
       "      <td>PRT</td>\n",
       "      <td>Offline TA/TO</td>\n",
       "      <td>TA/TO</td>\n",
       "      <td>0</td>\n",
       "      <td>0</td>\n",
       "      <td>0</td>\n",
       "      <td>A</td>\n",
       "      <td>A</td>\n",
       "      <td>0</td>\n",
       "      <td>No Deposit</td>\n",
       "      <td>6.0</td>\n",
       "      <td>NaN</td>\n",
       "      <td>0</td>\n",
       "      <td>Transient</td>\n",
       "      <td>76.376288</td>\n",
       "      <td>0</td>\n",
       "      <td>0</td>\n",
       "      <td>Check-Out</td>\n",
       "      <td>2015-07-03</td>\n",
       "    </tr>\n",
       "    <tr>\n",
       "      <th>4</th>\n",
       "      <td>4</td>\n",
       "      <td>City Hotel</td>\n",
       "      <td>0</td>\n",
       "      <td>257</td>\n",
       "      <td>2015</td>\n",
       "      <td>July</td>\n",
       "      <td>27</td>\n",
       "      <td>1</td>\n",
       "      <td>0</td>\n",
       "      <td>2</td>\n",
       "      <td>2</td>\n",
       "      <td>0.0</td>\n",
       "      <td>0</td>\n",
       "      <td>HB</td>\n",
       "      <td>PRT</td>\n",
       "      <td>Offline TA/TO</td>\n",
       "      <td>TA/TO</td>\n",
       "      <td>0</td>\n",
       "      <td>0</td>\n",
       "      <td>0</td>\n",
       "      <td>A</td>\n",
       "      <td>A</td>\n",
       "      <td>0</td>\n",
       "      <td>No Deposit</td>\n",
       "      <td>6.0</td>\n",
       "      <td>NaN</td>\n",
       "      <td>0</td>\n",
       "      <td>Transient</td>\n",
       "      <td>49.411647</td>\n",
       "      <td>0</td>\n",
       "      <td>0</td>\n",
       "      <td>Check-Out</td>\n",
       "      <td>2015-07-03</td>\n",
       "    </tr>\n",
       "    <tr>\n",
       "      <th>...</th>\n",
       "      <td>...</td>\n",
       "      <td>...</td>\n",
       "      <td>...</td>\n",
       "      <td>...</td>\n",
       "      <td>...</td>\n",
       "      <td>...</td>\n",
       "      <td>...</td>\n",
       "      <td>...</td>\n",
       "      <td>...</td>\n",
       "      <td>...</td>\n",
       "      <td>...</td>\n",
       "      <td>...</td>\n",
       "      <td>...</td>\n",
       "      <td>...</td>\n",
       "      <td>...</td>\n",
       "      <td>...</td>\n",
       "      <td>...</td>\n",
       "      <td>...</td>\n",
       "      <td>...</td>\n",
       "      <td>...</td>\n",
       "      <td>...</td>\n",
       "      <td>...</td>\n",
       "      <td>...</td>\n",
       "      <td>...</td>\n",
       "      <td>...</td>\n",
       "      <td>...</td>\n",
       "      <td>...</td>\n",
       "      <td>...</td>\n",
       "      <td>...</td>\n",
       "      <td>...</td>\n",
       "      <td>...</td>\n",
       "      <td>...</td>\n",
       "      <td>...</td>\n",
       "    </tr>\n",
       "    <tr>\n",
       "      <th>91525</th>\n",
       "      <td>91525</td>\n",
       "      <td>Resort Hotel</td>\n",
       "      <td>0</td>\n",
       "      <td>72</td>\n",
       "      <td>2017</td>\n",
       "      <td>March</td>\n",
       "      <td>13</td>\n",
       "      <td>31</td>\n",
       "      <td>3</td>\n",
       "      <td>7</td>\n",
       "      <td>2</td>\n",
       "      <td>0.0</td>\n",
       "      <td>0</td>\n",
       "      <td>HB</td>\n",
       "      <td>GBR</td>\n",
       "      <td>Offline TA/TO</td>\n",
       "      <td>TA/TO</td>\n",
       "      <td>0</td>\n",
       "      <td>0</td>\n",
       "      <td>0</td>\n",
       "      <td>A</td>\n",
       "      <td>E</td>\n",
       "      <td>1</td>\n",
       "      <td>No Deposit</td>\n",
       "      <td>40.0</td>\n",
       "      <td>NaN</td>\n",
       "      <td>0</td>\n",
       "      <td>Contract</td>\n",
       "      <td>79.453407</td>\n",
       "      <td>0</td>\n",
       "      <td>1</td>\n",
       "      <td>Check-Out</td>\n",
       "      <td>2017-04-10</td>\n",
       "    </tr>\n",
       "    <tr>\n",
       "      <th>91527</th>\n",
       "      <td>91527</td>\n",
       "      <td>Resort Hotel</td>\n",
       "      <td>0</td>\n",
       "      <td>28</td>\n",
       "      <td>2017</td>\n",
       "      <td>March</td>\n",
       "      <td>13</td>\n",
       "      <td>31</td>\n",
       "      <td>0</td>\n",
       "      <td>2</td>\n",
       "      <td>2</td>\n",
       "      <td>0.0</td>\n",
       "      <td>0</td>\n",
       "      <td>BB</td>\n",
       "      <td>PRT</td>\n",
       "      <td>Complementary</td>\n",
       "      <td>Direct</td>\n",
       "      <td>0</td>\n",
       "      <td>0</td>\n",
       "      <td>0</td>\n",
       "      <td>A</td>\n",
       "      <td>A</td>\n",
       "      <td>0</td>\n",
       "      <td>No Deposit</td>\n",
       "      <td>NaN</td>\n",
       "      <td>NaN</td>\n",
       "      <td>0</td>\n",
       "      <td>Transient</td>\n",
       "      <td>-6.822102</td>\n",
       "      <td>0</td>\n",
       "      <td>0</td>\n",
       "      <td>Check-Out</td>\n",
       "      <td>2017-04-02</td>\n",
       "    </tr>\n",
       "    <tr>\n",
       "      <th>91528</th>\n",
       "      <td>91528</td>\n",
       "      <td>Resort Hotel</td>\n",
       "      <td>0</td>\n",
       "      <td>2</td>\n",
       "      <td>2017</td>\n",
       "      <td>March</td>\n",
       "      <td>13</td>\n",
       "      <td>31</td>\n",
       "      <td>0</td>\n",
       "      <td>1</td>\n",
       "      <td>2</td>\n",
       "      <td>0.0</td>\n",
       "      <td>0</td>\n",
       "      <td>BB</td>\n",
       "      <td>FRA</td>\n",
       "      <td>Online TA</td>\n",
       "      <td>TA/TO</td>\n",
       "      <td>0</td>\n",
       "      <td>0</td>\n",
       "      <td>0</td>\n",
       "      <td>E</td>\n",
       "      <td>F</td>\n",
       "      <td>1</td>\n",
       "      <td>No Deposit</td>\n",
       "      <td>NaN</td>\n",
       "      <td>NaN</td>\n",
       "      <td>0</td>\n",
       "      <td>Transient</td>\n",
       "      <td>90.814554</td>\n",
       "      <td>0</td>\n",
       "      <td>2</td>\n",
       "      <td>Check-Out</td>\n",
       "      <td>2017-04-01</td>\n",
       "    </tr>\n",
       "    <tr>\n",
       "      <th>91529</th>\n",
       "      <td>91529</td>\n",
       "      <td>Resort Hotel</td>\n",
       "      <td>0</td>\n",
       "      <td>30</td>\n",
       "      <td>2017</td>\n",
       "      <td>March</td>\n",
       "      <td>13</td>\n",
       "      <td>31</td>\n",
       "      <td>3</td>\n",
       "      <td>7</td>\n",
       "      <td>2</td>\n",
       "      <td>0.0</td>\n",
       "      <td>0</td>\n",
       "      <td>BB</td>\n",
       "      <td>FIN</td>\n",
       "      <td>Direct</td>\n",
       "      <td>Direct</td>\n",
       "      <td>0</td>\n",
       "      <td>0</td>\n",
       "      <td>0</td>\n",
       "      <td>A</td>\n",
       "      <td>A</td>\n",
       "      <td>0</td>\n",
       "      <td>No Deposit</td>\n",
       "      <td>250.0</td>\n",
       "      <td>NaN</td>\n",
       "      <td>0</td>\n",
       "      <td>Transient</td>\n",
       "      <td>38.135565</td>\n",
       "      <td>0</td>\n",
       "      <td>1</td>\n",
       "      <td>Check-Out</td>\n",
       "      <td>2017-04-10</td>\n",
       "    </tr>\n",
       "    <tr>\n",
       "      <th>91530</th>\n",
       "      <td>91530</td>\n",
       "      <td>Resort Hotel</td>\n",
       "      <td>0</td>\n",
       "      <td>1</td>\n",
       "      <td>2017</td>\n",
       "      <td>March</td>\n",
       "      <td>13</td>\n",
       "      <td>31</td>\n",
       "      <td>0</td>\n",
       "      <td>1</td>\n",
       "      <td>1</td>\n",
       "      <td>0.0</td>\n",
       "      <td>0</td>\n",
       "      <td>BB</td>\n",
       "      <td>PRT</td>\n",
       "      <td>Direct</td>\n",
       "      <td>Direct</td>\n",
       "      <td>0</td>\n",
       "      <td>0</td>\n",
       "      <td>0</td>\n",
       "      <td>A</td>\n",
       "      <td>D</td>\n",
       "      <td>0</td>\n",
       "      <td>No Deposit</td>\n",
       "      <td>250.0</td>\n",
       "      <td>NaN</td>\n",
       "      <td>0</td>\n",
       "      <td>Transient</td>\n",
       "      <td>58.196470</td>\n",
       "      <td>0</td>\n",
       "      <td>1</td>\n",
       "      <td>Check-Out</td>\n",
       "      <td>2017-04-01</td>\n",
       "    </tr>\n",
       "  </tbody>\n",
       "</table>\n",
       "<p>58770 rows × 33 columns</p>\n",
       "</div>"
      ],
      "text/plain": [
       "          ID         hotel  is_canceled  lead_time  arrival_date_year  \\\n",
       "0          0  Resort Hotel            0        342               2015   \n",
       "1          1    City Hotel            0        257               2015   \n",
       "2          2    City Hotel            0        257               2015   \n",
       "3          3    City Hotel            0        257               2015   \n",
       "4          4    City Hotel            0        257               2015   \n",
       "...      ...           ...          ...        ...                ...   \n",
       "91525  91525  Resort Hotel            0         72               2017   \n",
       "91527  91527  Resort Hotel            0         28               2017   \n",
       "91528  91528  Resort Hotel            0          2               2017   \n",
       "91529  91529  Resort Hotel            0         30               2017   \n",
       "91530  91530  Resort Hotel            0          1               2017   \n",
       "\n",
       "      arrival_date_month  arrival_date_week_number  arrival_date_day_of_month  \\\n",
       "0                   July                        27                          1   \n",
       "1                   July                        27                          1   \n",
       "2                   July                        27                          1   \n",
       "3                   July                        27                          1   \n",
       "4                   July                        27                          1   \n",
       "...                  ...                       ...                        ...   \n",
       "91525              March                        13                         31   \n",
       "91527              March                        13                         31   \n",
       "91528              March                        13                         31   \n",
       "91529              March                        13                         31   \n",
       "91530              March                        13                         31   \n",
       "\n",
       "       stays_in_weekend_nights  stays_in_week_nights  adults  children  \\\n",
       "0                            0                     0       2       0.0   \n",
       "1                            0                     2       1       0.0   \n",
       "2                            0                     2       2       0.0   \n",
       "3                            0                     2       2       0.0   \n",
       "4                            0                     2       2       0.0   \n",
       "...                        ...                   ...     ...       ...   \n",
       "91525                        3                     7       2       0.0   \n",
       "91527                        0                     2       2       0.0   \n",
       "91528                        0                     1       2       0.0   \n",
       "91529                        3                     7       2       0.0   \n",
       "91530                        0                     1       1       0.0   \n",
       "\n",
       "       babies meal country market_segment distribution_channel  \\\n",
       "0           0   BB     PRT         Direct               Direct   \n",
       "1           0   HB     PRT  Offline TA/TO                TA/TO   \n",
       "2           0   HB     PRT  Offline TA/TO                TA/TO   \n",
       "3           0   HB     PRT  Offline TA/TO                TA/TO   \n",
       "4           0   HB     PRT  Offline TA/TO                TA/TO   \n",
       "...       ...  ...     ...            ...                  ...   \n",
       "91525       0   HB     GBR  Offline TA/TO                TA/TO   \n",
       "91527       0   BB     PRT  Complementary               Direct   \n",
       "91528       0   BB     FRA      Online TA                TA/TO   \n",
       "91529       0   BB     FIN         Direct               Direct   \n",
       "91530       0   BB     PRT         Direct               Direct   \n",
       "\n",
       "       is_repeated_guest  previous_cancellations  \\\n",
       "0                      0                       0   \n",
       "1                      0                       0   \n",
       "2                      0                       0   \n",
       "3                      0                       0   \n",
       "4                      0                       0   \n",
       "...                  ...                     ...   \n",
       "91525                  0                       0   \n",
       "91527                  0                       0   \n",
       "91528                  0                       0   \n",
       "91529                  0                       0   \n",
       "91530                  0                       0   \n",
       "\n",
       "       previous_bookings_not_canceled reserved_room_type assigned_room_type  \\\n",
       "0                                   0                  C                  C   \n",
       "1                                   0                  A                  A   \n",
       "2                                   0                  A                  A   \n",
       "3                                   0                  A                  A   \n",
       "4                                   0                  A                  A   \n",
       "...                               ...                ...                ...   \n",
       "91525                               0                  A                  E   \n",
       "91527                               0                  A                  A   \n",
       "91528                               0                  E                  F   \n",
       "91529                               0                  A                  A   \n",
       "91530                               0                  A                  D   \n",
       "\n",
       "       booking_changes deposit_type  agent  company  days_in_waiting_list  \\\n",
       "0                    3   No Deposit    NaN      NaN                     0   \n",
       "1                    1   No Deposit    6.0      NaN                     0   \n",
       "2                    0   No Deposit    6.0      NaN                     0   \n",
       "3                    0   No Deposit    6.0      NaN                     0   \n",
       "4                    0   No Deposit    6.0      NaN                     0   \n",
       "...                ...          ...    ...      ...                   ...   \n",
       "91525                1   No Deposit   40.0      NaN                     0   \n",
       "91527                0   No Deposit    NaN      NaN                     0   \n",
       "91528                1   No Deposit    NaN      NaN                     0   \n",
       "91529                0   No Deposit  250.0      NaN                     0   \n",
       "91530                0   No Deposit  250.0      NaN                     0   \n",
       "\n",
       "      customer_type        adr  required_car_parking_spaces  \\\n",
       "0         Transient  -6.305161                            0   \n",
       "1         Transient  75.052227                            0   \n",
       "2         Transient  74.546401                            0   \n",
       "3         Transient  76.376288                            0   \n",
       "4         Transient  49.411647                            0   \n",
       "...             ...        ...                          ...   \n",
       "91525      Contract  79.453407                            0   \n",
       "91527     Transient  -6.822102                            0   \n",
       "91528     Transient  90.814554                            0   \n",
       "91529     Transient  38.135565                            0   \n",
       "91530     Transient  58.196470                            0   \n",
       "\n",
       "       total_of_special_requests reservation_status reservation_status_date  \n",
       "0                              0          Check-Out              2015-07-01  \n",
       "1                              0          Check-Out              2015-07-03  \n",
       "2                              0          Check-Out              2015-07-03  \n",
       "3                              0          Check-Out              2015-07-03  \n",
       "4                              0          Check-Out              2015-07-03  \n",
       "...                          ...                ...                     ...  \n",
       "91525                          1          Check-Out              2017-04-10  \n",
       "91527                          0          Check-Out              2017-04-02  \n",
       "91528                          2          Check-Out              2017-04-01  \n",
       "91529                          1          Check-Out              2017-04-10  \n",
       "91530                          1          Check-Out              2017-04-01  \n",
       "\n",
       "[58770 rows x 33 columns]"
      ]
     },
     "execution_count": 41,
     "metadata": {},
     "output_type": "execute_result"
    }
   ],
   "source": [
    "b = b[filtereddf]\n",
    "#train_df = train_df.drop(columns=['ID'])\n",
    "b"
   ]
  },
  {
   "cell_type": "code",
   "execution_count": 42,
   "metadata": {
    "ExecuteTime": {
     "end_time": "2021-01-08T18:29:37.998602Z",
     "start_time": "2021-01-08T18:29:37.988690Z"
    }
   },
   "outputs": [],
   "source": [
    "leadtime = train_df['lead_time']\n",
    "arrivaldateyear = train_df['arrival_date_year']\n",
    "arrivaldateweekno = train_df['arrival_date_week_number']\n",
    "arrivaldatedayofmonth = train_df['arrival_date_day_of_month']\n",
    "staysweekendnights = train_df['stays_in_weekend_nights']\n",
    "staysweeknights = train_df['stays_in_week_nights']\n",
    "adults = train_df['adults']\n",
    "children = train_df['children']\n",
    "babies = train_df['babies']\n",
    "isrepeatedguest = train_df['is_repeated_guest'] \n",
    "previouscancellations = train_df['previous_cancellations']\n",
    "previousbookingsnotcanceled = train_df['previous_bookings_not_canceled']\n",
    "bookingchanges = train_df['booking_changes']\n",
    "agent = train_df['agent']\n",
    "company = train_df['company']\n",
    "dayswaitinglist = train_df['days_in_waiting_list']\n",
    "adr = train_df['adr']\n",
    "rcps = train_df['required_car_parking_spaces']\n",
    "totalsqr = train_df['total_of_special_requests']"
   ]
  },
  {
   "cell_type": "code",
   "execution_count": 43,
   "metadata": {
    "ExecuteTime": {
     "end_time": "2021-01-08T18:29:39.994606Z",
     "start_time": "2021-01-08T18:29:39.967193Z"
    }
   },
   "outputs": [],
   "source": [
    "train_df['country']=train_df['country'].fillna(train_df['country'].value_counts().index[0])\n",
    "train_df['agent']=train_df['agent'].fillna(train_df['agent'].value_counts().index[0])\n",
    "train_df['company']=train_df['company'].fillna(0)\n",
    "train_df['children']=train_df['children'].fillna(train_df['children'].median())"
   ]
  },
  {
   "cell_type": "code",
   "execution_count": 44,
   "metadata": {
    "ExecuteTime": {
     "end_time": "2021-01-08T18:29:41.269667Z",
     "start_time": "2021-01-08T18:29:41.237807Z"
    }
   },
   "outputs": [
    {
     "name": "stdout",
     "output_type": "stream",
     "text": [
      "503.4046040161461\n",
      "1072\n",
      "-144.70448560551358\n",
      "79721\n"
     ]
    }
   ],
   "source": [
    "\n",
    "y1 = np.array(adr)\n",
    "print(max(y1))\n",
    "print(np.argmax(y1))\n",
    "print(min(y1))\n",
    "print(np.argmin(y1))"
   ]
  },
  {
   "cell_type": "code",
   "execution_count": 9,
   "metadata": {
    "ExecuteTime": {
     "end_time": "2021-01-08T17:08:23.120035Z",
     "start_time": "2021-01-08T17:08:23.002421Z"
    }
   },
   "outputs": [
    {
     "data": {
      "text/plain": [
       "ID                                0\n",
       "hotel                             0\n",
       "is_canceled                       0\n",
       "lead_time                         0\n",
       "arrival_date_year                 0\n",
       "arrival_date_month                0\n",
       "arrival_date_week_number          0\n",
       "arrival_date_day_of_month         0\n",
       "stays_in_weekend_nights           0\n",
       "stays_in_week_nights              0\n",
       "adults                            0\n",
       "children                          0\n",
       "babies                            0\n",
       "meal                              0\n",
       "country                           0\n",
       "market_segment                    0\n",
       "distribution_channel              0\n",
       "is_repeated_guest                 0\n",
       "previous_cancellations            0\n",
       "previous_bookings_not_canceled    0\n",
       "reserved_room_type                0\n",
       "assigned_room_type                0\n",
       "booking_changes                   0\n",
       "deposit_type                      0\n",
       "agent                             0\n",
       "company                           0\n",
       "days_in_waiting_list              0\n",
       "customer_type                     0\n",
       "adr                               0\n",
       "required_car_parking_spaces       0\n",
       "total_of_special_requests         0\n",
       "reservation_status                0\n",
       "reservation_status_date           0\n",
       "dtype: int64"
      ]
     },
     "execution_count": 9,
     "metadata": {},
     "output_type": "execute_result"
    }
   ],
   "source": [
    "iscanceled = train_df.is_canceled.astype(\"category\").cat.codes\n",
    "iscanceledcat=pd.Series(iscanceled)\n",
    "arrivaldatemonth = train_df.arrival_date_month.astype(\"category\").cat.codes\n",
    "arrivaldatemonthcat=pd.Series(arrivaldatemonth)\n",
    "mealcat=train_df.meal.astype(\"category\").cat.codes\n",
    "mealcat=pd.Series(mealcat)\n",
    "countrycat=train_df.country.astype(\"category\").cat.codes\n",
    "countrycat=pd.Series(countrycat)\n",
    "marketsegmentcat=train_df.market_segment.astype(\"category\").cat.codes\n",
    "marketsegmentcat=pd.Series(marketsegmentcat)\n",
    "distributionchannelcat=train_df.distribution_channel.astype(\"category\").cat.codes\n",
    "distributionchannelcat=pd.Series(distributionchannelcat)\n",
    "reservedroomtypecat=train_df.reserved_room_type.astype(\"category\").cat.codes\n",
    "reservedroomtypecat=pd.Series(reservedroomtypecat)\n",
    "assignedroomtypecat=train_df.assigned_room_type.astype(\"category\").cat.codes\n",
    "assignedroomtypecat=pd.Series(assignedroomtypecat)\n",
    "deposittypecat=train_df.deposit_type.astype(\"category\").cat.codes\n",
    "deposittypecat=pd.Series(deposittypecat)\n",
    "customertypecat=train_df.customer_type.astype(\"category\").cat.codes\n",
    "customertypecat=pd.Series(customertypecat)\n",
    "reservationstatuscat=train_df.reservation_status.astype(\"category\").cat.codes\n",
    "reservationstatuscat=pd.Series(reservationstatuscat)\n",
    "isrepeatedguestcat = train_df.is_repeated_guest.astype(\"category\").cat.codes\n",
    "isrepeatedguestcat=pd.Series(isrepeatedguestcat)\n",
    "agentcat = train_df.agent.astype(\"category\").cat.codes\n",
    "agentcat=pd.Series(agentcat)\n",
    "companycat = train_df.company.astype(\"category\").cat.codes\n",
    "companycat=pd.Series(companycat)\n",
    "train_df.isnull().sum()"
   ]
  },
  {
   "cell_type": "code",
   "execution_count": 10,
   "metadata": {
    "ExecuteTime": {
     "end_time": "2021-01-08T17:08:25.343853Z",
     "start_time": "2021-01-08T17:08:25.284608Z"
    }
   },
   "outputs": [],
   "source": [
    "\n",
    "x = np.column_stack((iscanceledcat,arrivaldateyear,arrivaldatemonthcat,arrivaldateweekno,arrivaldatedayofmonth,staysweekendnights,staysweeknights,adults,children,babies,mealcat,countrycat,marketsegmentcat,distributionchannelcat,isrepeatedguestcat,previouscancellations,previousbookingsnotcanceled,reservedroomtypecat,assignedroomtypecat,bookingchanges,deposittypecat,dayswaitinglist,customertypecat,rcps,totalsqr,reservationstatuscat))\n",
    "x = sm.add_constant(x, prepend=True)\n"
   ]
  },
  {
   "cell_type": "code",
   "execution_count": 11,
   "metadata": {
    "ExecuteTime": {
     "end_time": "2021-01-08T17:09:20.402230Z",
     "start_time": "2021-01-08T17:08:26.284093Z"
    }
   },
   "outputs": [
    {
     "name": "stdout",
     "output_type": "stream",
     "text": [
      "[0.         0.00336805 0.02074876 0.06080497 0.11208688 0.16483375\n",
      " 0.06437353 0.1054059  0.03278531 0.01335874 0.00262305 0.03229256\n",
      " 0.10483899 0.03466115 0.01155148 0.00391265 0.0122344  0.00581001\n",
      " 0.02961624 0.04419252 0.03229121 0.00626288 0.01518806 0.02334651\n",
      " 0.01128811 0.04821678 0.00390755]\n"
     ]
    }
   ],
   "source": [
    "\n",
    "from sklearn.ensemble import ExtraTreesClassifier\n",
    "model = ExtraTreesClassifier()\n",
    "model.fit(x, leadtime)\n",
    "print(model.feature_importances_)"
   ]
  },
  {
   "cell_type": "code",
   "execution_count": 12,
   "metadata": {
    "ExecuteTime": {
     "end_time": "2021-01-08T17:09:26.873340Z",
     "start_time": "2021-01-08T17:09:26.706345Z"
    }
   },
   "outputs": [
    {
     "data": {
      "text/html": [
       "<div>\n",
       "<style scoped>\n",
       "    .dataframe tbody tr th:only-of-type {\n",
       "        vertical-align: middle;\n",
       "    }\n",
       "\n",
       "    .dataframe tbody tr th {\n",
       "        vertical-align: top;\n",
       "    }\n",
       "\n",
       "    .dataframe thead th {\n",
       "        text-align: right;\n",
       "    }\n",
       "</style>\n",
       "<table border=\"1\" class=\"dataframe\">\n",
       "  <thead>\n",
       "    <tr style=\"text-align: right;\">\n",
       "      <th></th>\n",
       "      <th>extratrees</th>\n",
       "    </tr>\n",
       "  </thead>\n",
       "  <tbody>\n",
       "    <tr>\n",
       "      <th>0</th>\n",
       "      <td>0.000000</td>\n",
       "    </tr>\n",
       "    <tr>\n",
       "      <th>10</th>\n",
       "      <td>0.002623</td>\n",
       "    </tr>\n",
       "    <tr>\n",
       "      <th>1</th>\n",
       "      <td>0.003368</td>\n",
       "    </tr>\n",
       "    <tr>\n",
       "      <th>26</th>\n",
       "      <td>0.003908</td>\n",
       "    </tr>\n",
       "    <tr>\n",
       "      <th>15</th>\n",
       "      <td>0.003913</td>\n",
       "    </tr>\n",
       "    <tr>\n",
       "      <th>17</th>\n",
       "      <td>0.005810</td>\n",
       "    </tr>\n",
       "    <tr>\n",
       "      <th>21</th>\n",
       "      <td>0.006263</td>\n",
       "    </tr>\n",
       "    <tr>\n",
       "      <th>24</th>\n",
       "      <td>0.011288</td>\n",
       "    </tr>\n",
       "    <tr>\n",
       "      <th>14</th>\n",
       "      <td>0.011551</td>\n",
       "    </tr>\n",
       "    <tr>\n",
       "      <th>16</th>\n",
       "      <td>0.012234</td>\n",
       "    </tr>\n",
       "    <tr>\n",
       "      <th>9</th>\n",
       "      <td>0.013359</td>\n",
       "    </tr>\n",
       "    <tr>\n",
       "      <th>22</th>\n",
       "      <td>0.015188</td>\n",
       "    </tr>\n",
       "    <tr>\n",
       "      <th>2</th>\n",
       "      <td>0.020749</td>\n",
       "    </tr>\n",
       "    <tr>\n",
       "      <th>23</th>\n",
       "      <td>0.023347</td>\n",
       "    </tr>\n",
       "    <tr>\n",
       "      <th>18</th>\n",
       "      <td>0.029616</td>\n",
       "    </tr>\n",
       "    <tr>\n",
       "      <th>20</th>\n",
       "      <td>0.032291</td>\n",
       "    </tr>\n",
       "    <tr>\n",
       "      <th>11</th>\n",
       "      <td>0.032293</td>\n",
       "    </tr>\n",
       "    <tr>\n",
       "      <th>8</th>\n",
       "      <td>0.032785</td>\n",
       "    </tr>\n",
       "    <tr>\n",
       "      <th>13</th>\n",
       "      <td>0.034661</td>\n",
       "    </tr>\n",
       "    <tr>\n",
       "      <th>19</th>\n",
       "      <td>0.044193</td>\n",
       "    </tr>\n",
       "    <tr>\n",
       "      <th>25</th>\n",
       "      <td>0.048217</td>\n",
       "    </tr>\n",
       "    <tr>\n",
       "      <th>3</th>\n",
       "      <td>0.060805</td>\n",
       "    </tr>\n",
       "    <tr>\n",
       "      <th>6</th>\n",
       "      <td>0.064374</td>\n",
       "    </tr>\n",
       "    <tr>\n",
       "      <th>12</th>\n",
       "      <td>0.104839</td>\n",
       "    </tr>\n",
       "    <tr>\n",
       "      <th>7</th>\n",
       "      <td>0.105406</td>\n",
       "    </tr>\n",
       "    <tr>\n",
       "      <th>4</th>\n",
       "      <td>0.112087</td>\n",
       "    </tr>\n",
       "    <tr>\n",
       "      <th>5</th>\n",
       "      <td>0.164834</td>\n",
       "    </tr>\n",
       "  </tbody>\n",
       "</table>\n",
       "</div>"
      ],
      "text/plain": [
       "    extratrees\n",
       "0     0.000000\n",
       "10    0.002623\n",
       "1     0.003368\n",
       "26    0.003908\n",
       "15    0.003913\n",
       "17    0.005810\n",
       "21    0.006263\n",
       "24    0.011288\n",
       "14    0.011551\n",
       "16    0.012234\n",
       "9     0.013359\n",
       "22    0.015188\n",
       "2     0.020749\n",
       "23    0.023347\n",
       "18    0.029616\n",
       "20    0.032291\n",
       "11    0.032293\n",
       "8     0.032785\n",
       "13    0.034661\n",
       "19    0.044193\n",
       "25    0.048217\n",
       "3     0.060805\n",
       "6     0.064374\n",
       "12    0.104839\n",
       "7     0.105406\n",
       "4     0.112087\n",
       "5     0.164834"
      ]
     },
     "execution_count": 12,
     "metadata": {},
     "output_type": "execute_result"
    }
   ],
   "source": [
    "ext=pd.DataFrame(model.feature_importances_,columns=[\"extratrees\"])\n",
    "ext.sort_values(['extratrees'], ascending=True)"
   ]
  },
  {
   "cell_type": "code",
   "execution_count": 13,
   "metadata": {
    "ExecuteTime": {
     "end_time": "2021-01-08T17:09:30.278956Z",
     "start_time": "2021-01-08T17:09:30.257703Z"
    }
   },
   "outputs": [],
   "source": [
    "x1 = np.column_stack((staysweeknights,countrycat,assignedroomtypecat,arrivaldateweekno))\n",
    "x1 = sm.add_constant(x1, prepend=True)"
   ]
  },
  {
   "cell_type": "code",
   "execution_count": 14,
   "metadata": {
    "ExecuteTime": {
     "end_time": "2021-01-08T17:09:30.999889Z",
     "start_time": "2021-01-08T17:09:30.979846Z"
    }
   },
   "outputs": [],
   "source": [
    "X_train, X_val, y_train, y_val = train_test_split(x1, y1)"
   ]
  },
  {
   "cell_type": "code",
   "execution_count": 15,
   "metadata": {
    "ExecuteTime": {
     "end_time": "2021-01-08T17:09:31.974392Z",
     "start_time": "2021-01-08T17:09:31.953413Z"
    }
   },
   "outputs": [
    {
     "name": "stdout",
     "output_type": "stream",
     "text": [
      "MinMaxScaler()\n",
      "MinMaxScaler()\n",
      "MinMaxScaler()\n",
      "MinMaxScaler()\n"
     ]
    }
   ],
   "source": [
    "y_train=np.reshape(y_train, (-1,1))\n",
    "y_val=np.reshape(y_val, (-1,1))\n",
    "\n",
    "scaler_x = MinMaxScaler()\n",
    "scaler_y = MinMaxScaler()\n",
    "\n",
    "print(scaler_x.fit(X_train))\n",
    "xtrain_scale=scaler_x.transform(X_train)\n",
    "print(scaler_x.fit(X_val))\n",
    "xval_scale=scaler_x.transform(X_val)\n",
    "\n",
    "print(scaler_y.fit(y_train))\n",
    "ytrain_scale=scaler_y.transform(y_train)\n",
    "print(scaler_y.fit(y_val))\n",
    "yval_scale=scaler_y.transform(y_val)"
   ]
  },
  {
   "cell_type": "code",
   "execution_count": 16,
   "metadata": {
    "ExecuteTime": {
     "end_time": "2021-01-08T17:09:33.996721Z",
     "start_time": "2021-01-08T17:09:33.989824Z"
    }
   },
   "outputs": [
    {
     "data": {
      "text/plain": [
       "array([[0.28752907],\n",
       "       [0.35555208],\n",
       "       [0.33472719],\n",
       "       ...,\n",
       "       [0.34687262],\n",
       "       [0.39597759],\n",
       "       [0.39787748]])"
      ]
     },
     "execution_count": 16,
     "metadata": {},
     "output_type": "execute_result"
    }
   ],
   "source": [
    "ytrain_scale"
   ]
  },
  {
   "cell_type": "code",
   "execution_count": 19,
   "metadata": {
    "ExecuteTime": {
     "end_time": "2021-01-08T17:10:50.133464Z",
     "start_time": "2021-01-08T17:10:50.128284Z"
    }
   },
   "outputs": [
    {
     "data": {
      "text/plain": [
       "(68647, 5)"
      ]
     },
     "execution_count": 19,
     "metadata": {},
     "output_type": "execute_result"
    }
   ],
   "source": [
    "xtrain_scale.shape"
   ]
  },
  {
   "cell_type": "code",
   "execution_count": 20,
   "metadata": {
    "ExecuteTime": {
     "end_time": "2021-01-08T17:10:55.717160Z",
     "start_time": "2021-01-08T17:10:55.407691Z"
    }
   },
   "outputs": [
    {
     "name": "stdout",
     "output_type": "stream",
     "text": [
      "Model: \"sequential\"\n",
      "_________________________________________________________________\n",
      "Layer (type)                 Output Shape              Param #   \n",
      "=================================================================\n",
      "dense (Dense)                (None, 5)                 30        \n",
      "_________________________________________________________________\n",
      "dense_1 (Dense)              (None, 3858)              23148     \n",
      "_________________________________________________________________\n",
      "dense_2 (Dense)              (None, 3858)              14888022  \n",
      "_________________________________________________________________\n",
      "dense_3 (Dense)              (None, 1)                 3859      \n",
      "=================================================================\n",
      "Total params: 14,915,059\n",
      "Trainable params: 14,915,059\n",
      "Non-trainable params: 0\n",
      "_________________________________________________________________\n"
     ]
    }
   ],
   "source": [
    "\n",
    "model = Sequential()\n",
    "model.add(Dense(5, input_dim=5, kernel_initializer='normal', activation='elu'))\n",
    "model.add(Dense(3858, activation='elu'))\n",
    "model.add(Dense(3858, activation='elu'))\n",
    "model.add(Dense(1, activation='linear'))\n",
    "model.summary()"
   ]
  },
  {
   "cell_type": "code",
   "execution_count": 21,
   "metadata": {
    "ExecuteTime": {
     "end_time": "2021-01-08T17:28:35.492954Z",
     "start_time": "2021-01-08T17:11:03.811530Z"
    }
   },
   "outputs": [
    {
     "name": "stdout",
     "output_type": "stream",
     "text": [
      "Epoch 1/30\n",
      "367/367 [==============================] - 37s 100ms/step - loss: 0.0137 - mse: 0.0137 - mae: 0.0808 - val_loss: 0.0057 - val_mse: 0.0057 - val_mae: 0.0580\n",
      "Epoch 2/30\n",
      "367/367 [==============================] - 35s 96ms/step - loss: 0.0056 - mse: 0.0056 - mae: 0.0579 - val_loss: 0.0056 - val_mse: 0.0056 - val_mae: 0.0573\n",
      "Epoch 3/30\n",
      "367/367 [==============================] - 36s 99ms/step - loss: 0.0056 - mse: 0.0056 - mae: 0.0575 - val_loss: 0.0057 - val_mse: 0.0057 - val_mae: 0.0577\n",
      "Epoch 4/30\n",
      "367/367 [==============================] - 35s 96ms/step - loss: 0.0056 - mse: 0.0056 - mae: 0.0574 - val_loss: 0.0059 - val_mse: 0.0059 - val_mae: 0.0591\n",
      "Epoch 5/30\n",
      "367/367 [==============================] - 36s 97ms/step - loss: 0.0057 - mse: 0.0057 - mae: 0.0580 - val_loss: 0.0058 - val_mse: 0.0058 - val_mae: 0.0589\n",
      "Epoch 6/30\n",
      "367/367 [==============================] - 34s 93ms/step - loss: 0.0057 - mse: 0.0057 - mae: 0.0579 - val_loss: 0.0057 - val_mse: 0.0057 - val_mae: 0.0584\n",
      "Epoch 7/30\n",
      "367/367 [==============================] - 34s 93ms/step - loss: 0.0056 - mse: 0.0056 - mae: 0.0577 - val_loss: 0.0056 - val_mse: 0.0056 - val_mae: 0.0573\n",
      "Epoch 8/30\n",
      "367/367 [==============================] - 34s 94ms/step - loss: 0.0056 - mse: 0.0056 - mae: 0.0575 - val_loss: 0.0059 - val_mse: 0.0059 - val_mae: 0.0590\n",
      "Epoch 9/30\n",
      "367/367 [==============================] - 36s 97ms/step - loss: 0.0056 - mse: 0.0056 - mae: 0.0576 - val_loss: 0.0056 - val_mse: 0.0056 - val_mae: 0.0575\n",
      "Epoch 10/30\n",
      "367/367 [==============================] - 34s 94ms/step - loss: 0.0057 - mse: 0.0057 - mae: 0.0578 - val_loss: 0.0059 - val_mse: 0.0059 - val_mae: 0.0591\n",
      "Epoch 11/30\n",
      "367/367 [==============================] - 35s 94ms/step - loss: 0.0056 - mse: 0.0056 - mae: 0.0576 - val_loss: 0.0056 - val_mse: 0.0056 - val_mae: 0.0576\n",
      "Epoch 12/30\n",
      "367/367 [==============================] - 33s 90ms/step - loss: 0.0055 - mse: 0.0055 - mae: 0.0575 - val_loss: 0.0056 - val_mse: 0.0056 - val_mae: 0.0577\n",
      "Epoch 13/30\n",
      "367/367 [==============================] - 36s 99ms/step - loss: 0.0056 - mse: 0.0056 - mae: 0.0578 - val_loss: 0.0056 - val_mse: 0.0056 - val_mae: 0.0574\n",
      "Epoch 14/30\n",
      "367/367 [==============================] - 35s 96ms/step - loss: 0.0055 - mse: 0.0055 - mae: 0.0572 - val_loss: 0.0057 - val_mse: 0.0057 - val_mae: 0.0578\n",
      "Epoch 15/30\n",
      "367/367 [==============================] - 34s 94ms/step - loss: 0.0057 - mse: 0.0057 - mae: 0.0578 - val_loss: 0.0056 - val_mse: 0.0056 - val_mae: 0.0573\n",
      "Epoch 16/30\n",
      "367/367 [==============================] - 34s 94ms/step - loss: 0.0056 - mse: 0.0056 - mae: 0.0577 - val_loss: 0.0059 - val_mse: 0.0059 - val_mae: 0.0588\n",
      "Epoch 17/30\n",
      "367/367 [==============================] - 34s 94ms/step - loss: 0.0056 - mse: 0.0056 - mae: 0.0578 - val_loss: 0.0056 - val_mse: 0.0056 - val_mae: 0.0572\n",
      "Epoch 18/30\n",
      "367/367 [==============================] - 34s 94ms/step - loss: 0.0055 - mse: 0.0055 - mae: 0.0570 - val_loss: 0.0056 - val_mse: 0.0056 - val_mae: 0.0574\n",
      "Epoch 19/30\n",
      "367/367 [==============================] - 34s 94ms/step - loss: 0.0055 - mse: 0.0055 - mae: 0.0572 - val_loss: 0.0056 - val_mse: 0.0056 - val_mae: 0.0573\n",
      "Epoch 20/30\n",
      "367/367 [==============================] - 35s 95ms/step - loss: 0.0057 - mse: 0.0057 - mae: 0.0579 - val_loss: 0.0056 - val_mse: 0.0056 - val_mae: 0.0573\n",
      "Epoch 21/30\n",
      "367/367 [==============================] - 35s 95ms/step - loss: 0.0057 - mse: 0.0057 - mae: 0.0577 - val_loss: 0.0063 - val_mse: 0.0063 - val_mae: 0.0625\n",
      "Epoch 22/30\n",
      "367/367 [==============================] - 35s 94ms/step - loss: 0.0056 - mse: 0.0056 - mae: 0.0575 - val_loss: 0.0056 - val_mse: 0.0056 - val_mae: 0.0575\n",
      "Epoch 23/30\n",
      "367/367 [==============================] - 35s 94ms/step - loss: 0.0056 - mse: 0.0056 - mae: 0.0576 - val_loss: 0.0056 - val_mse: 0.0056 - val_mae: 0.0573\n",
      "Epoch 24/30\n",
      "367/367 [==============================] - 35s 94ms/step - loss: 0.0056 - mse: 0.0056 - mae: 0.0577 - val_loss: 0.0057 - val_mse: 0.0057 - val_mae: 0.0582\n",
      "Epoch 25/30\n",
      "367/367 [==============================] - 35s 95ms/step - loss: 0.0056 - mse: 0.0056 - mae: 0.0577 - val_loss: 0.0066 - val_mse: 0.0066 - val_mae: 0.0639\n",
      "Epoch 26/30\n",
      "367/367 [==============================] - 36s 97ms/step - loss: 0.0056 - mse: 0.0056 - mae: 0.0577 - val_loss: 0.0056 - val_mse: 0.0056 - val_mae: 0.0573\n",
      "Epoch 27/30\n",
      "367/367 [==============================] - 34s 94ms/step - loss: 0.0055 - mse: 0.0055 - mae: 0.0570 - val_loss: 0.0058 - val_mse: 0.0058 - val_mae: 0.0581\n",
      "Epoch 28/30\n",
      "367/367 [==============================] - 35s 95ms/step - loss: 0.0056 - mse: 0.0056 - mae: 0.0575 - val_loss: 0.0056 - val_mse: 0.0056 - val_mae: 0.0573\n",
      "Epoch 29/30\n",
      "367/367 [==============================] - 35s 95ms/step - loss: 0.0055 - mse: 0.0055 - mae: 0.0572 - val_loss: 0.0057 - val_mse: 0.0057 - val_mae: 0.0578\n",
      "Epoch 30/30\n",
      "367/367 [==============================] - 35s 95ms/step - loss: 0.0055 - mse: 0.0055 - mae: 0.0572 - val_loss: 0.0059 - val_mse: 0.0059 - val_mae: 0.0586\n"
     ]
    }
   ],
   "source": [
    "\n",
    "model.compile(loss='mse', optimizer='adam', metrics=['mse','mae'])\n",
    "history=model.fit(xtrain_scale, ytrain_scale, epochs=30, batch_size=150, verbose=1, validation_split=0.2)\n",
    "predictions = model.predict(xval_scale)"
   ]
  },
  {
   "cell_type": "code",
   "execution_count": 22,
   "metadata": {
    "ExecuteTime": {
     "end_time": "2021-01-08T17:28:36.097314Z",
     "start_time": "2021-01-08T17:28:35.801999Z"
    }
   },
   "outputs": [
    {
     "name": "stdout",
     "output_type": "stream",
     "text": [
      "dict_keys(['loss', 'mse', 'mae', 'val_loss', 'val_mse', 'val_mae'])\n"
     ]
    },
    {
     "data": {
      "image/png": "[encoded data removed]",
      "text/plain": [
       "<Figure size 432x288 with 1 Axes>"
      ]
     },
     "metadata": {
      "needs_background": "light"
     },
     "output_type": "display_data"
    }
   ],
   "source": [
    "print(history.history.keys())\n",
    "# \"Loss\"\n",
    "plt.plot(history.history['loss'])\n",
    "plt.plot(history.history['val_loss'])\n",
    "plt.title('model loss')\n",
    "plt.ylabel('loss')\n",
    "plt.xlabel('epoch')\n",
    "plt.legend(['train', 'validation'], loc='upper left')\n",
    "plt.show()"
   ]
  },
  {
   "cell_type": "code",
   "execution_count": 23,
   "metadata": {
    "ExecuteTime": {
     "end_time": "2021-01-08T17:28:56.143529Z",
     "start_time": "2021-01-08T17:28:56.138119Z"
    }
   },
   "outputs": [
    {
     "data": {
      "text/plain": [
       "array([[19.635365 ],\n",
       "       [34.583054 ],\n",
       "       [16.965168 ],\n",
       "       ...,\n",
       "       [ 9.248923 ],\n",
       "       [15.908169 ],\n",
       "       [ 1.1048094]], dtype=float32)"
      ]
     },
     "execution_count": 23,
     "metadata": {},
     "output_type": "execute_result"
    }
   ],
   "source": [
    "predictions = scaler_y.inverse_transform(predictions)\n",
    "predictions"
   ]
  },
  {
   "cell_type": "code",
   "execution_count": 27,
   "metadata": {
    "ExecuteTime": {
     "end_time": "2021-01-08T18:26:31.930115Z",
     "start_time": "2021-01-08T18:26:31.749356Z"
    }
   },
   "outputs": [
    {
     "data": {
      "image/png": "[encoded data removed]",
      "text/plain": [
       "<Figure size 432x288 with 1 Axes>"
      ]
     },
     "metadata": {
      "needs_background": "light"
     },
     "output_type": "display_data"
    }
   ],
   "source": [
    "plt.plot(predictions)\n",
    "#plt.plot(y_val)\n",
    "plt.show()"
   ]
  },
  {
   "cell_type": "code",
   "execution_count": 28,
   "metadata": {
    "ExecuteTime": {
     "end_time": "2021-01-08T18:26:35.292029Z",
     "start_time": "2021-01-08T18:26:35.121167Z"
    }
   },
   "outputs": [
    {
     "data": {
      "image/png": "[encoded data removed]",
      "text/plain": [
       "<Figure size 432x288 with 1 Axes>"
      ]
     },
     "metadata": {
      "needs_background": "light"
     },
     "output_type": "display_data"
    }
   ],
   "source": [
    "plt.plot(y_val)\n",
    "plt.show()"
   ]
  },
  {
   "cell_type": "code",
   "execution_count": null,
   "metadata": {},
   "outputs": [],
   "source": []
  }
 ],
 "metadata": {
  "kernelspec": {
   "display_name": "Python 3",
   "language": "python",
   "name": "python3"
  },
  "language_info": {
   "codemirror_mode": {
    "name": "ipython",
    "version": 3
   },
   "file_extension": ".py",
   "mimetype": "text/x-python",
   "name": "python",
   "nbconvert_exporter": "python",
   "pygments_lexer": "ipython3",
   "version": "3.9.5"
  },
  "varInspector": {
   "cols": {
    "lenName": 16,
    "lenType": 16,
    "lenVar": 40
   },
   "kernels_config": {
    "python": {
     "delete_cmd_postfix": "",
     "delete_cmd_prefix": "del ",
     "library": "var_list.py",
     "varRefreshCmd": "print(var_dic_list())"
    },
    "r": {
     "delete_cmd_postfix": ") ",
     "delete_cmd_prefix": "rm(",
     "library": "var_list.r",
     "varRefreshCmd": "cat(var_dic_list()) "
    }
   },
   "types_to_exclude": [
    "module",
    "function",
    "builtin_function_or_method",
    "instance",
    "_Feature"
   ],
   "window_display": false
  }
 },
 "nbformat": 4,
 "nbformat_minor": 4
}
