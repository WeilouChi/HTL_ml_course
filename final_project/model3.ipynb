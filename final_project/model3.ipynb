{
 "cells": [
  {
   "cell_type": "code",
   "execution_count": 10,
   "metadata": {
    "ExecuteTime": {
     "end_time": "2021-01-08T19:41:06.907619Z",
     "start_time": "2021-01-08T19:41:06.897714Z"
    }
   },
   "outputs": [],
   "source": [
    "import math\n",
    "import matplotlib.pyplot as plt\n",
    "import numpy as np\n",
    "from numpy.random import seed\n",
    "seed(1)\n",
    "import pandas as pd\n",
    "import statsmodels.api as sm\n",
    "import statsmodels.formula.api as smf\n",
    "\n",
    "import tensorflow\n",
    "tensorflow.random.set_seed(1)\n",
    "from tensorflow.python.keras.layers import Dense\n",
    "from tensorflow.keras.layers import Dropout\n",
    "from tensorflow.python.keras.models import Sequential\n",
    "from tensorflow.python.keras.wrappers.scikit_learn import KerasRegressor\n",
    "from sklearn.linear_model import LogisticRegression\n",
    "from sklearn.metrics import mean_absolute_error\n",
    "from sklearn.metrics import mean_squared_error\n",
    "from sklearn.model_selection import train_test_split\n",
    "from sklearn.preprocessing import MinMaxScaler\n",
    "from sklearn.preprocessing import StandardScaler\n",
    "from sklearn.metrics import accuracy_score\n"
   ]
  },
  {
   "cell_type": "code",
   "execution_count": 2,
   "metadata": {
    "ExecuteTime": {
     "end_time": "2021-01-08T19:40:25.636049Z",
     "start_time": "2021-01-08T19:40:25.632260Z"
    }
   },
   "outputs": [],
   "source": [
    "pd.set_option('display.max_columns', None)"
   ]
  },
  {
   "cell_type": "markdown",
   "metadata": {},
   "source": [
    "# cancelled"
   ]
  },
  {
   "cell_type": "code",
   "execution_count": 3,
   "metadata": {
    "ExecuteTime": {
     "end_time": "2021-01-08T19:40:27.882173Z",
     "start_time": "2021-01-08T19:40:27.639194Z"
    }
   },
   "outputs": [],
   "source": [
    "can_df = pd.read_csv('train.csv')"
   ]
  },
  {
   "cell_type": "code",
   "execution_count": 4,
   "metadata": {
    "ExecuteTime": {
     "end_time": "2021-01-08T19:40:28.538123Z",
     "start_time": "2021-01-08T19:40:28.512814Z"
    }
   },
   "outputs": [],
   "source": [
    "can_df= can_df.drop(columns=['company','country','agent','reservation_status'])"
   ]
  },
  {
   "cell_type": "code",
   "execution_count": 5,
   "metadata": {
    "ExecuteTime": {
     "end_time": "2021-01-08T19:40:30.591754Z",
     "start_time": "2021-01-08T19:40:30.473057Z"
    }
   },
   "outputs": [
    {
     "name": "stdout",
     "output_type": "stream",
     "text": [
      "<class 'pandas.core.frame.DataFrame'>\n",
      "RangeIndex: 91531 entries, 0 to 91530\n",
      "Data columns (total 29 columns):\n",
      " #   Column                          Non-Null Count  Dtype   \n",
      "---  ------                          --------------  -----   \n",
      " 0   ID                              91531 non-null  int64   \n",
      " 1   hotel                           91531 non-null  category\n",
      " 2   is_canceled                     91531 non-null  int64   \n",
      " 3   lead_time                       91531 non-null  int64   \n",
      " 4   arrival_date_year               91531 non-null  int64   \n",
      " 5   arrival_date_month              91531 non-null  category\n",
      " 6   arrival_date_week_number        91531 non-null  int64   \n",
      " 7   arrival_date_day_of_month       91531 non-null  int64   \n",
      " 8   stays_in_weekend_nights         91531 non-null  int64   \n",
      " 9   stays_in_week_nights            91531 non-null  int64   \n",
      " 10  adults                          91531 non-null  int64   \n",
      " 11  children                        91531 non-null  float64 \n",
      " 12  babies                          91531 non-null  int64   \n",
      " 13  meal                            91531 non-null  category\n",
      " 14  market_segment                  91531 non-null  category\n",
      " 15  distribution_channel            91531 non-null  category\n",
      " 16  is_repeated_guest               91531 non-null  category\n",
      " 17  previous_cancellations          91531 non-null  int64   \n",
      " 18  previous_bookings_not_canceled  91531 non-null  int64   \n",
      " 19  reserved_room_type              91531 non-null  category\n",
      " 20  assigned_room_type              91531 non-null  category\n",
      " 21  booking_changes                 91531 non-null  int64   \n",
      " 22  deposit_type                    91531 non-null  category\n",
      " 23  days_in_waiting_list            91531 non-null  int64   \n",
      " 24  customer_type                   91531 non-null  category\n",
      " 25  adr                             91531 non-null  float64 \n",
      " 26  required_car_parking_spaces     91531 non-null  int64   \n",
      " 27  total_of_special_requests       91531 non-null  int64   \n",
      " 28  reservation_status_date         91531 non-null  object  \n",
      "dtypes: category(10), float64(2), int64(16), object(1)\n",
      "memory usage: 14.1+ MB\n"
     ]
    }
   ],
   "source": [
    "can_df['children'].fillna(0,inplace=True)\n",
    "categories = ['hotel','meal','market_segment',\n",
    "                        'distribution_channel','is_repeated_guest','reserved_room_type','assigned_room_type',\n",
    "                        'deposit_type','customer_type','arrival_date_month']\n",
    "can_df[categories]=can_df[categories].astype('category')\n",
    "can_df.info()\n"
   ]
  },
  {
   "cell_type": "code",
   "execution_count": 6,
   "metadata": {
    "ExecuteTime": {
     "end_time": "2021-01-08T19:40:32.874432Z",
     "start_time": "2021-01-08T19:40:32.798745Z"
    }
   },
   "outputs": [
    {
     "data": {
      "text/plain": [
       "is_canceled                       1.000000\n",
       "lead_time                         0.326065\n",
       "total_of_special_requests         0.239278\n",
       "required_car_parking_spaces       0.194895\n",
       "booking_changes                   0.143083\n",
       "previous_cancellations            0.131878\n",
       "days_in_waiting_list              0.064711\n",
       "adults                            0.060170\n",
       "previous_bookings_not_canceled    0.057126\n",
       "adr                               0.029649\n",
       "babies                            0.029602\n",
       "arrival_date_week_number          0.024605\n",
       "arrival_date_year                 0.021706\n",
       "stays_in_week_nights              0.019388\n",
       "ID                                0.009577\n",
       "arrival_date_day_of_month         0.008432\n",
       "stays_in_weekend_nights           0.008230\n",
       "children                          0.003777\n",
       "Name: is_canceled, dtype: float64"
      ]
     },
     "execution_count": 6,
     "metadata": {},
     "output_type": "execute_result"
    }
   ],
   "source": [
    "y = can_df['is_canceled']\n",
    "corr_canceled = can_df.corr()['is_canceled']\n",
    "corr_canceled.abs().sort_values(ascending=False)"
   ]
  },
  {
   "cell_type": "code",
   "execution_count": 7,
   "metadata": {
    "ExecuteTime": {
     "end_time": "2021-01-08T19:40:35.348188Z",
     "start_time": "2021-01-08T19:40:35.312148Z"
    }
   },
   "outputs": [
    {
     "data": {
      "text/html": [
       "<div>\n",
       "<style scoped>\n",
       "    .dataframe tbody tr th:only-of-type {\n",
       "        vertical-align: middle;\n",
       "    }\n",
       "\n",
       "    .dataframe tbody tr th {\n",
       "        vertical-align: top;\n",
       "    }\n",
       "\n",
       "    .dataframe thead th {\n",
       "        text-align: right;\n",
       "    }\n",
       "</style>\n",
       "<table border=\"1\" class=\"dataframe\">\n",
       "  <thead>\n",
       "    <tr style=\"text-align: right;\">\n",
       "      <th></th>\n",
       "      <th>ID</th>\n",
       "      <th>hotel</th>\n",
       "      <th>is_canceled</th>\n",
       "      <th>lead_time</th>\n",
       "      <th>arrival_date_year</th>\n",
       "      <th>arrival_date_month</th>\n",
       "      <th>arrival_date_week_number</th>\n",
       "      <th>arrival_date_day_of_month</th>\n",
       "      <th>stays_in_weekend_nights</th>\n",
       "      <th>stays_in_week_nights</th>\n",
       "      <th>adults</th>\n",
       "      <th>children</th>\n",
       "      <th>babies</th>\n",
       "      <th>meal</th>\n",
       "      <th>market_segment</th>\n",
       "      <th>distribution_channel</th>\n",
       "      <th>is_repeated_guest</th>\n",
       "      <th>previous_cancellations</th>\n",
       "      <th>previous_bookings_not_canceled</th>\n",
       "      <th>reserved_room_type</th>\n",
       "      <th>assigned_room_type</th>\n",
       "      <th>booking_changes</th>\n",
       "      <th>deposit_type</th>\n",
       "      <th>days_in_waiting_list</th>\n",
       "      <th>customer_type</th>\n",
       "      <th>adr</th>\n",
       "      <th>required_car_parking_spaces</th>\n",
       "      <th>total_of_special_requests</th>\n",
       "      <th>reservation_status_date</th>\n",
       "    </tr>\n",
       "  </thead>\n",
       "  <tbody>\n",
       "    <tr>\n",
       "      <th>0</th>\n",
       "      <td>0</td>\n",
       "      <td>Resort Hotel</td>\n",
       "      <td>0</td>\n",
       "      <td>342</td>\n",
       "      <td>2015</td>\n",
       "      <td>July</td>\n",
       "      <td>27</td>\n",
       "      <td>1</td>\n",
       "      <td>0</td>\n",
       "      <td>0</td>\n",
       "      <td>2</td>\n",
       "      <td>0.0</td>\n",
       "      <td>0</td>\n",
       "      <td>BB</td>\n",
       "      <td>Direct</td>\n",
       "      <td>Direct</td>\n",
       "      <td>0</td>\n",
       "      <td>0</td>\n",
       "      <td>0</td>\n",
       "      <td>C</td>\n",
       "      <td>C</td>\n",
       "      <td>3</td>\n",
       "      <td>No Deposit</td>\n",
       "      <td>0</td>\n",
       "      <td>Transient</td>\n",
       "      <td>-6.305161</td>\n",
       "      <td>0</td>\n",
       "      <td>0</td>\n",
       "      <td>2015-07-01</td>\n",
       "    </tr>\n",
       "    <tr>\n",
       "      <th>1</th>\n",
       "      <td>1</td>\n",
       "      <td>City Hotel</td>\n",
       "      <td>0</td>\n",
       "      <td>257</td>\n",
       "      <td>2015</td>\n",
       "      <td>July</td>\n",
       "      <td>27</td>\n",
       "      <td>1</td>\n",
       "      <td>0</td>\n",
       "      <td>2</td>\n",
       "      <td>1</td>\n",
       "      <td>0.0</td>\n",
       "      <td>0</td>\n",
       "      <td>HB</td>\n",
       "      <td>Offline TA/TO</td>\n",
       "      <td>TA/TO</td>\n",
       "      <td>0</td>\n",
       "      <td>0</td>\n",
       "      <td>0</td>\n",
       "      <td>A</td>\n",
       "      <td>A</td>\n",
       "      <td>1</td>\n",
       "      <td>No Deposit</td>\n",
       "      <td>0</td>\n",
       "      <td>Transient</td>\n",
       "      <td>75.052227</td>\n",
       "      <td>0</td>\n",
       "      <td>0</td>\n",
       "      <td>2015-07-03</td>\n",
       "    </tr>\n",
       "    <tr>\n",
       "      <th>2</th>\n",
       "      <td>2</td>\n",
       "      <td>City Hotel</td>\n",
       "      <td>0</td>\n",
       "      <td>257</td>\n",
       "      <td>2015</td>\n",
       "      <td>July</td>\n",
       "      <td>27</td>\n",
       "      <td>1</td>\n",
       "      <td>0</td>\n",
       "      <td>2</td>\n",
       "      <td>2</td>\n",
       "      <td>0.0</td>\n",
       "      <td>0</td>\n",
       "      <td>HB</td>\n",
       "      <td>Offline TA/TO</td>\n",
       "      <td>TA/TO</td>\n",
       "      <td>0</td>\n",
       "      <td>0</td>\n",
       "      <td>0</td>\n",
       "      <td>A</td>\n",
       "      <td>A</td>\n",
       "      <td>0</td>\n",
       "      <td>No Deposit</td>\n",
       "      <td>0</td>\n",
       "      <td>Transient</td>\n",
       "      <td>74.546401</td>\n",
       "      <td>0</td>\n",
       "      <td>0</td>\n",
       "      <td>2015-07-03</td>\n",
       "    </tr>\n",
       "    <tr>\n",
       "      <th>3</th>\n",
       "      <td>3</td>\n",
       "      <td>City Hotel</td>\n",
       "      <td>0</td>\n",
       "      <td>257</td>\n",
       "      <td>2015</td>\n",
       "      <td>July</td>\n",
       "      <td>27</td>\n",
       "      <td>1</td>\n",
       "      <td>0</td>\n",
       "      <td>2</td>\n",
       "      <td>2</td>\n",
       "      <td>0.0</td>\n",
       "      <td>0</td>\n",
       "      <td>HB</td>\n",
       "      <td>Offline TA/TO</td>\n",
       "      <td>TA/TO</td>\n",
       "      <td>0</td>\n",
       "      <td>0</td>\n",
       "      <td>0</td>\n",
       "      <td>A</td>\n",
       "      <td>A</td>\n",
       "      <td>0</td>\n",
       "      <td>No Deposit</td>\n",
       "      <td>0</td>\n",
       "      <td>Transient</td>\n",
       "      <td>76.376288</td>\n",
       "      <td>0</td>\n",
       "      <td>0</td>\n",
       "      <td>2015-07-03</td>\n",
       "    </tr>\n",
       "    <tr>\n",
       "      <th>4</th>\n",
       "      <td>4</td>\n",
       "      <td>City Hotel</td>\n",
       "      <td>0</td>\n",
       "      <td>257</td>\n",
       "      <td>2015</td>\n",
       "      <td>July</td>\n",
       "      <td>27</td>\n",
       "      <td>1</td>\n",
       "      <td>0</td>\n",
       "      <td>2</td>\n",
       "      <td>2</td>\n",
       "      <td>0.0</td>\n",
       "      <td>0</td>\n",
       "      <td>HB</td>\n",
       "      <td>Offline TA/TO</td>\n",
       "      <td>TA/TO</td>\n",
       "      <td>0</td>\n",
       "      <td>0</td>\n",
       "      <td>0</td>\n",
       "      <td>A</td>\n",
       "      <td>A</td>\n",
       "      <td>0</td>\n",
       "      <td>No Deposit</td>\n",
       "      <td>0</td>\n",
       "      <td>Transient</td>\n",
       "      <td>49.411647</td>\n",
       "      <td>0</td>\n",
       "      <td>0</td>\n",
       "      <td>2015-07-03</td>\n",
       "    </tr>\n",
       "  </tbody>\n",
       "</table>\n",
       "</div>"
      ],
      "text/plain": [
       "   ID         hotel  is_canceled  lead_time  arrival_date_year  \\\n",
       "0   0  Resort Hotel            0        342               2015   \n",
       "1   1    City Hotel            0        257               2015   \n",
       "2   2    City Hotel            0        257               2015   \n",
       "3   3    City Hotel            0        257               2015   \n",
       "4   4    City Hotel            0        257               2015   \n",
       "\n",
       "  arrival_date_month  arrival_date_week_number  arrival_date_day_of_month  \\\n",
       "0               July                        27                          1   \n",
       "1               July                        27                          1   \n",
       "2               July                        27                          1   \n",
       "3               July                        27                          1   \n",
       "4               July                        27                          1   \n",
       "\n",
       "   stays_in_weekend_nights  stays_in_week_nights  adults  children  babies  \\\n",
       "0                        0                     0       2       0.0       0   \n",
       "1                        0                     2       1       0.0       0   \n",
       "2                        0                     2       2       0.0       0   \n",
       "3                        0                     2       2       0.0       0   \n",
       "4                        0                     2       2       0.0       0   \n",
       "\n",
       "  meal market_segment distribution_channel is_repeated_guest  \\\n",
       "0   BB         Direct               Direct                 0   \n",
       "1   HB  Offline TA/TO                TA/TO                 0   \n",
       "2   HB  Offline TA/TO                TA/TO                 0   \n",
       "3   HB  Offline TA/TO                TA/TO                 0   \n",
       "4   HB  Offline TA/TO                TA/TO                 0   \n",
       "\n",
       "   previous_cancellations  previous_bookings_not_canceled reserved_room_type  \\\n",
       "0                       0                               0                  C   \n",
       "1                       0                               0                  A   \n",
       "2                       0                               0                  A   \n",
       "3                       0                               0                  A   \n",
       "4                       0                               0                  A   \n",
       "\n",
       "  assigned_room_type  booking_changes deposit_type  days_in_waiting_list  \\\n",
       "0                  C                3   No Deposit                     0   \n",
       "1                  A                1   No Deposit                     0   \n",
       "2                  A                0   No Deposit                     0   \n",
       "3                  A                0   No Deposit                     0   \n",
       "4                  A                0   No Deposit                     0   \n",
       "\n",
       "  customer_type        adr  required_car_parking_spaces  \\\n",
       "0     Transient  -6.305161                            0   \n",
       "1     Transient  75.052227                            0   \n",
       "2     Transient  74.546401                            0   \n",
       "3     Transient  76.376288                            0   \n",
       "4     Transient  49.411647                            0   \n",
       "\n",
       "   total_of_special_requests reservation_status_date  \n",
       "0                          0              2015-07-01  \n",
       "1                          0              2015-07-03  \n",
       "2                          0              2015-07-03  \n",
       "3                          0              2015-07-03  \n",
       "4                          0              2015-07-03  "
      ]
     },
     "execution_count": 7,
     "metadata": {},
     "output_type": "execute_result"
    }
   ],
   "source": [
    "X = can_df.drop(['is_canceled'],axis=1)\n",
    "can_df.head()"
   ]
  },
  {
   "cell_type": "code",
   "execution_count": 8,
   "metadata": {
    "ExecuteTime": {
     "end_time": "2021-01-08T19:40:38.871708Z",
     "start_time": "2021-01-08T19:40:37.741711Z"
    }
   },
   "outputs": [
    {
     "data": {
      "text/plain": [
       "0"
      ]
     },
     "execution_count": 8,
     "metadata": {},
     "output_type": "execute_result"
    }
   ],
   "source": [
    "variables = pd.get_dummies(X,prefix_sep='-',drop_first=True)\n",
    "variables.isnull().sum().sum()"
   ]
  },
  {
   "cell_type": "code",
   "execution_count": 11,
   "metadata": {
    "ExecuteTime": {
     "end_time": "2021-01-08T19:41:22.672449Z",
     "start_time": "2021-01-08T19:41:20.202884Z"
    }
   },
   "outputs": [],
   "source": [
    "X_train,X_test,y_train,y_test= train_test_split(variables,y)\n",
    "# Feature Scaling: Without feature scaling, the accuracy was quite low.\n",
    "scaler = StandardScaler()\n",
    "X_train = scaler.fit_transform(X_train)\n",
    "X_test = scaler.transform(X_test)\n"
   ]
  },
  {
   "cell_type": "code",
   "execution_count": 15,
   "metadata": {
    "ExecuteTime": {
     "end_time": "2021-01-08T19:50:31.034931Z",
     "start_time": "2021-01-08T19:50:25.101803Z"
    }
   },
   "outputs": [
    {
     "name": "stdout",
     "output_type": "stream",
     "text": [
      "Best Training Accuracy: 0.9551043001981121\n",
      "Best Testing Accuracy: 0.9515797753791024\n"
     ]
    },
    {
     "name": "stderr",
     "output_type": "stream",
     "text": [
      "/usr/local/lib/python3.7/site-packages/sklearn/linear_model/_logistic.py:764: ConvergenceWarning: lbfgs failed to converge (status=1):\n",
      "STOP: TOTAL NO. of ITERATIONS REACHED LIMIT.\n",
      "\n",
      "Increase the number of iterations (max_iter) or scale the data as shown in:\n",
      "    https://scikit-learn.org/stable/modules/preprocessing.html\n",
      "Please also refer to the documentation for alternative solver options:\n",
      "    https://scikit-learn.org/stable/modules/linear_model.html#logistic-regression\n",
      "  extra_warning_msg=_LOGISTIC_SOLVER_CONVERGENCE_MSG)\n"
     ]
    }
   ],
   "source": [
    "reg = LogisticRegression()\n",
    "reg.fit(X_train,y_train)\n",
    "\n",
    "print(f'Best Training Accuracy: {reg.score(X_train, y_train)}')\n",
    "print(f'Best Testing Accuracy: {reg.score(X_test, y_test)}')"
   ]
  },
  {
   "cell_type": "code",
   "execution_count": 16,
   "metadata": {
    "ExecuteTime": {
     "end_time": "2021-01-08T20:21:47.542003Z",
     "start_time": "2021-01-08T19:50:54.270604Z"
    }
   },
   "outputs": [
    {
     "name": "stdout",
     "output_type": "stream",
     "text": [
      "Best Training Accuracy: 0.9091889057219438\n",
      "Best Testing Accuracy: 0.8910981951667176\n"
     ]
    }
   ],
   "source": [
    "from sklearn.neighbors import KNeighborsClassifier\n",
    "classifier = KNeighborsClassifier(n_neighbors = 10)\n",
    "classifier.fit(X_train,y_train)\n",
    "print(f'Best Training Accuracy: {classifier.score(X_train, y_train)}')\n",
    "print(f'Best Testing Accuracy: {classifier.score(X_test, y_test)}')"
   ]
  },
  {
   "cell_type": "code",
   "execution_count": null,
   "metadata": {},
   "outputs": [],
   "source": []
  },
  {
   "cell_type": "code",
   "execution_count": null,
   "metadata": {},
   "outputs": [],
   "source": []
  },
  {
   "cell_type": "code",
   "execution_count": null,
   "metadata": {},
   "outputs": [],
   "source": []
  },
  {
   "cell_type": "code",
   "execution_count": null,
   "metadata": {},
   "outputs": [],
   "source": []
  },
  {
   "cell_type": "markdown",
   "metadata": {},
   "source": [
    "## elu NN adr"
   ]
  },
  {
   "cell_type": "code",
   "execution_count": 2,
   "metadata": {
    "ExecuteTime": {
     "end_time": "2021-01-08T18:43:29.639593Z",
     "start_time": "2021-01-08T18:43:29.354864Z"
    }
   },
   "outputs": [],
   "source": [
    "train_df = pd.read_csv('train.csv')\n",
    "train_df = train_df.drop(index=31980)"
   ]
  },
  {
   "cell_type": "code",
   "execution_count": 3,
   "metadata": {
    "ExecuteTime": {
     "end_time": "2021-01-08T18:43:48.971239Z",
     "start_time": "2021-01-08T18:43:48.962479Z"
    }
   },
   "outputs": [],
   "source": [
    "leadtime = train_df['lead_time']\n",
    "arrivaldateyear = train_df['arrival_date_year']\n",
    "arrivaldateweekno = train_df['arrival_date_week_number']\n",
    "arrivaldatedayofmonth = train_df['arrival_date_day_of_month']\n",
    "staysweekendnights = train_df['stays_in_weekend_nights']\n",
    "staysweeknights = train_df['stays_in_week_nights']\n",
    "adults = train_df['adults']\n",
    "children = train_df['children']\n",
    "babies = train_df['babies']\n",
    "isrepeatedguest = train_df['is_repeated_guest'] \n",
    "previouscancellations = train_df['previous_cancellations']\n",
    "previousbookingsnotcanceled = train_df['previous_bookings_not_canceled']\n",
    "bookingchanges = train_df['booking_changes']\n",
    "agent = train_df['agent']\n",
    "company = train_df['company']\n",
    "dayswaitinglist = train_df['days_in_waiting_list']\n",
    "adr = train_df['adr']\n",
    "rcps = train_df['required_car_parking_spaces']\n",
    "totalsqr = train_df['total_of_special_requests']"
   ]
  },
  {
   "cell_type": "code",
   "execution_count": 4,
   "metadata": {
    "ExecuteTime": {
     "end_time": "2021-01-08T18:44:02.305401Z",
     "start_time": "2021-01-08T18:44:02.273194Z"
    }
   },
   "outputs": [],
   "source": [
    "train_df['country']=train_df['country'].fillna(train_df['country'].value_counts().index[0])\n",
    "train_df['agent']=train_df['agent'].fillna(train_df['agent'].value_counts().index[0])\n",
    "train_df['company']=train_df['company'].fillna(0)\n",
    "train_df['children']=train_df['children'].fillna(train_df['children'].median())"
   ]
  },
  {
   "cell_type": "code",
   "execution_count": 5,
   "metadata": {
    "ExecuteTime": {
     "end_time": "2021-01-08T18:44:21.108658Z",
     "start_time": "2021-01-08T18:44:21.076888Z"
    }
   },
   "outputs": [
    {
     "name": "stdout",
     "output_type": "stream",
     "text": [
      "503.4046040161461\n",
      "1072\n",
      "-144.70448560551358\n",
      "79722\n"
     ]
    }
   ],
   "source": [
    "y1 = np.array(adr)\n",
    "print(max(y1))\n",
    "print(np.argmax(y1))\n",
    "print(min(y1))\n",
    "print(np.argmin(y1))"
   ]
  },
  {
   "cell_type": "code",
   "execution_count": 8,
   "metadata": {
    "ExecuteTime": {
     "end_time": "2021-01-08T18:45:29.934931Z",
     "start_time": "2021-01-08T18:45:29.862582Z"
    }
   },
   "outputs": [],
   "source": [
    "iscanceled = train_df.is_canceled.astype(\"category\").cat.codes\n",
    "iscanceledcat=pd.Series(iscanceled)\n",
    "arrivaldatemonth = train_df.arrival_date_month.astype(\"category\").cat.codes\n",
    "arrivaldatemonthcat=pd.Series(arrivaldatemonth)\n",
    "mealcat=train_df.meal.astype(\"category\").cat.codes\n",
    "mealcat=pd.Series(mealcat)\n",
    "countrycat=train_df.country.astype(\"category\").cat.codes\n",
    "countrycat=pd.Series(countrycat)\n",
    "marketsegmentcat=train_df.market_segment.astype(\"category\").cat.codes\n",
    "marketsegmentcat=pd.Series(marketsegmentcat)\n",
    "distributionchannelcat=train_df.distribution_channel.astype(\"category\").cat.codes\n",
    "distributionchannelcat=pd.Series(distributionchannelcat)\n",
    "reservedroomtypecat=train_df.reserved_room_type.astype(\"category\").cat.codes\n",
    "reservedroomtypecat=pd.Series(reservedroomtypecat)\n",
    "assignedroomtypecat=train_df.assigned_room_type.astype(\"category\").cat.codes\n",
    "assignedroomtypecat=pd.Series(assignedroomtypecat)\n",
    "deposittypecat=train_df.deposit_type.astype(\"category\").cat.codes\n",
    "deposittypecat=pd.Series(deposittypecat)\n",
    "customertypecat=train_df.customer_type.astype(\"category\").cat.codes\n",
    "customertypecat=pd.Series(customertypecat)\n",
    "reservationstatuscat=train_df.reservation_status.astype(\"category\").cat.codes\n",
    "reservationstatuscat=pd.Series(reservationstatuscat)\n",
    "isrepeatedguestcat = train_df.is_repeated_guest.astype(\"category\").cat.codes\n",
    "isrepeatedguestcat=pd.Series(isrepeatedguestcat)\n",
    "agentcat = train_df.agent.astype(\"category\").cat.codes\n",
    "agentcat=pd.Series(agentcat)\n",
    "companycat = train_df.company.astype(\"category\").cat.codes\n",
    "companycat=pd.Series(companycat)"
   ]
  },
  {
   "cell_type": "code",
   "execution_count": 10,
   "metadata": {
    "ExecuteTime": {
     "end_time": "2021-01-08T18:46:06.231358Z",
     "start_time": "2021-01-08T18:46:06.209981Z"
    }
   },
   "outputs": [],
   "source": [
    "x1 = np.column_stack((iscanceled,countrycat,marketsegmentcat,deposittypecat,customertypecat,rcps,arrivaldateweekno))\n",
    "x1 = sm.add_constant(x1, prepend=True)"
   ]
  },
  {
   "cell_type": "code",
   "execution_count": 11,
   "metadata": {
    "ExecuteTime": {
     "end_time": "2021-01-08T18:47:12.120489Z",
     "start_time": "2021-01-08T18:47:12.105311Z"
    }
   },
   "outputs": [],
   "source": [
    "X_train, X_val, y_train, y_val = train_test_split(x1, y1)"
   ]
  },
  {
   "cell_type": "code",
   "execution_count": 12,
   "metadata": {
    "ExecuteTime": {
     "end_time": "2021-01-08T18:47:26.136464Z",
     "start_time": "2021-01-08T18:47:26.111583Z"
    }
   },
   "outputs": [
    {
     "name": "stdout",
     "output_type": "stream",
     "text": [
      "MinMaxScaler()\n",
      "MinMaxScaler()\n",
      "MinMaxScaler()\n",
      "MinMaxScaler()\n"
     ]
    }
   ],
   "source": [
    "y_train=np.reshape(y_train, (-1,1))\n",
    "y_val=np.reshape(y_val, (-1,1))\n",
    "\n",
    "scaler_x = MinMaxScaler()\n",
    "scaler_y = MinMaxScaler()\n",
    "\n",
    "print(scaler_x.fit(X_train))\n",
    "xtrain_scale=scaler_x.transform(X_train)\n",
    "print(scaler_x.fit(X_val))\n",
    "xval_scale=scaler_x.transform(X_val)\n",
    "\n",
    "print(scaler_y.fit(y_train))\n",
    "ytrain_scale=scaler_y.transform(y_train)\n",
    "print(scaler_y.fit(y_val))\n",
    "yval_scale=scaler_y.transform(y_val)"
   ]
  },
  {
   "cell_type": "code",
   "execution_count": 13,
   "metadata": {
    "ExecuteTime": {
     "end_time": "2021-01-08T18:47:39.461755Z",
     "start_time": "2021-01-08T18:47:39.455312Z"
    }
   },
   "outputs": [
    {
     "data": {
      "text/plain": [
       "array([[0.38764436],\n",
       "       [0.35965962],\n",
       "       [0.35434166],\n",
       "       ...,\n",
       "       [0.31499836],\n",
       "       [0.43360256],\n",
       "       [0.35602733]])"
      ]
     },
     "execution_count": 13,
     "metadata": {},
     "output_type": "execute_result"
    }
   ],
   "source": [
    "ytrain_scale"
   ]
  },
  {
   "cell_type": "code",
   "execution_count": 29,
   "metadata": {
    "ExecuteTime": {
     "end_time": "2021-01-08T18:55:46.510304Z",
     "start_time": "2021-01-08T18:55:46.455421Z"
    }
   },
   "outputs": [
    {
     "name": "stdout",
     "output_type": "stream",
     "text": [
      "Model: \"sequential_2\"\n",
      "_________________________________________________________________\n",
      "Layer (type)                 Output Shape              Param #   \n",
      "=================================================================\n",
      "dense_6 (Dense)              (None, 8)                 72        \n",
      "_________________________________________________________________\n",
      "dropout (Dropout)            (None, 8)                 0         \n",
      "_________________________________________________________________\n",
      "dense_7 (Dense)              (None, 2670)              24030     \n",
      "_________________________________________________________________\n",
      "dropout_1 (Dropout)          (None, 2670)              0         \n",
      "_________________________________________________________________\n",
      "dense_8 (Dense)              (None, 1)                 2671      \n",
      "_________________________________________________________________\n",
      "dropout_2 (Dropout)          (None, 1)                 0         \n",
      "=================================================================\n",
      "Total params: 26,773\n",
      "Trainable params: 26,773\n",
      "Non-trainable params: 0\n",
      "_________________________________________________________________\n"
     ]
    }
   ],
   "source": [
    "model = Sequential()\n",
    "model.add(Dense(8, input_dim=8, kernel_initializer='normal', activation='elu'))\n",
    "model.add(Dropout(0.2))\n",
    "model.add(Dense(2670, activation='elu'))\n",
    "model.add(Dropout(0.2))\n",
    "model.add(Dense(1, activation='linear'))\n",
    "model.add(Dropout(0.2))\n",
    "model.summary()"
   ]
  },
  {
   "cell_type": "code",
   "execution_count": 30,
   "metadata": {
    "ExecuteTime": {
     "end_time": "2021-01-08T18:56:22.974953Z",
     "start_time": "2021-01-08T18:55:49.062286Z"
    }
   },
   "outputs": [
    {
     "name": "stdout",
     "output_type": "stream",
     "text": [
      "Epoch 1/30\n",
      "367/367 [==============================] - 2s 3ms/step - loss: 0.0411 - mse: 0.0411 - mae: 0.1410 - val_loss: 0.0114 - val_mse: 0.0114 - val_mae: 0.0840\n",
      "Epoch 2/30\n",
      "367/367 [==============================] - 1s 3ms/step - loss: 0.0360 - mse: 0.0360 - mae: 0.1256 - val_loss: 0.0108 - val_mse: 0.0108 - val_mae: 0.0813\n",
      "Epoch 3/30\n",
      "367/367 [==============================] - 1s 3ms/step - loss: 0.0357 - mse: 0.0357 - mae: 0.1246 - val_loss: 0.0130 - val_mse: 0.0130 - val_mae: 0.0913\n",
      "Epoch 4/30\n",
      "367/367 [==============================] - 1s 3ms/step - loss: 0.0358 - mse: 0.0358 - mae: 0.1252 - val_loss: 0.0123 - val_mse: 0.0123 - val_mae: 0.0881\n",
      "Epoch 5/30\n",
      "367/367 [==============================] - 1s 3ms/step - loss: 0.0358 - mse: 0.0358 - mae: 0.1246 - val_loss: 0.0150 - val_mse: 0.0150 - val_mae: 0.1005\n",
      "Epoch 6/30\n",
      "367/367 [==============================] - 1s 3ms/step - loss: 0.0357 - mse: 0.0357 - mae: 0.1246 - val_loss: 0.0100 - val_mse: 0.0100 - val_mae: 0.0779\n",
      "Epoch 7/30\n",
      "367/367 [==============================] - 1s 3ms/step - loss: 0.0355 - mse: 0.0355 - mae: 0.1245 - val_loss: 0.0146 - val_mse: 0.0146 - val_mae: 0.0986\n",
      "Epoch 8/30\n",
      "367/367 [==============================] - 1s 3ms/step - loss: 0.0363 - mse: 0.0363 - mae: 0.1263 - val_loss: 0.0101 - val_mse: 0.0101 - val_mae: 0.0780\n",
      "Epoch 9/30\n",
      "367/367 [==============================] - 1s 3ms/step - loss: 0.0356 - mse: 0.0356 - mae: 0.1244 - val_loss: 0.0113 - val_mse: 0.0113 - val_mae: 0.0837\n",
      "Epoch 10/30\n",
      "367/367 [==============================] - 1s 3ms/step - loss: 0.0366 - mse: 0.0366 - mae: 0.1267 - val_loss: 0.0107 - val_mse: 0.0107 - val_mae: 0.0809\n",
      "Epoch 11/30\n",
      "367/367 [==============================] - 1s 3ms/step - loss: 0.0363 - mse: 0.0363 - mae: 0.1260 - val_loss: 0.0110 - val_mse: 0.0110 - val_mae: 0.0820\n",
      "Epoch 12/30\n",
      "367/367 [==============================] - 1s 3ms/step - loss: 0.0363 - mse: 0.0363 - mae: 0.1260 - val_loss: 0.0118 - val_mse: 0.0118 - val_mae: 0.0862\n",
      "Epoch 13/30\n",
      "367/367 [==============================] - 1s 3ms/step - loss: 0.0361 - mse: 0.0361 - mae: 0.1255 - val_loss: 0.0122 - val_mse: 0.0122 - val_mae: 0.0880\n",
      "Epoch 14/30\n",
      "367/367 [==============================] - 1s 3ms/step - loss: 0.0359 - mse: 0.0359 - mae: 0.1251 - val_loss: 0.0136 - val_mse: 0.0136 - val_mae: 0.0940\n",
      "Epoch 15/30\n",
      "367/367 [==============================] - 1s 3ms/step - loss: 0.0360 - mse: 0.0360 - mae: 0.1252 - val_loss: 0.0122 - val_mse: 0.0122 - val_mae: 0.0880\n",
      "Epoch 16/30\n",
      "367/367 [==============================] - 1s 3ms/step - loss: 0.0359 - mse: 0.0359 - mae: 0.1248 - val_loss: 0.0119 - val_mse: 0.0119 - val_mae: 0.0863\n",
      "Epoch 17/30\n",
      "367/367 [==============================] - 1s 3ms/step - loss: 0.0356 - mse: 0.0356 - mae: 0.1245 - val_loss: 0.0107 - val_mse: 0.0107 - val_mae: 0.0808\n",
      "Epoch 18/30\n",
      "367/367 [==============================] - 1s 3ms/step - loss: 0.0363 - mse: 0.0363 - mae: 0.1264 - val_loss: 0.0124 - val_mse: 0.0124 - val_mae: 0.0888\n",
      "Epoch 19/30\n",
      "367/367 [==============================] - 1s 3ms/step - loss: 0.0358 - mse: 0.0358 - mae: 0.1247 - val_loss: 0.0122 - val_mse: 0.0122 - val_mae: 0.0879\n",
      "Epoch 20/30\n",
      "367/367 [==============================] - 1s 3ms/step - loss: 0.0369 - mse: 0.0369 - mae: 0.1275 - val_loss: 0.0116 - val_mse: 0.0116 - val_mae: 0.0853\n",
      "Epoch 21/30\n",
      "367/367 [==============================] - 1s 3ms/step - loss: 0.0357 - mse: 0.0357 - mae: 0.1247 - val_loss: 0.0120 - val_mse: 0.0120 - val_mae: 0.0868\n",
      "Epoch 22/30\n",
      "367/367 [==============================] - 1s 3ms/step - loss: 0.0363 - mse: 0.0363 - mae: 0.1256 - val_loss: 0.0122 - val_mse: 0.0122 - val_mae: 0.0880\n",
      "Epoch 23/30\n",
      "367/367 [==============================] - 1s 3ms/step - loss: 0.0355 - mse: 0.0355 - mae: 0.1241 - val_loss: 0.0126 - val_mse: 0.0126 - val_mae: 0.0899\n",
      "Epoch 24/30\n",
      "367/367 [==============================] - 1s 3ms/step - loss: 0.0363 - mse: 0.0363 - mae: 0.1257 - val_loss: 0.0127 - val_mse: 0.0127 - val_mae: 0.0900\n",
      "Epoch 25/30\n",
      "367/367 [==============================] - 1s 3ms/step - loss: 0.0359 - mse: 0.0359 - mae: 0.1251 - val_loss: 0.0125 - val_mse: 0.0125 - val_mae: 0.0891\n",
      "Epoch 26/30\n",
      "367/367 [==============================] - 1s 3ms/step - loss: 0.0364 - mse: 0.0364 - mae: 0.1265 - val_loss: 0.0131 - val_mse: 0.0131 - val_mae: 0.0920\n",
      "Epoch 27/30\n",
      "367/367 [==============================] - 1s 3ms/step - loss: 0.0360 - mse: 0.0360 - mae: 0.1254 - val_loss: 0.0126 - val_mse: 0.0126 - val_mae: 0.0899\n",
      "Epoch 28/30\n",
      "367/367 [==============================] - 1s 3ms/step - loss: 0.0360 - mse: 0.0360 - mae: 0.1247 - val_loss: 0.0115 - val_mse: 0.0115 - val_mae: 0.0844\n",
      "Epoch 29/30\n",
      "367/367 [==============================] - 1s 3ms/step - loss: 0.0369 - mse: 0.0369 - mae: 0.1273 - val_loss: 0.0122 - val_mse: 0.0122 - val_mae: 0.0879\n",
      "Epoch 30/30\n",
      "367/367 [==============================] - 1s 3ms/step - loss: 0.0353 - mse: 0.0353 - mae: 0.1238 - val_loss: 0.0117 - val_mse: 0.0117 - val_mae: 0.0858\n"
     ]
    }
   ],
   "source": [
    "model.compile(loss='mse', optimizer='adam', metrics=['mse','mae'])\n",
    "history=model.fit(xtrain_scale, ytrain_scale, epochs=30, batch_size=150, verbose=1, validation_split=0.2)\n",
    "predictions = model.predict(xval_scale)"
   ]
  },
  {
   "cell_type": "code",
   "execution_count": 31,
   "metadata": {
    "ExecuteTime": {
     "end_time": "2021-01-08T18:56:24.969041Z",
     "start_time": "2021-01-08T18:56:24.798987Z"
    }
   },
   "outputs": [
    {
     "name": "stdout",
     "output_type": "stream",
     "text": [
      "dict_keys(['loss', 'mse', 'mae', 'val_loss', 'val_mse', 'val_mae'])\n"
     ]
    },
    {
     "data": {
      "image/png": "[encoded data removed]",
      "text/plain": [
       "<Figure size 432x288 with 1 Axes>"
      ]
     },
     "metadata": {
      "needs_background": "light"
     },
     "output_type": "display_data"
    }
   ],
   "source": [
    "\n",
    "print(history.history.keys())\n",
    "# \"Loss\"\n",
    "plt.plot(history.history['loss'])\n",
    "plt.plot(history.history['val_loss'])\n",
    "plt.title('model loss')\n",
    "plt.ylabel('loss')\n",
    "plt.xlabel('epoch')\n",
    "plt.legend(['train', 'validation'], loc='upper left')\n",
    "plt.show()"
   ]
  },
  {
   "cell_type": "code",
   "execution_count": 32,
   "metadata": {
    "ExecuteTime": {
     "end_time": "2021-01-08T18:56:37.837885Z",
     "start_time": "2021-01-08T18:56:37.829222Z"
    }
   },
   "outputs": [
    {
     "data": {
      "text/plain": [
       "array([[ 75.55385],\n",
       "       [105.99616],\n",
       "       [114.29068],\n",
       "       ...,\n",
       "       [100.5367 ],\n",
       "       [ 75.55385],\n",
       "       [ 92.6188 ]], dtype=float32)"
      ]
     },
     "execution_count": 32,
     "metadata": {},
     "output_type": "execute_result"
    }
   ],
   "source": [
    "predictions = scaler_y.inverse_transform(predictions)\n",
    "predictions"
   ]
  },
  {
   "cell_type": "code",
   "execution_count": 33,
   "metadata": {
    "ExecuteTime": {
     "end_time": "2021-01-08T18:56:40.002713Z",
     "start_time": "2021-01-08T18:56:39.994487Z"
    }
   },
   "outputs": [
    {
     "data": {
      "text/plain": [
       "35.82076895716465"
      ]
     },
     "execution_count": 33,
     "metadata": {},
     "output_type": "execute_result"
    }
   ],
   "source": [
    "mean_absolute_error(y_val, predictions)"
   ]
  },
  {
   "cell_type": "code",
   "execution_count": 34,
   "metadata": {
    "ExecuteTime": {
     "end_time": "2021-01-08T18:56:41.786796Z",
     "start_time": "2021-01-08T18:56:41.777414Z"
    }
   },
   "outputs": [
    {
     "data": {
      "text/plain": [
       "46.33618241631022"
      ]
     },
     "execution_count": 34,
     "metadata": {},
     "output_type": "execute_result"
    }
   ],
   "source": [
    "mean_squared_error(y_val, predictions)\n",
    "math.sqrt(mean_squared_error(y_val, predictions))"
   ]
  },
  {
   "cell_type": "code",
   "execution_count": 35,
   "metadata": {
    "ExecuteTime": {
     "end_time": "2021-01-08T18:56:43.367854Z",
     "start_time": "2021-01-08T18:56:43.361616Z"
    }
   },
   "outputs": [
    {
     "data": {
      "text/plain": [
       "84.53872712139851"
      ]
     },
     "execution_count": 35,
     "metadata": {},
     "output_type": "execute_result"
    }
   ],
   "source": [
    "np.mean(y_val)"
   ]
  },
  {
   "cell_type": "code",
   "execution_count": 36,
   "metadata": {
    "ExecuteTime": {
     "end_time": "2021-01-08T18:56:44.482875Z",
     "start_time": "2021-01-08T18:56:44.476353Z"
    }
   },
   "outputs": [
    {
     "data": {
      "text/plain": [
       "90.80782"
      ]
     },
     "execution_count": 36,
     "metadata": {},
     "output_type": "execute_result"
    }
   ],
   "source": [
    "np.mean(predictions)"
   ]
  },
  {
   "cell_type": "code",
   "execution_count": 37,
   "metadata": {
    "ExecuteTime": {
     "end_time": "2021-01-08T18:58:15.959944Z",
     "start_time": "2021-01-08T18:58:15.849099Z"
    }
   },
   "outputs": [
    {
     "data": {
      "text/plain": [
       "ID                                    0\n",
       "hotel                                 0\n",
       "lead_time                             0\n",
       "arrival_date_year                     0\n",
       "arrival_date_month                    0\n",
       "arrival_date_week_number              0\n",
       "arrival_date_day_of_month             0\n",
       "stays_in_weekend_nights               0\n",
       "stays_in_week_nights                  0\n",
       "adults                                0\n",
       "children                              0\n",
       "babies                                0\n",
       "meal                                  0\n",
       "country                              20\n",
       "market_segment                        0\n",
       "distribution_channel                  0\n",
       "is_repeated_guest                     0\n",
       "previous_cancellations                0\n",
       "previous_bookings_not_canceled        0\n",
       "reserved_room_type                    0\n",
       "assigned_room_type                    0\n",
       "booking_changes                       0\n",
       "deposit_type                          0\n",
       "agent                              3123\n",
       "company                           26676\n",
       "days_in_waiting_list                  0\n",
       "customer_type                         0\n",
       "required_car_parking_spaces           0\n",
       "total_of_special_requests             0\n",
       "dtype: int64"
      ]
     },
     "execution_count": 37,
     "metadata": {},
     "output_type": "execute_result"
    }
   ],
   "source": [
    "test_df = pd.read_csv('test.csv')\n",
    "test_df.isnull().sum()"
   ]
  },
  {
   "cell_type": "code",
   "execution_count": 38,
   "metadata": {
    "ExecuteTime": {
     "end_time": "2021-01-08T18:59:29.724129Z",
     "start_time": "2021-01-08T18:59:29.708929Z"
    }
   },
   "outputs": [],
   "source": [
    "test_df['country']=test_df['country'].fillna(test_df['country'].value_counts().index[0])\n",
    "test_df['agent']=test_df['agent'].fillna(test_df['agent'].value_counts().index[0])\n",
    "test_df['company']=test_df['company'].fillna(0)\n"
   ]
  },
  {
   "cell_type": "code",
   "execution_count": null,
   "metadata": {},
   "outputs": [],
   "source": []
  },
  {
   "cell_type": "code",
   "execution_count": 50,
   "metadata": {
    "ExecuteTime": {
     "end_time": "2021-01-08T19:16:23.984750Z",
     "start_time": "2021-01-08T19:16:23.936565Z"
    }
   },
   "outputs": [],
   "source": [
    "arrivaldatemonth = test_df.arrival_date_month.astype(\"category\").cat.codes\n",
    "arrivaldatemonthcat=pd.Series(arrivaldatemonth)\n",
    "mealcat=test_df.meal.astype(\"category\").cat.codes\n",
    "mealcat=pd.Series(mealcat)\n",
    "countrycat=test_df.country.astype(\"category\").cat.codes\n",
    "countrycat=pd.Series(countrycat)\n",
    "marketsegmentcat=test_df.market_segment.astype(\"category\").cat.codes\n",
    "marketsegmentcat=pd.Series(marketsegmentcat)\n",
    "distributionchannelcat=test_df.distribution_channel.astype(\"category\").cat.codes\n",
    "distributionchannelcat=pd.Series(distributionchannelcat)\n",
    "reservedroomtypecat=test_df.reserved_room_type.astype(\"category\").cat.codes\n",
    "reservedroomtypecat=pd.Series(reservedroomtypecat)\n",
    "assignedroomtypecat=test_df.assigned_room_type.astype(\"category\").cat.codes\n",
    "assignedroomtypecat=pd.Series(assignedroomtypecat)\n",
    "deposittypecat=test_df.deposit_type.astype(\"category\").cat.codes\n",
    "deposittypecat=pd.Series(deposittypecat)\n",
    "customertypecat=test_df.customer_type.astype(\"category\").cat.codes\n",
    "customertypecat=pd.Series(customertypecat)\n",
    "\n",
    "isrepeatedguestcat = test_df.is_repeated_guest.astype(\"category\").cat.codes\n",
    "isrepeatedguestcat=pd.Series(isrepeatedguestcat)\n",
    "agentcat = test_df.agent.astype(\"category\").cat.codes\n",
    "agentcat=pd.Series(agentcat)\n",
    "companycat = test_df.company.astype(\"category\").cat.codes\n",
    "companycat=pd.Series(companycat)"
   ]
  },
  {
   "cell_type": "code",
   "execution_count": 40,
   "metadata": {
    "ExecuteTime": {
     "end_time": "2021-01-08T19:01:23.243085Z",
     "start_time": "2021-01-08T19:01:23.225358Z"
    }
   },
   "outputs": [],
   "source": [
    "atest = np.column_stack((iscanceled,countrycat,marketsegmentcat,deposittypecat,customertypecat,rcps,arrivaldateweekno))\n",
    "atest = sm.add_constant(x1, prepend=True)"
   ]
  },
  {
   "cell_type": "code",
   "execution_count": 42,
   "metadata": {
    "ExecuteTime": {
     "end_time": "2021-01-08T19:02:04.690428Z",
     "start_time": "2021-01-08T19:02:04.673312Z"
    }
   },
   "outputs": [
    {
     "name": "stdout",
     "output_type": "stream",
     "text": [
      "MinMaxScaler()\n"
     ]
    }
   ],
   "source": [
    "scaler_test = MinMaxScaler()\n",
    "print(scaler_test.fit(atest))\n",
    "ascale=scaler_test.transform(atest)"
   ]
  },
  {
   "cell_type": "code",
   "execution_count": 43,
   "metadata": {
    "ExecuteTime": {
     "end_time": "2021-01-08T19:02:12.553273Z",
     "start_time": "2021-01-08T19:02:12.547699Z"
    }
   },
   "outputs": [
    {
     "data": {
      "text/plain": [
       "(91530, 8)"
      ]
     },
     "execution_count": 43,
     "metadata": {},
     "output_type": "execute_result"
    }
   ],
   "source": [
    "np.shape(ascale)"
   ]
  },
  {
   "cell_type": "code",
   "execution_count": 44,
   "metadata": {
    "ExecuteTime": {
     "end_time": "2021-01-08T19:02:37.825239Z",
     "start_time": "2021-01-08T19:02:36.136507Z"
    }
   },
   "outputs": [
    {
     "data": {
      "text/plain": [
       "array([[0.2897378 ],\n",
       "       [0.30875343],\n",
       "       [0.30875343],\n",
       "       ...,\n",
       "       [0.31921282],\n",
       "       [0.290711  ],\n",
       "       [0.28499252]], dtype=float32)"
      ]
     },
     "execution_count": 44,
     "metadata": {},
     "output_type": "execute_result"
    }
   ],
   "source": [
    "bpred = model.predict(ascale)\n",
    "bpred"
   ]
  },
  {
   "cell_type": "code",
   "execution_count": 45,
   "metadata": {
    "ExecuteTime": {
     "end_time": "2021-01-08T19:02:47.393121Z",
     "start_time": "2021-01-08T19:02:47.387807Z"
    }
   },
   "outputs": [],
   "source": [
    "bpred = scaler_y.inverse_transform(bpred)"
   ]
  },
  {
   "cell_type": "code",
   "execution_count": 46,
   "metadata": {
    "ExecuteTime": {
     "end_time": "2021-01-08T19:02:58.232884Z",
     "start_time": "2021-01-08T19:02:58.226763Z"
    }
   },
   "outputs": [
    {
     "data": {
      "text/plain": [
       "array([[73.97991 ],\n",
       "       [85.476776],\n",
       "       [85.476776],\n",
       "       ...,\n",
       "       [91.80053 ],\n",
       "       [74.568306],\n",
       "       [71.110916]], dtype=float32)"
      ]
     },
     "execution_count": 46,
     "metadata": {},
     "output_type": "execute_result"
    }
   ],
   "source": [
    "bpred"
   ]
  },
  {
   "cell_type": "code",
   "execution_count": 47,
   "metadata": {
    "ExecuteTime": {
     "end_time": "2021-01-08T19:03:11.204502Z",
     "start_time": "2021-01-08T19:03:11.198195Z"
    }
   },
   "outputs": [
    {
     "data": {
      "text/plain": [
       "86.12072"
      ]
     },
     "execution_count": 47,
     "metadata": {},
     "output_type": "execute_result"
    }
   ],
   "source": [
    "bpred.mean()"
   ]
  },
  {
   "cell_type": "code",
   "execution_count": null,
   "metadata": {},
   "outputs": [],
   "source": []
  }
 ],
 "metadata": {
  "kernelspec": {
   "display_name": "Python 3",
   "language": "python",
   "name": "python3"
  },
  "language_info": {
   "codemirror_mode": {
    "name": "ipython",
    "version": 3
   },
   "file_extension": ".py",
   "mimetype": "text/x-python",
   "name": "python",
   "nbconvert_exporter": "python",
   "pygments_lexer": "ipython3",
   "version": "3.9.5"
  },
  "varInspector": {
   "cols": {
    "lenName": 16,
    "lenType": 16,
    "lenVar": 40
   },
   "kernels_config": {
    "python": {
     "delete_cmd_postfix": "",
     "delete_cmd_prefix": "del ",
     "library": "var_list.py",
     "varRefreshCmd": "print(var_dic_list())"
    },
    "r": {
     "delete_cmd_postfix": ") ",
     "delete_cmd_prefix": "rm(",
     "library": "var_list.r",
     "varRefreshCmd": "cat(var_dic_list()) "
    }
   },
   "types_to_exclude": [
    "module",
    "function",
    "builtin_function_or_method",
    "instance",
    "_Feature"
   ],
   "window_display": false
  }
 },
 "nbformat": 4,
 "nbformat_minor": 4
}
