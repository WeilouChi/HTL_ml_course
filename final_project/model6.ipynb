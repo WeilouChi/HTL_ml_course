{
 "cells": [
  {
   "cell_type": "code",
   "execution_count": 135,
   "metadata": {
    "ExecuteTime": {
     "end_time": "2021-01-10T04:48:53.442006Z",
     "start_time": "2021-01-10T04:48:53.425594Z"
    }
   },
   "outputs": [],
   "source": [
    "import numpy as np\n",
    "import pandas as pd\n",
    "import math\n",
    "import statsmodels.api as sm\n",
    "import matplotlib.pyplot as plt\n",
    "from sklearn.preprocessing import LabelEncoder\n",
    "from sklearn.model_selection import GridSearchCV\n",
    "from sklearn.model_selection import train_test_split\n",
    "from sklearn.preprocessing import MinMaxScaler\n",
    "from sklearn.preprocessing import StandardScaler\n",
    "from sklearn.tree import DecisionTreeClassifier\n",
    "from sklearn.tree import DecisionTreeRegressor\n",
    "from sklearn.ensemble import RandomForestClassifier\n",
    "from sklearn.ensemble import RandomForestRegressor\n",
    "from sklearn.ensemble import ExtraTreesClassifier\n",
    "from sklearn.metrics import mean_absolute_error\n",
    "from sklearn.metrics import mean_squared_error\n",
    "from sklearn.svm import SVR\n",
    "import tensorflow\n",
    "from sklearn.metrics import r2_score\n",
    "tensorflow.random.set_seed(1)\n",
    "from tensorflow.python.keras.layers import Dense\n",
    "from tensorflow.keras.layers import Dropout\n",
    "from tensorflow.python.keras.models import Sequential\n",
    "from tensorflow.python.keras.wrappers.scikit_learn import KerasRegressor"
   ]
  },
  {
   "cell_type": "code",
   "execution_count": 136,
   "metadata": {
    "ExecuteTime": {
     "end_time": "2021-01-10T04:48:54.266068Z",
     "start_time": "2021-01-10T04:48:53.978123Z"
    }
   },
   "outputs": [],
   "source": [
    "train_df = pd.read_csv('train.csv')\n",
    "train_df = train_df.drop(index=31980)\n",
    "train_df = train_df.drop(columns=['ID'])\n",
    "leadtime = train_df['lead_time']\n",
    "arrivaldateyear = train_df['arrival_date_year']\n",
    "arrivaldateweekno = train_df['arrival_date_week_number']\n",
    "arrivaldatedayofmonth = train_df['arrival_date_day_of_month']\n",
    "staysweekendnights = train_df['stays_in_weekend_nights']\n",
    "staysweeknights = train_df['stays_in_week_nights']\n",
    "adults = train_df['adults']\n",
    "children = train_df['children']\n",
    "babies = train_df['babies']\n",
    "isrepeatedguest = train_df['is_repeated_guest'] \n",
    "previouscancellations = train_df['previous_cancellations']\n",
    "previousbookingsnotcanceled = train_df['previous_bookings_not_canceled']\n",
    "bookingchanges = train_df['booking_changes']\n",
    "agent = train_df['agent']\n",
    "company = train_df['company']\n",
    "dayswaitinglist = train_df['days_in_waiting_list']\n",
    "#adr = train_df['adr']\n",
    "\n",
    "rcps = train_df['required_car_parking_spaces']\n",
    "totalsqr = train_df['total_of_special_requests']\n",
    "train_df['country']=train_df['country'].fillna(train_df['country'].value_counts().index[0])\n",
    "train_df['agent']=train_df['agent'].fillna(train_df['agent'].value_counts().index[0])\n",
    "train_df['company']=train_df['company'].fillna(0)\n",
    "train_df['children']=train_df['children'].fillna(train_df['children'].median())"
   ]
  },
  {
   "cell_type": "code",
   "execution_count": 137,
   "metadata": {
    "ExecuteTime": {
     "end_time": "2021-01-10T04:48:54.734166Z",
     "start_time": "2021-01-10T04:48:54.725928Z"
    }
   },
   "outputs": [
    {
     "data": {
      "text/plain": [
       "0        -6.305161\n",
       "1        75.052227\n",
       "2        74.546401\n",
       "3        76.376288\n",
       "4        49.411647\n",
       "           ...    \n",
       "91526     0.000000\n",
       "91527    -6.822102\n",
       "91528    90.814554\n",
       "91529    38.135565\n",
       "91530    58.196470\n",
       "Name: new_adr, Length: 91530, dtype: float64"
      ]
     },
     "execution_count": 137,
     "metadata": {},
     "output_type": "execute_result"
    }
   ],
   "source": [
    "inv_cal = np.where(train_df['is_canceled']==0,1,0)\n",
    "train_df['new_adr'] = inv_cal * train_df['adr']\n",
    "adr = train_df['new_adr']\n",
    "adr"
   ]
  },
  {
   "cell_type": "code",
   "execution_count": 138,
   "metadata": {
    "ExecuteTime": {
     "end_time": "2021-01-10T04:48:59.803175Z",
     "start_time": "2021-01-10T04:48:59.796459Z"
    }
   },
   "outputs": [
    {
     "data": {
      "text/plain": [
       "array([-6.30516084, 75.05222697, 74.54640111, ..., 90.81455355,\n",
       "       38.1355651 , 58.19647044])"
      ]
     },
     "execution_count": 138,
     "metadata": {},
     "output_type": "execute_result"
    }
   ],
   "source": [
    "y1 = np.array(adr)\n",
    "y1"
   ]
  },
  {
   "cell_type": "code",
   "execution_count": 139,
   "metadata": {
    "ExecuteTime": {
     "end_time": "2021-01-10T04:49:01.999404Z",
     "start_time": "2021-01-10T04:49:01.934501Z"
    }
   },
   "outputs": [],
   "source": [
    "iscanceled = train_df.is_canceled.astype(\"category\").cat.codes\n",
    "iscanceledcat=pd.Series(iscanceled)\n",
    "arrivaldatemonth = train_df.arrival_date_month.astype(\"category\").cat.codes\n",
    "arrivaldatemonthcat=pd.Series(arrivaldatemonth)\n",
    "mealcat=train_df.meal.astype(\"category\").cat.codes\n",
    "mealcat=pd.Series(mealcat)\n",
    "countrycat=train_df.country.astype(\"category\").cat.codes\n",
    "countrycat=pd.Series(countrycat)\n",
    "marketsegmentcat=train_df.market_segment.astype(\"category\").cat.codes\n",
    "marketsegmentcat=pd.Series(marketsegmentcat)\n",
    "distributionchannelcat=train_df.distribution_channel.astype(\"category\").cat.codes\n",
    "distributionchannelcat=pd.Series(distributionchannelcat)\n",
    "reservedroomtypecat=train_df.reserved_room_type.astype(\"category\").cat.codes\n",
    "reservedroomtypecat=pd.Series(reservedroomtypecat)\n",
    "assignedroomtypecat=train_df.assigned_room_type.astype(\"category\").cat.codes\n",
    "assignedroomtypecat=pd.Series(assignedroomtypecat)\n",
    "deposittypecat=train_df.deposit_type.astype(\"category\").cat.codes\n",
    "deposittypecat=pd.Series(deposittypecat)\n",
    "customertypecat=train_df.customer_type.astype(\"category\").cat.codes\n",
    "customertypecat=pd.Series(customertypecat)\n",
    "reservationstatuscat=train_df.reservation_status.astype(\"category\").cat.codes\n",
    "reservationstatuscat=pd.Series(reservationstatuscat)\n",
    "isrepeatedguestcat = train_df.is_repeated_guest.astype(\"category\").cat.codes\n",
    "isrepeatedguestcat=pd.Series(isrepeatedguestcat)\n",
    "agentcat = train_df.agent.astype(\"category\").cat.codes\n",
    "agentcat=pd.Series(agentcat)\n",
    "companycat = train_df.company.astype(\"category\").cat.codes\n",
    "companycat=pd.Series(companycat)"
   ]
  },
  {
   "cell_type": "code",
   "execution_count": 140,
   "metadata": {
    "ExecuteTime": {
     "end_time": "2021-01-10T04:49:02.861554Z",
     "start_time": "2021-01-10T04:49:02.842593Z"
    }
   },
   "outputs": [],
   "source": [
    "x1 = np.column_stack((countrycat,marketsegmentcat,deposittypecat,customertypecat,rcps,arrivaldateweekno))\n",
    "x1 = sm.add_constant(x1, prepend=True)"
   ]
  },
  {
   "cell_type": "code",
   "execution_count": 141,
   "metadata": {
    "ExecuteTime": {
     "end_time": "2021-01-10T04:49:03.495048Z",
     "start_time": "2021-01-10T04:49:03.479381Z"
    }
   },
   "outputs": [],
   "source": [
    "X_train, X_val, y_train, y_val = train_test_split(x1, y1,random_state=45)"
   ]
  },
  {
   "cell_type": "code",
   "execution_count": 142,
   "metadata": {
    "ExecuteTime": {
     "end_time": "2021-01-10T04:49:04.202314Z",
     "start_time": "2021-01-10T04:49:04.157971Z"
    }
   },
   "outputs": [
    {
     "name": "stdout",
     "output_type": "stream",
     "text": [
      "StandardScaler()\n",
      "StandardScaler()\n",
      "StandardScaler()\n",
      "StandardScaler()\n"
     ]
    }
   ],
   "source": [
    "y_train=np.reshape(y_train, (-1,1))\n",
    "y_val=np.reshape(y_val, (-1,1))\n",
    "\n",
    "scaler_x = StandardScaler()\n",
    "scaler_y = StandardScaler()\n",
    "\n",
    "print(scaler_x.fit(X_train))\n",
    "xtrain_scale=scaler_x.transform(X_train)\n",
    "print(scaler_x.fit(X_val))\n",
    "xval_scale=scaler_x.transform(X_val)\n",
    "\n",
    "print(scaler_y.fit(y_train))\n",
    "ytrain_scale=scaler_y.transform(y_train)\n",
    "print(scaler_y.fit(y_val))\n",
    "yval_scale=scaler_y.transform(y_val)"
   ]
  },
  {
   "cell_type": "code",
   "execution_count": 143,
   "metadata": {
    "ExecuteTime": {
     "end_time": "2021-01-10T04:49:04.890067Z",
     "start_time": "2021-01-10T04:49:04.884383Z"
    }
   },
   "outputs": [
    {
     "data": {
      "text/plain": [
       "array([[ 0.26359007],\n",
       "       [ 1.19439245],\n",
       "       [ 0.41694844],\n",
       "       ...,\n",
       "       [ 0.07211292],\n",
       "       [ 1.17529326],\n",
       "       [-0.97349611]])"
      ]
     },
     "execution_count": 143,
     "metadata": {},
     "output_type": "execute_result"
    }
   ],
   "source": [
    "ytrain_scale"
   ]
  },
  {
   "cell_type": "code",
   "execution_count": 144,
   "metadata": {
    "ExecuteTime": {
     "end_time": "2021-01-10T04:49:10.888649Z",
     "start_time": "2021-01-10T04:49:10.881968Z"
    }
   },
   "outputs": [
    {
     "data": {
      "text/plain": [
       "array([[ 0.        , -0.29896503,  0.88849174, ..., -0.25068824,\n",
       "         3.70953438, -1.14737616],\n",
       "       [ 0.        , -0.89428979, -1.47493989, ..., -0.25068824,\n",
       "        -0.26066217, -1.48019004],\n",
       "       [ 0.        ,  1.66064565,  0.88849174, ..., -0.25068824,\n",
       "         3.70953438, -1.41362726],\n",
       "       ...,\n",
       "       [ 0.        , -0.99351058, -0.68712935, ...,  1.39799882,\n",
       "        -0.26066217,  0.45013044],\n",
       "       [ 0.        ,  0.8916845 ,  0.10068119, ..., -0.25068824,\n",
       "        -0.26066217,  0.78294431],\n",
       "       [ 0.        ,  0.8916845 , -0.68712935, ..., -3.54806236,\n",
       "        -0.26066217,  0.51669321]])"
      ]
     },
     "execution_count": 144,
     "metadata": {},
     "output_type": "execute_result"
    }
   ],
   "source": [
    "xtrain_scale"
   ]
  },
  {
   "cell_type": "code",
   "execution_count": 208,
   "metadata": {
    "ExecuteTime": {
     "end_time": "2021-01-10T05:05:09.106428Z",
     "start_time": "2021-01-10T05:05:09.068046Z"
    }
   },
   "outputs": [
    {
     "name": "stdout",
     "output_type": "stream",
     "text": [
      "Model: \"sequential_21\"\n",
      "_________________________________________________________________\n",
      "Layer (type)                 Output Shape              Param #   \n",
      "=================================================================\n",
      "dense_64 (Dense)             (None, 90)                720       \n",
      "_________________________________________________________________\n",
      "dense_65 (Dense)             (None, 2680)              243880    \n",
      "_________________________________________________________________\n",
      "dense_66 (Dense)             (None, 1)                 2681      \n",
      "=================================================================\n",
      "Total params: 247,281\n",
      "Trainable params: 247,281\n",
      "Non-trainable params: 0\n",
      "_________________________________________________________________\n"
     ]
    }
   ],
   "source": [
    "model = Sequential()\n",
    "model.add(Dense(90, input_dim=7, kernel_initializer='normal', activation='relu'))\n",
    "#model.add(Dropout(0.3))\n",
    "model.add(Dense(2680, activation='relu'))\n",
    "#model.add(Dropout(0.3))\n",
    "model.add(Dense(1, activation='sigmoid'))\n",
    "model.summary()"
   ]
  },
  {
   "cell_type": "code",
   "execution_count": 209,
   "metadata": {
    "ExecuteTime": {
     "end_time": "2021-01-10T05:05:43.750035Z",
     "start_time": "2021-01-10T05:05:09.588314Z"
    }
   },
   "outputs": [
    {
     "name": "stdout",
     "output_type": "stream",
     "text": [
      "Epoch 1/30\n",
      "367/367 [==============================] - 1s 3ms/step - loss: 0.9476 - mse: 0.9476 - mae: 0.8243 - val_loss: 0.9013 - val_mse: 0.9013 - val_mae: 0.7988\n",
      "Epoch 2/30\n",
      "367/367 [==============================] - 1s 3ms/step - loss: 0.8900 - mse: 0.8900 - mae: 0.7989 - val_loss: 0.8986 - val_mse: 0.8986 - val_mae: 0.7976\n",
      "Epoch 3/30\n",
      "367/367 [==============================] - 1s 3ms/step - loss: 0.8812 - mse: 0.8812 - mae: 0.7936 - val_loss: 0.8943 - val_mse: 0.8943 - val_mae: 0.7950\n",
      "Epoch 4/30\n",
      "367/367 [==============================] - 1s 3ms/step - loss: 0.8873 - mse: 0.8873 - mae: 0.7981 - val_loss: 0.8931 - val_mse: 0.8931 - val_mae: 0.7951\n",
      "Epoch 5/30\n",
      "367/367 [==============================] - 1s 3ms/step - loss: 0.8750 - mse: 0.8750 - mae: 0.7931 - val_loss: 0.8879 - val_mse: 0.8879 - val_mae: 0.7920\n",
      "Epoch 6/30\n",
      "367/367 [==============================] - 1s 3ms/step - loss: 0.8836 - mse: 0.8836 - mae: 0.7969 - val_loss: 0.8899 - val_mse: 0.8899 - val_mae: 0.7926\n",
      "Epoch 7/30\n",
      "367/367 [==============================] - 1s 3ms/step - loss: 0.8773 - mse: 0.8773 - mae: 0.7933 - val_loss: 0.8872 - val_mse: 0.8872 - val_mae: 0.7905\n",
      "Epoch 8/30\n",
      "367/367 [==============================] - 1s 3ms/step - loss: 0.8714 - mse: 0.8714 - mae: 0.7906 - val_loss: 0.8835 - val_mse: 0.8835 - val_mae: 0.7893\n",
      "Epoch 9/30\n",
      "367/367 [==============================] - 1s 3ms/step - loss: 0.8694 - mse: 0.8694 - mae: 0.7903 - val_loss: 0.8830 - val_mse: 0.8830 - val_mae: 0.7896\n",
      "Epoch 10/30\n",
      "367/367 [==============================] - 1s 3ms/step - loss: 0.8604 - mse: 0.8604 - mae: 0.7867 - val_loss: 0.8821 - val_mse: 0.8821 - val_mae: 0.7882\n",
      "Epoch 11/30\n",
      "367/367 [==============================] - 1s 3ms/step - loss: 0.8681 - mse: 0.8681 - mae: 0.7891 - val_loss: 0.8821 - val_mse: 0.8821 - val_mae: 0.7887\n",
      "Epoch 12/30\n",
      "367/367 [==============================] - 1s 3ms/step - loss: 0.8735 - mse: 0.8735 - mae: 0.7906 - val_loss: 0.8812 - val_mse: 0.8812 - val_mae: 0.7890\n",
      "Epoch 13/30\n",
      "367/367 [==============================] - 1s 3ms/step - loss: 0.8691 - mse: 0.8691 - mae: 0.7878 - val_loss: 0.8791 - val_mse: 0.8791 - val_mae: 0.7878\n",
      "Epoch 14/30\n",
      "367/367 [==============================] - 1s 3ms/step - loss: 0.8667 - mse: 0.8667 - mae: 0.7887 - val_loss: 0.8800 - val_mse: 0.8800 - val_mae: 0.7876\n",
      "Epoch 15/30\n",
      "367/367 [==============================] - 1s 3ms/step - loss: 0.8682 - mse: 0.8682 - mae: 0.7897 - val_loss: 0.8783 - val_mse: 0.8783 - val_mae: 0.7869\n",
      "Epoch 16/30\n",
      "367/367 [==============================] - 1s 3ms/step - loss: 0.8689 - mse: 0.8689 - mae: 0.7879 - val_loss: 0.8790 - val_mse: 0.8790 - val_mae: 0.7883\n",
      "Epoch 17/30\n",
      "367/367 [==============================] - 1s 3ms/step - loss: 0.8662 - mse: 0.8662 - mae: 0.7875 - val_loss: 0.8835 - val_mse: 0.8835 - val_mae: 0.7891\n",
      "Epoch 18/30\n",
      "367/367 [==============================] - 1s 3ms/step - loss: 0.8678 - mse: 0.8678 - mae: 0.7876 - val_loss: 0.8804 - val_mse: 0.8804 - val_mae: 0.7886\n",
      "Epoch 19/30\n",
      "367/367 [==============================] - 1s 3ms/step - loss: 0.8670 - mse: 0.8670 - mae: 0.7868 - val_loss: 0.8761 - val_mse: 0.8761 - val_mae: 0.7857\n",
      "Epoch 20/30\n",
      "367/367 [==============================] - 1s 3ms/step - loss: 0.8609 - mse: 0.8609 - mae: 0.7849 - val_loss: 0.8786 - val_mse: 0.8786 - val_mae: 0.7865\n",
      "Epoch 21/30\n",
      "367/367 [==============================] - 1s 3ms/step - loss: 0.8636 - mse: 0.8636 - mae: 0.7863 - val_loss: 0.8762 - val_mse: 0.8762 - val_mae: 0.7857\n",
      "Epoch 22/30\n",
      "367/367 [==============================] - 1s 3ms/step - loss: 0.8664 - mse: 0.8664 - mae: 0.7881 - val_loss: 0.8766 - val_mse: 0.8766 - val_mae: 0.7858\n",
      "Epoch 23/30\n",
      "367/367 [==============================] - 1s 3ms/step - loss: 0.8631 - mse: 0.8631 - mae: 0.7854 - val_loss: 0.8749 - val_mse: 0.8749 - val_mae: 0.7859\n",
      "Epoch 24/30\n",
      "367/367 [==============================] - 1s 3ms/step - loss: 0.8650 - mse: 0.8650 - mae: 0.7852 - val_loss: 0.8770 - val_mse: 0.8770 - val_mae: 0.7861\n",
      "Epoch 25/30\n",
      "367/367 [==============================] - 1s 3ms/step - loss: 0.8671 - mse: 0.8671 - mae: 0.7870 - val_loss: 0.8746 - val_mse: 0.8746 - val_mae: 0.7851\n",
      "Epoch 26/30\n",
      "367/367 [==============================] - 1s 3ms/step - loss: 0.8645 - mse: 0.8645 - mae: 0.7870 - val_loss: 0.8751 - val_mse: 0.8751 - val_mae: 0.7852\n",
      "Epoch 27/30\n",
      "367/367 [==============================] - 1s 3ms/step - loss: 0.8670 - mse: 0.8670 - mae: 0.7863 - val_loss: 0.8759 - val_mse: 0.8759 - val_mae: 0.7849\n",
      "Epoch 28/30\n",
      "367/367 [==============================] - 1s 3ms/step - loss: 0.8687 - mse: 0.8687 - mae: 0.7870 - val_loss: 0.8734 - val_mse: 0.8734 - val_mae: 0.7842\n",
      "Epoch 29/30\n",
      "367/367 [==============================] - 1s 3ms/step - loss: 0.8665 - mse: 0.8665 - mae: 0.7868 - val_loss: 0.8733 - val_mse: 0.8733 - val_mae: 0.7847\n",
      "Epoch 30/30\n",
      "367/367 [==============================] - 1s 3ms/step - loss: 0.8615 - mse: 0.8615 - mae: 0.7852 - val_loss: 0.8742 - val_mse: 0.8742 - val_mae: 0.7848\n"
     ]
    }
   ],
   "source": [
    "model.compile(loss='mse', optimizer='adam', metrics=['mse','mae'])\n",
    "history=model.fit(xtrain_scale, ytrain_scale, epochs=30, batch_size=150, verbose=1, validation_split=0.2)\n",
    "predictions = model.predict(xval_scale)"
   ]
  },
  {
   "cell_type": "code",
   "execution_count": 210,
   "metadata": {
    "ExecuteTime": {
     "end_time": "2021-01-10T05:05:50.782863Z",
     "start_time": "2021-01-10T05:05:50.604478Z"
    }
   },
   "outputs": [
    {
     "name": "stdout",
     "output_type": "stream",
     "text": [
      "dict_keys(['loss', 'mse', 'mae', 'val_loss', 'val_mse', 'val_mae'])\n"
     ]
    },
    {
     "data": {
      "image/png": "[encoded data removed]",
      "text/plain": [
       "<Figure size 432x288 with 1 Axes>"
      ]
     },
     "metadata": {
      "needs_background": "light"
     },
     "output_type": "display_data"
    }
   ],
   "source": [
    "print(history.history.keys())\n",
    "# \"Loss\"\n",
    "plt.plot(history.history['loss'])\n",
    "plt.plot(history.history['val_loss'])\n",
    "plt.title('model loss')\n",
    "plt.ylabel('loss')\n",
    "plt.xlabel('epoch')\n",
    "plt.legend(['train', 'validation'], loc='upper left')\n",
    "plt.show()"
   ]
  },
  {
   "cell_type": "code",
   "execution_count": 211,
   "metadata": {
    "ExecuteTime": {
     "end_time": "2021-01-10T05:05:52.993144Z",
     "start_time": "2021-01-10T05:05:52.986084Z"
    }
   },
   "outputs": [
    {
     "data": {
      "text/plain": [
       "array([[111.467995],\n",
       "       [ 55.15553 ],\n",
       "       [ 58.67227 ],\n",
       "       ...,\n",
       "       [ 75.494865],\n",
       "       [ 56.510174],\n",
       "       [ 54.909576]], dtype=float32)"
      ]
     },
     "execution_count": 211,
     "metadata": {},
     "output_type": "execute_result"
    }
   ],
   "source": [
    "predictions = scaler_y.inverse_transform(predictions)\n",
    "predictions"
   ]
  },
  {
   "cell_type": "code",
   "execution_count": 212,
   "metadata": {
    "ExecuteTime": {
     "end_time": "2021-01-10T05:05:56.399981Z",
     "start_time": "2021-01-10T05:05:56.392825Z"
    }
   },
   "outputs": [
    {
     "data": {
      "text/plain": [
       "44.4343847339389"
      ]
     },
     "execution_count": 212,
     "metadata": {},
     "output_type": "execute_result"
    }
   ],
   "source": [
    "mean_absolute_error(y_val, predictions)"
   ]
  },
  {
   "cell_type": "code",
   "execution_count": 213,
   "metadata": {
    "ExecuteTime": {
     "end_time": "2021-01-10T05:05:57.062268Z",
     "start_time": "2021-01-10T05:05:57.053938Z"
    }
   },
   "outputs": [
    {
     "data": {
      "text/plain": [
       "52.72712334935554"
      ]
     },
     "execution_count": 213,
     "metadata": {},
     "output_type": "execute_result"
    }
   ],
   "source": [
    "mean_squared_error(y_val, predictions)\n",
    "math.sqrt(mean_squared_error(y_val, predictions))"
   ]
  },
  {
   "cell_type": "code",
   "execution_count": 214,
   "metadata": {
    "ExecuteTime": {
     "end_time": "2021-01-10T05:05:57.785311Z",
     "start_time": "2021-01-10T05:05:57.778283Z"
    }
   },
   "outputs": [
    {
     "data": {
      "text/plain": [
       "0.13116024330020404"
      ]
     },
     "execution_count": 214,
     "metadata": {},
     "output_type": "execute_result"
    }
   ],
   "source": [
    "r2_score(y_val, predictions)"
   ]
  },
  {
   "cell_type": "code",
   "execution_count": 215,
   "metadata": {
    "ExecuteTime": {
     "end_time": "2021-01-10T05:05:59.913150Z",
     "start_time": "2021-01-10T05:05:59.906791Z"
    }
   },
   "outputs": [
    {
     "data": {
      "text/plain": [
       "54.9023869500888"
      ]
     },
     "execution_count": 215,
     "metadata": {},
     "output_type": "execute_result"
    }
   ],
   "source": [
    "np.mean(y_val)"
   ]
  },
  {
   "cell_type": "code",
   "execution_count": 216,
   "metadata": {
    "ExecuteTime": {
     "end_time": "2021-01-10T05:06:00.778271Z",
     "start_time": "2021-01-10T05:06:00.772082Z"
    }
   },
   "outputs": [
    {
     "data": {
      "text/plain": [
       "64.46293"
      ]
     },
     "execution_count": 216,
     "metadata": {},
     "output_type": "execute_result"
    }
   ],
   "source": [
    "np.mean(predictions)"
   ]
  },
  {
   "cell_type": "code",
   "execution_count": null,
   "metadata": {},
   "outputs": [],
   "source": []
  }
 ],
 "metadata": {
  "kernelspec": {
   "display_name": "Python 3",
   "language": "python",
   "name": "python3"
  },
  "language_info": {
   "codemirror_mode": {
    "name": "ipython",
    "version": 3
   },
   "file_extension": ".py",
   "mimetype": "text/x-python",
   "name": "python",
   "nbconvert_exporter": "python",
   "pygments_lexer": "ipython3",
   "version": "3.7.7"
  },
  "varInspector": {
   "cols": {
    "lenName": 16,
    "lenType": 16,
    "lenVar": 40
   },
   "kernels_config": {
    "python": {
     "delete_cmd_postfix": "",
     "delete_cmd_prefix": "del ",
     "library": "var_list.py",
     "varRefreshCmd": "print(var_dic_list())"
    },
    "r": {
     "delete_cmd_postfix": ") ",
     "delete_cmd_prefix": "rm(",
     "library": "var_list.r",
     "varRefreshCmd": "cat(var_dic_list()) "
    }
   },
   "types_to_exclude": [
    "module",
    "function",
    "builtin_function_or_method",
    "instance",
    "_Feature"
   ],
   "window_display": false
  }
 },
 "nbformat": 4,
 "nbformat_minor": 4
}
